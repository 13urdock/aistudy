{
 "cells": [
  {
   "cell_type": "code",
   "execution_count": 1,
   "id": "659a9e2f",
   "metadata": {},
   "outputs": [
    {
     "name": "stderr",
     "output_type": "stream",
     "text": [
      "USER_AGENT environment variable not set, consider setting it to identify your requests.\n"
     ]
    }
   ],
   "source": [
    "import bs4\n",
    "import os\n",
    "from dotenv import load_dotenv\n",
    "from langchain import hub\n",
    "from langchain_core.prompts import ChatPromptTemplate\n",
    "from langchain_chroma import Chroma\n",
    "from langchain_openai import ChatOpenAI\n",
    "from langchain_openai import OpenAIEmbeddings\n",
    "from langchain_community.document_loaders import WebBaseLoader\n",
    "from langchain_text_splitters import RecursiveCharacterTextSplitter"
   ]
  },
  {
   "cell_type": "markdown",
   "id": "02a3e163",
   "metadata": {},
   "source": [
    "프로젝트에 필요한 라이브러리들을 임포트합니다. Beautiful Soup(bs4)를 웹 스크래핑에, LangChain 관련 라이브러리들을 LLM 연동 및 문서 처리에, OpenAI API를 사용하기 위한 모듈을 불러옵니다.\n",
    "# LLM 설정 및 API 키 확인"
   ]
  },
  {
   "cell_type": "code",
   "execution_count": 2,
   "id": "f146d24c",
   "metadata": {},
   "outputs": [
    {
     "name": "stdout",
     "output_type": "stream",
     "text": [
      "API key exists: True\n"
     ]
    }
   ],
   "source": [
    "llm = ChatOpenAI(model=\"gpt-4o-mini\", api_key=os.getenv(\"OPENAI_API_KEY\"))\n",
    "load_dotenv()\n",
    "api_key = os.getenv(\"OPENAI_API_KEY\")\n",
    "print(f\"API key exists: {api_key is not None}\")"
   ]
  },
  {
   "cell_type": "markdown",
   "id": "ebe1bd76",
   "metadata": {},
   "source": [
    "OpenAI의 gpt-4o-mini 모델을 사용하기 위한 초기 설정을 합니다. .env 파일에서 환경변수를 불러와 API 키를 확인하고, 키가 존재하는지 확인합니다."
   ]
  },
  {
   "cell_type": "markdown",
   "id": "2f00cb68",
   "metadata": {},
   "source": [
    "# 웹페이지 불러오기"
   ]
  },
  {
   "cell_type": "code",
   "execution_count": 3,
   "id": "0bc3a8a9",
   "metadata": {},
   "outputs": [
    {
     "ename": "ModuleNotFoundError",
     "evalue": "No module named 'langchain_unstructured'",
     "output_type": "error",
     "traceback": [
      "\u001b[31m---------------------------------------------------------------------------\u001b[39m",
      "\u001b[31mModuleNotFoundError\u001b[39m                       Traceback (most recent call last)",
      "\u001b[36mCell\u001b[39m\u001b[36m \u001b[39m\u001b[32mIn[3]\u001b[39m\u001b[32m, line 1\u001b[39m\n\u001b[32m----> \u001b[39m\u001b[32m1\u001b[39m \u001b[38;5;28;01mfrom\u001b[39;00m\u001b[38;5;250m \u001b[39m\u001b[34;01mlangchain_unstructured\u001b[39;00m\u001b[38;5;250m \u001b[39m\u001b[38;5;28;01mimport\u001b[39;00m UnstructuredLoader\n\u001b[32m      3\u001b[39m file_path = [\u001b[33m\"\u001b[39m\u001b[33mhttps://spartacodingclub.kr/blog/all-in-challenge_winner\u001b[39m\u001b[33m\"\u001b[39m,]\n\u001b[32m      5\u001b[39m loader = UnstructuredLoader(file_path)\n",
      "\u001b[31mModuleNotFoundError\u001b[39m: No module named 'langchain_unstructured'"
     ]
    }
   ],
   "source": [
    "from langchain_unstructured import UnstructuredLoader\n",
    "\n",
    "file_path = [\"https://spartacodingclub.kr/blog/all-in-challenge_winner\",]\n",
    "\n",
    "loader = UnstructuredLoader(file_path)\n",
    "\n",
    "docs = loader.load()\n",
    "print(f\"로드된 문서 수: {len(docs)}\")\n",
    "print(f\"첫 번째 문서 내용 일부: {docs[0].page_content[:100] if docs else 'No content'}\")\n"
   ]
  },
  {
   "cell_type": "markdown",
   "id": "06bcd87b",
   "metadata": {},
   "source": [
    "LangChain의 WebBaseLoader를 사용하여 스파르타코딩클럽의 ALL-in 코딩 공모전 수상작 페이지를 불러옵니다.\n",
    "Beautiful Soup의 SoupStrainer를 활용해 문서의 내용이 들어있는 (\"css-j3idia\", \"editedContent\")부분을 파싱하여 필요한 콘텐츠만 추출합니다.\n",
    "로드된 문서의 수와 첫 문서의 일부분을 출력하여 정상적으로 데이터가 불러와졌는지 확인합니다."
   ]
  },
  {
   "cell_type": "markdown",
   "id": "7021d2a3",
   "metadata": {},
   "source": [
    "# 문서 청크로 나누기\n",
    "\n"
   ]
  },
  {
   "cell_type": "code",
   "execution_count": null,
   "id": "63163771",
   "metadata": {},
   "outputs": [
    {
     "name": "stdout",
     "output_type": "stream",
     "text": [
      "분할된 청크 수: 12\n"
     ]
    }
   ],
   "source": [
    "text_splitter = RecursiveCharacterTextSplitter(\n",
    "    chunk_size=500,\n",
    "    chunk_overlap=10\n",
    ")\n",
    "\n",
    "splits = text_splitter.split_documents(docs)\n",
    "print(f\"분할된 청크 수: {len(splits)}\")\n",
    "\n",
    "if len(splits) == 0:\n",
    "    print(\"청크가 없어 원본 문서를 사용합니다.\")\n",
    "    splits = docs"
   ]
  },
  {
   "cell_type": "markdown",
   "id": "13977503",
   "metadata": {},
   "source": [
    "불러온 문서를 처리하기 쉽도록 청크(chunks)로 나눕니다. RecursiveCharacterTextSplitter를 사용하여 문서를 500자 단위로 분할하고, 청크 간 10자의 중복을 허용합니다. 분할된 청크의 수를 출력하고, 만약 청크가 생성되지 않았다면 원본 문서를 그대로 사용합니다."
   ]
  },
  {
   "cell_type": "markdown",
   "id": "e988b555",
   "metadata": {},
   "source": [
    "# 벡터 스토어 생성 및 리트리버 설정"
   ]
  },
  {
   "cell_type": "code",
   "execution_count": 56,
   "id": "c75a4664",
   "metadata": {},
   "outputs": [],
   "source": [
    "vectorstore = Chroma.from_documents(\n",
    "    documents=splits,\n",
    "    embedding=OpenAIEmbeddings(api_key=os.getenv(\"OPENAI_API_KEY\"))\n",
    ")\n",
    "retriever = vectorstore.as_retriever(\n",
    "    search_type=\"similarity\", search_kwargs={\"k\": 50}\n",
    ")\n",
    "def format_docs(docs):\n",
    "    return \"\\n\\n\".join(doc.page_content for doc in docs)"
   ]
  },
  {
   "cell_type": "markdown",
   "id": "95c1d43a",
   "metadata": {},
   "source": [
    "분할된 문서들을 벡터화하고, Chroma 벡터 데이터베이스에 저장합니다.\n",
    "이후 이 벡터 스토어에서 문서를 검색할 수 있는 리트리버(retriever)를 생성합니다.\n",
    "기본 검색 방식은 \"similarity\"(유사도 기반)이며, 최대 50개의 관련 문서를 반환하도록 설정합니다."
   ]
  },
  {
   "cell_type": "markdown",
   "id": "e13a4397",
   "metadata": {},
   "source": [
    "# 사용자 질문 및 문서 검색"
   ]
  },
  {
   "cell_type": "code",
   "execution_count": null,
   "id": "df492f09",
   "metadata": {},
   "outputs": [],
   "source": [
    "user_msg = \"ALL-in 코딩 공모전 수상작들을 요약해줘.\"\n",
    "retrieved_docs = retriever.invoke(user_msg)\n",
    "\n",
    "print(len(retrieved_docs))\n",
    "retrieved_docs"
   ]
  },
  {
   "cell_type": "markdown",
   "id": "6a7d8aa2",
   "metadata": {},
   "source": [
    "사용자 질문을 정의하고, 해당 질문에 관련된 문서를 리트리버를 통해 검색합니다. 검색된 문서의 수를 출력하고, 검색된 문서 목록을 확인합니다."
   ]
  },
  {
   "cell_type": "markdown",
   "id": "9fa17600",
   "metadata": {},
   "source": [
    "# 프롬프트 생성"
   ]
  },
  {
   "cell_type": "code",
   "execution_count": null,
   "id": "745c604d",
   "metadata": {},
   "outputs": [
    {
     "name": "stdout",
     "output_type": "stream",
     "text": [
      "input_variables=['context', 'question'] input_types={} partial_variables={} messages=[HumanMessagePromptTemplate(prompt=PromptTemplate(input_variables=['context', 'question'], input_types={}, partial_variables={}, template='너는 이 공모전을 평가했던 심사위원이이야.한국어로 대답하고,\\n  다음에 이 공모전을 참가할 사람들이 참고할 수 있도록 유익한 정보들을 보기 쉽게 정리해줄 수 있어야해.\\n  정보를 찾은 후 대답을 정리할 때는 너의 의견이 들어가면 안돼. 리트리버에서 가져온 정보는 가능한 모두 활용해.\\n  그리고 내가 제공한 문서에서 질문에 대한 대답을 찾을 수 없다면, 모른다고 대답해야해. <context>: {context} <question>: {question}'), additional_kwargs={})]\n"
     ]
    }
   ],
   "source": [
    "prompt = ChatPromptTemplate.from_template(\"\"\"너는 이 공모전을 평가했던 심사위원이이야.한국어로 대답하고,\n",
    "  다음에 이 공모전을 참가할 사람들이 참고할 수 있도록 유익한 정보들을 보기 쉽게 정리해줄 수 있어야해.\n",
    "  정보를 찾은 후 대답을 정리할 때는 너의 의견이 들어가면 안돼. 리트리버에서 가져온 정보는 가능한 모두 활용해.\n",
    "  그리고 내가 제공한 문서에서 질문에 대한 대답을 찾을 수 없다면, 모른다고 대답해야해. <context>: {context} <question>: {question}\"\"\")\n",
    "user_prompt = prompt.invoke({\"context\": format_docs(retrieved_docs), \"question\": user_msg})\n",
    "print(prompt)"
   ]
  },
  {
   "cell_type": "markdown",
   "id": "d9a97d9a",
   "metadata": {},
   "source": [
    "LLM에게 전달할 프롬프트 템플릿을 생성합니다. 프롬프트는 공모전 심사위원 역할을 부여하고, 검색된 문서의 정보만을 활용하여 객관적인 정보를 제공하도록 지시합니다."
   ]
  },
  {
   "cell_type": "markdown",
   "id": "fa63cf09",
   "metadata": {},
   "source": [
    "# LLM 응답 요청\n",
    "검색된 문서와 사용자 질문을 프롬프트에 넣고, LLM에 응답을 요청한 후 결과를 출력합니다."
   ]
  },
  {
   "cell_type": "code",
   "execution_count": null,
   "id": "dad4db90",
   "metadata": {},
   "outputs": [
    {
     "name": "stdout",
     "output_type": "stream",
     "text": [
      "## AII-in 코딩 공모전 수상작 요약\n",
      "\n",
      "### 🏆 대상 수상작\n",
      "- **[Lexi Note]**\n",
      "  - **제작자**: 다나와(김다애, 박나경)\n",
      "  - **소개**: 어문학 전공생을 위한 언어 공부 필기 웹 서비스. 단어를 드래그하면 네이버 사전과 연동되어 의미를 찾고 필기를 동시에 할 수 있으며, 긴 문장은 번역기와 연결하여 쉽게 이해할 수 있다. 할일 목록과 스케줄 템플릿 제공.\n",
      "\n",
      "### 🎖️ 우수상\n",
      "- **[에코 클래스룸]**\n",
      "  - **제작자**: This is 스파게티!!!(박지성, 김서원, 박범수)\n",
      "  - **소개**: 수업 실시간 소통 서비스로, 학생들이 익명으로 의견이나 질문을 제출할 수 있게 하여 교수 매칭 피드백을 받을 수 있는 서비스. 학생의 이해도를 테스트하는 퀴즈 생성 기능도 포함되어 있다.\n",
      "  \n",
      "- **[우리집 히어로즈]**\n",
      "  - **제작자**: 인트(배정연, 한지수)\n",
      "  - **소개**: 자취방에서 발생하는 벌레 문제를 해결하기 위한 매칭 서비스. 사용자가 벌레 퇴치 요청을 올리면, 학교 내 벌레 퇴치 히어로와 매칭되고, 사용자 신원이 보장된 안전한 환경에서 수행된다.\n",
      "\n",
      "### 🏅 입선작\n",
      "- **[학교생활 매니저]**\n",
      "  - **제작자**: 아이칼F4(조민제, 이민기, 강건, 박근우)\n",
      "  - **소개**: 학교 생활을 효율적으로 관리할 수 있는 앱으로, 일정과 과제 관리, 성적 예측, 학점 계산 등 다양한 기능을 제공한다. 캘린더와 공지사항 기능으로 중요한 정보를 놓치지 않게 돕는다.\n",
      "\n",
      "- **[BLOTIE]**\n",
      "  - **제작자**: 블로티(이은주, 한명수, 황준영)\n",
      "  - **소개**: 교내 외국인과 내국인을 연결하는 매칭 플랫폼. 학생 간의 문화와 언어 교류를 도와주며, 실시간 채팅과 피드 기능으로 자유로운 소통을 지원한다.\n",
      "\n",
      "- **[Crewing]**\n",
      "  - **제작자**: 동학대학운동(김민아, 임경진, 신은혜, 고수)\n",
      "  - **소개**: 대학생들이 연합 동아리에 쉽고 효율적으로 가입할 수 있도록 지원하는 플랫폼. 회원가입 시 관심 분야에 맞는 동아리를 추천하고, 실질적인 정보와 후기를 제공한다.\n",
      "\n",
      "이상의 내용은 공모전에서 제출된 혁신적인 아이디어와 기술적 접근 방법을 기반으로 한 수상작들 설명입니다.\n"
     ]
    }
   ],
   "source": [
    "response = llm.invoke(user_prompt)\n",
    "print(response.content)"
   ]
  },
  {
   "cell_type": "markdown",
   "id": "28131a11",
   "metadata": {},
   "source": [
    "# 관련없는 질문 테스트\n",
    "문서와 관련 없는 질문을 했을 때 모델이 문서에 기반한 답변만 제공하는지 테스트합니다."
   ]
  },
  {
   "cell_type": "code",
   "execution_count": null,
   "id": "19af7442",
   "metadata": {},
   "outputs": [
    {
     "name": "stdout",
     "output_type": "stream",
     "text": [
      "제공된 문서에는 'All-in 코딩 공모전'의 수상작에 대해 구체적인 설명이 있지만, 수상작이 총 몇 개이며 그 목록이나 상세한 내용은 포함되어 있지 않습니다. 따라서 6대 차류에 대한 정보를 제공할 수 없습니다.\n"
     ]
    }
   ],
   "source": [
    "unrelated_msg = \"6대 차류에 대해 설명해줘.\"\n",
    "user_prompt2 = prompt.invoke({\"context\": format_docs(retrieved_docs), \"question\": unrelated_msg})\n",
    "\n",
    "response = llm.invoke(user_prompt2)\n",
    "print(response.content)"
   ]
  },
  {
   "cell_type": "markdown",
   "id": "8b14477a",
   "metadata": {},
   "source": [
    "# 문제점\n",
    "리트리버에서 관련된 정보를 전부 가져오지 않아 답변에서도 수상작 한 개만 가져오는 문제가 있었습니다.\n",
    "\n",
    "## 리트리버 수정\n",
    "리트리버가 반환하는 문서의 최대 개수를 지정하여 문서를 여러개 가져올 수 있도록 했습니다.\n",
    "### 1. similarity 리트리버"
   ]
  },
  {
   "cell_type": "code",
   "execution_count": null,
   "id": "0946de87",
   "metadata": {},
   "outputs": [],
   "source": [
    "retriever_similarity = vectorstore.as_retriever(search_type=\"similarity\", search_kwargs={\"k\": 50})\n",
    "retrieved_docs_similarity = retriever.invoke(user_msg)\n",
    "\n",
    "print(retrieved_docs_similarity)"
   ]
  },
  {
   "cell_type": "markdown",
   "id": "0d3e56c0",
   "metadata": {},
   "source": [
    "### 2. mmr 리트리버\n",
    "MMR은 관련성과 다양성을 모두 고려하여 검색 결과의 중복을 줄이고 다양한 정보를 제공하는 데 유용합니다."
   ]
  },
  {
   "cell_type": "code",
   "execution_count": null,
   "id": "1e47ade5",
   "metadata": {},
   "outputs": [],
   "source": [
    "from langchain.retrievers import ContextualCompressionRetriever\n",
    "from langchain.retrievers.document_compressors import LLMChainExtractor\n",
    "\n",
    "retriever_mmr = vectorstore.as_retriever(search_type=\"mmr\", search_kwargs={\"k\": 50})\n",
    "retrieved_docs_mmr = retriever.invoke(user_msg)\n",
    "\n",
    "print(retrieved_docs_mmr)"
   ]
  },
  {
   "cell_type": "markdown",
   "id": "820ae1a9",
   "metadata": {},
   "source": [
    "### 3. 문서압축 리트리버\n",
    "LLM을 이용해 검색된 문서를 압축하여 질문과 관련된 핵심 내용만 추출합니다."
   ]
  },
  {
   "cell_type": "code",
   "execution_count": null,
   "id": "1a170d83",
   "metadata": {},
   "outputs": [],
   "source": [
    "base_retriever_context = vectorstore.as_retriever(\n",
    "                                search_type='similarity',\n",
    "                                search_kwargs={'k':50})\n",
    "compressor = LLMChainExtractor.from_llm(llm)\n",
    "compression_retriever = ContextualCompressionRetriever(\n",
    "    base_compressor=compressor, base_retriever=base_retriever_context\n",
    ")\n",
    "\n",
    "compressed_docs_context = compression_retriever.get_relevant_documents(user_msg)\n",
    "print(len(compressed_docs_context))\n",
    "compressed_docs_context"
   ]
  },
  {
   "cell_type": "markdown",
   "id": "87645f3f",
   "metadata": {},
   "source": [
    "### 4. self-query 리트리버\n",
    "이 방법은 메타데이터 필드를 정의하여 LLM이 사용자 질문을 구조화된 쿼리로 변환하도록 합니다. 공모전과 관련된 메타데이터(상장 종류, 공모전 이름, 수상자 등)를 정의하여 보다 정확한 검색이 가능하도록 합니다."
   ]
  },
  {
   "cell_type": "code",
   "execution_count": null,
   "id": "df2b81c7",
   "metadata": {},
   "outputs": [],
   "source": [
    "from langchain.retrievers.self_query.base import SelfQueryRetriever\n",
    "from langchain.chains.query_constructor.base import AttributeInfo\n",
    "\n",
    "# 수상 정보 정의\n",
    "metadata_field_info = [\n",
    "    AttributeInfo(\n",
    "        name=\"award_type\",\n",
    "        description=\"상장 종류 (대상, 최우수상, 우수상, 입선선 등)\",\n",
    "        type=\"string\",\n",
    "    ),\n",
    "    AttributeInfo(\n",
    "        name=\"competition_name\", \n",
    "        description=\"공모전 이름\", \n",
    "        type=\"string\"\n",
    "    ),\n",
    "    AttributeInfo(\n",
    "        name=\"recipients_name\", \n",
    "        description=\"수상자들의의 이름\", \n",
    "        type=\"string\"\n",
    "    ),\n",
    "    AttributeInfo(\n",
    "        name=\"recipient_work_decription\", \n",
    "        description=\"수상작에 대한 설명\", \n",
    "        type=\"string\"\n",
    "    ),\n",
    "    AttributeInfo(\n",
    "        name=\"tech_stack\", \n",
    "        description=\"사용한 기술\", \n",
    "        type=\"string\"\n",
    "    ),\n",
    "]\n",
    "\n",
    "self_query_retriever = SelfQueryRetriever.from_llm(\n",
    "    llm,\n",
    "    vectorstore,\n",
    "    document_contents=\"ALL-in 코딩 공모전 수상작 정보\",\n",
    "    metadata_field_info=metadata_field_info,\n",
    "    enable_limit=True,\n",
    "    search_kwargs={\"k\": 50},  # k 의 값을 2로 지정하여 검색 결과를 2개로 제한합니다.\n",
    ")\n",
    "\n",
    "retrieved_docs_self_query = self_query_retriever.get_relevant_documents(user_msg)\n",
    "print(len(retrieved_docs_self_query))\n",
    "retrieved_docs_self_query\n"
   ]
  },
  {
   "cell_type": "markdown",
   "id": "eee2fa30",
   "metadata": {},
   "source": [
    "리트리버들의 결과 비교"
   ]
  },
  {
   "cell_type": "code",
   "execution_count": 66,
   "id": "731778bd",
   "metadata": {},
   "outputs": [
    {
     "name": "stdout",
     "output_type": "stream",
     "text": [
      "1. search type: similarity\n",
      "'AII-in 코딩 공모전' 수상작 요약:\n",
      "\n",
      "1. **대상: Lexi Note**\n",
      "   - **서비스 내용:** 언어공부 필기 웹 서비스\n",
      "   - **제작자:** 다나와(김다애, 박나경)\n",
      "   - **기술 스택:** 정보 없음\n",
      "\n",
      "2. **우수상: 에코 클래스룸**\n",
      "   - **서비스 내용:** 수업 실시간 소통 서비스\n",
      "   - **제작자:** This is 스파게티!!!(박지성, 김서원, 박범수)\n",
      "   - **기술 스택:** Flutter, Socket.IO, Expo CLI, Axios, TanStack Query, Spring Boot, Spring Security, JWT, MySQL, Spring WebSocket, AWS\n",
      "\n",
      "3. **우수상: 우리집 히어로즈**\n",
      "   - **서비스 내용:** 벌레 퇴치 영웅 매칭 서비스\n",
      "   - **제작자:** 인트(배정연, 한지수)\n",
      "   - **기술 스택:** React, Tesseract.js, React-Quill, HTML, CSS, JavaScript, Java, Spring Boot, MariaDB\n",
      "\n",
      "4. **입선: Crewing**\n",
      "   - **서비스 내용:** 연합동아리 정보 플랫폼\n",
      "   - **제작자:** 동학대학운동(김민아, 임경진, 신은혜, 고수)\n",
      "   - **기술 스택:** Spring Boot, Redis, MySQL, SwiftUI Framework, OAuth 2.0\n",
      "\n",
      "5. **입선: 학교생활 매니저**\n",
      "   - **서비스 내용:** 학교생활 관리 서비스\n",
      "   - **제작자:** 아이칼F4(조민제, 이민기, 강건, 박근우)\n",
      "   - **기술 스택:** 정보 없음\n",
      "\n",
      "이번 공모전은 대학생들이 캠퍼스에서 경험한 문제를 해결하기 위한 다양한 아이디어와 혁신적인 프로젝트가 발표되었습니다. 각 수상작들은 실용적이고 참신한 해결책을 제시하여 참가자들의 열정을 엿볼 수 있는 기회를 제공했습니다.\n",
      "\n",
      "\n",
      "\n",
      "2. search type: mmr\n",
      "### AII-in 코딩 공모전 수상작 요약\n",
      "\n",
      "#### 1. 대상 수상작\n",
      "- **[Lexi Note] 언어공부 필기 웹 서비스**\n",
      "  - **제작자**: 다나와 (김다애, 박나경)\n",
      "  - **소개**: 어문학 전공 학생이 효율적으로 단어와 문장 구조를 학습하기 위해 개발한 서비스.\n",
      "\n",
      "#### 2. 입선작\n",
      "- **[학교생활 매니저] 학교생활 관리 서비스**\n",
      "  - **제작자**: 아이칼F4 (조민제, 이민기, 강건, 박근우)\n",
      "  - **소개**: 과제 관리, 성적 예측, 학점 계산 등을 지원하는 앱.\n",
      "\n",
      "- **[Crewing] 연합동아리 정보 플랫폼**\n",
      "  - **제작자**: 동학대학운동 (김민아, 임경진, 신은혜, 고수)\n",
      "  - **소개**: 신입생들이 자신에게 적합한 연합동아리를 쉽게 찾고 가입할 수 있도록 돕는 아카이빙 플랫폼.\n",
      "\n",
      "#### 3. 우수상 수상작\n",
      "- **[에코 클래스룸] 수업 실시간 소통 서비스**\n",
      "  - **제작자**: This is 스파게티!!! (박지성, 김서원, 박범수)\n",
      "  - **소개**: 교수와 학생 간의 소통을 개선하기 위해, 수업 중 학생들의 이해도를 실시간으로 확인할 수 있는 서비스.\n",
      "\n",
      "- **[우리집 히어로즈] 벌레 퇴치 영웅 매칭 서비스**\n",
      "  - **제작자**: 인트 (배정연, 한지수)\n",
      "  - **소개**: 자취생들이 자취방에서 발생하는 벌레 문제를 해결하기 위해 필요한 사람과 매칭해주는 서비스.\n",
      "\n",
      "이 공모전은 대학생들이 겪는 캠퍼스의 다양한 문제를 해결하는 아이디어를 실현할 수 있는 기회를 제공하는 대회로, 각 수상작들은 실제 문제를 기반으로 한 혁신적인 접근 방식을 보여주고 있습니다.\n",
      "\n",
      "\n",
      "\n",
      "3. contextual compression retriever\n",
      "**AII-in 코딩 공모전 수상작 요약**\n",
      "\n",
      "이번 AII-in 코딩 공모전에서는 대학생들이 팀 프로젝트를 통해 만들어낸 다양한 웹/앱 서비스들이 수상하였습니다. 이 대회는 캠퍼스에서의 문제를 해결하는 것을 목표로 하며, 차별화된 아이디어와 혁신적인 접근 방식이 돋보였습니다. 수상작들은 다음과 같습니다:\n",
      "\n",
      "1. **대상: [Lexi Note] 언어공부 필기 웹 서비스**\n",
      "   - 제작자: 다나와 (김다애, 박나경)\n",
      "   - 언어 학습의 효율성을 높이기 위해 개발된 필기 지원 웹 서비스.\n",
      "\n",
      "2. **우수상: [에코 클래스룸] 수업 실시간 소통 서비스**\n",
      "   - 제작자: This is 스파게티!!! (박지성, 김서원, 박범수)\n",
      "   - 교수와 학생 간의 실시간 소통을 통한 수업 이해도를 높이기 위한 서비스.\n",
      "\n",
      "3. **우수상: [학교생활 매니저] 학교생활 관리 서비스**\n",
      "   - 제작자: 아이칼F4 (조민제, 이민기, 강건, 박근우)\n",
      "   - 학교 생활을 효율적으로 관리할 수 있도록 돕는 앱으로, 일정과 과제 관리 기능 포함.\n",
      "\n",
      "4. **우수상: [우리집 히어로즈] 벌레 퇴치 영웅 매칭 서비스**\n",
      "   - 제작자: 인트 (배정연, 한지수)\n",
      "   - 자취생들이 겪는 벌레 문제를 해결하기 위해, 필요한 서비스를 찾고 매칭하는 앱.\n",
      "\n",
      "위와 같이, AII-in 코딩 공모전에서는 대학생들이 자신들의 아이디어를 바탕으로 실제 문제를 해결하는 노력을 보여주었습니다. 각 수상작은 특정한 문제를 해결하기 위한 창의적인 접근 방식을 가지고 있으며, 이 대회는 참가자들에게 코딩을 통해 자신의 아이디어를 실현할 수 있는 기회를 제공합니다.\n",
      "\n",
      "\n",
      "\n",
      "4. self-query retriever\n",
      "### ALL-in 코딩 공모전 수상작 요약\n",
      "\n",
      "1. **우수상: 우리집 히어로즈**\n",
      "   - **서비스 설명**: 벌레 퇴치 영웅 매칭 서비스로, 대학생 자취생들이 자취방에서 발생하는 벌레 문제를 해결할 수 있도록 돕는 앱.\n",
      "   - **문제 해결**: 사용자 개인정보 노출 없이 안전하게 문제를 해결하고, 벌레를 퇴치하는 히어로에게 추가 수입 기회를 제공.\n",
      "   - **기능**: 실시간 알림, 평가 시스템.\n",
      "   - **사용한 기술 스택**: 프론트엔드(FE) - React Native, Expo, Axios; 백엔드(BE) - Spring Boot, Spring Security, MySQL, SSE, FCM, JWT, Postman.\n",
      "\n",
      "2. **우수상: 에코 클래스룸**\n",
      "   - **서비스 설명**: 수업 실시간 소통 서비스로, 학생과 교수 간 소통을 혁신적으로 개선.\n",
      "   - **기능**: 학생의 이해도를 테스트할 수 있는 퀴즈 생성, 수업 난이도에 대한 피드백 수집.\n",
      "   - **사용한 기술 스택**: 프론트엔드(FE) - Flutter, Socket.IO, Expo CLI, Axios, TanStack Query; 백엔드(BE) - Spring Boot, Spring Security, JWT, MySQL, Spring WebSocket, AWS.\n",
      "\n",
      "3. **입선작: 학교생활 매니저**\n",
      "   - **서비스 설명**: 대학생의 학교 생활을 효율적으로 관리할 수 있도록 돕는 관리 앱.\n",
      "   - **기능**: 일정과 과제 관리, 성적 예측, 캘린더 기능.\n",
      "   - **사용한 기술 스택**: 프론트엔드(FE) - Flutter; 백엔드(BE) - Firebase.\n",
      "\n",
      "4. **입선작: BLOTIE**\n",
      "   - **서비스 설명**: 교내 외국인과 내국인 매칭 및 교류 플랫폼으로, 외국인 학생들에게 한국 대학 생활 적응을 돕기 위해 개발됨.\n",
      "   - **기능**: 1:1 매칭 기능.\n",
      "   - **사용한 기술 스택**: 프론트엔드(FE) - Flutter, Socket.IO, Expo CLI, Axios, TanStack Query; 백엔드(BE) - Spring Boot, Spring Security, JWT, MySQL, Spring WebSocket, AWS.\n",
      "\n",
      "5. **입선작: Crewing**\n",
      "   - **서비스 설명**: 대학생들이 다양한 연합 동아리에 쉽게 가입하고 적합한 동아리를 추천받을 수 있도록 지원하는 아카이빙 플랫폼.\n",
      "   - **기능**: 동아리 서류 전형, 인터뷰 일정 관리 및 솔직한 후기를 통한 정보 제공.\n",
      "   - **사용한 기술 스택**: 프론트엔드(FE) - Spring Boot, Redis, MySQL; 백엔드(BE) - SwiftUI Framework, OAuth 2.0.\n",
      "\n",
      "이와 같은 수상작들은 참가자들이 대학 생활의 문제를 해결하기 위한 창의적인 아이디어와 기술력을 활용해 개발된 앱 및 웹 서비스입니다.\n"
     ]
    }
   ],
   "source": [
    "print(\"1. search type: similarity\")\n",
    "user_prompt = prompt.invoke({\"context\": format_docs(retrieved_docs_similarity), \"question\": user_msg})\n",
    "response = llm.invoke(user_prompt)\n",
    "print(response.content)\n",
    "\n",
    "\n",
    "print(\"\\n\\n\\n2. search type: mmr\")\n",
    "user_prompt = prompt.invoke({\"context\": format_docs(retrieved_docs_mmr), \"question\": user_msg})\n",
    "response = llm.invoke(user_prompt)\n",
    "\n",
    "\n",
    "print(response.content)\n",
    "print(\"\\n\\n\\n3. contextual compression retriever\")\n",
    "user_prompt = prompt.invoke({\"context\": format_docs(compressed_docs_context), \"question\": user_msg})\n",
    "response = llm.invoke(user_prompt)\n",
    "\n",
    "\n",
    "print(response.content)\n",
    "print(\"\\n\\n\\n4. self-query retriever\")\n",
    "user_prompt = prompt.invoke({\"context\": format_docs(retrieved_docs_self_query), \"question\": user_msg})\n",
    "response = llm.invoke(user_prompt)\n",
    "print(response.content)\n"
   ]
  },
  {
   "cell_type": "markdown",
   "id": "a4bac916",
   "metadata": {},
   "source": [
    "Self-Query 리트리버가 가장 효과적인 결과를 보여주었습니다. 이 방식은 메타데이터 필드(상장 종류, 공모전 이름, 수상자 등)를 명확히 정의하여 LLM이 사용자 질문을 구조화된 쿼리로 변환할 수 있게 했습니다. 그 결과, 다른 리트리버들이 놓친 \"BLOTIE\" 입선작까지 포함한 더 포괄적인 정보를 제공했고, 프론트엔드/백엔드 기술 스택 구분, 서비스 기능 설명, 문제 해결 방식 등 더 체계적인 정보를 추출할 수 있었습니다. 특히 특정 속성에 대한 정보를 정확하게 추출해야 하는 상황에서 Self-Query 리트리버의 강점이 두드러졌으며, 이는 복잡한 정보를 구조화하여 검색하는 데 효과적인 접근법임을 보여줍니다."
   ]
  }
 ],
 "metadata": {
  "kernelspec": {
   "display_name": ".venv",
   "language": "python",
   "name": "python3"
  },
  "language_info": {
   "codemirror_mode": {
    "name": "ipython",
    "version": 3
   },
   "file_extension": ".py",
   "mimetype": "text/x-python",
   "name": "python",
   "nbconvert_exporter": "python",
   "pygments_lexer": "ipython3",
   "version": "3.13.2"
  }
 },
 "nbformat": 4,
 "nbformat_minor": 5
}
