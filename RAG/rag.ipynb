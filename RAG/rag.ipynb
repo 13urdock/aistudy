{
 "cells": [
  {
   "cell_type": "code",
   "execution_count": 31,
   "id": "659a9e2f",
   "metadata": {},
   "outputs": [],
   "source": [
    "import bs4\n",
    "import os\n",
    "from dotenv import load_dotenv\n",
    "from langchain import hub\n",
    "from langchain_core.prompts import ChatPromptTemplate\n",
    "from langchain_chroma import Chroma\n",
    "from langchain_community.vectorstores import FAISS\n",
    "from langchain_openai import ChatOpenAI\n",
    "from langchain_openai import OpenAIEmbeddings\n",
    "from langchain_community.document_loaders import WebBaseLoader\n",
    "from langchain_text_splitters import RecursiveCharacterTextSplitter"
   ]
  },
  {
   "cell_type": "markdown",
   "id": "02a3e163",
   "metadata": {},
   "source": [
    "프로젝트에 필요한 라이브러리들을 임포트합니다. Beautiful Soup(bs4)를 웹 스크래핑에, LangChain 관련 라이브러리들을 LLM 연동 및 문서 처리에, OpenAI API를 사용하기 위한 모듈을 불러옵니다.\n",
    "# LLM 설정 및 API 키 확인"
   ]
  },
  {
   "cell_type": "code",
   "execution_count": 32,
   "id": "f146d24c",
   "metadata": {},
   "outputs": [
    {
     "name": "stdout",
     "output_type": "stream",
     "text": [
      "API key exists: True\n"
     ]
    }
   ],
   "source": [
    "llm = ChatOpenAI(model=\"gpt-4o-mini\", api_key=os.getenv(\"OPENAI_API_KEY\"))\n",
    "load_dotenv()\n",
    "api_key = os.getenv(\"OPENAI_API_KEY\")\n",
    "print(f\"API key exists: {api_key is not None}\")"
   ]
  },
  {
   "cell_type": "markdown",
   "id": "ebe1bd76",
   "metadata": {},
   "source": [
    "OpenAI의 gpt-4o-mini 모델을 사용하기 위한 초기 설정을 합니다. .env 파일에서 환경변수를 불러와 API 키를 확인하고, 키가 존재하는지 확인합니다."
   ]
  },
  {
   "cell_type": "markdown",
   "id": "2f00cb68",
   "metadata": {},
   "source": [
    "# 웹페이지 불러오기"
   ]
  },
  {
   "cell_type": "code",
   "execution_count": 33,
   "id": "0bc3a8a9",
   "metadata": {},
   "outputs": [
    {
     "name": "stdout",
     "output_type": "stream",
     "text": [
      "로드된 문서 수: 1\n",
      "첫 번째 문서 내용 일부: \n",
      "\n",
      "포인트\n",
      "\n",
      "로딩중\n",
      "\n",
      "쿠폰\n",
      "\n",
      "내 강의실\n",
      "\n",
      "국비 신청 내역\n",
      "\n",
      "수강권\n",
      "\n",
      "증명서\n",
      "\n",
      "숙제 피드백\n",
      "\n",
      "계정\n",
      "\n",
      "로그아웃\n",
      "\n",
      "1725353737651-%C3%A1%C2%84%C2%8F%C3%A1%\n"
     ]
    }
   ],
   "source": [
    "from langchain_community.document_loaders import UnstructuredURLLoader\n",
    "\n",
    "file_path = [\"https://spartacodingclub.kr/blog/all-in-challenge_winner\"]\n",
    "\n",
    "loader = UnstructuredURLLoader(file_path)\n",
    "\n",
    "docs = loader.load()\n",
    "print(f\"로드된 문서 수: {len(docs)}\")\n",
    "print(f\"첫 번째 문서 내용 일부: {docs[0].page_content[:100] if docs else 'No content'}\")\n"
   ]
  },
  {
   "cell_type": "markdown",
   "id": "06bcd87b",
   "metadata": {},
   "source": [
    "LangChain의 WebBaseLoader를 사용하여 스파르타코딩클럽의 ALL-in 코딩 공모전 수상작 페이지를 불러옵니다.\n",
    "Beautiful Soup의 SoupStrainer를 활용해 문서의 내용이 들어있는 (\"css-j3idia\", \"editedContent\")부분을 파싱하여 필요한 콘텐츠만 추출합니다.\n",
    "로드된 문서의 수와 첫 문서의 일부분을 출력하여 정상적으로 데이터가 불러와졌는지 확인합니다."
   ]
  },
  {
   "cell_type": "markdown",
   "id": "7021d2a3",
   "metadata": {},
   "source": [
    "# 문서 청크로 나누기\n",
    "\n"
   ]
  },
  {
   "cell_type": "code",
   "execution_count": 34,
   "id": "63163771",
   "metadata": {},
   "outputs": [
    {
     "name": "stdout",
     "output_type": "stream",
     "text": [
      "분할된 청크 수: 18\n"
     ]
    }
   ],
   "source": [
    "text_splitter = RecursiveCharacterTextSplitter(\n",
    "    chunk_size=500,\n",
    "    chunk_overlap=10\n",
    ")\n",
    "\n",
    "splits = text_splitter.split_documents(docs)\n",
    "print(f\"분할된 청크 수: {len(splits)}\")\n",
    "\n",
    "if len(splits) == 0:\n",
    "    print(\"청크가 없어 원본 문서를 사용합니다.\")\n",
    "    splits = docs"
   ]
  },
  {
   "cell_type": "markdown",
   "id": "13977503",
   "metadata": {},
   "source": [
    "불러온 문서를 처리하기 쉽도록 청크(chunks)로 나눕니다. RecursiveCharacterTextSplitter를 사용하여 문서를 500자 단위로 분할하고, 청크 간 10자의 중복을 허용합니다. 분할된 청크의 수를 출력하고, 만약 청크가 생성되지 않았다면 원본 문서를 그대로 사용합니다."
   ]
  },
  {
   "cell_type": "markdown",
   "id": "e988b555",
   "metadata": {},
   "source": [
    "# 벡터 스토어 생성 및 리트리버 설정"
   ]
  },
  {
   "cell_type": "code",
   "execution_count": 57,
   "id": "c75a4664",
   "metadata": {},
   "outputs": [
    {
     "name": "stderr",
     "output_type": "stream",
     "text": [
      "INFO: HTTP Request: POST https://api.openai.com/v1/embeddings \"HTTP/1.1 200 OK\"\n",
      "INFO: HTTP Request: POST https://api.openai.com/v1/embeddings \"HTTP/1.1 200 OK\"\n"
     ]
    }
   ],
   "source": [
    "vectorstore = FAISS.from_documents(\n",
    "    documents=splits,\n",
    "    embedding=OpenAIEmbeddings(api_key=os.getenv(\"OPENAI_API_KEY\"))\n",
    ")\n",
    "vectorstore_chroma = Chroma.from_documents( # self query retriever는 faiss와 호환되지 않음음\n",
    "    documents=splits,\n",
    "    embedding=OpenAIEmbeddings(api_key=os.getenv(\"OPENAI_API_KEY\"))\n",
    ")\n",
    "retriever = vectorstore.as_retriever(\n",
    "    search_type=\"similarity\", search_kwargs={\"k\": 50}\n",
    ")\n",
    "def format_docs(docs):\n",
    "    return \"\\n\\n\".join(doc.page_content for doc in docs)"
   ]
  },
  {
   "cell_type": "markdown",
   "id": "95c1d43a",
   "metadata": {},
   "source": [
    "분할된 문서들을 벡터화하고, Chroma 벡터 데이터베이스에 저장합니다.\n",
    "이후 이 벡터 스토어에서 문서를 검색할 수 있는 리트리버(retriever)를 생성합니다.\n",
    "기본 검색 방식은 \"similarity\"(유사도 기반)이며, 최대 50개의 관련 문서를 반환하도록 설정합니다."
   ]
  },
  {
   "cell_type": "markdown",
   "id": "e13a4397",
   "metadata": {},
   "source": [
    "# 사용자 질문 및 문서 검색"
   ]
  },
  {
   "cell_type": "code",
   "execution_count": 36,
   "id": "df492f09",
   "metadata": {},
   "outputs": [
    {
     "name": "stderr",
     "output_type": "stream",
     "text": [
      "INFO: HTTP Request: POST https://api.openai.com/v1/embeddings \"HTTP/1.1 200 OK\"\n"
     ]
    },
    {
     "name": "stdout",
     "output_type": "stream",
     "text": [
      "18\n"
     ]
    },
    {
     "data": {
      "text/plain": [
       "[Document(id='20062b27-219d-4327-a130-4225d427cd8f', metadata={'source': 'https://spartacodingclub.kr/blog/all-in-challenge_winner'}, page_content='조회수 752·6분 분량\\n\\n2024. 9. 3.\\n\\n코딩은 더 이상 개발자만의 영역이 아닙니다. 누구나 아이디어만 있다면 창의적인 서비스를 만들어 세상을 바꿀 수 있습니다. 스파르타코딩클럽에서는 이러한 가능성을 믿고, 누구나 코딩을 통해 자신의 아이디어를 실현하고 실제 문제를 해결하는 경험을 쌓을 수 있도록 다양한 프로그램을 마련하고 있습니다.\\n\\n<All-in> 코딩 공모전은 대학생들이 캠퍼스에서 겪은 불편함과 문제를 자신만의 아이디어로 해결해보는 대회였는데요. 이번 공모전에서 다양한 혁신적인 아이디어와 열정으로 가득한 수많은 프로젝트가 탄생했습니다. 그중 뛰어난 성과를 낸 수상작 6개를 소개합니다.\\n\\n🏆 대상\\n\\n[Lexi Note] 언어공부 필기 웹 서비스\\n\\n서비스 제작자: 다나와(김다애, 박나경)'),\n",
       " Document(id='9d2916a9-1d4b-4ea3-b3f2-5ae73dd99f30', metadata={'source': 'https://spartacodingclub.kr/blog/all-in-challenge_winner'}, page_content=\"포인트\\n\\n로딩중\\n\\n쿠폰\\n\\n내 강의실\\n\\n국비 신청 내역\\n\\n수강권\\n\\n증명서\\n\\n숙제 피드백\\n\\n계정\\n\\n로그아웃\\n\\n1725353737651-%C3%A1%C2%84%C2%8F%C3%A1%C2%85%C2%A9%C3%A1%C2%84%C2%83%C3%A1%C2%85%C2%B5%C3%A1%C2%86%C2%BC%C3%A1%C2%84%C2%80%C3%A1%C2%85%C2%A9%C3%A1%C2%86%C2%BC%C3%A1%C2%84%C2%86%C3%A1%C2%85%C2%A9%C3%A1%C2%84%C2%8C%C3%A1%C2%85%C2%A5%C3%A1%C2%86%C2%AB+%C3%A1%C2%84%C2%89%C3%A1%C2%85%C2%AE%C3%A1%C2%84%C2%89%C3%A1%C2%85%C2%A1%C3%A1%C2%86%C2%BC%C3%A1%C2%84%C2%8C%C3%A1%C2%85%C2%A1%C3%A1%C2%86%C2%A8.png\\n\\n스파르타 소식\\n\\n'AII-in 코딩 공모전’ 수상작을 소개합니다\"),\n",
       " Document(id='078f7fa7-8833-4853-a731-be7847610427', metadata={'source': 'https://spartacodingclub.kr/blog/all-in-challenge_winner'}, page_content='FE(프론트엔드): Spring Boot, MySQL, Spring WebSocket\\n\\nBE(백엔드): React Native, TanStack Query, Axios\\n\\n코딩 공모전 수상작은 대학생들의 팀프로젝트를 통해 만들어진 웹/앱 서비스입니다. 캠퍼스에서의 문제를 해결하자는 참가자들의 아이디어에서 시작되었죠. 누구나 세상에 선보이고 싶은 나만의 아이디어와 기초 코딩 기술만 활용한다면, 얼마든지 서비스를 만들 수 있습니다. 스파르타코딩클럽의 내일배움캠프에서는 비전공, 초보자도 웹/앱 개발자로 거듭날 수 있는 다양한 트랙이 준비돼 있습니다. 나만의 아이디어를 세상에 선보이고 싶은 누구나에게 열려 있으니 주저말고 도전해 보세요.\\n\\n💡<All-in> 코딩 공모전에서 만든 다양한 서비스를 만나보고 싶다면?\\n\\n다양한 서비스와 기발한 아이디어가 모인 곳에 초대합니다. 참가자들의 문제 해결방법이 궁금하시다면 지금 바로 ‘All-in 공모전’에서 만나보세요!\\n\\n👉🏻 공모전 결과물 보러가기'),\n",
       " Document(id='62a8e31e-d7ed-4c89-8e8e-bf47293e4557', metadata={'source': 'https://spartacodingclub.kr/blog/all-in-challenge_winner'}, page_content='누구나 큰일 낼 수 있어\\n\\n스파르타코딩클럽\\n\\n글 | 신수지 팀스파르타 에디터\\n\\n해당 콘텐츠는 저작권법에 의해 보호받는 저작물로 스파르타코딩클럽에 저작권이 있습니다. - 해당 콘텐츠는 사전 동의 없이 2차 가공 및 영리적인 이용을 금하고 있습니다.\\n\\n내용이 유익하셨다면? 공유하기\\n\\ncopyclip-blog-share\\n\\nkakao-blog-share\\n\\nfacebook-blog-share\\n\\n다른 분들이 많이 읽은 글\\n\\n아티클\\n\\n2024 내일배움카드로 개발자 되는 방법 : 프론트엔드 백엔드 국비지원 개발자 과정 알아보기\\n\\n조회569·8분 분량\\n\\n2024 내일배움카드로 개발자 되는 방법 : 프론트엔드 백엔드 국비지원 개발자 과정 알아보기\\n\\n아티클\\n\\n비전공자 웹개발 프론트엔드 : 비전공자가 개발자에 도전할 때 꼭 알아야 하는 것\\n\\n조회279·8분 분량\\n\\n비전공자 웹개발 프론트엔드 : 비전공자가 개발자에 도전할 때 꼭 알아야 하는 것\\n\\ncopyclip-blog-share\\n\\n고객센터'),\n",
       " Document(id='f52b75a6-ab2d-49ec-98bc-6126dc9f443e', metadata={'source': 'https://spartacodingclub.kr/blog/all-in-challenge_winner'}, page_content='서비스 제작자: This is 스파게티!!!(박지성, 김서원, 박범수)\\n\\n💡K교수는 항상 수업이 끝난 후 난이도가 적절했는지 궁금했습니다. “질문 있나요?”라는 말이 수업의 마무리였지만, 대부분의 학생은 답이 없었죠. 그저 고개를 끄덕이는 몇몇 학생들만 보일 뿐, 정말 이해한 것인지, 질문할 용기가 없는 것인지 알 수 없었습니다. 이때문에 학생들이 수업 내용을 제대로 이해하고 있는지 확인하기 어려웠습니다. 어느 날 강의가 끝나고 몇몇 학생들이 몰려와 어렵다고, 다시 설명해 달라고 요청했습니다. 그제야 K교수는 알게 되었어요. 학생들이 이해하지 못하고 있었지만, 질문을 하지 않았던 것이었습니다.'),\n",
       " Document(id='179667f4-00b2-45d7-8ec0-6b56ba611660', metadata={'source': 'https://spartacodingclub.kr/blog/all-in-challenge_winner'}, page_content='🏅 입선\\n\\n[Crewing] 연합동아리 정보 플랫폼\\n\\n서비스 제작자: 동학대학운동(김민아, 임경진, 신은혜, 고수)\\n\\n💡신입생인 S는 대학 생활을 알차게 보내고 싶어서 연합 동아리에 가입하려고 했지만 어떤 동아리가 자신에게 맞을지 고민이 많았습니다. 인터넷에 검색해보니 연합 동아리 후기는 대부분 여기저기 흩어져 있고, 신뢰할 만한 정보를 찾기 어려웠습니다.'),\n",
       " Document(id='c868fa5d-477f-4b35-b546-404b1c0687be', metadata={'source': 'https://spartacodingclub.kr/blog/all-in-challenge_winner'}, page_content='FE(프론트엔드): React, Tesseract.js, React-Quill, HTML, CSS, JavaScript\\n\\nBE(백엔드): Java, Spring Boot, MariaDB\\n\\n🎖️ 우수상\\n\\n[우리집 히어로즈] 벌레 퇴치 영웅 매칭 서비스\\n\\n서비스 제작자: 인트(배정연, 한지수)\\n\\n💡C는 이번 학기 처음으로 자취를 시작했습니다. 원래부터 작은 벌레에 민감했던 C. 자취방에서 자주 나타나는 벌레들 때문에 밤잠을 설치길 반복했습니다. 밤마다 벌레를 잡으려고 애쓰던 C는 커뮤니티를 통해 다른 학생들도 같은 문제를 겪고 있다는 것을 알게 되었습니다. 하지만 커뮤니티에서 벌레 퇴치 히어로를 찾기 위해서는 내 개인 정보를 노출해야 한다는 점이 찝찝했죠.'),\n",
       " Document(id='cf7b6deb-d98e-4047-a7db-523df69124fa', metadata={'source': 'https://spartacodingclub.kr/blog/all-in-challenge_winner'}, page_content='<Crewing>은 대학생들이 다양한 연합 동아리에 쉽게 가입하고, 적절한 동아리를 찾을 수 있도록 지원해주는 아카이빙 플랫폼입니다. 회원가입 시 생년, 성별, 관심 분야를 입력하자 딱 맞는 동아리를 추천해주죠. 플랫폼 내에서 동아리의 리크루팅 과정인 서류 전형, 인터뷰 일정, 최종 결과 발표 등을 한 번에 해결할 수 있어요. 실제 동아리에 가입한 사람들의 솔직한 후기를 제공해주기 때문에 보다 정확한 정보를 얻을 수 있어요. Crewing은 신뢰할 수 있는 정보와 솔직한 후기를 제공해주기 때문에 효율적으로 내게 꼭 맞는 동아리를 선택할 수 있습니다.\\n\\n사용한 기술 스택\\n\\nFE(프론트엔드): Spring Boot, Redis, MySQL\\n\\nBE(백엔드): SwiftUI Framework, OAuth 2.0\\n\\n🏅 입선\\n\\n[학교생활 매니저] 학교생활 관리 서비스\\n\\n서비스 제작자: 아이칼F4(조민제, 이민기, 강건, 박근우)'),\n",
       " Document(id='50cae906-015e-49de-a3bd-5fdbfe4629db', metadata={'source': 'https://spartacodingclub.kr/blog/all-in-challenge_winner'}, page_content='💡A는 올해 복학한 3학년 학생입니다. 강의실과 도서관을 오가며 바쁜 일정을 소화하느라 정신이 없지만, 수업마다 나오는 과제와 각종 활동, 시험 준비까지 겹치면서 혼란에 빠지기 일쑤였습니다. 복학생이다 보니 학교에서 전달되는 공지사항도 제대로 전달받지 못해 항상 중요한 정보를 놓칠까 봐 걱정이었죠.'),\n",
       " Document(id='8040bb09-1adf-434e-bc1c-911a6d883a8c', metadata={'source': 'https://spartacodingclub.kr/blog/all-in-challenge_winner'}, page_content='W와 같이 어문 전공생은 문법, 어휘, 문장 구조 등 다양한 자료를 학습해야 합니다. 여러 자료를 번갈아 학습하다보니 ‘사전-번역기-원서-필기노트’ 왕복으로 학습 효율이 나지 않아 고민인 경우도 많으실 거예요. <Lexi Note>는 단어를 드래그하면 네이버 사전으로 바로 연동 돼 단어의 의미를 찾으며 동시에 필기 할 수 있어요. 이외에도 번역 버튼을 누르면 파파고 번역기가 연동돼 긴 문장도 쉽게 이해할 수 있어요. 언어 학습에 필요한 할일 목록과 스케줄 템플릿을 제공하여 효율적으로 공부할 수 있습니다. 필기, 사전, 번역을 한번에 쉽고 편하게 이용할 수 있죠. 더 이상 시간 낭비 없이 효율적으로 어문학을 공부하며 학습 속도도 눈에 띄게 빨라질 수 있어요. 언어 공부의 복잡함을 단순하게 만들어주는 Lexi Note가 요긴한 학습 도우미가 되었기 때문입니다.\\n\\n사용한 기술 스택'),\n",
       " Document(id='3b7bd86c-da1c-4654-b45b-7ad98d0523a8', metadata={'source': 'https://spartacodingclub.kr/blog/all-in-challenge_winner'}, page_content='💡W는 어문학을 전공하는 대학생입니다. 매일 새로운 단어와 문장 구조를 공부하고 있지만, 효율적으로 학습하는 것이 쉽지 않았습니다. 단어의 의미를 찾기 위해 사전을 뒤적이고, 긴 문장을 이해하려고 번역기를 사용하다 보면, 필기 노트는 어느새 뒷전으로 밀려났거든요. 사전, 번역기, 원서, 필기노트를 왔다 갔다 하다 보면 시간이 다 지나가 버리곤 했죠.'),\n",
       " Document(id='81c31fc0-8c12-4bc5-b67c-6f35ec5b1768', metadata={'source': 'https://spartacodingclub.kr/blog/all-in-challenge_winner'}, page_content='이 문제를 해결할 수 있는 방법이 바로 <우리집 히어로즈> 서비스입니다. 대학생 자취생들이 자취방에서 겪는 벌레 문제를 해결하기 위해 개발된 앱이죠. 벌레 퇴치가 필요한 사용자가 앱에 요청을 올리면 벌레 퇴치 히어로 학우와 매칭됩니다. 사용자 신원은 같은 학교 학생으로, 신원이 보장된 안전한 환경에서 이뤄지고 벌레를 퇴치해주는 히어로는 추가 수입을 얻을 수 있는 기회를 가집니다. 실시간 알림 기능을 통해 매칭이 이뤄지면 즉시 알림을 받을 수 있어 빠르게 문제를 해결할 수 있습니다. 벌레를 퇴치한 후 사용자는 서로를 평가할 수 있어요. 더 나은 서비스를 제공하거나 받을 수 있습니다.\\n\\n사용한 기술 스택\\n\\nFE(프론트엔드): React Native, Expo, Axios\\n\\nBE(백엔드): Spring Boot, Spring Security, MySQL, SSE, FCM, JWT, Postman\\n\\n🎖️ 우수상\\n\\n[에코 클래스룸] 수업 실시간 소통 서비스'),\n",
       " Document(id='fb389a2f-a021-42a3-9e8c-4c40686d0f6b', metadata={'source': 'https://spartacodingclub.kr/blog/all-in-challenge_winner'}, page_content='다른 학생들의 시선이 부담스러워서, 나만 모르는 거라고 생각해서 질문하지 않는 학생들을 위해 만들어진 서비스가 바로 <에코 클래스룸>입니다. 교수와 학생 간의 소통을 혁신적으로 바꾸기 위해 만들어졌어요. 학생들이 굳이 손을 들고 질문하지 않아도, 에코 클래스룸을 통해 자신의 의견을 표현할 수 있습니다. 익명으로 수업 중 자신의 의견이나 질문을 쉽게 제출할 수 있어 교수님은 실시간으로 학생들의 이해도를 파악할 수 있습니다. 수업 중 또는 후에 교수자가 수업에 대한 피드백을 받을 수 있는 평가 기능과 학생의 이해도를 테스트 할 수 있는 퀴즈 생성 기능이 있어 필요한 경우 수업 속도를 조절하고 추가 설명을 할 수 있어요.\\n\\n사용한 기술 스택\\n\\nFE(프론트엔드): Flutter, Socket.IO, Expo CLI, Axios, TanStack Query\\n\\nBE(백엔드): Spring Boot, Spring Security, JWT, MySQL, Spring WebSocket, AWS'),\n",
       " Document(id='5317399b-625f-4291-9eb5-6a68e8bba0db', metadata={'source': 'https://spartacodingclub.kr/blog/all-in-challenge_winner'}, page_content='앱 내의 학점 계산기를 사용하면 성적이 그래프로 시각화되어 변화를 쉽게 파악할 수 있고, 앞으로의 성적 목표를 세우는 데에도 큰 도움이 됩니다. 예상 학점 기능을 통해 과목별 예상 등수와 학점을 미리 계산해 보며 학습 계획도 조정할 수 있어요. <학교생활 매니저>앱을 사용하면 체계적으로 대학 생활을 관리하고, 남은 학업과 일정을 효율적으로 관리할 수 있습니다.\\n\\n사용한 기술 스택\\n\\nFE(프론트엔드): Flutter\\n\\nBE(백엔드): Firebase\\n\\n🏅 입선\\n\\n[BLOTIE] 교내 외국인X내국인 매칭 및 교류 플랫폼\\n\\n서비스 제작자: 블로티(이은주, 한명수, 황준영)'),\n",
       " Document(id='6d5ee144-01c1-4c2c-9650-d3ee9aa8017c', metadata={'source': 'https://spartacodingclub.kr/blog/all-in-challenge_winner'}, page_content='<BLOTIE>는 외국인 학생이 가진 이런 문제를 해결하고, 보다 친밀하고 자유로운 글로벌 캠퍼스 문화를 조성하기 위해 만들어진 플랫폼입니다. ‘1:1 매칭 기능’으로 교내 외국인 학생과 한국인 학생을 쉽게 연결할 수 있어요. 서로의 문화와 언어를 자연스럽게 배우고 교류할 수 있습니다. 관심사, 언어 능력, 성격 등을 기반으로 이뤄지기 때문에 일회성 매칭에 대한 걱정도 줄어들어요. 매칭된 학생들은 플랫폼 내에서 ‘실시간 채팅과 피드 기능’으로 자유롭게 소통할 수 있고, 다양한 주제로 만남을 이어갈 수 있습니다.\\n\\n외국인은 한국어 실력을 향상할 수 있고 한국인은 외국어를 실생활에서 연습할 기회를 얻을 수 있어요. BLOTIE를 통해 캠퍼스 내에 보다 다양한 문화가 공존하고, 학생들 간의 유대감이 강화되고, 서로 다른 배경을 가진 학생들이 함께 성장할 수 있는 환경이 조성됩니다. 글로벌 사회에서 중요한 소통 능력을 기를 수 있는 문화의 장으로 쓰일 수 있겠죠!\\n\\n사용한 기술 스택'),\n",
       " Document(id='34e91fe8-ce7e-4d79-b1af-968696e4b9d7', metadata={'source': 'https://spartacodingclub.kr/blog/all-in-challenge_winner'}, page_content='고객센터\\n\\n홈페이지 우측 하단 [문의하기]를 통해\\n\\n1:1 채팅상담을 이용하실 수 있습니다.\\n\\n(전화상담을 원하시는 경우,\\n\\n채팅상담을 통해 신청부탁드립니다.)\\n\\n채팅 상담 운영시간 :\\n\\n월요일 14:00-17:30\\n\\n화~금요일 10:30-17:30\\n\\n(점심시간 12:30-14:00 / 주말,공휴일 휴무)\\n\\n서비스\\n\\nAITC 자격증\\n\\n스터디클럽\\n\\n전체 강의\\n\\n게시판\\n\\n블로그\\n\\n이벤트\\n\\n수강생 작품\\n\\n패밀리 사이트\\n\\n내일배움캠프\\n\\n항해99\\n\\n스파르타 커리어\\n\\n기업 서비스\\n\\n기업 교육\\n\\n외주 개발\\n\\nIT 인재 채용\\n\\nCRM자동화 에픽\\n\\n회사\\n\\n튜터 지원\\n\\n인재 채용\\n\\n채용중\\n\\n팀블로그\\n\\n개인정보처리방침\\n\\n서비스 이용약관\\n\\n환불 규정\\n\\n팀스파르타(주) 사업자 정보\\n\\n팀스파르타(주) 사업자 정보\\n\\nCopyright ©2022 TEAMSPARTA. All rights reserved.'),\n",
       " Document(id='6f08c25a-7262-47bf-b772-af523da7b300', metadata={'source': 'https://spartacodingclub.kr/blog/all-in-challenge_winner'}, page_content='<학교생활 매니저> 서비스는 학교 생활을 효율적으로 관리할 수 있도록 돕기 위해 개발된 관리 앱입니다. 일정과 과제 관리, 성적 예측, 학점 계산 등 캠퍼스 생활과 관련된 다양한 기능을 한 곳에서 관리할 수 있어요. ‘캘린더 기능’을 통해 학교 학사 일정과 개인 일정을 한눈에 확인할 수 있고, 날짜마다 해야 할 일을 To-Do List에 추가해 두면 중요한 과제나 시험 일정이 다가올 때마다 알림을 받아 놓치는 일이 없습니다. ‘공지사항 기능’을 통해 실시간으로 업데이트되는 학교 공지를 한 곳에서 확인할 수 있습니다. ‘시간표 기능’은 수업시간, 강의실, 교수님 정보 등을 한눈에 볼 수 있어 출결 관리도 확실하게 할 수 있어요.'),\n",
       " Document(id='9276d7e7-adb4-4259-b8c4-d17041756b4d', metadata={'source': 'https://spartacodingclub.kr/blog/all-in-challenge_winner'}, page_content='💡F는 T대학에 교환학생으로 온 외국인입니다. K팝 문화가 좋아 한국에 왔지만, 말도 잘 통하지 않고 문화 차이도 있어서 한국 캠퍼스 생활이 쉽지만은 않은데요. 한국어로 수업을 듣고 한국 친구도 사귀고 싶지만 한국 대학의 학사 일정과 과제 등 여러 시스템이 달라서 적응하기 어려웠습니다. 한국어가 서툴다보니 수업에서 제공되는 다양한 정보를 이해하기 어려웠고, 중요한 공지사항을 놓치기도 했습니다. 한국인 친구를 먼저 사귀는 것이 급선무라고 생각했죠.')]"
      ]
     },
     "execution_count": 36,
     "metadata": {},
     "output_type": "execute_result"
    }
   ],
   "source": [
    "user_msg = \"ALL-in 코딩 공모전 수상작들을 요약해줘.\"\n",
    "retrieved_docs = retriever.invoke(user_msg)\n",
    "\n",
    "print(len(retrieved_docs))\n",
    "retrieved_docs"
   ]
  },
  {
   "cell_type": "markdown",
   "id": "6a7d8aa2",
   "metadata": {},
   "source": [
    "사용자 질문을 정의하고, 해당 질문에 관련된 문서를 리트리버를 통해 검색합니다. 검색된 문서의 수를 출력하고, 검색된 문서 목록을 확인합니다."
   ]
  },
  {
   "cell_type": "markdown",
   "id": "9fa17600",
   "metadata": {},
   "source": [
    "# 프롬프트 생성"
   ]
  },
  {
   "cell_type": "code",
   "execution_count": 48,
   "id": "745c604d",
   "metadata": {},
   "outputs": [
    {
     "name": "stdout",
     "output_type": "stream",
     "text": [
      "input_variables=['context', 'question'] input_types={} partial_variables={} messages=[HumanMessagePromptTemplate(prompt=PromptTemplate(input_variables=['context', 'question'], input_types={}, partial_variables={}, template='\\n<Context>\\n당신은 공모전 심사위원으로, 검색된 문서 정보를 기반으로 질문에 답변하는 역할입니다.\\n검색된 문서: {context}\\n질문: {question}\\n</Context>\\n\\n<Objective>\\n공모전에 대한 유익한 정보를 제공하고, 향후 참가자들이 참고할 수 있는 정보를 정리하는 것입니다.\\n</Objective>\\n\\n<Style>\\n- 검색된 문서 내용을 바탕으로 사실적이고 객관적인 정보만 제공합니다.\\n- 개인적인 의견이나 해석 없이 검색 결과에서 찾은 정보만 활용합니다.\\n- 정보를 체계적으로 구조화하여 보기 쉽게 정리합니다.\\n- 검색 결과에서 찾을 수 없는 정보에 대해서는 명확히 \"해당 정보를 제공된 문서에서 찾을 수 없습니다\"라고 답변합니다.\\n</Style>\\n\\n<Tone>\\n전문적이고 객관적인 어조로 답변합니다.\\n</Tone>\\n\\n<Audience>\\n향후 이 공모전에 참가할 예정인 잠재적 참가자들입니다.\\n</Audience>\\n\\n<Response>\\n제공된 문서 정보를 체계적으로 분석하여 질문에 대한 정확한 답변을 한국어로 제공하세요. 답변은:\\n1. 주요 정보를 카테고리별로 명확하게 구분하여 제시\\n2. 필요시 제목, 소제목, 글머리 기호 등을 활용해 가독성 향상\\n3. 검색 결과에서 찾은 모든 관련 정보를 포함\\n4. 답변을 찾을 수 없는 경우 \"제공된 문서에서 해당 정보를 찾을 수 없습니다\"라고 명시\\n</Response>'), additional_kwargs={})]\n"
     ]
    }
   ],
   "source": [
    "prompt = ChatPromptTemplate.from_template(\"\"\"\n",
    "<Context>\n",
    "당신은 공모전 심사위원으로, 검색된 문서 정보를 기반으로 질문에 답변하는 역할입니다.\n",
    "검색된 문서: {context}\n",
    "질문: {question}\n",
    "</Context>\n",
    "\n",
    "<Objective>\n",
    "공모전에 대한 유익한 정보를 제공하고, 향후 참가자들이 참고할 수 있는 정보를 정리하는 것입니다.\n",
    "</Objective>\n",
    "\n",
    "<Style>\n",
    "- 검색된 문서 내용을 바탕으로 사실적이고 객관적인 정보만 제공합니다.\n",
    "- 개인적인 의견이나 해석 없이 검색 결과에서 찾은 정보만 활용합니다.\n",
    "- 정보를 체계적으로 구조화하여 보기 쉽게 정리합니다.\n",
    "- 검색 결과에서 찾을 수 없는 정보에 대해서는 명확히 \"해당 정보를 제공된 문서에서 찾을 수 없습니다\"라고 답변합니다.\n",
    "</Style>\n",
    "\n",
    "<Tone>\n",
    "전문적이고 객관적인 어조로 답변합니다.\n",
    "</Tone>\n",
    "\n",
    "<Audience>\n",
    "향후 이 공모전에 참가할 예정인 잠재적 참가자들입니다.\n",
    "</Audience>\n",
    "\n",
    "<Response>\n",
    "제공된 문서 정보를 체계적으로 분석하여 질문에 대한 정확한 답변을 한국어로 제공하세요. 답변은:\n",
    "1. 주요 정보를 카테고리별로 명확하게 구분하여 제시\n",
    "2. 필요시 제목, 소제목, 글머리 기호 등을 활용해 가독성 향상\n",
    "3. 검색 결과에서 찾은 모든 관련 정보를 포함\n",
    "4. 답변을 찾을 수 없는 경우 \"제공된 문서에서 해당 정보를 찾을 수 없습니다\"라고 명시\n",
    "</Response>\"\"\")\n",
    "user_prompt = prompt.invoke({\"context\": format_docs(retrieved_docs), \"question\": user_msg})\n",
    "print(prompt)"
   ]
  },
  {
   "cell_type": "markdown",
   "id": "d9a97d9a",
   "metadata": {},
   "source": [
    "LLM에게 전달할 프롬프트 템플릿을 생성합니다. 프롬프트는 공모전 심사위원 역할을 부여하고, 검색된 문서의 정보만을 활용하여 객관적인 정보를 제공하도록 지시합니다."
   ]
  },
  {
   "cell_type": "markdown",
   "id": "fa63cf09",
   "metadata": {},
   "source": [
    "# LLM 응답 요청\n",
    "검색된 문서와 사용자 질문을 프롬프트에 넣고, LLM에 응답을 요청한 후 결과를 출력합니다."
   ]
  },
  {
   "cell_type": "code",
   "execution_count": 49,
   "id": "dad4db90",
   "metadata": {},
   "outputs": [
    {
     "name": "stderr",
     "output_type": "stream",
     "text": [
      "INFO: HTTP Request: POST https://api.openai.com/v1/chat/completions \"HTTP/1.1 200 OK\"\n"
     ]
    },
    {
     "name": "stdout",
     "output_type": "stream",
     "text": [
      "### All-in 코딩 공모전 수상작 요약\n",
      "\n",
      "**공모전 개요**\n",
      "- **목적**: 대학생들이 캠퍼스에서 겪는 불편함과 문제를 창의적인 아이디어로 해결하기 위한 대회\n",
      "- **참가형태**: 팀 프로젝트 기반으로 다양한 웹/앱 서비스 개발\n",
      "\n",
      "---\n",
      "\n",
      "**대상 수상작**\n",
      "1. **Lexi Note**\n",
      "   - **서비스 설명**: 언어 공부를 위한 필기 웹 서비스. 단어 드래그 시 사전 연동, 번역 기능, 할 일 목록 및 스케줄 제공.\n",
      "   - **기술 스택**: FE - Spring Boot, MySQL, Spring WebSocket / BE - React Native, TanStack Query, Axios\n",
      "\n",
      "---\n",
      "\n",
      "**우수상 수상작**\n",
      "1. **우리집 히어로즈**\n",
      "   - **서비스 설명**: 벌레 퇴치 히어로 매칭 서비스. 자취생이 벌레 문제를 겪을 때, 벌레 퇴치 진행자를 매칭해주는 서비스.\n",
      "   - **기술 스택**: FE - React Native, Expo, Axios / BE - Spring Boot, Spring Security, MySQL, SSE, FCM, JWT, Postman\n",
      "\n",
      "2. **에코 클래스룸**\n",
      "   - **서비스 설명**: 수업 중 실시간으로 익명으로 의견이나 질문을 제출할 수 있는 서비스. 교수는 학생들의 이해도를 파악하고 수업 조절 가능.\n",
      "   - **기술 스택**: FE - Flutter, Socket.IO, Expo CLI, Axios, TanStack Query / BE - Spring Boot, Spring Security, JWT, MySQL, Spring WebSocket, AWS\n",
      "\n",
      "---\n",
      "\n",
      "**입선작**\n",
      "1. **Crewing**\n",
      "   - **서비스 설명**: 연합 동아리 정보 플랫폼. 회원가입 시 개인 정보와 관심 분야를 입력하면 적합한 동아리 추천.\n",
      "   - **기술 스택**: FE - React, Tesseract.js, React-Quill, HTML, CSS, JavaScript / BE - Java, Spring Boot, MariaDB\n",
      "\n",
      "2. **학교생활 매니저**\n",
      "   - **서비스 설명**: 학교 생활 및 과제, 일정 관리 앱. 알림 기능, 공지 사항 제공, 시간표 관리 기능 포함.\n",
      "   - **기술 스택**: FE - Flutter / BE - Firebase\n",
      "\n",
      "3. **BLOTIE**\n",
      "   - **서비스 설명**: 교내 외국인과 내국인 매칭 플랫폼. 서로의 문화와 언어를 자연스럽게 배우고 교류할 수 있는 기능 제공.\n",
      "   - **기술 스택**: 제공된 문서에서 해당 정보는 찾을 수 없습니다.\n",
      "\n",
      "---\n",
      "\n",
      "**결론**\n",
      "- All-in 코딩 공모전은 대학생들이 실질적 문제를 해결하기 위해 코딩 기술을 활용하는 경험을 쌓을 수 있는 훌륭한 기회입니다. 이번 공모전에서 수상한 프로젝트들은 다양한 기발한 아이디어와 실용성을 바탕으로 하여 우수한 성과를 거두었습니다. 향후 참가를 희망하는 분들은 이러한 사례를 통해 영감을 받을 수 있을 것입니다.\n"
     ]
    }
   ],
   "source": [
    "response = llm.invoke(user_prompt)\n",
    "print(response.content)"
   ]
  },
  {
   "cell_type": "markdown",
   "id": "28131a11",
   "metadata": {},
   "source": [
    "# 관련없는 질문 테스트\n",
    "문서와 관련 없는 질문을 했을 때 모델이 문서에 기반한 답변만 제공하는지 테스트합니다."
   ]
  },
  {
   "cell_type": "code",
   "execution_count": 50,
   "id": "19af7442",
   "metadata": {},
   "outputs": [
    {
     "name": "stderr",
     "output_type": "stream",
     "text": [
      "INFO: HTTP Request: POST https://api.openai.com/v1/chat/completions \"HTTP/1.1 200 OK\"\n"
     ]
    },
    {
     "name": "stdout",
     "output_type": "stream",
     "text": [
      "제공된 문서에서 홍차에 대한 정보는 포함되어 있지 않습니다. \n",
      "\n",
      "제공된 문서에서 찾을 수 있는 관련 정보는 아래와 같습니다:\n",
      "\n",
      "### 공모전 개요\n",
      "- **행사명**: All-in 코딩 공모전\n",
      "- **목적**: 대학생들이 겪는 캠퍼스의 불편함과 문제를 자신만의 아이디어로 해결하기 위한 대회\n",
      "- **참여자**: 대학생들\n",
      "\n",
      "### 공모전 결과\n",
      "- **대상 수상작**: \n",
      "  - **Lexi Note**: 언어공부 필기 웹 서비스\n",
      "    - 서비스 제작자: 다나와(김다애, 박나경)\n",
      "\n",
      "- **입선 및 우수상 수상작**:\n",
      "  - **Crewing**: 연합동아리 정보 플랫폼\n",
      "  - **우리집 히어로즈**: 벌레 퇴치 영웅 매칭 서비스\n",
      "  - **학교생활 매니저**: 학교생활 관리 서비스\n",
      "  - **에코 클래스룸**: 수업 실시간 소통 서비스\n",
      "  - **BLOTIE**: 교내 외국인X내국인 매칭 및 교류 플랫폼\n",
      "\n",
      "### 프로그램 내용\n",
      "- **코딩 프로그램**: 스파르타코딩클럽에서 제공하는 다양한 프로그램으로 비전공자 및 초보자도 웹/앱 개발자로 성장할 수 있도록 지원\n",
      "- **기술 스택 사용 예시**:\n",
      "  - 프론트엔드: React, Flutter 등\n",
      "  - 백엔드: Spring Boot, MySQL 등\n",
      "\n",
      "### 참가 독려\n",
      "- 다양한 서비스와 기발한 아이디어를 가진 참가자들을 통해 캠퍼스 내 문제 해결 방법을 자랑하고 공유할 수 있는 기회 제공\n",
      "\n",
      "위와 같은 내용이 제공된 문서에서 확인할 수 있는 정보입니다. 홍차에 대한 정보는 포함되어 있지 않으므로, 해당 정보를 제공된 문서에서 찾을 수 없습니다.\n"
     ]
    }
   ],
   "source": [
    "unrelated_msg = \"홍차에 대해 설명해줘.\"\n",
    "user_prompt2 = prompt.invoke({\"context\": format_docs(retrieved_docs), \"question\": unrelated_msg})\n",
    "\n",
    "response = llm.invoke(user_prompt2)\n",
    "print(response.content)"
   ]
  },
  {
   "cell_type": "markdown",
   "id": "8b14477a",
   "metadata": {},
   "source": [
    "# 문제점\n",
    "리트리버에서 관련된 정보를 전부 가져오지 않아 답변에서도 수상작 한 개만 가져오는 문제가 있었습니다.\n",
    "\n",
    "## 리트리버 수정\n",
    "리트리버가 반환하는 문서의 최대 개수를 지정하여 문서를 여러개 가져올 수 있도록 했습니다.\n",
    "### 1. similarity 리트리버"
   ]
  },
  {
   "cell_type": "code",
   "execution_count": null,
   "id": "0946de87",
   "metadata": {},
   "outputs": [],
   "source": [
    "retriever_similarity = vectorstore.as_retriever(search_type=\"similarity\", search_kwargs={\"k\": 50})\n",
    "retrieved_docs_similarity = retriever.invoke(user_msg)\n",
    "\n",
    "print(retrieved_docs_similarity)"
   ]
  },
  {
   "cell_type": "markdown",
   "id": "0d3e56c0",
   "metadata": {},
   "source": [
    "### 2. mmr 리트리버\n",
    "MMR은 관련성과 다양성을 모두 고려하여 검색 결과의 중복을 줄이고 다양한 정보를 제공하는 데 유용합니다."
   ]
  },
  {
   "cell_type": "code",
   "execution_count": null,
   "id": "1e47ade5",
   "metadata": {},
   "outputs": [],
   "source": [
    "from langchain.retrievers import ContextualCompressionRetriever\n",
    "from langchain.retrievers.document_compressors import LLMChainExtractor\n",
    "\n",
    "retriever_mmr = vectorstore.as_retriever(search_type=\"mmr\", search_kwargs={\"k\": 50})\n",
    "retrieved_docs_mmr = retriever.invoke(user_msg)\n",
    "\n",
    "print(retrieved_docs_mmr)"
   ]
  },
  {
   "cell_type": "markdown",
   "id": "820ae1a9",
   "metadata": {},
   "source": [
    "### 3. 문서압축 리트리버\n",
    "LLM을 이용해 검색된 문서를 압축하여 질문과 관련된 핵심 내용만 추출합니다."
   ]
  },
  {
   "cell_type": "code",
   "execution_count": null,
   "id": "1a170d83",
   "metadata": {},
   "outputs": [],
   "source": [
    "base_retriever_context = vectorstore.as_retriever(\n",
    "                                search_type='similarity',\n",
    "                                search_kwargs={'k':50})\n",
    "compressor = LLMChainExtractor.from_llm(llm)\n",
    "compression_retriever = ContextualCompressionRetriever(\n",
    "    base_compressor=compressor, base_retriever=base_retriever_context\n",
    ")\n",
    "\n",
    "compressed_docs_context = compression_retriever.get_relevant_documents(user_msg)\n",
    "print(len(compressed_docs_context))\n",
    "compressed_docs_context"
   ]
  },
  {
   "cell_type": "markdown",
   "id": "87645f3f",
   "metadata": {},
   "source": [
    "### 4. self-query 리트리버\n",
    "이 방법은 메타데이터 필드를 정의하여 LLM이 사용자 질문을 구조화된 쿼리로 변환하도록 합니다. 공모전과 관련된 메타데이터(상장 종류, 공모전 이름, 수상자 등)를 정의하여 보다 정확한 검색이 가능하도록 합니다."
   ]
  },
  {
   "cell_type": "code",
   "execution_count": null,
   "id": "df2b81c7",
   "metadata": {},
   "outputs": [],
   "source": [
    "from langchain.retrievers.self_query.base import SelfQueryRetriever\n",
    "from langchain.chains.query_constructor.base import AttributeInfo\n",
    "\n",
    "# 수상 정보 정의\n",
    "metadata_field_info = [\n",
    "    AttributeInfo(\n",
    "        name=\"award_type\",\n",
    "        description=\"상장 종류 (대상, 최우수상, 우수상, 입선선 등)\",\n",
    "        type=\"string\",\n",
    "    ),\n",
    "    AttributeInfo(\n",
    "        name=\"competition_name\", \n",
    "        description=\"공모전 이름\", \n",
    "        type=\"string\"\n",
    "    ),\n",
    "    AttributeInfo(\n",
    "        name=\"recipients_name\", \n",
    "        description=\"수상자들의의 이름\", \n",
    "        type=\"string\"\n",
    "    ),\n",
    "    AttributeInfo(\n",
    "        name=\"recipient_work_decription\", \n",
    "        description=\"수상작에 대한 설명\", \n",
    "        type=\"string\"\n",
    "    ),\n",
    "    AttributeInfo(\n",
    "        name=\"tech_stack\", \n",
    "        description=\"사용한 기술\", \n",
    "        type=\"string\"\n",
    "    ),\n",
    "]\n",
    "\n",
    "self_query_retriever = SelfQueryRetriever.from_llm(\n",
    "    llm,\n",
    "    vectorstore_chroma,\n",
    "    document_contents=\"ALL-in 코딩 공모전 수상작 정보\",\n",
    "    metadata_field_info=metadata_field_info,\n",
    "    enable_limit=True,\n",
    "    search_kwargs={\"k\": 50},\n",
    ")\n",
    "\n",
    "retrieved_docs_self_query = self_query_retriever.get_relevant_documents(user_msg)\n",
    "print(len(retrieved_docs_self_query))\n",
    "retrieved_docs_self_query\n"
   ]
  },
  {
   "cell_type": "markdown",
   "id": "eee2fa30",
   "metadata": {},
   "source": [
    "리트리버들의 결과 비교"
   ]
  },
  {
   "cell_type": "code",
   "execution_count": 59,
   "id": "731778bd",
   "metadata": {},
   "outputs": [
    {
     "name": "stdout",
     "output_type": "stream",
     "text": [
      "1. search type: similarity\n"
     ]
    },
    {
     "name": "stderr",
     "output_type": "stream",
     "text": [
      "INFO: HTTP Request: POST https://api.openai.com/v1/chat/completions \"HTTP/1.1 200 OK\"\n"
     ]
    },
    {
     "name": "stdout",
     "output_type": "stream",
     "text": [
      "## ALL-in 코딩 공모전 수상작 요약\n",
      "\n",
      "### 1. 공모전 개요\n",
      "- **목적**: 대학생들이 캠퍼스에서 겪는 불편함과 문제를 자신의 아이디어로 해결하는 대회\n",
      "- **주최**: 스파르타코딩클럽\n",
      "\n",
      "### 2. 수상작 목록\n",
      "#### 🏆 대상\n",
      "- **제목**: Lexi Note\n",
      "  - **서비스 내용**: 언어 공부를 위한 필기 웹 서비스, 단어 드래그 및 번역 기능 제공\n",
      "  - **서비스 제작자**: 다나와(김다애, 박나경)\n",
      "  - **사용 기술 스택**: FE - Spring Boot, MySQL, Spring WebSocket / BE - React Native, TanStack Query, Axios\n",
      "\n",
      "#### 🎖️ 우수상\n",
      "1. **제목**: 우리집 히어로즈\n",
      "   - **서비스 내용**: 벌레 퇴치 서비스를 제공하는 플랫폼, 사용자와 퇴치 히어로 매칭\n",
      "   - **서비스 제작자**: 인트(배정연, 한지수)\n",
      "   - **사용 기술 스택**: FE - React Native, Expo, Axios / BE - Spring Boot, Spring Security, MySQL, SSE, FCM, JWT, Postman\n",
      "\n",
      "2. **제목**: 에코 클래스룸\n",
      "   - **서비스 내용**: 실시간 수업 소통 플랫폼, 익명으로 의견 제출 가능\n",
      "   - **서비스 제작자**: 정보 없음\n",
      "   - **사용 기술 스택**: FE - Flutter, Socket.IO, Expo CLI, Axios, TanStack Query / BE - Spring Boot, Spring Security, JWT, MySQL, Spring WebSocket, AWS\n",
      "\n",
      "#### 🏅 입선\n",
      "1. **제목**: Crewing\n",
      "   - **서비스 내용**: 연합동아리 정보 플랫폼, 적절한 동아리 추천 및 정보를 제공\n",
      "   - **서비스 제작자**: 동학대학운동(김민아, 임경진, 신은혜, 고수)\n",
      "   - **사용 기술 스택**: FE - React, Tesseract.js, React-Quill, HTML, CSS, JavaScript / BE - Java, Spring Boot, MariaDB\n",
      "\n",
      "2. **제목**: 학교생활 매니저\n",
      "   - **서비스 내용**: 학교 생활 관리 앱, 과제 관리, 성적 예측 기능 포함\n",
      "   - **서비스 제작자**: 아이칼F4(조민제, 이민기, 강건, 박근우)\n",
      "   - **사용 기술 스택**: FE - Flutter / BE - Firebase\n",
      "\n",
      "3. **제목**: BLOTIE\n",
      "   - **서비스 내용**: 외국인 학생과 한국인 학생 간의 매칭 및 교류 촉진 플랫폼\n",
      "   - **서비스 제작자**: 블로티(이은주, 한명수, 황준영)\n",
      "   - **사용 기술 스택**: 정보 없음\n",
      "\n",
      "### 3. 결론 및 참여 독려\n",
      "- 스파르타코딩클럽은 누구나 코딩을 통해 자신의 아이디어를 실현하고 문제를 해결할 수 있도록 다양한 프로그램을 제공하고 있습니다. 참여를 통해 자신의 아이디어를 세상에 선보이고 싶은 모든 분들에게 적극적인 참여를 권장합니다.\n",
      "\n",
      "### 추가 정보\n",
      "제공된 문서에서 찾을 수 없는 정보는 다음과 같습니다:\n",
      "- **대상 수상작의 서비스 제작자 정보**\n",
      "- **에코 클래스룸의 서비스 제작자**\n",
      "- **BLOTIE의 사용 기술 스택**\n",
      "\n",
      "\n",
      "\n",
      "2. search type: mmr\n"
     ]
    },
    {
     "name": "stderr",
     "output_type": "stream",
     "text": [
      "INFO: HTTP Request: POST https://api.openai.com/v1/chat/completions \"HTTP/1.1 200 OK\"\n"
     ]
    },
    {
     "name": "stdout",
     "output_type": "stream",
     "text": [
      "# ALL-in 코딩 공모전 수상작 요약\n",
      "\n",
      "## 공모전 개요\n",
      "- **공모전명**: ALL-in 코딩 공모전\n",
      "- **목표**: 대학생들이 캠퍼스에서 겪은 불편함과 문제를 아이디어로 해결하기 위해 참가\n",
      "- **제공 기관**: 스파르타코딩클럽\n",
      "\n",
      "## 수상작 목록\n",
      "### 1. 대상\n",
      "- **프로젝트명**: Lexi Note\n",
      "  - **서비스 설명**: 언어공부를 위한 필기 웹 서비스. 작업 중에 사전 검색 및 번역 기능을 제공하여 효율적인 학습을 지원함.\n",
      "  - **제작자**: 다나와 (김다애, 박나경)\n",
      "  - **기술 스택**: \n",
      "    - 프론트엔드: Spring Boot, MySQL, Spring WebSocket\n",
      "    - 백엔드: React Native, TanStack Query, Axios\n",
      "\n",
      "### 2. 우수상\n",
      "- **프로젝트명**: 우리집 히어로즈\n",
      "  - **서비스 설명**: 자취생을 위한 벌레 퇴치 영웅 매칭 서비스. 사용자가 요청하면 안전한 환경에서 벌레 퇴치 히어로와 매칭됨.\n",
      "  - **제작자**: 인트 (배정연, 한지수)\n",
      "  - **기술 스택**:\n",
      "    - 프론트엔드: React Native, Expo, Axios\n",
      "    - 백엔드: Spring Boot, Spring Security, MySQL\n",
      "\n",
      "- **프로젝트명**: 에코 클래스룸\n",
      "  - **서비스 설명**: 교수와 학생 간의 실시간 소통을 위한 플랫폼으로, 학생들이 질문을 익명으로 제출하고 교수는 피드백을 받을 수 있음.\n",
      "  - **제작자**: 해당 정보를 제공된 문서에서 찾을 수 없습니다.\n",
      "  - **기술 스택**:\n",
      "    - 프론트엔드: Flutter, Socket.IO, Expo CLI, Axios\n",
      "    - 백엔드: Spring Boot, Spring Security, JWT, MySQL \n",
      "\n",
      "### 3. 입선작\n",
      "- **프로젝트명**: Crewing\n",
      "  - **서비스 설명**: 연합동아리 정보 플랫폼으로, 적합한 동아리를 추천 및 관리.\n",
      "  - **제작자**: 동학대학운동 (김민아, 임경진, 신은혜, 고수)\n",
      "  - **기술 스택**:\n",
      "    - 프론트엔드: React, Tesseract.js, React-Quill, HTML, CSS, JavaScript\n",
      "    - 백엔드: Java, Spring Boot, MariaDB\n",
      "\n",
      "- **프로젝트명**: 학교생활 매니저\n",
      "  - **서비스 설명**: 일정 및 과제 관리, 성적 예측 등을 통해 학교 생활을 효율적으로 관리하는 앱.\n",
      "  - **제작자**: 아이칼F4 (조민제, 이민기, 강건, 박근우)\n",
      "  - **기술 스택**:\n",
      "    - 프론트엔드: Flutter\n",
      "    - 백엔드: Firebase\n",
      "\n",
      "- **프로젝트명**: BLOTIE\n",
      "  - **서비스 설명**: 교내 외국인과 내국인을 매칭하는 플랫폼으로, 문화와 언어 교류를 촉진.\n",
      "  - **제작자**: 블로티 (이은주, 한명수, 황준영)\n",
      "  - **기술 스택**: 해당 정보를 제공된 문서에서 찾을 수 없습니다.\n",
      "\n",
      "## 결론\n",
      "ALL-in 코딩 공모전은 대학생들이 자율적으로 문제를 해결하기 위한 창의적인 아이디어와 프로젝트를 펼칠 수 있는 플랫폼으로, 다양한 혁신적 아이디어가 활용되어 실제 문제를 해결하는 데 기여하고 있습니다. 각 수상작들은 기술적 요소와 사용자 필요를 반영하여 개발된 서비스들입니다. 향후 참가자들에게 이러한 수상작들이 다양한 아이디어와 접근 방식을 제공할 수 있을 것입니다.\n",
      "\n",
      "\n",
      "\n",
      "3. contextual compression retriever\n"
     ]
    },
    {
     "name": "stderr",
     "output_type": "stream",
     "text": [
      "INFO: HTTP Request: POST https://api.openai.com/v1/chat/completions \"HTTP/1.1 200 OK\"\n"
     ]
    },
    {
     "name": "stdout",
     "output_type": "stream",
     "text": [
      "## ALL-in 코딩 공모전 수상작 요약\n",
      "\n",
      "### 대상\n",
      "- **제목:** Lexi Note\n",
      "- **설명:** 언어공부 필기 웹 서비스\n",
      "- **제작자:** 다나와(김다애, 박나경)\n",
      "\n",
      "### 우수상\n",
      "- **제목:** 우리집 히어로즈\n",
      "- **설명:** 벌레 퇴치 영웅 매칭 서비스\n",
      "- **제작자:** 인트(배정연, 한지수)\n",
      "- **사용한 기술 스택:**\n",
      "  - **프론트엔드:** Flutter\n",
      "  - **백엔드:** Firebase\n",
      "\n",
      "### 입선\n",
      "- **제목:** BLOTIE\n",
      "- **설명:** 교내 외국인과 내국인 매칭 및 교류 플랫폼\n",
      "- **제작자:** 블로티(이은주, 한명수, 황준영)\n",
      "\n",
      "### 공모전 개요\n",
      "- **목적:** 대학생들이 캠퍼스에서 겪은 불편함과 문제를 자신만의 아이디어로 해결함. \n",
      "- **참여 특성:** 참가자들은 자신의 문제 해결 아이디어를 바탕으로 웹/앱 서비스를 개발.\n",
      "  \n",
      "위의 정보는 제공된 문서에서 확인할 수 있는 모든 관련 내용입니다.\n",
      "\n",
      "\n",
      "\n",
      "4. self-query retriever\n"
     ]
    },
    {
     "name": "stderr",
     "output_type": "stream",
     "text": [
      "INFO: HTTP Request: POST https://api.openai.com/v1/chat/completions \"HTTP/1.1 200 OK\"\n"
     ]
    },
    {
     "name": "stdout",
     "output_type": "stream",
     "text": [
      "## All-in 코딩 공모전 수상작 요약\n",
      "\n",
      "### 1. 우수상 수상작\n",
      "#### [우리집 히어로즈] 벌레 퇴치 영웅 매칭 서비스\n",
      "- **제작자**: 인트(배정연, 한지수)\n",
      "- **문제 배경**: 자취생 C는 벌레 문제로 불안한 밤을 보내며, 개인 정보 노출이 염려되는 커뮤니티에서 도움을 요청하기 어려워함.\n",
      "- **서비스 개요**: 벌레 퇴치가 필요한 사용자가 요청을 올리면 같은 학교 학생 중 벌레 퇴치 히어로와 매칭되는 앱. \n",
      "- **주요 기능**:\n",
      "  - 신원 보장된 환경에서의 매칭\n",
      "  - 실시간 알림 기능\n",
      "  - 상호 평가 시스템\n",
      "\n",
      "### 2. 입선 수상작\n",
      "#### [BLOTIE] 교내 외국인X내국인 매칭 및 교류 플랫폼\n",
      "- **제작자**: 블로티(이은주, 한명수, 황준영)\n",
      "- **문제 배경**: 교환학생 F는 언어 및 문화 차이로 캠퍼스 생활에 어려움을 겪음. \n",
      "- **서비스 개요**: 외국인 학생과 한국인 학생의 교류를 지원하는 플랫폼.\n",
      "- **주요 기능**:\n",
      "  - 1:1 매칭 기능\n",
      "  - 실시간 채팅 및 피드 기능\n",
      "\n",
      "#### [Crewing] 연합동아리 정보 플랫폼\n",
      "- **제작자**: 동학대학운동(김민아, 임경진, 신은혜, 고수)\n",
      "- **문제 배경**: 신입생 S는 적합한 동아리 정보를 찾기 어려운 상황.\n",
      "- **서비스 개요**: 연합 동아리에 가입할 수 있도록 정보 제공.\n",
      "- **주요 기능**:\n",
      "  - 동아리 추천 시스템\n",
      "  - 신뢰할 수 있는 후기 제공\n",
      "\n",
      "#### [학교생활 매니저] 학교생활 관리 서비스\n",
      "- **제작자**: 아이칼F4(조민제, 이민기, 강건, 박근우)\n",
      "- **문제 배경**: 학교 생활의 혼란으로 주요 공지사항을 놓칠 우려가 있음.\n",
      "- **서비스 개요**: 학교 생활을 효율적으로 관리하도록 돕는 앱.\n",
      "- **주요 기능**:\n",
      "  - 일정, 과제 관리, 성적 예측 기능\n",
      "  - 실시간 공지사항 제공\n",
      "\n",
      "#### [에코 클래스룸] 수업 실시간 소통 서비스\n",
      "- **제작자**: This is 스파게티!!!(박지성, 김서원, 박범수)\n",
      "- **문제 배경**: K교수는 학생의 이해도를 파악하기 어려움.\n",
      "- **서비스 개요**: 교수와 학생 간의 실시간 소통을 돕는 플랫폼.\n",
      "- **주요 기능**:\n",
      "  - 익명 의견 제출 시스템\n",
      "  - 실시간 피드백 및 퀴즈 기능\n",
      "\n",
      "#### [Lexi Note] 언어공부 필기 웹 서비스\n",
      "- **제작자**: 다나와(김다애, 박나경)\n",
      "- **문제 배경**: 어문 전공인 W는 다양한 자료의 효율적 학습에 어려움.\n",
      "- **서비스 개요**: 언어 학습을 지원하기 위한 필기 웹 서비스.\n",
      "- **주요 기능**:\n",
      "  - 단어 드래그 시 네이버 사전 연동\n",
      "  - 할일 목록과 스케줄 템플릿 제공\n",
      "\n",
      "### 3. 사용 기술 스택 요약\n",
      "- **프론트엔드**: React, React Native, Flutter, Spring Boot\n",
      "- **백엔드**: Java, Spring Boot, MySQL, Firebase\n",
      "- **기타**: JWT, SSE, FCM\n",
      "\n",
      "이 요약은 ALL-in 코딩 공모전의 수상작들과 관련된 정보만을 바탕으로 제공되었습니다. 각 프로젝트의 서비스 개요와 문제 해결 접근 방식 등을 통해 향후 참가자들이 참고할 수 있도록 체계적으로 정리하였습니다.\n"
     ]
    }
   ],
   "source": [
    "print(\"1. search type: similarity\")\n",
    "user_prompt = prompt.invoke({\"context\": format_docs(retrieved_docs_similarity), \"question\": user_msg})\n",
    "response = llm.invoke(user_prompt)\n",
    "print(response.content)\n",
    "\n",
    "\n",
    "print(\"\\n\\n\\n2. search type: mmr\")\n",
    "user_prompt = prompt.invoke({\"context\": format_docs(retrieved_docs_mmr), \"question\": user_msg})\n",
    "response = llm.invoke(user_prompt)\n",
    "\n",
    "\n",
    "print(response.content)\n",
    "print(\"\\n\\n\\n3. contextual compression retriever\")\n",
    "user_prompt = prompt.invoke({\"context\": format_docs(compressed_docs_context), \"question\": user_msg})\n",
    "response = llm.invoke(user_prompt)\n",
    "\n",
    "\n",
    "print(response.content)\n",
    "print(\"\\n\\n\\n4. self-query retriever\")\n",
    "user_prompt = prompt.invoke({\"context\": format_docs(retrieved_docs_self_query), \"question\": user_msg})\n",
    "response = llm.invoke(user_prompt)\n",
    "print(response.content)\n"
   ]
  },
  {
   "cell_type": "markdown",
   "id": "a4bac916",
   "metadata": {},
   "source": [
    "Self-Query 리트리버가 가장 효과적인 결과를 보여주었습니다. 이 방식은 메타데이터 필드(상장 종류, 공모전 이름, 수상자 등)를 명확히 정의하여 LLM이 사용자 질문을 구조화된 쿼리로 변환할 수 있게 했습니다. 그 결과, 다른 리트리버들이 놓친 \"BLOTIE\" 입선작까지 포함한 더 포괄적인 정보를 제공했고, 프론트엔드/백엔드 기술 스택 구분, 서비스 기능 설명, 문제 해결 방식 등 더 체계적인 정보를 추출할 수 있었습니다. 특히 특정 속성에 대한 정보를 정확하게 추출해야 하는 상황에서 Self-Query 리트리버의 강점이 두드러졌으며, 이는 복잡한 정보를 구조화하여 검색하는 데 효과적인 접근법임을 보여줍니다."
   ]
  },
  {
   "cell_type": "markdown",
   "id": "ce05d990",
   "metadata": {},
   "source": [
    "## 수정사항\n",
    "### vectorDB FAISS 로 변경, COSTAR 구분자 이용하여 프롬프트 작성, UnstructuredURLLoader로 변경\n",
    "COSTAR로 프롬프트를 좀 더 자세하게 작성하니 가져오는 데이터가 더 구체적이었고, 각 수상작 별로 잘 정리된 체계적인 답변을 받았습니다.\n",
    "\n",
    "contextual compression retriever는 LLM 으로 요약된 문서에서 가져오다보니 빠진 정보도 있었습니다.\n",
    "\n",
    "\n",
    "self query retriever는 FAISS를 지원하지 않아 Chroma로 진행했습니다.\n",
    "\n",
    "similarity, mmr, contextual compression retriever를 FAISS로 변경했을 때,\n",
    "Chroma를 사용했을 때보다 가져오는 데이터가 정확했고, 빠트리는 데이터가 없었습니다.\n"
   ]
  }
 ],
 "metadata": {
  "kernelspec": {
   "display_name": ".venv",
   "language": "python",
   "name": "python3"
  },
  "language_info": {
   "codemirror_mode": {
    "name": "ipython",
    "version": 3
   },
   "file_extension": ".py",
   "mimetype": "text/x-python",
   "name": "python",
   "nbconvert_exporter": "python",
   "pygments_lexer": "ipython3",
   "version": "3.13.2"
  }
 },
 "nbformat": 4,
 "nbformat_minor": 5
}
