{
 "cells": [
  {
   "cell_type": "code",
   "execution_count": 26,
   "id": "659a9e2f",
   "metadata": {},
   "outputs": [],
   "source": [
    "import bs4\n",
    "import os\n",
    "from dotenv import load_dotenv\n",
    "from langchain import hub\n",
    "from langchain_core.prompts import ChatPromptTemplate\n",
    "from langchain_chroma import Chroma\n",
    "from langchain_openai import ChatOpenAI\n",
    "from langchain_openai import OpenAIEmbeddings\n",
    "from langchain_community.document_loaders import WebBaseLoader\n",
    "from langchain_text_splitters import RecursiveCharacterTextSplitter"
   ]
  },
  {
   "cell_type": "markdown",
   "id": "eeb85846",
   "metadata": {},
   "source": [
    "# 리트리버\n"
   ]
  },
  {
   "cell_type": "markdown",
   "id": "2f00cb68",
   "metadata": {},
   "source": [
    "# 답변 준비"
   ]
  },
  {
   "cell_type": "code",
   "execution_count": 27,
   "id": "0bc3a8a9",
   "metadata": {},
   "outputs": [
    {
     "name": "stdout",
     "output_type": "stream",
     "text": [
      "API key exists: True\n",
      "로드된 문서 수: 1\n",
      "첫 번째 문서 내용 일부: \n",
      "\n",
      "포인트\n",
      "\n",
      "로딩중\n",
      "\n",
      "쿠폰\n",
      "\n",
      "내 강의실\n",
      "\n",
      "국비 신청 내역\n",
      "\n",
      "수강권\n",
      "\n",
      "증명서\n",
      "\n",
      "숙제 피드백\n",
      "\n",
      "계정\n",
      "\n",
      "로그아웃\n",
      "\n",
      "1725353737651-%C3%A1%C2%84%C2%8F%C3%A1%\n",
      "분할된 청크 수: 18\n"
     ]
    },
    {
     "name": "stderr",
     "output_type": "stream",
     "text": [
      "INFO: HTTP Request: POST https://api.openai.com/v1/embeddings \"HTTP/1.1 200 OK\"\n"
     ]
    }
   ],
   "source": [
    "# LLM 모델 설정\n",
    "llm = ChatOpenAI(model=\"gpt-4o-mini\", api_key=os.getenv(\"OPENAI_API_KEY\"))\n",
    "load_dotenv()\n",
    "api_key = os.getenv(\"OPENAI_API_KEY\")\n",
    "print(f\"API key exists: {api_key is not None}\")\n",
    "\n",
    "# 웹 페이지 로드\n",
    "from langchain_community.document_loaders import UnstructuredURLLoader\n",
    "file_path = [\"https://spartacodingclub.kr/blog/all-in-challenge_winner\"]\n",
    "loader = UnstructuredURLLoader(file_path)\n",
    "\n",
    "# 문서 로드\n",
    "docs = loader.load()\n",
    "print(f\"로드된 문서 수: {len(docs)}\")\n",
    "print(f\"첫 번째 문서 내용 일부: {docs[0].page_content[:100] if docs else 'No content'}\")\n",
    "\n",
    "# 문서 청크로 분할\n",
    "text_splitter = RecursiveCharacterTextSplitter(\n",
    "    chunk_size=500,\n",
    "    chunk_overlap=10\n",
    ")\n",
    "splits = text_splitter.split_documents(docs)\n",
    "print(f\"분할된 청크 수: {len(splits)}\")\n",
    "\n",
    "if len(splits) == 0:\n",
    "    print(\"청크가 없어 원본 문서를 사용합니다.\")\n",
    "    splits = docs\n",
    "\n",
    "# 문서 청크를 Chroma 벡터 스토어에 저장\n",
    "vectorstore = Chroma.from_documents(\n",
    "    documents=splits,\n",
    "    embedding=OpenAIEmbeddings(api_key=os.getenv(\"OPENAI_API_KEY\"))\n",
    ")"
   ]
  },
  {
   "cell_type": "markdown",
   "id": "8ae6824a",
   "metadata": {},
   "source": [
    "self query retriever는 FAISS를 지원하지 않아 Chroma를 이용했습니다."
   ]
  },
  {
   "cell_type": "markdown",
   "id": "e13a4397",
   "metadata": {},
   "source": [
    "# 사용자 질문 및 문서 검색"
   ]
  },
  {
   "cell_type": "code",
   "execution_count": 28,
   "id": "df492f09",
   "metadata": {},
   "outputs": [],
   "source": [
    "user_msg = \"ALL-in 코딩 공모전 수상작들을 요약해줘.\""
   ]
  },
  {
   "cell_type": "markdown",
   "id": "46599368",
   "metadata": {},
   "source": [
    "# 프롬프트 생성"
   ]
  },
  {
   "cell_type": "code",
   "execution_count": 29,
   "id": "da91a68a",
   "metadata": {},
   "outputs": [
    {
     "name": "stdout",
     "output_type": "stream",
     "text": [
      "input_variables=['context', 'question'] input_types={} partial_variables={} messages=[HumanMessagePromptTemplate(prompt=PromptTemplate(input_variables=['context', 'question'], input_types={}, partial_variables={}, template='<Context>\\n당신은 공모전 심사위원으로, 검색된 문서 정보를 기반으로 질문에 답변하는 역할입니다.\\n검색된 문서: {context}\\n질문: {question}\\n</Context>\\n\\n<Objective>\\n공모전에 대한 유익한 정보를 제공하고, 향후 참가자들이 참고할 수 있는 정보를 정리하는 것입니다.\\n</Objective>\\n\\n<Style>\\n- 검색된 문서 내용을 바탕으로 사실적이고 객관적인 정보만 제공합니다.\\n- 개인적인 의견이나 해석 없이 검색 결과에서 찾은 정보만 활용합니다.\\n- 정보를 체계적으로 구조화하여 보기 쉽게 정리합니다.\\n- 검색 결과에서 찾을 수 없는 정보에 대해서는 명확히 \"해당 정보를 제공된 문서에서 찾을 수 없습니다\"라고 답변합니다.\\n</Style>\\n\\n<Tone>\\n전문적이고 객관적인 어조로 답변합니다.\\n</Tone>\\n\\n<Audience>\\n향후 이 공모전에 참가할 예정인 잠재적 참가자들입니다.\\n</Audience>\\n\\n<Response>\\n제공된 문서 정보를 체계적으로 분석하여 질문에 대한 정확한 답변을 한국어로 제공하세요. 답변은:\\n1. 주요 정보를 카테고리별로 명확하게 구분하여 제시\\n2. 필요시 제목, 소제목, 글머리 기호 등을 활용해 가독성 향상\\n3. 검색 결과에서 찾은 모든 관련 정보를 포함\\n4. 답변을 찾을 수 없는 경우 \"제공된 문서에서 해당 정보를 찾을 수 없습니다\"라고 명시\\n</Response>'), additional_kwargs={})]\n"
     ]
    }
   ],
   "source": [
    "prompt = ChatPromptTemplate.from_template(\"\"\"<Context>\n",
    "당신은 공모전 심사위원으로, 검색된 문서 정보를 기반으로 질문에 답변하는 역할입니다.\n",
    "검색된 문서: {context}\n",
    "질문: {question}\n",
    "</Context>\n",
    "\n",
    "<Objective>\n",
    "공모전에 대한 유익한 정보를 제공하고, 향후 참가자들이 참고할 수 있는 정보를 정리하는 것입니다.\n",
    "</Objective>\n",
    "\n",
    "<Style>\n",
    "- 검색된 문서 내용을 바탕으로 사실적이고 객관적인 정보만 제공합니다.\n",
    "- 개인적인 의견이나 해석 없이 검색 결과에서 찾은 정보만 활용합니다.\n",
    "- 정보를 체계적으로 구조화하여 보기 쉽게 정리합니다.\n",
    "- 검색 결과에서 찾을 수 없는 정보에 대해서는 명확히 \"해당 정보를 제공된 문서에서 찾을 수 없습니다\"라고 답변합니다.\n",
    "</Style>\n",
    "\n",
    "<Tone>\n",
    "전문적이고 객관적인 어조로 답변합니다.\n",
    "</Tone>\n",
    "\n",
    "<Audience>\n",
    "향후 이 공모전에 참가할 예정인 잠재적 참가자들입니다.\n",
    "</Audience>\n",
    "\n",
    "<Response>\n",
    "제공된 문서 정보를 체계적으로 분석하여 질문에 대한 정확한 답변을 한국어로 제공하세요. 답변은:\n",
    "1. 주요 정보를 카테고리별로 명확하게 구분하여 제시\n",
    "2. 필요시 제목, 소제목, 글머리 기호 등을 활용해 가독성 향상\n",
    "3. 검색 결과에서 찾은 모든 관련 정보를 포함\n",
    "4. 답변을 찾을 수 없는 경우 \"제공된 문서에서 해당 정보를 찾을 수 없습니다\"라고 명시\n",
    "</Response>\"\"\")\n",
    "user_prompt = prompt.invoke({\"context\": format_docs(retrieved_docs), \"question\": user_msg})\n",
    "print(prompt)"
   ]
  },
  {
   "cell_type": "markdown",
   "id": "a647bf0a",
   "metadata": {},
   "source": [
    "LLM에게 전달할 프롬프트 템플릿을 생성합니다. 프롬프트는 공모전 심사위원 역할을 부여하고, 검색된 문서의 정보만을 활용하여 객관적인 정보를 제공하도록 지시합니다."
   ]
  },
  {
   "cell_type": "markdown",
   "id": "6a7d8aa2",
   "metadata": {},
   "source": [
    "사용자 질문을 정의하고, 해당 질문에 관련된 문서를 리트리버를 통해 검색합니다. 검색된 문서의 수를 출력하고, 검색된 문서 목록을 확인합니다."
   ]
  },
  {
   "cell_type": "markdown",
   "id": "34b095c6",
   "metadata": {},
   "source": [
    "### 1. similarity 리트리버"
   ]
  },
  {
   "cell_type": "code",
   "execution_count": 30,
   "id": "fc2631bb",
   "metadata": {},
   "outputs": [
    {
     "name": "stderr",
     "output_type": "stream",
     "text": [
      "INFO: HTTP Request: POST https://api.openai.com/v1/embeddings \"HTTP/1.1 200 OK\"\n"
     ]
    },
    {
     "name": "stdout",
     "output_type": "stream",
     "text": [
      "[Document(id='73d27d4e-4044-4a3f-bb95-fc836bea78f6', metadata={'source': 'https://spartacodingclub.kr/blog/all-in-challenge_winner'}, page_content='조회수 756·6분 분량\\n\\n2024. 9. 3.\\n\\n코딩은 더 이상 개발자만의 영역이 아닙니다. 누구나 아이디어만 있다면 창의적인 서비스를 만들어 세상을 바꿀 수 있습니다. 스파르타코딩클럽에서는 이러한 가능성을 믿고, 누구나 코딩을 통해 자신의 아이디어를 실현하고 실제 문제를 해결하는 경험을 쌓을 수 있도록 다양한 프로그램을 마련하고 있습니다.\\n\\n<All-in> 코딩 공모전은 대학생들이 캠퍼스에서 겪은 불편함과 문제를 자신만의 아이디어로 해결해보는 대회였는데요. 이번 공모전에서 다양한 혁신적인 아이디어와 열정으로 가득한 수많은 프로젝트가 탄생했습니다. 그중 뛰어난 성과를 낸 수상작 6개를 소개합니다.\\n\\n🏆 대상\\n\\n[Lexi Note] 언어공부 필기 웹 서비스\\n\\n서비스 제작자: 다나와(김다애, 박나경)'), Document(id='132f2451-ed24-4f61-8368-ff8972b4bdfe', metadata={'source': 'https://spartacodingclub.kr/blog/all-in-challenge_winner'}, page_content='조회수 756·6분 분량\\n\\n2024. 9. 3.\\n\\n코딩은 더 이상 개발자만의 영역이 아닙니다. 누구나 아이디어만 있다면 창의적인 서비스를 만들어 세상을 바꿀 수 있습니다. 스파르타코딩클럽에서는 이러한 가능성을 믿고, 누구나 코딩을 통해 자신의 아이디어를 실현하고 실제 문제를 해결하는 경험을 쌓을 수 있도록 다양한 프로그램을 마련하고 있습니다.\\n\\n<All-in> 코딩 공모전은 대학생들이 캠퍼스에서 겪은 불편함과 문제를 자신만의 아이디어로 해결해보는 대회였는데요. 이번 공모전에서 다양한 혁신적인 아이디어와 열정으로 가득한 수많은 프로젝트가 탄생했습니다. 그중 뛰어난 성과를 낸 수상작 6개를 소개합니다.\\n\\n🏆 대상\\n\\n[Lexi Note] 언어공부 필기 웹 서비스\\n\\n서비스 제작자: 다나와(김다애, 박나경)'), Document(id='1aa34f9e-dd5f-444f-a6eb-bde71d12d722', metadata={'source': 'https://spartacodingclub.kr/blog/all-in-challenge_winner'}, page_content='조회수 756·6분 분량\\n\\n2024. 9. 3.\\n\\n코딩은 더 이상 개발자만의 영역이 아닙니다. 누구나 아이디어만 있다면 창의적인 서비스를 만들어 세상을 바꿀 수 있습니다. 스파르타코딩클럽에서는 이러한 가능성을 믿고, 누구나 코딩을 통해 자신의 아이디어를 실현하고 실제 문제를 해결하는 경험을 쌓을 수 있도록 다양한 프로그램을 마련하고 있습니다.\\n\\n<All-in> 코딩 공모전은 대학생들이 캠퍼스에서 겪은 불편함과 문제를 자신만의 아이디어로 해결해보는 대회였는데요. 이번 공모전에서 다양한 혁신적인 아이디어와 열정으로 가득한 수많은 프로젝트가 탄생했습니다. 그중 뛰어난 성과를 낸 수상작 6개를 소개합니다.\\n\\n🏆 대상\\n\\n[Lexi Note] 언어공부 필기 웹 서비스\\n\\n서비스 제작자: 다나와(김다애, 박나경)'), Document(id='504bda05-a7cf-4296-9d1e-03741e2440ac', metadata={'source': 'https://spartacodingclub.kr/blog/all-in-challenge_winner'}, page_content='조회수 755·6분 분량\\n\\n2024. 9. 3.\\n\\n코딩은 더 이상 개발자만의 영역이 아닙니다. 누구나 아이디어만 있다면 창의적인 서비스를 만들어 세상을 바꿀 수 있습니다. 스파르타코딩클럽에서는 이러한 가능성을 믿고, 누구나 코딩을 통해 자신의 아이디어를 실현하고 실제 문제를 해결하는 경험을 쌓을 수 있도록 다양한 프로그램을 마련하고 있습니다.\\n\\n<All-in> 코딩 공모전은 대학생들이 캠퍼스에서 겪은 불편함과 문제를 자신만의 아이디어로 해결해보는 대회였는데요. 이번 공모전에서 다양한 혁신적인 아이디어와 열정으로 가득한 수많은 프로젝트가 탄생했습니다. 그중 뛰어난 성과를 낸 수상작 6개를 소개합니다.\\n\\n🏆 대상\\n\\n[Lexi Note] 언어공부 필기 웹 서비스\\n\\n서비스 제작자: 다나와(김다애, 박나경)'), Document(id='e85ff245-7fa6-42b8-8ab4-6f8aa2a9e5cd', metadata={'source': 'https://spartacodingclub.kr/blog/all-in-challenge_winner'}, page_content=\"포인트\\n\\n로딩중\\n\\n쿠폰\\n\\n내 강의실\\n\\n국비 신청 내역\\n\\n수강권\\n\\n증명서\\n\\n숙제 피드백\\n\\n계정\\n\\n로그아웃\\n\\n1725353737651-%C3%A1%C2%84%C2%8F%C3%A1%C2%85%C2%A9%C3%A1%C2%84%C2%83%C3%A1%C2%85%C2%B5%C3%A1%C2%86%C2%BC%C3%A1%C2%84%C2%80%C3%A1%C2%85%C2%A9%C3%A1%C2%86%C2%BC%C3%A1%C2%84%C2%86%C3%A1%C2%85%C2%A9%C3%A1%C2%84%C2%8C%C3%A1%C2%85%C2%A5%C3%A1%C2%86%C2%AB+%C3%A1%C2%84%C2%89%C3%A1%C2%85%C2%AE%C3%A1%C2%84%C2%89%C3%A1%C2%85%C2%A1%C3%A1%C2%86%C2%BC%C3%A1%C2%84%C2%8C%C3%A1%C2%85%C2%A1%C3%A1%C2%86%C2%A8.png\\n\\n스파르타 소식\\n\\n'AII-in 코딩 공모전’ 수상작을 소개합니다\"), Document(id='5a57a380-17f6-484a-95c6-88244b90ac10', metadata={'source': 'https://spartacodingclub.kr/blog/all-in-challenge_winner'}, page_content=\"포인트\\n\\n로딩중\\n\\n쿠폰\\n\\n내 강의실\\n\\n국비 신청 내역\\n\\n수강권\\n\\n증명서\\n\\n숙제 피드백\\n\\n계정\\n\\n로그아웃\\n\\n1725353737651-%C3%A1%C2%84%C2%8F%C3%A1%C2%85%C2%A9%C3%A1%C2%84%C2%83%C3%A1%C2%85%C2%B5%C3%A1%C2%86%C2%BC%C3%A1%C2%84%C2%80%C3%A1%C2%85%C2%A9%C3%A1%C2%86%C2%BC%C3%A1%C2%84%C2%86%C3%A1%C2%85%C2%A9%C3%A1%C2%84%C2%8C%C3%A1%C2%85%C2%A5%C3%A1%C2%86%C2%AB+%C3%A1%C2%84%C2%89%C3%A1%C2%85%C2%AE%C3%A1%C2%84%C2%89%C3%A1%C2%85%C2%A1%C3%A1%C2%86%C2%BC%C3%A1%C2%84%C2%8C%C3%A1%C2%85%C2%A1%C3%A1%C2%86%C2%A8.png\\n\\n스파르타 소식\\n\\n'AII-in 코딩 공모전’ 수상작을 소개합니다\"), Document(id='5628d21b-c90f-4c0c-a0a1-2d490e842fc6', metadata={'source': 'https://spartacodingclub.kr/blog/all-in-challenge_winner'}, page_content=\"포인트\\n\\n로딩중\\n\\n쿠폰\\n\\n내 강의실\\n\\n국비 신청 내역\\n\\n수강권\\n\\n증명서\\n\\n숙제 피드백\\n\\n계정\\n\\n로그아웃\\n\\n1725353737651-%C3%A1%C2%84%C2%8F%C3%A1%C2%85%C2%A9%C3%A1%C2%84%C2%83%C3%A1%C2%85%C2%B5%C3%A1%C2%86%C2%BC%C3%A1%C2%84%C2%80%C3%A1%C2%85%C2%A9%C3%A1%C2%86%C2%BC%C3%A1%C2%84%C2%86%C3%A1%C2%85%C2%A9%C3%A1%C2%84%C2%8C%C3%A1%C2%85%C2%A5%C3%A1%C2%86%C2%AB+%C3%A1%C2%84%C2%89%C3%A1%C2%85%C2%AE%C3%A1%C2%84%C2%89%C3%A1%C2%85%C2%A1%C3%A1%C2%86%C2%BC%C3%A1%C2%84%C2%8C%C3%A1%C2%85%C2%A1%C3%A1%C2%86%C2%A8.png\\n\\n스파르타 소식\\n\\n'AII-in 코딩 공모전’ 수상작을 소개합니다\"), Document(id='36c0a85e-ebb8-4a30-b075-2a4fc1279218', metadata={'source': 'https://spartacodingclub.kr/blog/all-in-challenge_winner'}, page_content=\"포인트\\n\\n로딩중\\n\\n쿠폰\\n\\n내 강의실\\n\\n국비 신청 내역\\n\\n수강권\\n\\n증명서\\n\\n숙제 피드백\\n\\n계정\\n\\n로그아웃\\n\\n1725353737651-%C3%A1%C2%84%C2%8F%C3%A1%C2%85%C2%A9%C3%A1%C2%84%C2%83%C3%A1%C2%85%C2%B5%C3%A1%C2%86%C2%BC%C3%A1%C2%84%C2%80%C3%A1%C2%85%C2%A9%C3%A1%C2%86%C2%BC%C3%A1%C2%84%C2%86%C3%A1%C2%85%C2%A9%C3%A1%C2%84%C2%8C%C3%A1%C2%85%C2%A5%C3%A1%C2%86%C2%AB+%C3%A1%C2%84%C2%89%C3%A1%C2%85%C2%AE%C3%A1%C2%84%C2%89%C3%A1%C2%85%C2%A1%C3%A1%C2%86%C2%BC%C3%A1%C2%84%C2%8C%C3%A1%C2%85%C2%A1%C3%A1%C2%86%C2%A8.png\\n\\n스파르타 소식\\n\\n'AII-in 코딩 공모전’ 수상작을 소개합니다\"), Document(id='2e83dd5b-3b86-43bd-8954-d6ed4fea5efa', metadata={'source': 'https://spartacodingclub.kr/blog/all-in-challenge_winner'}, page_content='FE(프론트엔드): Spring Boot, MySQL, Spring WebSocket\\n\\nBE(백엔드): React Native, TanStack Query, Axios\\n\\n코딩 공모전 수상작은 대학생들의 팀프로젝트를 통해 만들어진 웹/앱 서비스입니다. 캠퍼스에서의 문제를 해결하자는 참가자들의 아이디어에서 시작되었죠. 누구나 세상에 선보이고 싶은 나만의 아이디어와 기초 코딩 기술만 활용한다면, 얼마든지 서비스를 만들 수 있습니다. 스파르타코딩클럽의 내일배움캠프에서는 비전공, 초보자도 웹/앱 개발자로 거듭날 수 있는 다양한 트랙이 준비돼 있습니다. 나만의 아이디어를 세상에 선보이고 싶은 누구나에게 열려 있으니 주저말고 도전해 보세요.\\n\\n💡<All-in> 코딩 공모전에서 만든 다양한 서비스를 만나보고 싶다면?\\n\\n다양한 서비스와 기발한 아이디어가 모인 곳에 초대합니다. 참가자들의 문제 해결방법이 궁금하시다면 지금 바로 ‘All-in 공모전’에서 만나보세요!\\n\\n👉🏻 공모전 결과물 보러가기'), Document(id='f2d6d638-a0f6-476b-878f-18da0bb725a9', metadata={'source': 'https://spartacodingclub.kr/blog/all-in-challenge_winner'}, page_content='FE(프론트엔드): Spring Boot, MySQL, Spring WebSocket\\n\\nBE(백엔드): React Native, TanStack Query, Axios\\n\\n코딩 공모전 수상작은 대학생들의 팀프로젝트를 통해 만들어진 웹/앱 서비스입니다. 캠퍼스에서의 문제를 해결하자는 참가자들의 아이디어에서 시작되었죠. 누구나 세상에 선보이고 싶은 나만의 아이디어와 기초 코딩 기술만 활용한다면, 얼마든지 서비스를 만들 수 있습니다. 스파르타코딩클럽의 내일배움캠프에서는 비전공, 초보자도 웹/앱 개발자로 거듭날 수 있는 다양한 트랙이 준비돼 있습니다. 나만의 아이디어를 세상에 선보이고 싶은 누구나에게 열려 있으니 주저말고 도전해 보세요.\\n\\n💡<All-in> 코딩 공모전에서 만든 다양한 서비스를 만나보고 싶다면?\\n\\n다양한 서비스와 기발한 아이디어가 모인 곳에 초대합니다. 참가자들의 문제 해결방법이 궁금하시다면 지금 바로 ‘All-in 공모전’에서 만나보세요!\\n\\n👉🏻 공모전 결과물 보러가기'), Document(id='47460c89-dbc0-4b96-bb36-abd46e3e7217', metadata={'source': 'https://spartacodingclub.kr/blog/all-in-challenge_winner'}, page_content='FE(프론트엔드): Spring Boot, MySQL, Spring WebSocket\\n\\nBE(백엔드): React Native, TanStack Query, Axios\\n\\n코딩 공모전 수상작은 대학생들의 팀프로젝트를 통해 만들어진 웹/앱 서비스입니다. 캠퍼스에서의 문제를 해결하자는 참가자들의 아이디어에서 시작되었죠. 누구나 세상에 선보이고 싶은 나만의 아이디어와 기초 코딩 기술만 활용한다면, 얼마든지 서비스를 만들 수 있습니다. 스파르타코딩클럽의 내일배움캠프에서는 비전공, 초보자도 웹/앱 개발자로 거듭날 수 있는 다양한 트랙이 준비돼 있습니다. 나만의 아이디어를 세상에 선보이고 싶은 누구나에게 열려 있으니 주저말고 도전해 보세요.\\n\\n💡<All-in> 코딩 공모전에서 만든 다양한 서비스를 만나보고 싶다면?\\n\\n다양한 서비스와 기발한 아이디어가 모인 곳에 초대합니다. 참가자들의 문제 해결방법이 궁금하시다면 지금 바로 ‘All-in 공모전’에서 만나보세요!\\n\\n👉🏻 공모전 결과물 보러가기'), Document(id='c34b70be-39f6-4c04-a922-983ba6b52b2b', metadata={'source': 'https://spartacodingclub.kr/blog/all-in-challenge_winner'}, page_content='FE(프론트엔드): Spring Boot, MySQL, Spring WebSocket\\n\\nBE(백엔드): React Native, TanStack Query, Axios\\n\\n코딩 공모전 수상작은 대학생들의 팀프로젝트를 통해 만들어진 웹/앱 서비스입니다. 캠퍼스에서의 문제를 해결하자는 참가자들의 아이디어에서 시작되었죠. 누구나 세상에 선보이고 싶은 나만의 아이디어와 기초 코딩 기술만 활용한다면, 얼마든지 서비스를 만들 수 있습니다. 스파르타코딩클럽의 내일배움캠프에서는 비전공, 초보자도 웹/앱 개발자로 거듭날 수 있는 다양한 트랙이 준비돼 있습니다. 나만의 아이디어를 세상에 선보이고 싶은 누구나에게 열려 있으니 주저말고 도전해 보세요.\\n\\n💡<All-in> 코딩 공모전에서 만든 다양한 서비스를 만나보고 싶다면?\\n\\n다양한 서비스와 기발한 아이디어가 모인 곳에 초대합니다. 참가자들의 문제 해결방법이 궁금하시다면 지금 바로 ‘All-in 공모전’에서 만나보세요!\\n\\n👉🏻 공모전 결과물 보러가기'), Document(id='cefeb87e-82be-4c04-9366-777ec3e9bd88', metadata={'source': 'https://spartacodingclub.kr/blog/all-in-challenge_winner'}, page_content='누구나 큰일 낼 수 있어\\n\\n스파르타코딩클럽\\n\\n글 | 신수지 팀스파르타 에디터\\n\\n해당 콘텐츠는 저작권법에 의해 보호받는 저작물로 스파르타코딩클럽에 저작권이 있습니다. - 해당 콘텐츠는 사전 동의 없이 2차 가공 및 영리적인 이용을 금하고 있습니다.\\n\\n내용이 유익하셨다면? 공유하기\\n\\ncopyclip-blog-share\\n\\nkakao-blog-share\\n\\nfacebook-blog-share\\n\\n다른 분들이 많이 읽은 글\\n\\n아티클\\n\\n2024 내일배움카드로 개발자 되는 방법 : 프론트엔드 백엔드 국비지원 개발자 과정 알아보기\\n\\n조회571·8분 분량\\n\\n2024 내일배움카드로 개발자 되는 방법 : 프론트엔드 백엔드 국비지원 개발자 과정 알아보기\\n\\n아티클\\n\\n비전공자 웹개발 프론트엔드 : 비전공자가 개발자에 도전할 때 꼭 알아야 하는 것\\n\\n조회279·8분 분량\\n\\n비전공자 웹개발 프론트엔드 : 비전공자가 개발자에 도전할 때 꼭 알아야 하는 것\\n\\ncopyclip-blog-share\\n\\n고객센터'), Document(id='14d52c60-bedf-4bcf-b5ef-9035f5be159e', metadata={'source': 'https://spartacodingclub.kr/blog/all-in-challenge_winner'}, page_content='누구나 큰일 낼 수 있어\\n\\n스파르타코딩클럽\\n\\n글 | 신수지 팀스파르타 에디터\\n\\n해당 콘텐츠는 저작권법에 의해 보호받는 저작물로 스파르타코딩클럽에 저작권이 있습니다. - 해당 콘텐츠는 사전 동의 없이 2차 가공 및 영리적인 이용을 금하고 있습니다.\\n\\n내용이 유익하셨다면? 공유하기\\n\\ncopyclip-blog-share\\n\\nkakao-blog-share\\n\\nfacebook-blog-share\\n\\n다른 분들이 많이 읽은 글\\n\\n아티클\\n\\n2024 내일배움카드로 개발자 되는 방법 : 프론트엔드 백엔드 국비지원 개발자 과정 알아보기\\n\\n조회571·8분 분량\\n\\n2024 내일배움카드로 개발자 되는 방법 : 프론트엔드 백엔드 국비지원 개발자 과정 알아보기\\n\\n아티클\\n\\n비전공자 웹개발 프론트엔드 : 비전공자가 개발자에 도전할 때 꼭 알아야 하는 것\\n\\n조회279·8분 분량\\n\\n비전공자 웹개발 프론트엔드 : 비전공자가 개발자에 도전할 때 꼭 알아야 하는 것\\n\\ncopyclip-blog-share\\n\\n고객센터'), Document(id='17c8e859-0fd3-4490-8df4-c213f0a4a2d1', metadata={'source': 'https://spartacodingclub.kr/blog/all-in-challenge_winner'}, page_content='누구나 큰일 낼 수 있어\\n\\n스파르타코딩클럽\\n\\n글 | 신수지 팀스파르타 에디터\\n\\n해당 콘텐츠는 저작권법에 의해 보호받는 저작물로 스파르타코딩클럽에 저작권이 있습니다. - 해당 콘텐츠는 사전 동의 없이 2차 가공 및 영리적인 이용을 금하고 있습니다.\\n\\n내용이 유익하셨다면? 공유하기\\n\\ncopyclip-blog-share\\n\\nkakao-blog-share\\n\\nfacebook-blog-share\\n\\n다른 분들이 많이 읽은 글\\n\\n아티클\\n\\n2024 내일배움카드로 개발자 되는 방법 : 프론트엔드 백엔드 국비지원 개발자 과정 알아보기\\n\\n조회571·8분 분량\\n\\n2024 내일배움카드로 개발자 되는 방법 : 프론트엔드 백엔드 국비지원 개발자 과정 알아보기\\n\\n아티클\\n\\n비전공자 웹개발 프론트엔드 : 비전공자가 개발자에 도전할 때 꼭 알아야 하는 것\\n\\n조회279·8분 분량\\n\\n비전공자 웹개발 프론트엔드 : 비전공자가 개발자에 도전할 때 꼭 알아야 하는 것\\n\\ncopyclip-blog-share\\n\\n고객센터'), Document(id='c30bff10-83a6-46c7-8e5a-e9e5edb647eb', metadata={'source': 'https://spartacodingclub.kr/blog/all-in-challenge_winner'}, page_content='누구나 큰일 낼 수 있어\\n\\n스파르타코딩클럽\\n\\n글 | 신수지 팀스파르타 에디터\\n\\n해당 콘텐츠는 저작권법에 의해 보호받는 저작물로 스파르타코딩클럽에 저작권이 있습니다. - 해당 콘텐츠는 사전 동의 없이 2차 가공 및 영리적인 이용을 금하고 있습니다.\\n\\n내용이 유익하셨다면? 공유하기\\n\\ncopyclip-blog-share\\n\\nkakao-blog-share\\n\\nfacebook-blog-share\\n\\n다른 분들이 많이 읽은 글\\n\\n아티클\\n\\n2024 내일배움카드로 개발자 되는 방법 : 프론트엔드 백엔드 국비지원 개발자 과정 알아보기\\n\\n조회571·8분 분량\\n\\n2024 내일배움카드로 개발자 되는 방법 : 프론트엔드 백엔드 국비지원 개발자 과정 알아보기\\n\\n아티클\\n\\n비전공자 웹개발 프론트엔드 : 비전공자가 개발자에 도전할 때 꼭 알아야 하는 것\\n\\n조회279·8분 분량\\n\\n비전공자 웹개발 프론트엔드 : 비전공자가 개발자에 도전할 때 꼭 알아야 하는 것\\n\\ncopyclip-blog-share\\n\\n고객센터'), Document(id='b6c5e0f1-ae14-4e41-a353-ab4ec655ca4d', metadata={'source': 'https://spartacodingclub.kr/blog/all-in-challenge_winner'}, page_content='서비스 제작자: This is 스파게티!!!(박지성, 김서원, 박범수)\\n\\n💡K교수는 항상 수업이 끝난 후 난이도가 적절했는지 궁금했습니다. “질문 있나요?”라는 말이 수업의 마무리였지만, 대부분의 학생은 답이 없었죠. 그저 고개를 끄덕이는 몇몇 학생들만 보일 뿐, 정말 이해한 것인지, 질문할 용기가 없는 것인지 알 수 없었습니다. 이때문에 학생들이 수업 내용을 제대로 이해하고 있는지 확인하기 어려웠습니다. 어느 날 강의가 끝나고 몇몇 학생들이 몰려와 어렵다고, 다시 설명해 달라고 요청했습니다. 그제야 K교수는 알게 되었어요. 학생들이 이해하지 못하고 있었지만, 질문을 하지 않았던 것이었습니다.'), Document(id='2c2bfa15-08d8-4836-af82-f3fb848c5125', metadata={'source': 'https://spartacodingclub.kr/blog/all-in-challenge_winner'}, page_content='서비스 제작자: This is 스파게티!!!(박지성, 김서원, 박범수)\\n\\n💡K교수는 항상 수업이 끝난 후 난이도가 적절했는지 궁금했습니다. “질문 있나요?”라는 말이 수업의 마무리였지만, 대부분의 학생은 답이 없었죠. 그저 고개를 끄덕이는 몇몇 학생들만 보일 뿐, 정말 이해한 것인지, 질문할 용기가 없는 것인지 알 수 없었습니다. 이때문에 학생들이 수업 내용을 제대로 이해하고 있는지 확인하기 어려웠습니다. 어느 날 강의가 끝나고 몇몇 학생들이 몰려와 어렵다고, 다시 설명해 달라고 요청했습니다. 그제야 K교수는 알게 되었어요. 학생들이 이해하지 못하고 있었지만, 질문을 하지 않았던 것이었습니다.'), Document(id='baaa381b-0407-4104-a029-4ff07fcb6172', metadata={'source': 'https://spartacodingclub.kr/blog/all-in-challenge_winner'}, page_content='서비스 제작자: This is 스파게티!!!(박지성, 김서원, 박범수)\\n\\n💡K교수는 항상 수업이 끝난 후 난이도가 적절했는지 궁금했습니다. “질문 있나요?”라는 말이 수업의 마무리였지만, 대부분의 학생은 답이 없었죠. 그저 고개를 끄덕이는 몇몇 학생들만 보일 뿐, 정말 이해한 것인지, 질문할 용기가 없는 것인지 알 수 없었습니다. 이때문에 학생들이 수업 내용을 제대로 이해하고 있는지 확인하기 어려웠습니다. 어느 날 강의가 끝나고 몇몇 학생들이 몰려와 어렵다고, 다시 설명해 달라고 요청했습니다. 그제야 K교수는 알게 되었어요. 학생들이 이해하지 못하고 있었지만, 질문을 하지 않았던 것이었습니다.'), Document(id='5e33ae93-cdaa-4b52-89be-e603fa1745f5', metadata={'source': 'https://spartacodingclub.kr/blog/all-in-challenge_winner'}, page_content='서비스 제작자: This is 스파게티!!!(박지성, 김서원, 박범수)\\n\\n💡K교수는 항상 수업이 끝난 후 난이도가 적절했는지 궁금했습니다. “질문 있나요?”라는 말이 수업의 마무리였지만, 대부분의 학생은 답이 없었죠. 그저 고개를 끄덕이는 몇몇 학생들만 보일 뿐, 정말 이해한 것인지, 질문할 용기가 없는 것인지 알 수 없었습니다. 이때문에 학생들이 수업 내용을 제대로 이해하고 있는지 확인하기 어려웠습니다. 어느 날 강의가 끝나고 몇몇 학생들이 몰려와 어렵다고, 다시 설명해 달라고 요청했습니다. 그제야 K교수는 알게 되었어요. 학생들이 이해하지 못하고 있었지만, 질문을 하지 않았던 것이었습니다.'), Document(id='ea0f5bbf-6210-408e-a862-c226cfb1391c', metadata={'source': 'https://spartacodingclub.kr/blog/all-in-challenge_winner'}, page_content='FE(프론트엔드): React, Tesseract.js, React-Quill, HTML, CSS, JavaScript\\n\\nBE(백엔드): Java, Spring Boot, MariaDB\\n\\n🎖️ 우수상\\n\\n[우리집 히어로즈] 벌레 퇴치 영웅 매칭 서비스\\n\\n서비스 제작자: 인트(배정연, 한지수)\\n\\n💡C는 이번 학기 처음으로 자취를 시작했습니다. 원래부터 작은 벌레에 민감했던 C. 자취방에서 자주 나타나는 벌레들 때문에 밤잠을 설치길 반복했습니다. 밤마다 벌레를 잡으려고 애쓰던 C는 커뮤니티를 통해 다른 학생들도 같은 문제를 겪고 있다는 것을 알게 되었습니다. 하지만 커뮤니티에서 벌레 퇴치 히어로를 찾기 위해서는 내 개인 정보를 노출해야 한다는 점이 찝찝했죠.'), Document(id='02ff67f4-6549-4403-89ca-0b223f083286', metadata={'source': 'https://spartacodingclub.kr/blog/all-in-challenge_winner'}, page_content='🏅 입선\\n\\n[Crewing] 연합동아리 정보 플랫폼\\n\\n서비스 제작자: 동학대학운동(김민아, 임경진, 신은혜, 고수)\\n\\n💡신입생인 S는 대학 생활을 알차게 보내고 싶어서 연합 동아리에 가입하려고 했지만 어떤 동아리가 자신에게 맞을지 고민이 많았습니다. 인터넷에 검색해보니 연합 동아리 후기는 대부분 여기저기 흩어져 있고, 신뢰할 만한 정보를 찾기 어려웠습니다.'), Document(id='1f17a15f-c952-4525-be7d-5f880186360f', metadata={'source': 'https://spartacodingclub.kr/blog/all-in-challenge_winner'}, page_content='🏅 입선\\n\\n[Crewing] 연합동아리 정보 플랫폼\\n\\n서비스 제작자: 동학대학운동(김민아, 임경진, 신은혜, 고수)\\n\\n💡신입생인 S는 대학 생활을 알차게 보내고 싶어서 연합 동아리에 가입하려고 했지만 어떤 동아리가 자신에게 맞을지 고민이 많았습니다. 인터넷에 검색해보니 연합 동아리 후기는 대부분 여기저기 흩어져 있고, 신뢰할 만한 정보를 찾기 어려웠습니다.'), Document(id='c5a1b00b-59d9-4f5a-8b99-94058d04ca73', metadata={'source': 'https://spartacodingclub.kr/blog/all-in-challenge_winner'}, page_content='🏅 입선\\n\\n[Crewing] 연합동아리 정보 플랫폼\\n\\n서비스 제작자: 동학대학운동(김민아, 임경진, 신은혜, 고수)\\n\\n💡신입생인 S는 대학 생활을 알차게 보내고 싶어서 연합 동아리에 가입하려고 했지만 어떤 동아리가 자신에게 맞을지 고민이 많았습니다. 인터넷에 검색해보니 연합 동아리 후기는 대부분 여기저기 흩어져 있고, 신뢰할 만한 정보를 찾기 어려웠습니다.'), Document(id='2bbc21de-bd7e-41b1-80fd-05935ede110e', metadata={'source': 'https://spartacodingclub.kr/blog/all-in-challenge_winner'}, page_content='🏅 입선\\n\\n[Crewing] 연합동아리 정보 플랫폼\\n\\n서비스 제작자: 동학대학운동(김민아, 임경진, 신은혜, 고수)\\n\\n💡신입생인 S는 대학 생활을 알차게 보내고 싶어서 연합 동아리에 가입하려고 했지만 어떤 동아리가 자신에게 맞을지 고민이 많았습니다. 인터넷에 검색해보니 연합 동아리 후기는 대부분 여기저기 흩어져 있고, 신뢰할 만한 정보를 찾기 어려웠습니다.'), Document(id='bd3d7b56-2b12-4853-b476-d917c3397ed5', metadata={'source': 'https://spartacodingclub.kr/blog/all-in-challenge_winner'}, page_content='FE(프론트엔드): React, Tesseract.js, React-Quill, HTML, CSS, JavaScript\\n\\nBE(백엔드): Java, Spring Boot, MariaDB\\n\\n🎖️ 우수상\\n\\n[우리집 히어로즈] 벌레 퇴치 영웅 매칭 서비스\\n\\n서비스 제작자: 인트(배정연, 한지수)\\n\\n💡C는 이번 학기 처음으로 자취를 시작했습니다. 원래부터 작은 벌레에 민감했던 C. 자취방에서 자주 나타나는 벌레들 때문에 밤잠을 설치길 반복했습니다. 밤마다 벌레를 잡으려고 애쓰던 C는 커뮤니티를 통해 다른 학생들도 같은 문제를 겪고 있다는 것을 알게 되었습니다. 하지만 커뮤니티에서 벌레 퇴치 히어로를 찾기 위해서는 내 개인 정보를 노출해야 한다는 점이 찝찝했죠.'), Document(id='d9e37fe3-0262-4ea1-9970-daa50023b13d', metadata={'source': 'https://spartacodingclub.kr/blog/all-in-challenge_winner'}, page_content='FE(프론트엔드): React, Tesseract.js, React-Quill, HTML, CSS, JavaScript\\n\\nBE(백엔드): Java, Spring Boot, MariaDB\\n\\n🎖️ 우수상\\n\\n[우리집 히어로즈] 벌레 퇴치 영웅 매칭 서비스\\n\\n서비스 제작자: 인트(배정연, 한지수)\\n\\n💡C는 이번 학기 처음으로 자취를 시작했습니다. 원래부터 작은 벌레에 민감했던 C. 자취방에서 자주 나타나는 벌레들 때문에 밤잠을 설치길 반복했습니다. 밤마다 벌레를 잡으려고 애쓰던 C는 커뮤니티를 통해 다른 학생들도 같은 문제를 겪고 있다는 것을 알게 되었습니다. 하지만 커뮤니티에서 벌레 퇴치 히어로를 찾기 위해서는 내 개인 정보를 노출해야 한다는 점이 찝찝했죠.'), Document(id='55a7cdf8-91c2-4589-ba85-19527048d319', metadata={'source': 'https://spartacodingclub.kr/blog/all-in-challenge_winner'}, page_content='FE(프론트엔드): React, Tesseract.js, React-Quill, HTML, CSS, JavaScript\\n\\nBE(백엔드): Java, Spring Boot, MariaDB\\n\\n🎖️ 우수상\\n\\n[우리집 히어로즈] 벌레 퇴치 영웅 매칭 서비스\\n\\n서비스 제작자: 인트(배정연, 한지수)\\n\\n💡C는 이번 학기 처음으로 자취를 시작했습니다. 원래부터 작은 벌레에 민감했던 C. 자취방에서 자주 나타나는 벌레들 때문에 밤잠을 설치길 반복했습니다. 밤마다 벌레를 잡으려고 애쓰던 C는 커뮤니티를 통해 다른 학생들도 같은 문제를 겪고 있다는 것을 알게 되었습니다. 하지만 커뮤니티에서 벌레 퇴치 히어로를 찾기 위해서는 내 개인 정보를 노출해야 한다는 점이 찝찝했죠.'), Document(id='28885a58-714f-4f6c-930f-0e0f9c4e6ec0', metadata={'source': 'https://spartacodingclub.kr/blog/all-in-challenge_winner'}, page_content='<Crewing>은 대학생들이 다양한 연합 동아리에 쉽게 가입하고, 적절한 동아리를 찾을 수 있도록 지원해주는 아카이빙 플랫폼입니다. 회원가입 시 생년, 성별, 관심 분야를 입력하자 딱 맞는 동아리를 추천해주죠. 플랫폼 내에서 동아리의 리크루팅 과정인 서류 전형, 인터뷰 일정, 최종 결과 발표 등을 한 번에 해결할 수 있어요. 실제 동아리에 가입한 사람들의 솔직한 후기를 제공해주기 때문에 보다 정확한 정보를 얻을 수 있어요. Crewing은 신뢰할 수 있는 정보와 솔직한 후기를 제공해주기 때문에 효율적으로 내게 꼭 맞는 동아리를 선택할 수 있습니다.\\n\\n사용한 기술 스택\\n\\nFE(프론트엔드): Spring Boot, Redis, MySQL\\n\\nBE(백엔드): SwiftUI Framework, OAuth 2.0\\n\\n🏅 입선\\n\\n[학교생활 매니저] 학교생활 관리 서비스\\n\\n서비스 제작자: 아이칼F4(조민제, 이민기, 강건, 박근우)'), Document(id='111e226b-9ccb-4880-b08c-2ec6ec922929', metadata={'source': 'https://spartacodingclub.kr/blog/all-in-challenge_winner'}, page_content='<Crewing>은 대학생들이 다양한 연합 동아리에 쉽게 가입하고, 적절한 동아리를 찾을 수 있도록 지원해주는 아카이빙 플랫폼입니다. 회원가입 시 생년, 성별, 관심 분야를 입력하자 딱 맞는 동아리를 추천해주죠. 플랫폼 내에서 동아리의 리크루팅 과정인 서류 전형, 인터뷰 일정, 최종 결과 발표 등을 한 번에 해결할 수 있어요. 실제 동아리에 가입한 사람들의 솔직한 후기를 제공해주기 때문에 보다 정확한 정보를 얻을 수 있어요. Crewing은 신뢰할 수 있는 정보와 솔직한 후기를 제공해주기 때문에 효율적으로 내게 꼭 맞는 동아리를 선택할 수 있습니다.\\n\\n사용한 기술 스택\\n\\nFE(프론트엔드): Spring Boot, Redis, MySQL\\n\\nBE(백엔드): SwiftUI Framework, OAuth 2.0\\n\\n🏅 입선\\n\\n[학교생활 매니저] 학교생활 관리 서비스\\n\\n서비스 제작자: 아이칼F4(조민제, 이민기, 강건, 박근우)'), Document(id='c7a8e76c-03c9-45c7-832b-e0635362fd95', metadata={'source': 'https://spartacodingclub.kr/blog/all-in-challenge_winner'}, page_content='<Crewing>은 대학생들이 다양한 연합 동아리에 쉽게 가입하고, 적절한 동아리를 찾을 수 있도록 지원해주는 아카이빙 플랫폼입니다. 회원가입 시 생년, 성별, 관심 분야를 입력하자 딱 맞는 동아리를 추천해주죠. 플랫폼 내에서 동아리의 리크루팅 과정인 서류 전형, 인터뷰 일정, 최종 결과 발표 등을 한 번에 해결할 수 있어요. 실제 동아리에 가입한 사람들의 솔직한 후기를 제공해주기 때문에 보다 정확한 정보를 얻을 수 있어요. Crewing은 신뢰할 수 있는 정보와 솔직한 후기를 제공해주기 때문에 효율적으로 내게 꼭 맞는 동아리를 선택할 수 있습니다.\\n\\n사용한 기술 스택\\n\\nFE(프론트엔드): Spring Boot, Redis, MySQL\\n\\nBE(백엔드): SwiftUI Framework, OAuth 2.0\\n\\n🏅 입선\\n\\n[학교생활 매니저] 학교생활 관리 서비스\\n\\n서비스 제작자: 아이칼F4(조민제, 이민기, 강건, 박근우)'), Document(id='de70e05d-31f7-4987-ac89-ab1493e9e763', metadata={'source': 'https://spartacodingclub.kr/blog/all-in-challenge_winner'}, page_content='<Crewing>은 대학생들이 다양한 연합 동아리에 쉽게 가입하고, 적절한 동아리를 찾을 수 있도록 지원해주는 아카이빙 플랫폼입니다. 회원가입 시 생년, 성별, 관심 분야를 입력하자 딱 맞는 동아리를 추천해주죠. 플랫폼 내에서 동아리의 리크루팅 과정인 서류 전형, 인터뷰 일정, 최종 결과 발표 등을 한 번에 해결할 수 있어요. 실제 동아리에 가입한 사람들의 솔직한 후기를 제공해주기 때문에 보다 정확한 정보를 얻을 수 있어요. Crewing은 신뢰할 수 있는 정보와 솔직한 후기를 제공해주기 때문에 효율적으로 내게 꼭 맞는 동아리를 선택할 수 있습니다.\\n\\n사용한 기술 스택\\n\\nFE(프론트엔드): Spring Boot, Redis, MySQL\\n\\nBE(백엔드): SwiftUI Framework, OAuth 2.0\\n\\n🏅 입선\\n\\n[학교생활 매니저] 학교생활 관리 서비스\\n\\n서비스 제작자: 아이칼F4(조민제, 이민기, 강건, 박근우)'), Document(id='876c8841-bbda-46b1-9fa9-88359c7258e8', metadata={'source': 'https://spartacodingclub.kr/blog/all-in-challenge_winner'}, page_content='💡A는 올해 복학한 3학년 학생입니다. 강의실과 도서관을 오가며 바쁜 일정을 소화하느라 정신이 없지만, 수업마다 나오는 과제와 각종 활동, 시험 준비까지 겹치면서 혼란에 빠지기 일쑤였습니다. 복학생이다 보니 학교에서 전달되는 공지사항도 제대로 전달받지 못해 항상 중요한 정보를 놓칠까 봐 걱정이었죠.'), Document(id='060c2a7f-23ba-4609-8f68-ef7f66c3cae2', metadata={'source': 'https://spartacodingclub.kr/blog/all-in-challenge_winner'}, page_content='💡A는 올해 복학한 3학년 학생입니다. 강의실과 도서관을 오가며 바쁜 일정을 소화하느라 정신이 없지만, 수업마다 나오는 과제와 각종 활동, 시험 준비까지 겹치면서 혼란에 빠지기 일쑤였습니다. 복학생이다 보니 학교에서 전달되는 공지사항도 제대로 전달받지 못해 항상 중요한 정보를 놓칠까 봐 걱정이었죠.'), Document(id='89aed369-43d4-4521-9106-3d03754df9ab', metadata={'source': 'https://spartacodingclub.kr/blog/all-in-challenge_winner'}, page_content='💡A는 올해 복학한 3학년 학생입니다. 강의실과 도서관을 오가며 바쁜 일정을 소화하느라 정신이 없지만, 수업마다 나오는 과제와 각종 활동, 시험 준비까지 겹치면서 혼란에 빠지기 일쑤였습니다. 복학생이다 보니 학교에서 전달되는 공지사항도 제대로 전달받지 못해 항상 중요한 정보를 놓칠까 봐 걱정이었죠.'), Document(id='1890ea89-705e-4395-8d4d-cf71ebd8d549', metadata={'source': 'https://spartacodingclub.kr/blog/all-in-challenge_winner'}, page_content='💡A는 올해 복학한 3학년 학생입니다. 강의실과 도서관을 오가며 바쁜 일정을 소화하느라 정신이 없지만, 수업마다 나오는 과제와 각종 활동, 시험 준비까지 겹치면서 혼란에 빠지기 일쑤였습니다. 복학생이다 보니 학교에서 전달되는 공지사항도 제대로 전달받지 못해 항상 중요한 정보를 놓칠까 봐 걱정이었죠.'), Document(id='67dd42e1-b262-4532-b950-6261fd8c4b4e', metadata={'source': 'https://spartacodingclub.kr/blog/all-in-challenge_winner'}, page_content='💡W는 어문학을 전공하는 대학생입니다. 매일 새로운 단어와 문장 구조를 공부하고 있지만, 효율적으로 학습하는 것이 쉽지 않았습니다. 단어의 의미를 찾기 위해 사전을 뒤적이고, 긴 문장을 이해하려고 번역기를 사용하다 보면, 필기 노트는 어느새 뒷전으로 밀려났거든요. 사전, 번역기, 원서, 필기노트를 왔다 갔다 하다 보면 시간이 다 지나가 버리곤 했죠.'), Document(id='3aae90df-34a0-4af3-b2c6-867afb60eb0b', metadata={'source': 'https://spartacodingclub.kr/blog/all-in-challenge_winner'}, page_content='W와 같이 어문 전공생은 문법, 어휘, 문장 구조 등 다양한 자료를 학습해야 합니다. 여러 자료를 번갈아 학습하다보니 ‘사전-번역기-원서-필기노트’ 왕복으로 학습 효율이 나지 않아 고민인 경우도 많으실 거예요. <Lexi Note>는 단어를 드래그하면 네이버 사전으로 바로 연동 돼 단어의 의미를 찾으며 동시에 필기 할 수 있어요. 이외에도 번역 버튼을 누르면 파파고 번역기가 연동돼 긴 문장도 쉽게 이해할 수 있어요. 언어 학습에 필요한 할일 목록과 스케줄 템플릿을 제공하여 효율적으로 공부할 수 있습니다. 필기, 사전, 번역을 한번에 쉽고 편하게 이용할 수 있죠. 더 이상 시간 낭비 없이 효율적으로 어문학을 공부하며 학습 속도도 눈에 띄게 빨라질 수 있어요. 언어 공부의 복잡함을 단순하게 만들어주는 Lexi Note가 요긴한 학습 도우미가 되었기 때문입니다.\\n\\n사용한 기술 스택'), Document(id='40afea7e-69b6-42c4-af55-4294e57b4fbc', metadata={'source': 'https://spartacodingclub.kr/blog/all-in-challenge_winner'}, page_content='W와 같이 어문 전공생은 문법, 어휘, 문장 구조 등 다양한 자료를 학습해야 합니다. 여러 자료를 번갈아 학습하다보니 ‘사전-번역기-원서-필기노트’ 왕복으로 학습 효율이 나지 않아 고민인 경우도 많으실 거예요. <Lexi Note>는 단어를 드래그하면 네이버 사전으로 바로 연동 돼 단어의 의미를 찾으며 동시에 필기 할 수 있어요. 이외에도 번역 버튼을 누르면 파파고 번역기가 연동돼 긴 문장도 쉽게 이해할 수 있어요. 언어 학습에 필요한 할일 목록과 스케줄 템플릿을 제공하여 효율적으로 공부할 수 있습니다. 필기, 사전, 번역을 한번에 쉽고 편하게 이용할 수 있죠. 더 이상 시간 낭비 없이 효율적으로 어문학을 공부하며 학습 속도도 눈에 띄게 빨라질 수 있어요. 언어 공부의 복잡함을 단순하게 만들어주는 Lexi Note가 요긴한 학습 도우미가 되었기 때문입니다.\\n\\n사용한 기술 스택'), Document(id='0f0049f2-9e95-492b-a22b-81147d7c1344', metadata={'source': 'https://spartacodingclub.kr/blog/all-in-challenge_winner'}, page_content='W와 같이 어문 전공생은 문법, 어휘, 문장 구조 등 다양한 자료를 학습해야 합니다. 여러 자료를 번갈아 학습하다보니 ‘사전-번역기-원서-필기노트’ 왕복으로 학습 효율이 나지 않아 고민인 경우도 많으실 거예요. <Lexi Note>는 단어를 드래그하면 네이버 사전으로 바로 연동 돼 단어의 의미를 찾으며 동시에 필기 할 수 있어요. 이외에도 번역 버튼을 누르면 파파고 번역기가 연동돼 긴 문장도 쉽게 이해할 수 있어요. 언어 학습에 필요한 할일 목록과 스케줄 템플릿을 제공하여 효율적으로 공부할 수 있습니다. 필기, 사전, 번역을 한번에 쉽고 편하게 이용할 수 있죠. 더 이상 시간 낭비 없이 효율적으로 어문학을 공부하며 학습 속도도 눈에 띄게 빨라질 수 있어요. 언어 공부의 복잡함을 단순하게 만들어주는 Lexi Note가 요긴한 학습 도우미가 되었기 때문입니다.\\n\\n사용한 기술 스택'), Document(id='9a94e92e-b98d-4a17-b532-51f68daa9406', metadata={'source': 'https://spartacodingclub.kr/blog/all-in-challenge_winner'}, page_content='W와 같이 어문 전공생은 문법, 어휘, 문장 구조 등 다양한 자료를 학습해야 합니다. 여러 자료를 번갈아 학습하다보니 ‘사전-번역기-원서-필기노트’ 왕복으로 학습 효율이 나지 않아 고민인 경우도 많으실 거예요. <Lexi Note>는 단어를 드래그하면 네이버 사전으로 바로 연동 돼 단어의 의미를 찾으며 동시에 필기 할 수 있어요. 이외에도 번역 버튼을 누르면 파파고 번역기가 연동돼 긴 문장도 쉽게 이해할 수 있어요. 언어 학습에 필요한 할일 목록과 스케줄 템플릿을 제공하여 효율적으로 공부할 수 있습니다. 필기, 사전, 번역을 한번에 쉽고 편하게 이용할 수 있죠. 더 이상 시간 낭비 없이 효율적으로 어문학을 공부하며 학습 속도도 눈에 띄게 빨라질 수 있어요. 언어 공부의 복잡함을 단순하게 만들어주는 Lexi Note가 요긴한 학습 도우미가 되었기 때문입니다.\\n\\n사용한 기술 스택'), Document(id='748bae08-6399-45cd-b5b8-911057d25c08', metadata={'source': 'https://spartacodingclub.kr/blog/all-in-challenge_winner'}, page_content='💡W는 어문학을 전공하는 대학생입니다. 매일 새로운 단어와 문장 구조를 공부하고 있지만, 효율적으로 학습하는 것이 쉽지 않았습니다. 단어의 의미를 찾기 위해 사전을 뒤적이고, 긴 문장을 이해하려고 번역기를 사용하다 보면, 필기 노트는 어느새 뒷전으로 밀려났거든요. 사전, 번역기, 원서, 필기노트를 왔다 갔다 하다 보면 시간이 다 지나가 버리곤 했죠.'), Document(id='a729305a-1155-4e90-9d55-255c02553b7c', metadata={'source': 'https://spartacodingclub.kr/blog/all-in-challenge_winner'}, page_content='💡W는 어문학을 전공하는 대학생입니다. 매일 새로운 단어와 문장 구조를 공부하고 있지만, 효율적으로 학습하는 것이 쉽지 않았습니다. 단어의 의미를 찾기 위해 사전을 뒤적이고, 긴 문장을 이해하려고 번역기를 사용하다 보면, 필기 노트는 어느새 뒷전으로 밀려났거든요. 사전, 번역기, 원서, 필기노트를 왔다 갔다 하다 보면 시간이 다 지나가 버리곤 했죠.'), Document(id='0b7eae82-bd7a-4443-8d55-5484c30a4b3f', metadata={'source': 'https://spartacodingclub.kr/blog/all-in-challenge_winner'}, page_content='💡W는 어문학을 전공하는 대학생입니다. 매일 새로운 단어와 문장 구조를 공부하고 있지만, 효율적으로 학습하는 것이 쉽지 않았습니다. 단어의 의미를 찾기 위해 사전을 뒤적이고, 긴 문장을 이해하려고 번역기를 사용하다 보면, 필기 노트는 어느새 뒷전으로 밀려났거든요. 사전, 번역기, 원서, 필기노트를 왔다 갔다 하다 보면 시간이 다 지나가 버리곤 했죠.'), Document(id='38112329-3d6d-4d13-983f-8870ee95a565', metadata={'source': 'https://spartacodingclub.kr/blog/all-in-challenge_winner'}, page_content='이 문제를 해결할 수 있는 방법이 바로 <우리집 히어로즈> 서비스입니다. 대학생 자취생들이 자취방에서 겪는 벌레 문제를 해결하기 위해 개발된 앱이죠. 벌레 퇴치가 필요한 사용자가 앱에 요청을 올리면 벌레 퇴치 히어로 학우와 매칭됩니다. 사용자 신원은 같은 학교 학생으로, 신원이 보장된 안전한 환경에서 이뤄지고 벌레를 퇴치해주는 히어로는 추가 수입을 얻을 수 있는 기회를 가집니다. 실시간 알림 기능을 통해 매칭이 이뤄지면 즉시 알림을 받을 수 있어 빠르게 문제를 해결할 수 있습니다. 벌레를 퇴치한 후 사용자는 서로를 평가할 수 있어요. 더 나은 서비스를 제공하거나 받을 수 있습니다.\\n\\n사용한 기술 스택\\n\\nFE(프론트엔드): React Native, Expo, Axios\\n\\nBE(백엔드): Spring Boot, Spring Security, MySQL, SSE, FCM, JWT, Postman\\n\\n🎖️ 우수상\\n\\n[에코 클래스룸] 수업 실시간 소통 서비스'), Document(id='3b1dad4a-31b5-47b9-995b-edbb90a1a7ef', metadata={'source': 'https://spartacodingclub.kr/blog/all-in-challenge_winner'}, page_content='이 문제를 해결할 수 있는 방법이 바로 <우리집 히어로즈> 서비스입니다. 대학생 자취생들이 자취방에서 겪는 벌레 문제를 해결하기 위해 개발된 앱이죠. 벌레 퇴치가 필요한 사용자가 앱에 요청을 올리면 벌레 퇴치 히어로 학우와 매칭됩니다. 사용자 신원은 같은 학교 학생으로, 신원이 보장된 안전한 환경에서 이뤄지고 벌레를 퇴치해주는 히어로는 추가 수입을 얻을 수 있는 기회를 가집니다. 실시간 알림 기능을 통해 매칭이 이뤄지면 즉시 알림을 받을 수 있어 빠르게 문제를 해결할 수 있습니다. 벌레를 퇴치한 후 사용자는 서로를 평가할 수 있어요. 더 나은 서비스를 제공하거나 받을 수 있습니다.\\n\\n사용한 기술 스택\\n\\nFE(프론트엔드): React Native, Expo, Axios\\n\\nBE(백엔드): Spring Boot, Spring Security, MySQL, SSE, FCM, JWT, Postman\\n\\n🎖️ 우수상\\n\\n[에코 클래스룸] 수업 실시간 소통 서비스'), Document(id='332b19d9-b68f-4492-a8f9-6f1cf5a01076', metadata={'source': 'https://spartacodingclub.kr/blog/all-in-challenge_winner'}, page_content='이 문제를 해결할 수 있는 방법이 바로 <우리집 히어로즈> 서비스입니다. 대학생 자취생들이 자취방에서 겪는 벌레 문제를 해결하기 위해 개발된 앱이죠. 벌레 퇴치가 필요한 사용자가 앱에 요청을 올리면 벌레 퇴치 히어로 학우와 매칭됩니다. 사용자 신원은 같은 학교 학생으로, 신원이 보장된 안전한 환경에서 이뤄지고 벌레를 퇴치해주는 히어로는 추가 수입을 얻을 수 있는 기회를 가집니다. 실시간 알림 기능을 통해 매칭이 이뤄지면 즉시 알림을 받을 수 있어 빠르게 문제를 해결할 수 있습니다. 벌레를 퇴치한 후 사용자는 서로를 평가할 수 있어요. 더 나은 서비스를 제공하거나 받을 수 있습니다.\\n\\n사용한 기술 스택\\n\\nFE(프론트엔드): React Native, Expo, Axios\\n\\nBE(백엔드): Spring Boot, Spring Security, MySQL, SSE, FCM, JWT, Postman\\n\\n🎖️ 우수상\\n\\n[에코 클래스룸] 수업 실시간 소통 서비스'), Document(id='541d3424-8342-4a06-a4e6-471cb3a8ee4d', metadata={'source': 'https://spartacodingclub.kr/blog/all-in-challenge_winner'}, page_content='이 문제를 해결할 수 있는 방법이 바로 <우리집 히어로즈> 서비스입니다. 대학생 자취생들이 자취방에서 겪는 벌레 문제를 해결하기 위해 개발된 앱이죠. 벌레 퇴치가 필요한 사용자가 앱에 요청을 올리면 벌레 퇴치 히어로 학우와 매칭됩니다. 사용자 신원은 같은 학교 학생으로, 신원이 보장된 안전한 환경에서 이뤄지고 벌레를 퇴치해주는 히어로는 추가 수입을 얻을 수 있는 기회를 가집니다. 실시간 알림 기능을 통해 매칭이 이뤄지면 즉시 알림을 받을 수 있어 빠르게 문제를 해결할 수 있습니다. 벌레를 퇴치한 후 사용자는 서로를 평가할 수 있어요. 더 나은 서비스를 제공하거나 받을 수 있습니다.\\n\\n사용한 기술 스택\\n\\nFE(프론트엔드): React Native, Expo, Axios\\n\\nBE(백엔드): Spring Boot, Spring Security, MySQL, SSE, FCM, JWT, Postman\\n\\n🎖️ 우수상\\n\\n[에코 클래스룸] 수업 실시간 소통 서비스'), Document(id='f97210c2-e9f0-45d1-8a70-8f698eea1c89', metadata={'source': 'https://spartacodingclub.kr/blog/all-in-challenge_winner'}, page_content='다른 학생들의 시선이 부담스러워서, 나만 모르는 거라고 생각해서 질문하지 않는 학생들을 위해 만들어진 서비스가 바로 <에코 클래스룸>입니다. 교수와 학생 간의 소통을 혁신적으로 바꾸기 위해 만들어졌어요. 학생들이 굳이 손을 들고 질문하지 않아도, 에코 클래스룸을 통해 자신의 의견을 표현할 수 있습니다. 익명으로 수업 중 자신의 의견이나 질문을 쉽게 제출할 수 있어 교수님은 실시간으로 학생들의 이해도를 파악할 수 있습니다. 수업 중 또는 후에 교수자가 수업에 대한 피드백을 받을 수 있는 평가 기능과 학생의 이해도를 테스트 할 수 있는 퀴즈 생성 기능이 있어 필요한 경우 수업 속도를 조절하고 추가 설명을 할 수 있어요.\\n\\n사용한 기술 스택\\n\\nFE(프론트엔드): Flutter, Socket.IO, Expo CLI, Axios, TanStack Query\\n\\nBE(백엔드): Spring Boot, Spring Security, JWT, MySQL, Spring WebSocket, AWS'), Document(id='7c476dda-defc-4fe1-bef1-6f4b62aeb462', metadata={'source': 'https://spartacodingclub.kr/blog/all-in-challenge_winner'}, page_content='다른 학생들의 시선이 부담스러워서, 나만 모르는 거라고 생각해서 질문하지 않는 학생들을 위해 만들어진 서비스가 바로 <에코 클래스룸>입니다. 교수와 학생 간의 소통을 혁신적으로 바꾸기 위해 만들어졌어요. 학생들이 굳이 손을 들고 질문하지 않아도, 에코 클래스룸을 통해 자신의 의견을 표현할 수 있습니다. 익명으로 수업 중 자신의 의견이나 질문을 쉽게 제출할 수 있어 교수님은 실시간으로 학생들의 이해도를 파악할 수 있습니다. 수업 중 또는 후에 교수자가 수업에 대한 피드백을 받을 수 있는 평가 기능과 학생의 이해도를 테스트 할 수 있는 퀴즈 생성 기능이 있어 필요한 경우 수업 속도를 조절하고 추가 설명을 할 수 있어요.\\n\\n사용한 기술 스택\\n\\nFE(프론트엔드): Flutter, Socket.IO, Expo CLI, Axios, TanStack Query\\n\\nBE(백엔드): Spring Boot, Spring Security, JWT, MySQL, Spring WebSocket, AWS')]\n"
     ]
    }
   ],
   "source": [
    "retriever_similarity = vectorstore.as_retriever(search_type=\"similarity\", search_kwargs={\"k\": 50})\n",
    "retrieved_docs_similarity = retriever_similarity.invoke(user_msg)\n",
    "\n",
    "print(retrieved_docs_similarity)"
   ]
  },
  {
   "cell_type": "markdown",
   "id": "747bbc68",
   "metadata": {},
   "source": [
    "### 2. mmr 리트리버\n",
    "MMR은 관련성과 다양성을 모두 고려하여 검색 결과의 중복을 줄이고 다양한 정보를 제공하는 데 유용합니다."
   ]
  },
  {
   "cell_type": "code",
   "execution_count": 31,
   "id": "81461c78",
   "metadata": {},
   "outputs": [
    {
     "name": "stderr",
     "output_type": "stream",
     "text": [
      "INFO: HTTP Request: POST https://api.openai.com/v1/embeddings \"HTTP/1.1 200 OK\"\n"
     ]
    },
    {
     "name": "stdout",
     "output_type": "stream",
     "text": [
      "[Document(id='73d27d4e-4044-4a3f-bb95-fc836bea78f6', metadata={'source': 'https://spartacodingclub.kr/blog/all-in-challenge_winner'}, page_content='조회수 756·6분 분량\\n\\n2024. 9. 3.\\n\\n코딩은 더 이상 개발자만의 영역이 아닙니다. 누구나 아이디어만 있다면 창의적인 서비스를 만들어 세상을 바꿀 수 있습니다. 스파르타코딩클럽에서는 이러한 가능성을 믿고, 누구나 코딩을 통해 자신의 아이디어를 실현하고 실제 문제를 해결하는 경험을 쌓을 수 있도록 다양한 프로그램을 마련하고 있습니다.\\n\\n<All-in> 코딩 공모전은 대학생들이 캠퍼스에서 겪은 불편함과 문제를 자신만의 아이디어로 해결해보는 대회였는데요. 이번 공모전에서 다양한 혁신적인 아이디어와 열정으로 가득한 수많은 프로젝트가 탄생했습니다. 그중 뛰어난 성과를 낸 수상작 6개를 소개합니다.\\n\\n🏆 대상\\n\\n[Lexi Note] 언어공부 필기 웹 서비스\\n\\n서비스 제작자: 다나와(김다애, 박나경)'), Document(id='132f2451-ed24-4f61-8368-ff8972b4bdfe', metadata={'source': 'https://spartacodingclub.kr/blog/all-in-challenge_winner'}, page_content='조회수 756·6분 분량\\n\\n2024. 9. 3.\\n\\n코딩은 더 이상 개발자만의 영역이 아닙니다. 누구나 아이디어만 있다면 창의적인 서비스를 만들어 세상을 바꿀 수 있습니다. 스파르타코딩클럽에서는 이러한 가능성을 믿고, 누구나 코딩을 통해 자신의 아이디어를 실현하고 실제 문제를 해결하는 경험을 쌓을 수 있도록 다양한 프로그램을 마련하고 있습니다.\\n\\n<All-in> 코딩 공모전은 대학생들이 캠퍼스에서 겪은 불편함과 문제를 자신만의 아이디어로 해결해보는 대회였는데요. 이번 공모전에서 다양한 혁신적인 아이디어와 열정으로 가득한 수많은 프로젝트가 탄생했습니다. 그중 뛰어난 성과를 낸 수상작 6개를 소개합니다.\\n\\n🏆 대상\\n\\n[Lexi Note] 언어공부 필기 웹 서비스\\n\\n서비스 제작자: 다나와(김다애, 박나경)'), Document(id='1aa34f9e-dd5f-444f-a6eb-bde71d12d722', metadata={'source': 'https://spartacodingclub.kr/blog/all-in-challenge_winner'}, page_content='조회수 756·6분 분량\\n\\n2024. 9. 3.\\n\\n코딩은 더 이상 개발자만의 영역이 아닙니다. 누구나 아이디어만 있다면 창의적인 서비스를 만들어 세상을 바꿀 수 있습니다. 스파르타코딩클럽에서는 이러한 가능성을 믿고, 누구나 코딩을 통해 자신의 아이디어를 실현하고 실제 문제를 해결하는 경험을 쌓을 수 있도록 다양한 프로그램을 마련하고 있습니다.\\n\\n<All-in> 코딩 공모전은 대학생들이 캠퍼스에서 겪은 불편함과 문제를 자신만의 아이디어로 해결해보는 대회였는데요. 이번 공모전에서 다양한 혁신적인 아이디어와 열정으로 가득한 수많은 프로젝트가 탄생했습니다. 그중 뛰어난 성과를 낸 수상작 6개를 소개합니다.\\n\\n🏆 대상\\n\\n[Lexi Note] 언어공부 필기 웹 서비스\\n\\n서비스 제작자: 다나와(김다애, 박나경)'), Document(id='504bda05-a7cf-4296-9d1e-03741e2440ac', metadata={'source': 'https://spartacodingclub.kr/blog/all-in-challenge_winner'}, page_content='조회수 755·6분 분량\\n\\n2024. 9. 3.\\n\\n코딩은 더 이상 개발자만의 영역이 아닙니다. 누구나 아이디어만 있다면 창의적인 서비스를 만들어 세상을 바꿀 수 있습니다. 스파르타코딩클럽에서는 이러한 가능성을 믿고, 누구나 코딩을 통해 자신의 아이디어를 실현하고 실제 문제를 해결하는 경험을 쌓을 수 있도록 다양한 프로그램을 마련하고 있습니다.\\n\\n<All-in> 코딩 공모전은 대학생들이 캠퍼스에서 겪은 불편함과 문제를 자신만의 아이디어로 해결해보는 대회였는데요. 이번 공모전에서 다양한 혁신적인 아이디어와 열정으로 가득한 수많은 프로젝트가 탄생했습니다. 그중 뛰어난 성과를 낸 수상작 6개를 소개합니다.\\n\\n🏆 대상\\n\\n[Lexi Note] 언어공부 필기 웹 서비스\\n\\n서비스 제작자: 다나와(김다애, 박나경)'), Document(id='e85ff245-7fa6-42b8-8ab4-6f8aa2a9e5cd', metadata={'source': 'https://spartacodingclub.kr/blog/all-in-challenge_winner'}, page_content=\"포인트\\n\\n로딩중\\n\\n쿠폰\\n\\n내 강의실\\n\\n국비 신청 내역\\n\\n수강권\\n\\n증명서\\n\\n숙제 피드백\\n\\n계정\\n\\n로그아웃\\n\\n1725353737651-%C3%A1%C2%84%C2%8F%C3%A1%C2%85%C2%A9%C3%A1%C2%84%C2%83%C3%A1%C2%85%C2%B5%C3%A1%C2%86%C2%BC%C3%A1%C2%84%C2%80%C3%A1%C2%85%C2%A9%C3%A1%C2%86%C2%BC%C3%A1%C2%84%C2%86%C3%A1%C2%85%C2%A9%C3%A1%C2%84%C2%8C%C3%A1%C2%85%C2%A5%C3%A1%C2%86%C2%AB+%C3%A1%C2%84%C2%89%C3%A1%C2%85%C2%AE%C3%A1%C2%84%C2%89%C3%A1%C2%85%C2%A1%C3%A1%C2%86%C2%BC%C3%A1%C2%84%C2%8C%C3%A1%C2%85%C2%A1%C3%A1%C2%86%C2%A8.png\\n\\n스파르타 소식\\n\\n'AII-in 코딩 공모전’ 수상작을 소개합니다\"), Document(id='5a57a380-17f6-484a-95c6-88244b90ac10', metadata={'source': 'https://spartacodingclub.kr/blog/all-in-challenge_winner'}, page_content=\"포인트\\n\\n로딩중\\n\\n쿠폰\\n\\n내 강의실\\n\\n국비 신청 내역\\n\\n수강권\\n\\n증명서\\n\\n숙제 피드백\\n\\n계정\\n\\n로그아웃\\n\\n1725353737651-%C3%A1%C2%84%C2%8F%C3%A1%C2%85%C2%A9%C3%A1%C2%84%C2%83%C3%A1%C2%85%C2%B5%C3%A1%C2%86%C2%BC%C3%A1%C2%84%C2%80%C3%A1%C2%85%C2%A9%C3%A1%C2%86%C2%BC%C3%A1%C2%84%C2%86%C3%A1%C2%85%C2%A9%C3%A1%C2%84%C2%8C%C3%A1%C2%85%C2%A5%C3%A1%C2%86%C2%AB+%C3%A1%C2%84%C2%89%C3%A1%C2%85%C2%AE%C3%A1%C2%84%C2%89%C3%A1%C2%85%C2%A1%C3%A1%C2%86%C2%BC%C3%A1%C2%84%C2%8C%C3%A1%C2%85%C2%A1%C3%A1%C2%86%C2%A8.png\\n\\n스파르타 소식\\n\\n'AII-in 코딩 공모전’ 수상작을 소개합니다\"), Document(id='5628d21b-c90f-4c0c-a0a1-2d490e842fc6', metadata={'source': 'https://spartacodingclub.kr/blog/all-in-challenge_winner'}, page_content=\"포인트\\n\\n로딩중\\n\\n쿠폰\\n\\n내 강의실\\n\\n국비 신청 내역\\n\\n수강권\\n\\n증명서\\n\\n숙제 피드백\\n\\n계정\\n\\n로그아웃\\n\\n1725353737651-%C3%A1%C2%84%C2%8F%C3%A1%C2%85%C2%A9%C3%A1%C2%84%C2%83%C3%A1%C2%85%C2%B5%C3%A1%C2%86%C2%BC%C3%A1%C2%84%C2%80%C3%A1%C2%85%C2%A9%C3%A1%C2%86%C2%BC%C3%A1%C2%84%C2%86%C3%A1%C2%85%C2%A9%C3%A1%C2%84%C2%8C%C3%A1%C2%85%C2%A5%C3%A1%C2%86%C2%AB+%C3%A1%C2%84%C2%89%C3%A1%C2%85%C2%AE%C3%A1%C2%84%C2%89%C3%A1%C2%85%C2%A1%C3%A1%C2%86%C2%BC%C3%A1%C2%84%C2%8C%C3%A1%C2%85%C2%A1%C3%A1%C2%86%C2%A8.png\\n\\n스파르타 소식\\n\\n'AII-in 코딩 공모전’ 수상작을 소개합니다\"), Document(id='36c0a85e-ebb8-4a30-b075-2a4fc1279218', metadata={'source': 'https://spartacodingclub.kr/blog/all-in-challenge_winner'}, page_content=\"포인트\\n\\n로딩중\\n\\n쿠폰\\n\\n내 강의실\\n\\n국비 신청 내역\\n\\n수강권\\n\\n증명서\\n\\n숙제 피드백\\n\\n계정\\n\\n로그아웃\\n\\n1725353737651-%C3%A1%C2%84%C2%8F%C3%A1%C2%85%C2%A9%C3%A1%C2%84%C2%83%C3%A1%C2%85%C2%B5%C3%A1%C2%86%C2%BC%C3%A1%C2%84%C2%80%C3%A1%C2%85%C2%A9%C3%A1%C2%86%C2%BC%C3%A1%C2%84%C2%86%C3%A1%C2%85%C2%A9%C3%A1%C2%84%C2%8C%C3%A1%C2%85%C2%A5%C3%A1%C2%86%C2%AB+%C3%A1%C2%84%C2%89%C3%A1%C2%85%C2%AE%C3%A1%C2%84%C2%89%C3%A1%C2%85%C2%A1%C3%A1%C2%86%C2%BC%C3%A1%C2%84%C2%8C%C3%A1%C2%85%C2%A1%C3%A1%C2%86%C2%A8.png\\n\\n스파르타 소식\\n\\n'AII-in 코딩 공모전’ 수상작을 소개합니다\"), Document(id='2e83dd5b-3b86-43bd-8954-d6ed4fea5efa', metadata={'source': 'https://spartacodingclub.kr/blog/all-in-challenge_winner'}, page_content='FE(프론트엔드): Spring Boot, MySQL, Spring WebSocket\\n\\nBE(백엔드): React Native, TanStack Query, Axios\\n\\n코딩 공모전 수상작은 대학생들의 팀프로젝트를 통해 만들어진 웹/앱 서비스입니다. 캠퍼스에서의 문제를 해결하자는 참가자들의 아이디어에서 시작되었죠. 누구나 세상에 선보이고 싶은 나만의 아이디어와 기초 코딩 기술만 활용한다면, 얼마든지 서비스를 만들 수 있습니다. 스파르타코딩클럽의 내일배움캠프에서는 비전공, 초보자도 웹/앱 개발자로 거듭날 수 있는 다양한 트랙이 준비돼 있습니다. 나만의 아이디어를 세상에 선보이고 싶은 누구나에게 열려 있으니 주저말고 도전해 보세요.\\n\\n💡<All-in> 코딩 공모전에서 만든 다양한 서비스를 만나보고 싶다면?\\n\\n다양한 서비스와 기발한 아이디어가 모인 곳에 초대합니다. 참가자들의 문제 해결방법이 궁금하시다면 지금 바로 ‘All-in 공모전’에서 만나보세요!\\n\\n👉🏻 공모전 결과물 보러가기'), Document(id='f2d6d638-a0f6-476b-878f-18da0bb725a9', metadata={'source': 'https://spartacodingclub.kr/blog/all-in-challenge_winner'}, page_content='FE(프론트엔드): Spring Boot, MySQL, Spring WebSocket\\n\\nBE(백엔드): React Native, TanStack Query, Axios\\n\\n코딩 공모전 수상작은 대학생들의 팀프로젝트를 통해 만들어진 웹/앱 서비스입니다. 캠퍼스에서의 문제를 해결하자는 참가자들의 아이디어에서 시작되었죠. 누구나 세상에 선보이고 싶은 나만의 아이디어와 기초 코딩 기술만 활용한다면, 얼마든지 서비스를 만들 수 있습니다. 스파르타코딩클럽의 내일배움캠프에서는 비전공, 초보자도 웹/앱 개발자로 거듭날 수 있는 다양한 트랙이 준비돼 있습니다. 나만의 아이디어를 세상에 선보이고 싶은 누구나에게 열려 있으니 주저말고 도전해 보세요.\\n\\n💡<All-in> 코딩 공모전에서 만든 다양한 서비스를 만나보고 싶다면?\\n\\n다양한 서비스와 기발한 아이디어가 모인 곳에 초대합니다. 참가자들의 문제 해결방법이 궁금하시다면 지금 바로 ‘All-in 공모전’에서 만나보세요!\\n\\n👉🏻 공모전 결과물 보러가기'), Document(id='47460c89-dbc0-4b96-bb36-abd46e3e7217', metadata={'source': 'https://spartacodingclub.kr/blog/all-in-challenge_winner'}, page_content='FE(프론트엔드): Spring Boot, MySQL, Spring WebSocket\\n\\nBE(백엔드): React Native, TanStack Query, Axios\\n\\n코딩 공모전 수상작은 대학생들의 팀프로젝트를 통해 만들어진 웹/앱 서비스입니다. 캠퍼스에서의 문제를 해결하자는 참가자들의 아이디어에서 시작되었죠. 누구나 세상에 선보이고 싶은 나만의 아이디어와 기초 코딩 기술만 활용한다면, 얼마든지 서비스를 만들 수 있습니다. 스파르타코딩클럽의 내일배움캠프에서는 비전공, 초보자도 웹/앱 개발자로 거듭날 수 있는 다양한 트랙이 준비돼 있습니다. 나만의 아이디어를 세상에 선보이고 싶은 누구나에게 열려 있으니 주저말고 도전해 보세요.\\n\\n💡<All-in> 코딩 공모전에서 만든 다양한 서비스를 만나보고 싶다면?\\n\\n다양한 서비스와 기발한 아이디어가 모인 곳에 초대합니다. 참가자들의 문제 해결방법이 궁금하시다면 지금 바로 ‘All-in 공모전’에서 만나보세요!\\n\\n👉🏻 공모전 결과물 보러가기'), Document(id='c34b70be-39f6-4c04-a922-983ba6b52b2b', metadata={'source': 'https://spartacodingclub.kr/blog/all-in-challenge_winner'}, page_content='FE(프론트엔드): Spring Boot, MySQL, Spring WebSocket\\n\\nBE(백엔드): React Native, TanStack Query, Axios\\n\\n코딩 공모전 수상작은 대학생들의 팀프로젝트를 통해 만들어진 웹/앱 서비스입니다. 캠퍼스에서의 문제를 해결하자는 참가자들의 아이디어에서 시작되었죠. 누구나 세상에 선보이고 싶은 나만의 아이디어와 기초 코딩 기술만 활용한다면, 얼마든지 서비스를 만들 수 있습니다. 스파르타코딩클럽의 내일배움캠프에서는 비전공, 초보자도 웹/앱 개발자로 거듭날 수 있는 다양한 트랙이 준비돼 있습니다. 나만의 아이디어를 세상에 선보이고 싶은 누구나에게 열려 있으니 주저말고 도전해 보세요.\\n\\n💡<All-in> 코딩 공모전에서 만든 다양한 서비스를 만나보고 싶다면?\\n\\n다양한 서비스와 기발한 아이디어가 모인 곳에 초대합니다. 참가자들의 문제 해결방법이 궁금하시다면 지금 바로 ‘All-in 공모전’에서 만나보세요!\\n\\n👉🏻 공모전 결과물 보러가기'), Document(id='cefeb87e-82be-4c04-9366-777ec3e9bd88', metadata={'source': 'https://spartacodingclub.kr/blog/all-in-challenge_winner'}, page_content='누구나 큰일 낼 수 있어\\n\\n스파르타코딩클럽\\n\\n글 | 신수지 팀스파르타 에디터\\n\\n해당 콘텐츠는 저작권법에 의해 보호받는 저작물로 스파르타코딩클럽에 저작권이 있습니다. - 해당 콘텐츠는 사전 동의 없이 2차 가공 및 영리적인 이용을 금하고 있습니다.\\n\\n내용이 유익하셨다면? 공유하기\\n\\ncopyclip-blog-share\\n\\nkakao-blog-share\\n\\nfacebook-blog-share\\n\\n다른 분들이 많이 읽은 글\\n\\n아티클\\n\\n2024 내일배움카드로 개발자 되는 방법 : 프론트엔드 백엔드 국비지원 개발자 과정 알아보기\\n\\n조회571·8분 분량\\n\\n2024 내일배움카드로 개발자 되는 방법 : 프론트엔드 백엔드 국비지원 개발자 과정 알아보기\\n\\n아티클\\n\\n비전공자 웹개발 프론트엔드 : 비전공자가 개발자에 도전할 때 꼭 알아야 하는 것\\n\\n조회279·8분 분량\\n\\n비전공자 웹개발 프론트엔드 : 비전공자가 개발자에 도전할 때 꼭 알아야 하는 것\\n\\ncopyclip-blog-share\\n\\n고객센터'), Document(id='14d52c60-bedf-4bcf-b5ef-9035f5be159e', metadata={'source': 'https://spartacodingclub.kr/blog/all-in-challenge_winner'}, page_content='누구나 큰일 낼 수 있어\\n\\n스파르타코딩클럽\\n\\n글 | 신수지 팀스파르타 에디터\\n\\n해당 콘텐츠는 저작권법에 의해 보호받는 저작물로 스파르타코딩클럽에 저작권이 있습니다. - 해당 콘텐츠는 사전 동의 없이 2차 가공 및 영리적인 이용을 금하고 있습니다.\\n\\n내용이 유익하셨다면? 공유하기\\n\\ncopyclip-blog-share\\n\\nkakao-blog-share\\n\\nfacebook-blog-share\\n\\n다른 분들이 많이 읽은 글\\n\\n아티클\\n\\n2024 내일배움카드로 개발자 되는 방법 : 프론트엔드 백엔드 국비지원 개발자 과정 알아보기\\n\\n조회571·8분 분량\\n\\n2024 내일배움카드로 개발자 되는 방법 : 프론트엔드 백엔드 국비지원 개발자 과정 알아보기\\n\\n아티클\\n\\n비전공자 웹개발 프론트엔드 : 비전공자가 개발자에 도전할 때 꼭 알아야 하는 것\\n\\n조회279·8분 분량\\n\\n비전공자 웹개발 프론트엔드 : 비전공자가 개발자에 도전할 때 꼭 알아야 하는 것\\n\\ncopyclip-blog-share\\n\\n고객센터'), Document(id='17c8e859-0fd3-4490-8df4-c213f0a4a2d1', metadata={'source': 'https://spartacodingclub.kr/blog/all-in-challenge_winner'}, page_content='누구나 큰일 낼 수 있어\\n\\n스파르타코딩클럽\\n\\n글 | 신수지 팀스파르타 에디터\\n\\n해당 콘텐츠는 저작권법에 의해 보호받는 저작물로 스파르타코딩클럽에 저작권이 있습니다. - 해당 콘텐츠는 사전 동의 없이 2차 가공 및 영리적인 이용을 금하고 있습니다.\\n\\n내용이 유익하셨다면? 공유하기\\n\\ncopyclip-blog-share\\n\\nkakao-blog-share\\n\\nfacebook-blog-share\\n\\n다른 분들이 많이 읽은 글\\n\\n아티클\\n\\n2024 내일배움카드로 개발자 되는 방법 : 프론트엔드 백엔드 국비지원 개발자 과정 알아보기\\n\\n조회571·8분 분량\\n\\n2024 내일배움카드로 개발자 되는 방법 : 프론트엔드 백엔드 국비지원 개발자 과정 알아보기\\n\\n아티클\\n\\n비전공자 웹개발 프론트엔드 : 비전공자가 개발자에 도전할 때 꼭 알아야 하는 것\\n\\n조회279·8분 분량\\n\\n비전공자 웹개발 프론트엔드 : 비전공자가 개발자에 도전할 때 꼭 알아야 하는 것\\n\\ncopyclip-blog-share\\n\\n고객센터'), Document(id='c30bff10-83a6-46c7-8e5a-e9e5edb647eb', metadata={'source': 'https://spartacodingclub.kr/blog/all-in-challenge_winner'}, page_content='누구나 큰일 낼 수 있어\\n\\n스파르타코딩클럽\\n\\n글 | 신수지 팀스파르타 에디터\\n\\n해당 콘텐츠는 저작권법에 의해 보호받는 저작물로 스파르타코딩클럽에 저작권이 있습니다. - 해당 콘텐츠는 사전 동의 없이 2차 가공 및 영리적인 이용을 금하고 있습니다.\\n\\n내용이 유익하셨다면? 공유하기\\n\\ncopyclip-blog-share\\n\\nkakao-blog-share\\n\\nfacebook-blog-share\\n\\n다른 분들이 많이 읽은 글\\n\\n아티클\\n\\n2024 내일배움카드로 개발자 되는 방법 : 프론트엔드 백엔드 국비지원 개발자 과정 알아보기\\n\\n조회571·8분 분량\\n\\n2024 내일배움카드로 개발자 되는 방법 : 프론트엔드 백엔드 국비지원 개발자 과정 알아보기\\n\\n아티클\\n\\n비전공자 웹개발 프론트엔드 : 비전공자가 개발자에 도전할 때 꼭 알아야 하는 것\\n\\n조회279·8분 분량\\n\\n비전공자 웹개발 프론트엔드 : 비전공자가 개발자에 도전할 때 꼭 알아야 하는 것\\n\\ncopyclip-blog-share\\n\\n고객센터'), Document(id='b6c5e0f1-ae14-4e41-a353-ab4ec655ca4d', metadata={'source': 'https://spartacodingclub.kr/blog/all-in-challenge_winner'}, page_content='서비스 제작자: This is 스파게티!!!(박지성, 김서원, 박범수)\\n\\n💡K교수는 항상 수업이 끝난 후 난이도가 적절했는지 궁금했습니다. “질문 있나요?”라는 말이 수업의 마무리였지만, 대부분의 학생은 답이 없었죠. 그저 고개를 끄덕이는 몇몇 학생들만 보일 뿐, 정말 이해한 것인지, 질문할 용기가 없는 것인지 알 수 없었습니다. 이때문에 학생들이 수업 내용을 제대로 이해하고 있는지 확인하기 어려웠습니다. 어느 날 강의가 끝나고 몇몇 학생들이 몰려와 어렵다고, 다시 설명해 달라고 요청했습니다. 그제야 K교수는 알게 되었어요. 학생들이 이해하지 못하고 있었지만, 질문을 하지 않았던 것이었습니다.'), Document(id='2c2bfa15-08d8-4836-af82-f3fb848c5125', metadata={'source': 'https://spartacodingclub.kr/blog/all-in-challenge_winner'}, page_content='서비스 제작자: This is 스파게티!!!(박지성, 김서원, 박범수)\\n\\n💡K교수는 항상 수업이 끝난 후 난이도가 적절했는지 궁금했습니다. “질문 있나요?”라는 말이 수업의 마무리였지만, 대부분의 학생은 답이 없었죠. 그저 고개를 끄덕이는 몇몇 학생들만 보일 뿐, 정말 이해한 것인지, 질문할 용기가 없는 것인지 알 수 없었습니다. 이때문에 학생들이 수업 내용을 제대로 이해하고 있는지 확인하기 어려웠습니다. 어느 날 강의가 끝나고 몇몇 학생들이 몰려와 어렵다고, 다시 설명해 달라고 요청했습니다. 그제야 K교수는 알게 되었어요. 학생들이 이해하지 못하고 있었지만, 질문을 하지 않았던 것이었습니다.'), Document(id='baaa381b-0407-4104-a029-4ff07fcb6172', metadata={'source': 'https://spartacodingclub.kr/blog/all-in-challenge_winner'}, page_content='서비스 제작자: This is 스파게티!!!(박지성, 김서원, 박범수)\\n\\n💡K교수는 항상 수업이 끝난 후 난이도가 적절했는지 궁금했습니다. “질문 있나요?”라는 말이 수업의 마무리였지만, 대부분의 학생은 답이 없었죠. 그저 고개를 끄덕이는 몇몇 학생들만 보일 뿐, 정말 이해한 것인지, 질문할 용기가 없는 것인지 알 수 없었습니다. 이때문에 학생들이 수업 내용을 제대로 이해하고 있는지 확인하기 어려웠습니다. 어느 날 강의가 끝나고 몇몇 학생들이 몰려와 어렵다고, 다시 설명해 달라고 요청했습니다. 그제야 K교수는 알게 되었어요. 학생들이 이해하지 못하고 있었지만, 질문을 하지 않았던 것이었습니다.'), Document(id='5e33ae93-cdaa-4b52-89be-e603fa1745f5', metadata={'source': 'https://spartacodingclub.kr/blog/all-in-challenge_winner'}, page_content='서비스 제작자: This is 스파게티!!!(박지성, 김서원, 박범수)\\n\\n💡K교수는 항상 수업이 끝난 후 난이도가 적절했는지 궁금했습니다. “질문 있나요?”라는 말이 수업의 마무리였지만, 대부분의 학생은 답이 없었죠. 그저 고개를 끄덕이는 몇몇 학생들만 보일 뿐, 정말 이해한 것인지, 질문할 용기가 없는 것인지 알 수 없었습니다. 이때문에 학생들이 수업 내용을 제대로 이해하고 있는지 확인하기 어려웠습니다. 어느 날 강의가 끝나고 몇몇 학생들이 몰려와 어렵다고, 다시 설명해 달라고 요청했습니다. 그제야 K교수는 알게 되었어요. 학생들이 이해하지 못하고 있었지만, 질문을 하지 않았던 것이었습니다.')]\n"
     ]
    }
   ],
   "source": [
    "from langchain.retrievers import ContextualCompressionRetriever\n",
    "from langchain.retrievers.document_compressors import LLMChainExtractor\n",
    "\n",
    "retriever_mmr = vectorstore.as_retriever(search_type=\"mmr\", search_kwargs={\"k\": 50})\n",
    "retrieved_docs_mmr = retriever_mmr.invoke(user_msg)\n",
    "\n",
    "print(retrieved_docs_mmr)"
   ]
  },
  {
   "cell_type": "markdown",
   "id": "26fbc980",
   "metadata": {},
   "source": [
    "### 3. 문서압축 리트리버\n",
    "LLM을 이용해 검색된 문서를 압축하여 질문과 관련된 핵심 내용만 추출합니다."
   ]
  },
  {
   "cell_type": "code",
   "execution_count": 33,
   "id": "bc9efc14",
   "metadata": {},
   "outputs": [
    {
     "name": "stderr",
     "output_type": "stream",
     "text": [
      "INFO: HTTP Request: POST https://api.openai.com/v1/embeddings \"HTTP/1.1 200 OK\"\n",
      "INFO: HTTP Request: POST https://api.openai.com/v1/chat/completions \"HTTP/1.1 200 OK\"\n",
      "INFO: HTTP Request: POST https://api.openai.com/v1/chat/completions \"HTTP/1.1 200 OK\"\n",
      "INFO: HTTP Request: POST https://api.openai.com/v1/chat/completions \"HTTP/1.1 200 OK\"\n",
      "INFO: HTTP Request: POST https://api.openai.com/v1/chat/completions \"HTTP/1.1 200 OK\"\n",
      "INFO: HTTP Request: POST https://api.openai.com/v1/chat/completions \"HTTP/1.1 200 OK\"\n",
      "INFO: HTTP Request: POST https://api.openai.com/v1/chat/completions \"HTTP/1.1 200 OK\"\n",
      "INFO: HTTP Request: POST https://api.openai.com/v1/chat/completions \"HTTP/1.1 200 OK\"\n",
      "INFO: HTTP Request: POST https://api.openai.com/v1/chat/completions \"HTTP/1.1 200 OK\"\n",
      "INFO: HTTP Request: POST https://api.openai.com/v1/chat/completions \"HTTP/1.1 200 OK\"\n",
      "INFO: HTTP Request: POST https://api.openai.com/v1/chat/completions \"HTTP/1.1 200 OK\"\n",
      "INFO: HTTP Request: POST https://api.openai.com/v1/chat/completions \"HTTP/1.1 200 OK\"\n",
      "INFO: HTTP Request: POST https://api.openai.com/v1/chat/completions \"HTTP/1.1 200 OK\"\n",
      "INFO: HTTP Request: POST https://api.openai.com/v1/chat/completions \"HTTP/1.1 200 OK\"\n",
      "INFO: HTTP Request: POST https://api.openai.com/v1/chat/completions \"HTTP/1.1 200 OK\"\n",
      "INFO: HTTP Request: POST https://api.openai.com/v1/chat/completions \"HTTP/1.1 200 OK\"\n",
      "INFO: HTTP Request: POST https://api.openai.com/v1/chat/completions \"HTTP/1.1 200 OK\"\n",
      "INFO: HTTP Request: POST https://api.openai.com/v1/chat/completions \"HTTP/1.1 200 OK\"\n",
      "INFO: HTTP Request: POST https://api.openai.com/v1/chat/completions \"HTTP/1.1 200 OK\"\n",
      "INFO: HTTP Request: POST https://api.openai.com/v1/chat/completions \"HTTP/1.1 200 OK\"\n",
      "INFO: HTTP Request: POST https://api.openai.com/v1/chat/completions \"HTTP/1.1 200 OK\"\n",
      "INFO: HTTP Request: POST https://api.openai.com/v1/chat/completions \"HTTP/1.1 200 OK\"\n",
      "INFO: HTTP Request: POST https://api.openai.com/v1/chat/completions \"HTTP/1.1 200 OK\"\n",
      "INFO: HTTP Request: POST https://api.openai.com/v1/chat/completions \"HTTP/1.1 200 OK\"\n",
      "INFO: HTTP Request: POST https://api.openai.com/v1/chat/completions \"HTTP/1.1 200 OK\"\n",
      "INFO: HTTP Request: POST https://api.openai.com/v1/chat/completions \"HTTP/1.1 200 OK\"\n",
      "INFO: HTTP Request: POST https://api.openai.com/v1/chat/completions \"HTTP/1.1 200 OK\"\n",
      "INFO: HTTP Request: POST https://api.openai.com/v1/chat/completions \"HTTP/1.1 200 OK\"\n",
      "INFO: HTTP Request: POST https://api.openai.com/v1/chat/completions \"HTTP/1.1 200 OK\"\n",
      "INFO: HTTP Request: POST https://api.openai.com/v1/chat/completions \"HTTP/1.1 200 OK\"\n",
      "INFO: HTTP Request: POST https://api.openai.com/v1/chat/completions \"HTTP/1.1 200 OK\"\n",
      "INFO: HTTP Request: POST https://api.openai.com/v1/chat/completions \"HTTP/1.1 200 OK\"\n",
      "INFO: HTTP Request: POST https://api.openai.com/v1/chat/completions \"HTTP/1.1 200 OK\"\n",
      "INFO: HTTP Request: POST https://api.openai.com/v1/chat/completions \"HTTP/1.1 200 OK\"\n",
      "INFO: HTTP Request: POST https://api.openai.com/v1/chat/completions \"HTTP/1.1 200 OK\"\n",
      "INFO: HTTP Request: POST https://api.openai.com/v1/chat/completions \"HTTP/1.1 200 OK\"\n",
      "INFO: HTTP Request: POST https://api.openai.com/v1/chat/completions \"HTTP/1.1 200 OK\"\n",
      "INFO: HTTP Request: POST https://api.openai.com/v1/chat/completions \"HTTP/1.1 200 OK\"\n",
      "INFO: HTTP Request: POST https://api.openai.com/v1/chat/completions \"HTTP/1.1 200 OK\"\n",
      "INFO: HTTP Request: POST https://api.openai.com/v1/chat/completions \"HTTP/1.1 200 OK\"\n",
      "INFO: HTTP Request: POST https://api.openai.com/v1/chat/completions \"HTTP/1.1 200 OK\"\n",
      "INFO: HTTP Request: POST https://api.openai.com/v1/chat/completions \"HTTP/1.1 200 OK\"\n",
      "INFO: HTTP Request: POST https://api.openai.com/v1/chat/completions \"HTTP/1.1 200 OK\"\n",
      "INFO: HTTP Request: POST https://api.openai.com/v1/chat/completions \"HTTP/1.1 200 OK\"\n",
      "INFO: HTTP Request: POST https://api.openai.com/v1/chat/completions \"HTTP/1.1 200 OK\"\n",
      "INFO: HTTP Request: POST https://api.openai.com/v1/chat/completions \"HTTP/1.1 200 OK\"\n",
      "INFO: HTTP Request: POST https://api.openai.com/v1/chat/completions \"HTTP/1.1 200 OK\"\n",
      "INFO: HTTP Request: POST https://api.openai.com/v1/chat/completions \"HTTP/1.1 200 OK\"\n",
      "INFO: HTTP Request: POST https://api.openai.com/v1/chat/completions \"HTTP/1.1 200 OK\"\n",
      "INFO: HTTP Request: POST https://api.openai.com/v1/chat/completions \"HTTP/1.1 200 OK\"\n",
      "INFO: HTTP Request: POST https://api.openai.com/v1/chat/completions \"HTTP/1.1 200 OK\"\n"
     ]
    },
    {
     "name": "stdout",
     "output_type": "stream",
     "text": [
      "17\n"
     ]
    },
    {
     "data": {
      "text/plain": [
       "[Document(metadata={'source': 'https://spartacodingclub.kr/blog/all-in-challenge_winner'}, page_content='<All-in> 코딩 공모전은 대학생들이 캠퍼스에서 겪은 불편함과 문제를 자신만의 아이디어로 해결해보는 대회였는데요. 이번 공모전에서 다양한 혁신적인 아이디어와 열정으로 가득한 수많은 프로젝트가 탄생했습니다. 그중 뛰어난 성과를 낸 수상작 6개를 소개합니다.\\n\\n🏆 대상\\n\\n[Lexi Note] 언어공부 필기 웹 서비스\\n\\n서비스 제작자: 다나와(김다애, 박나경)'),\n",
       " Document(metadata={'source': 'https://spartacodingclub.kr/blog/all-in-challenge_winner'}, page_content='<All-in> 코딩 공모전은 대학생들이 캠퍼스에서 겪은 불편함과 문제를 자신만의 아이디어로 해결해보는 대회였는데요. 이번 공모전에서 다양한 혁신적인 아이디어와 열정으로 가득한 수많은 프로젝트가 탄생했습니다. 그중 뛰어난 성과를 낸 수상작 6개를 소개합니다.\\n\\n🏆 대상\\n\\n[Lexi Note] 언어공부 필기 웹 서비스\\n\\n서비스 제작자: 다나와(김다애, 박나경)'),\n",
       " Document(metadata={'source': 'https://spartacodingclub.kr/blog/all-in-challenge_winner'}, page_content='<All-in> 코딩 공모전은 대학생들이 캠퍼스에서 겪은 불편함과 문제를 자신만의 아이디어로 해결해보는 대회였는데요. 이번 공모전에서 다양한 혁신적인 아이디어와 열정으로 가득한 수많은 프로젝트가 탄생했습니다. 그중 뛰어난 성과를 낸 수상작 6개를 소개합니다.\\n\\n🏆 대상\\n\\n[Lexi Note] 언어공부 필기 웹 서비스\\n\\n서비스 제작자: 다나와(김다애, 박나경)'),\n",
       " Document(metadata={'source': 'https://spartacodingclub.kr/blog/all-in-challenge_winner'}, page_content='<All-in> 코딩 공모전은 대학생들이 캠퍼스에서 겪은 불편함과 문제를 자신만의 아이디어로 해결해보는 대회였는데요. 이번 공모전에서 다양한 혁신적인 아이디어와 열정으로 가득한 수많은 프로젝트가 탄생했습니다. 그중 뛰어난 성과를 낸 수상작 6개를 소개합니다.\\n\\n🏆 대상\\n\\n[Lexi Note] 언어공부 필기 웹 서비스\\n\\n서비스 제작자: 다나와(김다애, 박나경)'),\n",
       " Document(metadata={'source': 'https://spartacodingclub.kr/blog/all-in-challenge_winner'}, page_content=\"'AII-in 코딩 공모전’ 수상작을 소개합니다\"),\n",
       " Document(metadata={'source': 'https://spartacodingclub.kr/blog/all-in-challenge_winner'}, page_content=\"'AII-in 코딩 공모전’ 수상작을 소개합니다\"),\n",
       " Document(metadata={'source': 'https://spartacodingclub.kr/blog/all-in-challenge_winner'}, page_content=\"'AII-in 코딩 공모전’ 수상작을 소개합니다\"),\n",
       " Document(metadata={'source': 'https://spartacodingclub.kr/blog/all-in-challenge_winner'}, page_content=\"'AII-in 코딩 공모전’ 수상작을 소개합니다\"),\n",
       " Document(metadata={'source': 'https://spartacodingclub.kr/blog/all-in-challenge_winner'}, page_content='코딩 공모전 수상작은 대학생들의 팀프로젝트를 통해 만들어진 웹/앱 서비스입니다. 캠퍼스에서의 문제를 해결하자는 참가자들의 아이디어에서 시작되었죠. 누구나 세상에 선보이고 싶은 나만의 아이디어와 기초 코딩 기술만 활용한다면, 얼마든지 서비스를 만들 수 있습니다. 다양한 서비스와 기발한 아이디어가 모인 곳에 초대합니다. 참가자들의 문제 해결방법이 궁금하시다면 지금 바로 ‘All-in 공모전’에서 만나보세요!'),\n",
       " Document(metadata={'source': 'https://spartacodingclub.kr/blog/all-in-challenge_winner'}, page_content='코딩 공모전 수상작은 대학생들의 팀프로젝트를 통해 만들어진 웹/앱 서비스입니다. 캠퍼스에서의 문제를 해결하자는 참가자들의 아이디어에서 시작되었죠. 누구나 세상에 선보이고 싶은 나만의 아이디어와 기초 코딩 기술만 활용한다면, 얼마든지 서비스를 만들 수 있습니다. 다양한 서비스와 기발한 아이디어가 모인 곳에 초대합니다. 참가자들의 문제 해결방법이 궁금하시다면 지금 바로 ‘All-in 공모전’에서 만나보세요!'),\n",
       " Document(metadata={'source': 'https://spartacodingclub.kr/blog/all-in-challenge_winner'}, page_content='코딩 공모전 수상작은 대학생들의 팀프로젝트를 통해 만들어진 웹/앱 서비스입니다. 캠퍼스에서의 문제를 해결하자는 참가자들의 아이디어에서 시작되었죠. 누구나 세상에 선보이고 싶은 나만의 아이디어와 기초 코딩 기술만 활용한다면, 얼마든지 서비스를 만들 수 있습니다. 다양한 서비스와 기발한 아이디어가 모인 곳에 초대합니다. 참가자들의 문제 해결방법이 궁금하시다면 지금 바로 ‘All-in 공모전’에서 만나보세요!'),\n",
       " Document(metadata={'source': 'https://spartacodingclub.kr/blog/all-in-challenge_winner'}, page_content='코딩 공모전 수상작은 대학생들의 팀프로젝트를 통해 만들어진 웹/앱 서비스입니다. 캠퍼스에서의 문제를 해결하자는 참가자들의 아이디어에서 시작되었죠. 누구나 세상에 선보이고 싶은 나만의 아이디어와 기초 코딩 기술만 활용한다면, 얼마든지 서비스를 만들 수 있습니다. 다양한 서비스와 기발한 아이디어가 모인 곳에 초대합니다. 참가자들의 문제 해결방법이 궁금하시다면 지금 바로 ‘All-in 공모전’에서 만나보세요!'),\n",
       " Document(metadata={'source': 'https://spartacodingclub.kr/blog/all-in-challenge_winner'}, page_content='🎖️ 우수상\\n\\n[우리집 히어로즈] 벌레 퇴치 영웅 매칭 서비스\\n\\n서비스 제작자: 인트(배정연, 한지수)\\n\\n💡C는 이번 학기 처음으로 자취를 시작했습니다. 원래부터 작은 벌레에 민감했던 C. 자취방에서 자주 나타나는 벌레들 때문에 밤잠을 설치길 반복했습니다. 밤마다 벌레를 잡으려고 애쓰던 C는 커뮤니티를 통해 다른 학생들도 같은 문제를 겪고 있다는 것을 알게 되었습니다. 하지만 커뮤니티에서 벌레 퇴치 히어로를 찾기 위해서는 내 개인 정보를 노출해야 한다는 점이 찝찝했죠.'),\n",
       " Document(metadata={'source': 'https://spartacodingclub.kr/blog/all-in-challenge_winner'}, page_content='🎖️ 우수상\\n\\n[우리집 히어로즈] 벌레 퇴치 영웅 매칭 서비스\\n\\n서비스 제작자: 인트(배정연, 한지수)\\n\\n💡C는 이번 학기 처음으로 자취를 시작했습니다. 원래부터 작은 벌레에 민감했던 C. 자취방에서 자주 나타나는 벌레들 때문에 밤잠을 설치길 반복했습니다. 밤마다 벌레를 잡으려고 애쓰던 C는 커뮤니티를 통해 다른 학생들도 같은 문제를 겪고 있다는 것을 알게 되었습니다. 하지만 커뮤니티에서 벌레 퇴치 히어로를 찾기 위해서는 내 개인 정보를 노출해야 한다는 점이 찝찝했죠.'),\n",
       " Document(metadata={'source': 'https://spartacodingclub.kr/blog/all-in-challenge_winner'}, page_content='🎖️ 우수상\\n\\n[우리집 히어로즈] 벌레 퇴치 영웅 매칭 서비스\\n\\n서비스 제작자: 인트(배정연, 한지수)\\n\\n💡C는 이번 학기 처음으로 자취를 시작했습니다. 원래부터 작은 벌레에 민감했던 C. 자취방에서 자주 나타나는 벌레들 때문에 밤잠을 설치길 반복했습니다. 밤마다 벌레를 잡으려고 애쓰던 C는 커뮤니티를 통해 다른 학생들도 같은 문제를 겪고 있다는 것을 알게 되었습니다. 하지만 커뮤니티에서 벌레 퇴치 히어로를 찾기 위해서는 내 개인 정보를 노출해야 한다는 점이 찝찝했죠.'),\n",
       " Document(metadata={'source': 'https://spartacodingclub.kr/blog/all-in-challenge_winner'}, page_content='🎖️ 우수상\\n\\n[우리집 히어로즈] 벌레 퇴치 영웅 매칭 서비스\\n\\n서비스 제작자: 인트(배정연, 한지수)\\n\\n💡C는 이번 학기 처음으로 자취를 시작했습니다. 원래부터 작은 벌레에 민감했던 C. 자취방에서 자주 나타나는 벌레들 때문에 밤잠을 설치길 반복했습니다. 밤마다 벌레를 잡으려고 애쓰던 C는 커뮤니티를 통해 다른 학생들도 같은 문제를 겪고 있다는 것을 알게 되었습니다. 하지만 커뮤니티에서 벌레 퇴치 히어로를 찾기 위해서는 내 개인 정보를 노출해야 한다는 점이 찝찝했죠.'),\n",
       " Document(metadata={'source': 'https://spartacodingclub.kr/blog/all-in-challenge_winner'}, page_content='🎖️ 우수상\\n\\n[에코 클래스룸] 수업 실시간 소통 서비스')]"
      ]
     },
     "execution_count": 33,
     "metadata": {},
     "output_type": "execute_result"
    }
   ],
   "source": [
    "base_retriever_context = vectorstore.as_retriever(\n",
    "                                search_type='similarity',\n",
    "                                search_kwargs={'k':50})\n",
    "compressor = LLMChainExtractor.from_llm(llm)\n",
    "compression_retriever = ContextualCompressionRetriever(\n",
    "    base_compressor=compressor, base_retriever=base_retriever_context\n",
    ")\n",
    "\n",
    "compressed_docs_context = compression_retriever.get_relevant_documents(user_msg)\n",
    "print(len(compressed_docs_context))\n",
    "compressed_docs_context"
   ]
  },
  {
   "cell_type": "markdown",
   "id": "f1f9f720",
   "metadata": {},
   "source": [
    "### 4. self-query 리트리버\n",
    "이 방법은 메타데이터 필드를 정의하여 LLM이 사용자 질문을 구조화된 쿼리로 변환하도록 합니다. 공모전과 관련된 메타데이터(상장 종류, 공모전 이름, 수상자 등)를 정의하여 보다 정확한 검색이 가능하도록 합니다."
   ]
  },
  {
   "cell_type": "code",
   "execution_count": 34,
   "id": "5c4f576b",
   "metadata": {},
   "outputs": [
    {
     "name": "stderr",
     "output_type": "stream",
     "text": [
      "INFO: HTTP Request: POST https://api.openai.com/v1/chat/completions \"HTTP/1.1 200 OK\"\n",
      "INFO: HTTP Request: POST https://api.openai.com/v1/embeddings \"HTTP/1.1 200 OK\"\n"
     ]
    },
    {
     "name": "stdout",
     "output_type": "stream",
     "text": [
      "50\n"
     ]
    },
    {
     "data": {
      "text/plain": [
       "[Document(id='bd3d7b56-2b12-4853-b476-d917c3397ed5', metadata={'source': 'https://spartacodingclub.kr/blog/all-in-challenge_winner'}, page_content='FE(프론트엔드): React, Tesseract.js, React-Quill, HTML, CSS, JavaScript\\n\\nBE(백엔드): Java, Spring Boot, MariaDB\\n\\n🎖️ 우수상\\n\\n[우리집 히어로즈] 벌레 퇴치 영웅 매칭 서비스\\n\\n서비스 제작자: 인트(배정연, 한지수)\\n\\n💡C는 이번 학기 처음으로 자취를 시작했습니다. 원래부터 작은 벌레에 민감했던 C. 자취방에서 자주 나타나는 벌레들 때문에 밤잠을 설치길 반복했습니다. 밤마다 벌레를 잡으려고 애쓰던 C는 커뮤니티를 통해 다른 학생들도 같은 문제를 겪고 있다는 것을 알게 되었습니다. 하지만 커뮤니티에서 벌레 퇴치 히어로를 찾기 위해서는 내 개인 정보를 노출해야 한다는 점이 찝찝했죠.'),\n",
       " Document(id='d9e37fe3-0262-4ea1-9970-daa50023b13d', metadata={'source': 'https://spartacodingclub.kr/blog/all-in-challenge_winner'}, page_content='FE(프론트엔드): React, Tesseract.js, React-Quill, HTML, CSS, JavaScript\\n\\nBE(백엔드): Java, Spring Boot, MariaDB\\n\\n🎖️ 우수상\\n\\n[우리집 히어로즈] 벌레 퇴치 영웅 매칭 서비스\\n\\n서비스 제작자: 인트(배정연, 한지수)\\n\\n💡C는 이번 학기 처음으로 자취를 시작했습니다. 원래부터 작은 벌레에 민감했던 C. 자취방에서 자주 나타나는 벌레들 때문에 밤잠을 설치길 반복했습니다. 밤마다 벌레를 잡으려고 애쓰던 C는 커뮤니티를 통해 다른 학생들도 같은 문제를 겪고 있다는 것을 알게 되었습니다. 하지만 커뮤니티에서 벌레 퇴치 히어로를 찾기 위해서는 내 개인 정보를 노출해야 한다는 점이 찝찝했죠.'),\n",
       " Document(id='55a7cdf8-91c2-4589-ba85-19527048d319', metadata={'source': 'https://spartacodingclub.kr/blog/all-in-challenge_winner'}, page_content='FE(프론트엔드): React, Tesseract.js, React-Quill, HTML, CSS, JavaScript\\n\\nBE(백엔드): Java, Spring Boot, MariaDB\\n\\n🎖️ 우수상\\n\\n[우리집 히어로즈] 벌레 퇴치 영웅 매칭 서비스\\n\\n서비스 제작자: 인트(배정연, 한지수)\\n\\n💡C는 이번 학기 처음으로 자취를 시작했습니다. 원래부터 작은 벌레에 민감했던 C. 자취방에서 자주 나타나는 벌레들 때문에 밤잠을 설치길 반복했습니다. 밤마다 벌레를 잡으려고 애쓰던 C는 커뮤니티를 통해 다른 학생들도 같은 문제를 겪고 있다는 것을 알게 되었습니다. 하지만 커뮤니티에서 벌레 퇴치 히어로를 찾기 위해서는 내 개인 정보를 노출해야 한다는 점이 찝찝했죠.'),\n",
       " Document(id='ea0f5bbf-6210-408e-a862-c226cfb1391c', metadata={'source': 'https://spartacodingclub.kr/blog/all-in-challenge_winner'}, page_content='FE(프론트엔드): React, Tesseract.js, React-Quill, HTML, CSS, JavaScript\\n\\nBE(백엔드): Java, Spring Boot, MariaDB\\n\\n🎖️ 우수상\\n\\n[우리집 히어로즈] 벌레 퇴치 영웅 매칭 서비스\\n\\n서비스 제작자: 인트(배정연, 한지수)\\n\\n💡C는 이번 학기 처음으로 자취를 시작했습니다. 원래부터 작은 벌레에 민감했던 C. 자취방에서 자주 나타나는 벌레들 때문에 밤잠을 설치길 반복했습니다. 밤마다 벌레를 잡으려고 애쓰던 C는 커뮤니티를 통해 다른 학생들도 같은 문제를 겪고 있다는 것을 알게 되었습니다. 하지만 커뮤니티에서 벌레 퇴치 히어로를 찾기 위해서는 내 개인 정보를 노출해야 한다는 점이 찝찝했죠.'),\n",
       " Document(id='1890ea89-705e-4395-8d4d-cf71ebd8d549', metadata={'source': 'https://spartacodingclub.kr/blog/all-in-challenge_winner'}, page_content='💡A는 올해 복학한 3학년 학생입니다. 강의실과 도서관을 오가며 바쁜 일정을 소화하느라 정신이 없지만, 수업마다 나오는 과제와 각종 활동, 시험 준비까지 겹치면서 혼란에 빠지기 일쑤였습니다. 복학생이다 보니 학교에서 전달되는 공지사항도 제대로 전달받지 못해 항상 중요한 정보를 놓칠까 봐 걱정이었죠.'),\n",
       " Document(id='876c8841-bbda-46b1-9fa9-88359c7258e8', metadata={'source': 'https://spartacodingclub.kr/blog/all-in-challenge_winner'}, page_content='💡A는 올해 복학한 3학년 학생입니다. 강의실과 도서관을 오가며 바쁜 일정을 소화하느라 정신이 없지만, 수업마다 나오는 과제와 각종 활동, 시험 준비까지 겹치면서 혼란에 빠지기 일쑤였습니다. 복학생이다 보니 학교에서 전달되는 공지사항도 제대로 전달받지 못해 항상 중요한 정보를 놓칠까 봐 걱정이었죠.'),\n",
       " Document(id='060c2a7f-23ba-4609-8f68-ef7f66c3cae2', metadata={'source': 'https://spartacodingclub.kr/blog/all-in-challenge_winner'}, page_content='💡A는 올해 복학한 3학년 학생입니다. 강의실과 도서관을 오가며 바쁜 일정을 소화하느라 정신이 없지만, 수업마다 나오는 과제와 각종 활동, 시험 준비까지 겹치면서 혼란에 빠지기 일쑤였습니다. 복학생이다 보니 학교에서 전달되는 공지사항도 제대로 전달받지 못해 항상 중요한 정보를 놓칠까 봐 걱정이었죠.'),\n",
       " Document(id='89aed369-43d4-4521-9106-3d03754df9ab', metadata={'source': 'https://spartacodingclub.kr/blog/all-in-challenge_winner'}, page_content='💡A는 올해 복학한 3학년 학생입니다. 강의실과 도서관을 오가며 바쁜 일정을 소화하느라 정신이 없지만, 수업마다 나오는 과제와 각종 활동, 시험 준비까지 겹치면서 혼란에 빠지기 일쑤였습니다. 복학생이다 보니 학교에서 전달되는 공지사항도 제대로 전달받지 못해 항상 중요한 정보를 놓칠까 봐 걱정이었죠.'),\n",
       " Document(id='5a57a380-17f6-484a-95c6-88244b90ac10', metadata={'source': 'https://spartacodingclub.kr/blog/all-in-challenge_winner'}, page_content=\"포인트\\n\\n로딩중\\n\\n쿠폰\\n\\n내 강의실\\n\\n국비 신청 내역\\n\\n수강권\\n\\n증명서\\n\\n숙제 피드백\\n\\n계정\\n\\n로그아웃\\n\\n1725353737651-%C3%A1%C2%84%C2%8F%C3%A1%C2%85%C2%A9%C3%A1%C2%84%C2%83%C3%A1%C2%85%C2%B5%C3%A1%C2%86%C2%BC%C3%A1%C2%84%C2%80%C3%A1%C2%85%C2%A9%C3%A1%C2%86%C2%BC%C3%A1%C2%84%C2%86%C3%A1%C2%85%C2%A9%C3%A1%C2%84%C2%8C%C3%A1%C2%85%C2%A5%C3%A1%C2%86%C2%AB+%C3%A1%C2%84%C2%89%C3%A1%C2%85%C2%AE%C3%A1%C2%84%C2%89%C3%A1%C2%85%C2%A1%C3%A1%C2%86%C2%BC%C3%A1%C2%84%C2%8C%C3%A1%C2%85%C2%A1%C3%A1%C2%86%C2%A8.png\\n\\n스파르타 소식\\n\\n'AII-in 코딩 공모전’ 수상작을 소개합니다\"),\n",
       " Document(id='5628d21b-c90f-4c0c-a0a1-2d490e842fc6', metadata={'source': 'https://spartacodingclub.kr/blog/all-in-challenge_winner'}, page_content=\"포인트\\n\\n로딩중\\n\\n쿠폰\\n\\n내 강의실\\n\\n국비 신청 내역\\n\\n수강권\\n\\n증명서\\n\\n숙제 피드백\\n\\n계정\\n\\n로그아웃\\n\\n1725353737651-%C3%A1%C2%84%C2%8F%C3%A1%C2%85%C2%A9%C3%A1%C2%84%C2%83%C3%A1%C2%85%C2%B5%C3%A1%C2%86%C2%BC%C3%A1%C2%84%C2%80%C3%A1%C2%85%C2%A9%C3%A1%C2%86%C2%BC%C3%A1%C2%84%C2%86%C3%A1%C2%85%C2%A9%C3%A1%C2%84%C2%8C%C3%A1%C2%85%C2%A5%C3%A1%C2%86%C2%AB+%C3%A1%C2%84%C2%89%C3%A1%C2%85%C2%AE%C3%A1%C2%84%C2%89%C3%A1%C2%85%C2%A1%C3%A1%C2%86%C2%BC%C3%A1%C2%84%C2%8C%C3%A1%C2%85%C2%A1%C3%A1%C2%86%C2%A8.png\\n\\n스파르타 소식\\n\\n'AII-in 코딩 공모전’ 수상작을 소개합니다\"),\n",
       " Document(id='36c0a85e-ebb8-4a30-b075-2a4fc1279218', metadata={'source': 'https://spartacodingclub.kr/blog/all-in-challenge_winner'}, page_content=\"포인트\\n\\n로딩중\\n\\n쿠폰\\n\\n내 강의실\\n\\n국비 신청 내역\\n\\n수강권\\n\\n증명서\\n\\n숙제 피드백\\n\\n계정\\n\\n로그아웃\\n\\n1725353737651-%C3%A1%C2%84%C2%8F%C3%A1%C2%85%C2%A9%C3%A1%C2%84%C2%83%C3%A1%C2%85%C2%B5%C3%A1%C2%86%C2%BC%C3%A1%C2%84%C2%80%C3%A1%C2%85%C2%A9%C3%A1%C2%86%C2%BC%C3%A1%C2%84%C2%86%C3%A1%C2%85%C2%A9%C3%A1%C2%84%C2%8C%C3%A1%C2%85%C2%A5%C3%A1%C2%86%C2%AB+%C3%A1%C2%84%C2%89%C3%A1%C2%85%C2%AE%C3%A1%C2%84%C2%89%C3%A1%C2%85%C2%A1%C3%A1%C2%86%C2%BC%C3%A1%C2%84%C2%8C%C3%A1%C2%85%C2%A1%C3%A1%C2%86%C2%A8.png\\n\\n스파르타 소식\\n\\n'AII-in 코딩 공모전’ 수상작을 소개합니다\"),\n",
       " Document(id='e85ff245-7fa6-42b8-8ab4-6f8aa2a9e5cd', metadata={'source': 'https://spartacodingclub.kr/blog/all-in-challenge_winner'}, page_content=\"포인트\\n\\n로딩중\\n\\n쿠폰\\n\\n내 강의실\\n\\n국비 신청 내역\\n\\n수강권\\n\\n증명서\\n\\n숙제 피드백\\n\\n계정\\n\\n로그아웃\\n\\n1725353737651-%C3%A1%C2%84%C2%8F%C3%A1%C2%85%C2%A9%C3%A1%C2%84%C2%83%C3%A1%C2%85%C2%B5%C3%A1%C2%86%C2%BC%C3%A1%C2%84%C2%80%C3%A1%C2%85%C2%A9%C3%A1%C2%86%C2%BC%C3%A1%C2%84%C2%86%C3%A1%C2%85%C2%A9%C3%A1%C2%84%C2%8C%C3%A1%C2%85%C2%A5%C3%A1%C2%86%C2%AB+%C3%A1%C2%84%C2%89%C3%A1%C2%85%C2%AE%C3%A1%C2%84%C2%89%C3%A1%C2%85%C2%A1%C3%A1%C2%86%C2%BC%C3%A1%C2%84%C2%8C%C3%A1%C2%85%C2%A1%C3%A1%C2%86%C2%A8.png\\n\\n스파르타 소식\\n\\n'AII-in 코딩 공모전’ 수상작을 소개합니다\"),\n",
       " Document(id='c30bff10-83a6-46c7-8e5a-e9e5edb647eb', metadata={'source': 'https://spartacodingclub.kr/blog/all-in-challenge_winner'}, page_content='누구나 큰일 낼 수 있어\\n\\n스파르타코딩클럽\\n\\n글 | 신수지 팀스파르타 에디터\\n\\n해당 콘텐츠는 저작권법에 의해 보호받는 저작물로 스파르타코딩클럽에 저작권이 있습니다. - 해당 콘텐츠는 사전 동의 없이 2차 가공 및 영리적인 이용을 금하고 있습니다.\\n\\n내용이 유익하셨다면? 공유하기\\n\\ncopyclip-blog-share\\n\\nkakao-blog-share\\n\\nfacebook-blog-share\\n\\n다른 분들이 많이 읽은 글\\n\\n아티클\\n\\n2024 내일배움카드로 개발자 되는 방법 : 프론트엔드 백엔드 국비지원 개발자 과정 알아보기\\n\\n조회571·8분 분량\\n\\n2024 내일배움카드로 개발자 되는 방법 : 프론트엔드 백엔드 국비지원 개발자 과정 알아보기\\n\\n아티클\\n\\n비전공자 웹개발 프론트엔드 : 비전공자가 개발자에 도전할 때 꼭 알아야 하는 것\\n\\n조회279·8분 분량\\n\\n비전공자 웹개발 프론트엔드 : 비전공자가 개발자에 도전할 때 꼭 알아야 하는 것\\n\\ncopyclip-blog-share\\n\\n고객센터'),\n",
       " Document(id='14d52c60-bedf-4bcf-b5ef-9035f5be159e', metadata={'source': 'https://spartacodingclub.kr/blog/all-in-challenge_winner'}, page_content='누구나 큰일 낼 수 있어\\n\\n스파르타코딩클럽\\n\\n글 | 신수지 팀스파르타 에디터\\n\\n해당 콘텐츠는 저작권법에 의해 보호받는 저작물로 스파르타코딩클럽에 저작권이 있습니다. - 해당 콘텐츠는 사전 동의 없이 2차 가공 및 영리적인 이용을 금하고 있습니다.\\n\\n내용이 유익하셨다면? 공유하기\\n\\ncopyclip-blog-share\\n\\nkakao-blog-share\\n\\nfacebook-blog-share\\n\\n다른 분들이 많이 읽은 글\\n\\n아티클\\n\\n2024 내일배움카드로 개발자 되는 방법 : 프론트엔드 백엔드 국비지원 개발자 과정 알아보기\\n\\n조회571·8분 분량\\n\\n2024 내일배움카드로 개발자 되는 방법 : 프론트엔드 백엔드 국비지원 개발자 과정 알아보기\\n\\n아티클\\n\\n비전공자 웹개발 프론트엔드 : 비전공자가 개발자에 도전할 때 꼭 알아야 하는 것\\n\\n조회279·8분 분량\\n\\n비전공자 웹개발 프론트엔드 : 비전공자가 개발자에 도전할 때 꼭 알아야 하는 것\\n\\ncopyclip-blog-share\\n\\n고객센터'),\n",
       " Document(id='cefeb87e-82be-4c04-9366-777ec3e9bd88', metadata={'source': 'https://spartacodingclub.kr/blog/all-in-challenge_winner'}, page_content='누구나 큰일 낼 수 있어\\n\\n스파르타코딩클럽\\n\\n글 | 신수지 팀스파르타 에디터\\n\\n해당 콘텐츠는 저작권법에 의해 보호받는 저작물로 스파르타코딩클럽에 저작권이 있습니다. - 해당 콘텐츠는 사전 동의 없이 2차 가공 및 영리적인 이용을 금하고 있습니다.\\n\\n내용이 유익하셨다면? 공유하기\\n\\ncopyclip-blog-share\\n\\nkakao-blog-share\\n\\nfacebook-blog-share\\n\\n다른 분들이 많이 읽은 글\\n\\n아티클\\n\\n2024 내일배움카드로 개발자 되는 방법 : 프론트엔드 백엔드 국비지원 개발자 과정 알아보기\\n\\n조회571·8분 분량\\n\\n2024 내일배움카드로 개발자 되는 방법 : 프론트엔드 백엔드 국비지원 개발자 과정 알아보기\\n\\n아티클\\n\\n비전공자 웹개발 프론트엔드 : 비전공자가 개발자에 도전할 때 꼭 알아야 하는 것\\n\\n조회279·8분 분량\\n\\n비전공자 웹개발 프론트엔드 : 비전공자가 개발자에 도전할 때 꼭 알아야 하는 것\\n\\ncopyclip-blog-share\\n\\n고객센터'),\n",
       " Document(id='17c8e859-0fd3-4490-8df4-c213f0a4a2d1', metadata={'source': 'https://spartacodingclub.kr/blog/all-in-challenge_winner'}, page_content='누구나 큰일 낼 수 있어\\n\\n스파르타코딩클럽\\n\\n글 | 신수지 팀스파르타 에디터\\n\\n해당 콘텐츠는 저작권법에 의해 보호받는 저작물로 스파르타코딩클럽에 저작권이 있습니다. - 해당 콘텐츠는 사전 동의 없이 2차 가공 및 영리적인 이용을 금하고 있습니다.\\n\\n내용이 유익하셨다면? 공유하기\\n\\ncopyclip-blog-share\\n\\nkakao-blog-share\\n\\nfacebook-blog-share\\n\\n다른 분들이 많이 읽은 글\\n\\n아티클\\n\\n2024 내일배움카드로 개발자 되는 방법 : 프론트엔드 백엔드 국비지원 개발자 과정 알아보기\\n\\n조회571·8분 분량\\n\\n2024 내일배움카드로 개발자 되는 방법 : 프론트엔드 백엔드 국비지원 개발자 과정 알아보기\\n\\n아티클\\n\\n비전공자 웹개발 프론트엔드 : 비전공자가 개발자에 도전할 때 꼭 알아야 하는 것\\n\\n조회279·8분 분량\\n\\n비전공자 웹개발 프론트엔드 : 비전공자가 개발자에 도전할 때 꼭 알아야 하는 것\\n\\ncopyclip-blog-share\\n\\n고객센터'),\n",
       " Document(id='ae1592fd-659f-4fcc-8a0e-31267bef755b', metadata={'source': 'https://spartacodingclub.kr/blog/all-in-challenge_winner'}, page_content='💡F는 T대학에 교환학생으로 온 외국인입니다. K팝 문화가 좋아 한국에 왔지만, 말도 잘 통하지 않고 문화 차이도 있어서 한국 캠퍼스 생활이 쉽지만은 않은데요. 한국어로 수업을 듣고 한국 친구도 사귀고 싶지만 한국 대학의 학사 일정과 과제 등 여러 시스템이 달라서 적응하기 어려웠습니다. 한국어가 서툴다보니 수업에서 제공되는 다양한 정보를 이해하기 어려웠고, 중요한 공지사항을 놓치기도 했습니다. 한국인 친구를 먼저 사귀는 것이 급선무라고 생각했죠.'),\n",
       " Document(id='a6bc87e4-ce13-4cbf-8cc6-e7b26ed4ee35', metadata={'source': 'https://spartacodingclub.kr/blog/all-in-challenge_winner'}, page_content='💡F는 T대학에 교환학생으로 온 외국인입니다. K팝 문화가 좋아 한국에 왔지만, 말도 잘 통하지 않고 문화 차이도 있어서 한국 캠퍼스 생활이 쉽지만은 않은데요. 한국어로 수업을 듣고 한국 친구도 사귀고 싶지만 한국 대학의 학사 일정과 과제 등 여러 시스템이 달라서 적응하기 어려웠습니다. 한국어가 서툴다보니 수업에서 제공되는 다양한 정보를 이해하기 어려웠고, 중요한 공지사항을 놓치기도 했습니다. 한국인 친구를 먼저 사귀는 것이 급선무라고 생각했죠.'),\n",
       " Document(id='90bf00be-0d6e-4e06-98b3-e8510809bb66', metadata={'source': 'https://spartacodingclub.kr/blog/all-in-challenge_winner'}, page_content='💡F는 T대학에 교환학생으로 온 외국인입니다. K팝 문화가 좋아 한국에 왔지만, 말도 잘 통하지 않고 문화 차이도 있어서 한국 캠퍼스 생활이 쉽지만은 않은데요. 한국어로 수업을 듣고 한국 친구도 사귀고 싶지만 한국 대학의 학사 일정과 과제 등 여러 시스템이 달라서 적응하기 어려웠습니다. 한국어가 서툴다보니 수업에서 제공되는 다양한 정보를 이해하기 어려웠고, 중요한 공지사항을 놓치기도 했습니다. 한국인 친구를 먼저 사귀는 것이 급선무라고 생각했죠.'),\n",
       " Document(id='14dea171-26c3-4afe-a926-b099e2b243e7', metadata={'source': 'https://spartacodingclub.kr/blog/all-in-challenge_winner'}, page_content='💡F는 T대학에 교환학생으로 온 외국인입니다. K팝 문화가 좋아 한국에 왔지만, 말도 잘 통하지 않고 문화 차이도 있어서 한국 캠퍼스 생활이 쉽지만은 않은데요. 한국어로 수업을 듣고 한국 친구도 사귀고 싶지만 한국 대학의 학사 일정과 과제 등 여러 시스템이 달라서 적응하기 어려웠습니다. 한국어가 서툴다보니 수업에서 제공되는 다양한 정보를 이해하기 어려웠고, 중요한 공지사항을 놓치기도 했습니다. 한국인 친구를 먼저 사귀는 것이 급선무라고 생각했죠.'),\n",
       " Document(id='371c69b1-ad2b-4d49-8e15-5a3b64a4113d', metadata={'source': 'https://spartacodingclub.kr/blog/all-in-challenge_winner'}, page_content='앱 내의 학점 계산기를 사용하면 성적이 그래프로 시각화되어 변화를 쉽게 파악할 수 있고, 앞으로의 성적 목표를 세우는 데에도 큰 도움이 됩니다. 예상 학점 기능을 통해 과목별 예상 등수와 학점을 미리 계산해 보며 학습 계획도 조정할 수 있어요. <학교생활 매니저>앱을 사용하면 체계적으로 대학 생활을 관리하고, 남은 학업과 일정을 효율적으로 관리할 수 있습니다.\\n\\n사용한 기술 스택\\n\\nFE(프론트엔드): Flutter\\n\\nBE(백엔드): Firebase\\n\\n🏅 입선\\n\\n[BLOTIE] 교내 외국인X내국인 매칭 및 교류 플랫폼\\n\\n서비스 제작자: 블로티(이은주, 한명수, 황준영)'),\n",
       " Document(id='576aa84c-5fe1-40c4-8e31-5fc9efcad3ce', metadata={'source': 'https://spartacodingclub.kr/blog/all-in-challenge_winner'}, page_content='앱 내의 학점 계산기를 사용하면 성적이 그래프로 시각화되어 변화를 쉽게 파악할 수 있고, 앞으로의 성적 목표를 세우는 데에도 큰 도움이 됩니다. 예상 학점 기능을 통해 과목별 예상 등수와 학점을 미리 계산해 보며 학습 계획도 조정할 수 있어요. <학교생활 매니저>앱을 사용하면 체계적으로 대학 생활을 관리하고, 남은 학업과 일정을 효율적으로 관리할 수 있습니다.\\n\\n사용한 기술 스택\\n\\nFE(프론트엔드): Flutter\\n\\nBE(백엔드): Firebase\\n\\n🏅 입선\\n\\n[BLOTIE] 교내 외국인X내국인 매칭 및 교류 플랫폼\\n\\n서비스 제작자: 블로티(이은주, 한명수, 황준영)'),\n",
       " Document(id='e1b1b137-f442-4648-afa5-9a777e819483', metadata={'source': 'https://spartacodingclub.kr/blog/all-in-challenge_winner'}, page_content='앱 내의 학점 계산기를 사용하면 성적이 그래프로 시각화되어 변화를 쉽게 파악할 수 있고, 앞으로의 성적 목표를 세우는 데에도 큰 도움이 됩니다. 예상 학점 기능을 통해 과목별 예상 등수와 학점을 미리 계산해 보며 학습 계획도 조정할 수 있어요. <학교생활 매니저>앱을 사용하면 체계적으로 대학 생활을 관리하고, 남은 학업과 일정을 효율적으로 관리할 수 있습니다.\\n\\n사용한 기술 스택\\n\\nFE(프론트엔드): Flutter\\n\\nBE(백엔드): Firebase\\n\\n🏅 입선\\n\\n[BLOTIE] 교내 외국인X내국인 매칭 및 교류 플랫폼\\n\\n서비스 제작자: 블로티(이은주, 한명수, 황준영)'),\n",
       " Document(id='e5f41465-bcdb-4826-aa2c-8f6773b2a449', metadata={'source': 'https://spartacodingclub.kr/blog/all-in-challenge_winner'}, page_content='앱 내의 학점 계산기를 사용하면 성적이 그래프로 시각화되어 변화를 쉽게 파악할 수 있고, 앞으로의 성적 목표를 세우는 데에도 큰 도움이 됩니다. 예상 학점 기능을 통해 과목별 예상 등수와 학점을 미리 계산해 보며 학습 계획도 조정할 수 있어요. <학교생활 매니저>앱을 사용하면 체계적으로 대학 생활을 관리하고, 남은 학업과 일정을 효율적으로 관리할 수 있습니다.\\n\\n사용한 기술 스택\\n\\nFE(프론트엔드): Flutter\\n\\nBE(백엔드): Firebase\\n\\n🏅 입선\\n\\n[BLOTIE] 교내 외국인X내국인 매칭 및 교류 플랫폼\\n\\n서비스 제작자: 블로티(이은주, 한명수, 황준영)'),\n",
       " Document(id='2e83dd5b-3b86-43bd-8954-d6ed4fea5efa', metadata={'source': 'https://spartacodingclub.kr/blog/all-in-challenge_winner'}, page_content='FE(프론트엔드): Spring Boot, MySQL, Spring WebSocket\\n\\nBE(백엔드): React Native, TanStack Query, Axios\\n\\n코딩 공모전 수상작은 대학생들의 팀프로젝트를 통해 만들어진 웹/앱 서비스입니다. 캠퍼스에서의 문제를 해결하자는 참가자들의 아이디어에서 시작되었죠. 누구나 세상에 선보이고 싶은 나만의 아이디어와 기초 코딩 기술만 활용한다면, 얼마든지 서비스를 만들 수 있습니다. 스파르타코딩클럽의 내일배움캠프에서는 비전공, 초보자도 웹/앱 개발자로 거듭날 수 있는 다양한 트랙이 준비돼 있습니다. 나만의 아이디어를 세상에 선보이고 싶은 누구나에게 열려 있으니 주저말고 도전해 보세요.\\n\\n💡<All-in> 코딩 공모전에서 만든 다양한 서비스를 만나보고 싶다면?\\n\\n다양한 서비스와 기발한 아이디어가 모인 곳에 초대합니다. 참가자들의 문제 해결방법이 궁금하시다면 지금 바로 ‘All-in 공모전’에서 만나보세요!\\n\\n👉🏻 공모전 결과물 보러가기'),\n",
       " Document(id='c34b70be-39f6-4c04-a922-983ba6b52b2b', metadata={'source': 'https://spartacodingclub.kr/blog/all-in-challenge_winner'}, page_content='FE(프론트엔드): Spring Boot, MySQL, Spring WebSocket\\n\\nBE(백엔드): React Native, TanStack Query, Axios\\n\\n코딩 공모전 수상작은 대학생들의 팀프로젝트를 통해 만들어진 웹/앱 서비스입니다. 캠퍼스에서의 문제를 해결하자는 참가자들의 아이디어에서 시작되었죠. 누구나 세상에 선보이고 싶은 나만의 아이디어와 기초 코딩 기술만 활용한다면, 얼마든지 서비스를 만들 수 있습니다. 스파르타코딩클럽의 내일배움캠프에서는 비전공, 초보자도 웹/앱 개발자로 거듭날 수 있는 다양한 트랙이 준비돼 있습니다. 나만의 아이디어를 세상에 선보이고 싶은 누구나에게 열려 있으니 주저말고 도전해 보세요.\\n\\n💡<All-in> 코딩 공모전에서 만든 다양한 서비스를 만나보고 싶다면?\\n\\n다양한 서비스와 기발한 아이디어가 모인 곳에 초대합니다. 참가자들의 문제 해결방법이 궁금하시다면 지금 바로 ‘All-in 공모전’에서 만나보세요!\\n\\n👉🏻 공모전 결과물 보러가기'),\n",
       " Document(id='f2d6d638-a0f6-476b-878f-18da0bb725a9', metadata={'source': 'https://spartacodingclub.kr/blog/all-in-challenge_winner'}, page_content='FE(프론트엔드): Spring Boot, MySQL, Spring WebSocket\\n\\nBE(백엔드): React Native, TanStack Query, Axios\\n\\n코딩 공모전 수상작은 대학생들의 팀프로젝트를 통해 만들어진 웹/앱 서비스입니다. 캠퍼스에서의 문제를 해결하자는 참가자들의 아이디어에서 시작되었죠. 누구나 세상에 선보이고 싶은 나만의 아이디어와 기초 코딩 기술만 활용한다면, 얼마든지 서비스를 만들 수 있습니다. 스파르타코딩클럽의 내일배움캠프에서는 비전공, 초보자도 웹/앱 개발자로 거듭날 수 있는 다양한 트랙이 준비돼 있습니다. 나만의 아이디어를 세상에 선보이고 싶은 누구나에게 열려 있으니 주저말고 도전해 보세요.\\n\\n💡<All-in> 코딩 공모전에서 만든 다양한 서비스를 만나보고 싶다면?\\n\\n다양한 서비스와 기발한 아이디어가 모인 곳에 초대합니다. 참가자들의 문제 해결방법이 궁금하시다면 지금 바로 ‘All-in 공모전’에서 만나보세요!\\n\\n👉🏻 공모전 결과물 보러가기'),\n",
       " Document(id='47460c89-dbc0-4b96-bb36-abd46e3e7217', metadata={'source': 'https://spartacodingclub.kr/blog/all-in-challenge_winner'}, page_content='FE(프론트엔드): Spring Boot, MySQL, Spring WebSocket\\n\\nBE(백엔드): React Native, TanStack Query, Axios\\n\\n코딩 공모전 수상작은 대학생들의 팀프로젝트를 통해 만들어진 웹/앱 서비스입니다. 캠퍼스에서의 문제를 해결하자는 참가자들의 아이디어에서 시작되었죠. 누구나 세상에 선보이고 싶은 나만의 아이디어와 기초 코딩 기술만 활용한다면, 얼마든지 서비스를 만들 수 있습니다. 스파르타코딩클럽의 내일배움캠프에서는 비전공, 초보자도 웹/앱 개발자로 거듭날 수 있는 다양한 트랙이 준비돼 있습니다. 나만의 아이디어를 세상에 선보이고 싶은 누구나에게 열려 있으니 주저말고 도전해 보세요.\\n\\n💡<All-in> 코딩 공모전에서 만든 다양한 서비스를 만나보고 싶다면?\\n\\n다양한 서비스와 기발한 아이디어가 모인 곳에 초대합니다. 참가자들의 문제 해결방법이 궁금하시다면 지금 바로 ‘All-in 공모전’에서 만나보세요!\\n\\n👉🏻 공모전 결과물 보러가기'),\n",
       " Document(id='2bbc21de-bd7e-41b1-80fd-05935ede110e', metadata={'source': 'https://spartacodingclub.kr/blog/all-in-challenge_winner'}, page_content='🏅 입선\\n\\n[Crewing] 연합동아리 정보 플랫폼\\n\\n서비스 제작자: 동학대학운동(김민아, 임경진, 신은혜, 고수)\\n\\n💡신입생인 S는 대학 생활을 알차게 보내고 싶어서 연합 동아리에 가입하려고 했지만 어떤 동아리가 자신에게 맞을지 고민이 많았습니다. 인터넷에 검색해보니 연합 동아리 후기는 대부분 여기저기 흩어져 있고, 신뢰할 만한 정보를 찾기 어려웠습니다.'),\n",
       " Document(id='02ff67f4-6549-4403-89ca-0b223f083286', metadata={'source': 'https://spartacodingclub.kr/blog/all-in-challenge_winner'}, page_content='🏅 입선\\n\\n[Crewing] 연합동아리 정보 플랫폼\\n\\n서비스 제작자: 동학대학운동(김민아, 임경진, 신은혜, 고수)\\n\\n💡신입생인 S는 대학 생활을 알차게 보내고 싶어서 연합 동아리에 가입하려고 했지만 어떤 동아리가 자신에게 맞을지 고민이 많았습니다. 인터넷에 검색해보니 연합 동아리 후기는 대부분 여기저기 흩어져 있고, 신뢰할 만한 정보를 찾기 어려웠습니다.'),\n",
       " Document(id='1f17a15f-c952-4525-be7d-5f880186360f', metadata={'source': 'https://spartacodingclub.kr/blog/all-in-challenge_winner'}, page_content='🏅 입선\\n\\n[Crewing] 연합동아리 정보 플랫폼\\n\\n서비스 제작자: 동학대학운동(김민아, 임경진, 신은혜, 고수)\\n\\n💡신입생인 S는 대학 생활을 알차게 보내고 싶어서 연합 동아리에 가입하려고 했지만 어떤 동아리가 자신에게 맞을지 고민이 많았습니다. 인터넷에 검색해보니 연합 동아리 후기는 대부분 여기저기 흩어져 있고, 신뢰할 만한 정보를 찾기 어려웠습니다.'),\n",
       " Document(id='c5a1b00b-59d9-4f5a-8b99-94058d04ca73', metadata={'source': 'https://spartacodingclub.kr/blog/all-in-challenge_winner'}, page_content='🏅 입선\\n\\n[Crewing] 연합동아리 정보 플랫폼\\n\\n서비스 제작자: 동학대학운동(김민아, 임경진, 신은혜, 고수)\\n\\n💡신입생인 S는 대학 생활을 알차게 보내고 싶어서 연합 동아리에 가입하려고 했지만 어떤 동아리가 자신에게 맞을지 고민이 많았습니다. 인터넷에 검색해보니 연합 동아리 후기는 대부분 여기저기 흩어져 있고, 신뢰할 만한 정보를 찾기 어려웠습니다.'),\n",
       " Document(id='28885a58-714f-4f6c-930f-0e0f9c4e6ec0', metadata={'source': 'https://spartacodingclub.kr/blog/all-in-challenge_winner'}, page_content='<Crewing>은 대학생들이 다양한 연합 동아리에 쉽게 가입하고, 적절한 동아리를 찾을 수 있도록 지원해주는 아카이빙 플랫폼입니다. 회원가입 시 생년, 성별, 관심 분야를 입력하자 딱 맞는 동아리를 추천해주죠. 플랫폼 내에서 동아리의 리크루팅 과정인 서류 전형, 인터뷰 일정, 최종 결과 발표 등을 한 번에 해결할 수 있어요. 실제 동아리에 가입한 사람들의 솔직한 후기를 제공해주기 때문에 보다 정확한 정보를 얻을 수 있어요. Crewing은 신뢰할 수 있는 정보와 솔직한 후기를 제공해주기 때문에 효율적으로 내게 꼭 맞는 동아리를 선택할 수 있습니다.\\n\\n사용한 기술 스택\\n\\nFE(프론트엔드): Spring Boot, Redis, MySQL\\n\\nBE(백엔드): SwiftUI Framework, OAuth 2.0\\n\\n🏅 입선\\n\\n[학교생활 매니저] 학교생활 관리 서비스\\n\\n서비스 제작자: 아이칼F4(조민제, 이민기, 강건, 박근우)'),\n",
       " Document(id='111e226b-9ccb-4880-b08c-2ec6ec922929', metadata={'source': 'https://spartacodingclub.kr/blog/all-in-challenge_winner'}, page_content='<Crewing>은 대학생들이 다양한 연합 동아리에 쉽게 가입하고, 적절한 동아리를 찾을 수 있도록 지원해주는 아카이빙 플랫폼입니다. 회원가입 시 생년, 성별, 관심 분야를 입력하자 딱 맞는 동아리를 추천해주죠. 플랫폼 내에서 동아리의 리크루팅 과정인 서류 전형, 인터뷰 일정, 최종 결과 발표 등을 한 번에 해결할 수 있어요. 실제 동아리에 가입한 사람들의 솔직한 후기를 제공해주기 때문에 보다 정확한 정보를 얻을 수 있어요. Crewing은 신뢰할 수 있는 정보와 솔직한 후기를 제공해주기 때문에 효율적으로 내게 꼭 맞는 동아리를 선택할 수 있습니다.\\n\\n사용한 기술 스택\\n\\nFE(프론트엔드): Spring Boot, Redis, MySQL\\n\\nBE(백엔드): SwiftUI Framework, OAuth 2.0\\n\\n🏅 입선\\n\\n[학교생활 매니저] 학교생활 관리 서비스\\n\\n서비스 제작자: 아이칼F4(조민제, 이민기, 강건, 박근우)'),\n",
       " Document(id='c7a8e76c-03c9-45c7-832b-e0635362fd95', metadata={'source': 'https://spartacodingclub.kr/blog/all-in-challenge_winner'}, page_content='<Crewing>은 대학생들이 다양한 연합 동아리에 쉽게 가입하고, 적절한 동아리를 찾을 수 있도록 지원해주는 아카이빙 플랫폼입니다. 회원가입 시 생년, 성별, 관심 분야를 입력하자 딱 맞는 동아리를 추천해주죠. 플랫폼 내에서 동아리의 리크루팅 과정인 서류 전형, 인터뷰 일정, 최종 결과 발표 등을 한 번에 해결할 수 있어요. 실제 동아리에 가입한 사람들의 솔직한 후기를 제공해주기 때문에 보다 정확한 정보를 얻을 수 있어요. Crewing은 신뢰할 수 있는 정보와 솔직한 후기를 제공해주기 때문에 효율적으로 내게 꼭 맞는 동아리를 선택할 수 있습니다.\\n\\n사용한 기술 스택\\n\\nFE(프론트엔드): Spring Boot, Redis, MySQL\\n\\nBE(백엔드): SwiftUI Framework, OAuth 2.0\\n\\n🏅 입선\\n\\n[학교생활 매니저] 학교생활 관리 서비스\\n\\n서비스 제작자: 아이칼F4(조민제, 이민기, 강건, 박근우)'),\n",
       " Document(id='de70e05d-31f7-4987-ac89-ab1493e9e763', metadata={'source': 'https://spartacodingclub.kr/blog/all-in-challenge_winner'}, page_content='<Crewing>은 대학생들이 다양한 연합 동아리에 쉽게 가입하고, 적절한 동아리를 찾을 수 있도록 지원해주는 아카이빙 플랫폼입니다. 회원가입 시 생년, 성별, 관심 분야를 입력하자 딱 맞는 동아리를 추천해주죠. 플랫폼 내에서 동아리의 리크루팅 과정인 서류 전형, 인터뷰 일정, 최종 결과 발표 등을 한 번에 해결할 수 있어요. 실제 동아리에 가입한 사람들의 솔직한 후기를 제공해주기 때문에 보다 정확한 정보를 얻을 수 있어요. Crewing은 신뢰할 수 있는 정보와 솔직한 후기를 제공해주기 때문에 효율적으로 내게 꼭 맞는 동아리를 선택할 수 있습니다.\\n\\n사용한 기술 스택\\n\\nFE(프론트엔드): Spring Boot, Redis, MySQL\\n\\nBE(백엔드): SwiftUI Framework, OAuth 2.0\\n\\n🏅 입선\\n\\n[학교생활 매니저] 학교생활 관리 서비스\\n\\n서비스 제작자: 아이칼F4(조민제, 이민기, 강건, 박근우)'),\n",
       " Document(id='67dd42e1-b262-4532-b950-6261fd8c4b4e', metadata={'source': 'https://spartacodingclub.kr/blog/all-in-challenge_winner'}, page_content='💡W는 어문학을 전공하는 대학생입니다. 매일 새로운 단어와 문장 구조를 공부하고 있지만, 효율적으로 학습하는 것이 쉽지 않았습니다. 단어의 의미를 찾기 위해 사전을 뒤적이고, 긴 문장을 이해하려고 번역기를 사용하다 보면, 필기 노트는 어느새 뒷전으로 밀려났거든요. 사전, 번역기, 원서, 필기노트를 왔다 갔다 하다 보면 시간이 다 지나가 버리곤 했죠.'),\n",
       " Document(id='748bae08-6399-45cd-b5b8-911057d25c08', metadata={'source': 'https://spartacodingclub.kr/blog/all-in-challenge_winner'}, page_content='💡W는 어문학을 전공하는 대학생입니다. 매일 새로운 단어와 문장 구조를 공부하고 있지만, 효율적으로 학습하는 것이 쉽지 않았습니다. 단어의 의미를 찾기 위해 사전을 뒤적이고, 긴 문장을 이해하려고 번역기를 사용하다 보면, 필기 노트는 어느새 뒷전으로 밀려났거든요. 사전, 번역기, 원서, 필기노트를 왔다 갔다 하다 보면 시간이 다 지나가 버리곤 했죠.'),\n",
       " Document(id='a729305a-1155-4e90-9d55-255c02553b7c', metadata={'source': 'https://spartacodingclub.kr/blog/all-in-challenge_winner'}, page_content='💡W는 어문학을 전공하는 대학생입니다. 매일 새로운 단어와 문장 구조를 공부하고 있지만, 효율적으로 학습하는 것이 쉽지 않았습니다. 단어의 의미를 찾기 위해 사전을 뒤적이고, 긴 문장을 이해하려고 번역기를 사용하다 보면, 필기 노트는 어느새 뒷전으로 밀려났거든요. 사전, 번역기, 원서, 필기노트를 왔다 갔다 하다 보면 시간이 다 지나가 버리곤 했죠.'),\n",
       " Document(id='0b7eae82-bd7a-4443-8d55-5484c30a4b3f', metadata={'source': 'https://spartacodingclub.kr/blog/all-in-challenge_winner'}, page_content='💡W는 어문학을 전공하는 대학생입니다. 매일 새로운 단어와 문장 구조를 공부하고 있지만, 효율적으로 학습하는 것이 쉽지 않았습니다. 단어의 의미를 찾기 위해 사전을 뒤적이고, 긴 문장을 이해하려고 번역기를 사용하다 보면, 필기 노트는 어느새 뒷전으로 밀려났거든요. 사전, 번역기, 원서, 필기노트를 왔다 갔다 하다 보면 시간이 다 지나가 버리곤 했죠.'),\n",
       " Document(id='541d3424-8342-4a06-a4e6-471cb3a8ee4d', metadata={'source': 'https://spartacodingclub.kr/blog/all-in-challenge_winner'}, page_content='이 문제를 해결할 수 있는 방법이 바로 <우리집 히어로즈> 서비스입니다. 대학생 자취생들이 자취방에서 겪는 벌레 문제를 해결하기 위해 개발된 앱이죠. 벌레 퇴치가 필요한 사용자가 앱에 요청을 올리면 벌레 퇴치 히어로 학우와 매칭됩니다. 사용자 신원은 같은 학교 학생으로, 신원이 보장된 안전한 환경에서 이뤄지고 벌레를 퇴치해주는 히어로는 추가 수입을 얻을 수 있는 기회를 가집니다. 실시간 알림 기능을 통해 매칭이 이뤄지면 즉시 알림을 받을 수 있어 빠르게 문제를 해결할 수 있습니다. 벌레를 퇴치한 후 사용자는 서로를 평가할 수 있어요. 더 나은 서비스를 제공하거나 받을 수 있습니다.\\n\\n사용한 기술 스택\\n\\nFE(프론트엔드): React Native, Expo, Axios\\n\\nBE(백엔드): Spring Boot, Spring Security, MySQL, SSE, FCM, JWT, Postman\\n\\n🎖️ 우수상\\n\\n[에코 클래스룸] 수업 실시간 소통 서비스'),\n",
       " Document(id='38112329-3d6d-4d13-983f-8870ee95a565', metadata={'source': 'https://spartacodingclub.kr/blog/all-in-challenge_winner'}, page_content='이 문제를 해결할 수 있는 방법이 바로 <우리집 히어로즈> 서비스입니다. 대학생 자취생들이 자취방에서 겪는 벌레 문제를 해결하기 위해 개발된 앱이죠. 벌레 퇴치가 필요한 사용자가 앱에 요청을 올리면 벌레 퇴치 히어로 학우와 매칭됩니다. 사용자 신원은 같은 학교 학생으로, 신원이 보장된 안전한 환경에서 이뤄지고 벌레를 퇴치해주는 히어로는 추가 수입을 얻을 수 있는 기회를 가집니다. 실시간 알림 기능을 통해 매칭이 이뤄지면 즉시 알림을 받을 수 있어 빠르게 문제를 해결할 수 있습니다. 벌레를 퇴치한 후 사용자는 서로를 평가할 수 있어요. 더 나은 서비스를 제공하거나 받을 수 있습니다.\\n\\n사용한 기술 스택\\n\\nFE(프론트엔드): React Native, Expo, Axios\\n\\nBE(백엔드): Spring Boot, Spring Security, MySQL, SSE, FCM, JWT, Postman\\n\\n🎖️ 우수상\\n\\n[에코 클래스룸] 수업 실시간 소통 서비스'),\n",
       " Document(id='3b1dad4a-31b5-47b9-995b-edbb90a1a7ef', metadata={'source': 'https://spartacodingclub.kr/blog/all-in-challenge_winner'}, page_content='이 문제를 해결할 수 있는 방법이 바로 <우리집 히어로즈> 서비스입니다. 대학생 자취생들이 자취방에서 겪는 벌레 문제를 해결하기 위해 개발된 앱이죠. 벌레 퇴치가 필요한 사용자가 앱에 요청을 올리면 벌레 퇴치 히어로 학우와 매칭됩니다. 사용자 신원은 같은 학교 학생으로, 신원이 보장된 안전한 환경에서 이뤄지고 벌레를 퇴치해주는 히어로는 추가 수입을 얻을 수 있는 기회를 가집니다. 실시간 알림 기능을 통해 매칭이 이뤄지면 즉시 알림을 받을 수 있어 빠르게 문제를 해결할 수 있습니다. 벌레를 퇴치한 후 사용자는 서로를 평가할 수 있어요. 더 나은 서비스를 제공하거나 받을 수 있습니다.\\n\\n사용한 기술 스택\\n\\nFE(프론트엔드): React Native, Expo, Axios\\n\\nBE(백엔드): Spring Boot, Spring Security, MySQL, SSE, FCM, JWT, Postman\\n\\n🎖️ 우수상\\n\\n[에코 클래스룸] 수업 실시간 소통 서비스'),\n",
       " Document(id='332b19d9-b68f-4492-a8f9-6f1cf5a01076', metadata={'source': 'https://spartacodingclub.kr/blog/all-in-challenge_winner'}, page_content='이 문제를 해결할 수 있는 방법이 바로 <우리집 히어로즈> 서비스입니다. 대학생 자취생들이 자취방에서 겪는 벌레 문제를 해결하기 위해 개발된 앱이죠. 벌레 퇴치가 필요한 사용자가 앱에 요청을 올리면 벌레 퇴치 히어로 학우와 매칭됩니다. 사용자 신원은 같은 학교 학생으로, 신원이 보장된 안전한 환경에서 이뤄지고 벌레를 퇴치해주는 히어로는 추가 수입을 얻을 수 있는 기회를 가집니다. 실시간 알림 기능을 통해 매칭이 이뤄지면 즉시 알림을 받을 수 있어 빠르게 문제를 해결할 수 있습니다. 벌레를 퇴치한 후 사용자는 서로를 평가할 수 있어요. 더 나은 서비스를 제공하거나 받을 수 있습니다.\\n\\n사용한 기술 스택\\n\\nFE(프론트엔드): React Native, Expo, Axios\\n\\nBE(백엔드): Spring Boot, Spring Security, MySQL, SSE, FCM, JWT, Postman\\n\\n🎖️ 우수상\\n\\n[에코 클래스룸] 수업 실시간 소통 서비스'),\n",
       " Document(id='5f84fb98-9bb9-424a-a5e7-de2e4fc39445', metadata={'source': 'https://spartacodingclub.kr/blog/all-in-challenge_winner'}, page_content='고객센터\\n\\n홈페이지 우측 하단 [문의하기]를 통해\\n\\n1:1 채팅상담을 이용하실 수 있습니다.\\n\\n(전화상담을 원하시는 경우,\\n\\n채팅상담을 통해 신청부탁드립니다.)\\n\\n채팅 상담 운영시간 :\\n\\n월요일 14:00-17:30\\n\\n화~금요일 10:30-17:30\\n\\n(점심시간 12:30-14:00 / 주말,공휴일 휴무)\\n\\n서비스\\n\\nAITC 자격증\\n\\n스터디클럽\\n\\n전체 강의\\n\\n게시판\\n\\n블로그\\n\\n이벤트\\n\\n수강생 작품\\n\\n패밀리 사이트\\n\\n내일배움캠프\\n\\n항해99\\n\\n스파르타 커리어\\n\\n기업 서비스\\n\\n기업 교육\\n\\n외주 개발\\n\\nIT 인재 채용\\n\\nCRM자동화 에픽\\n\\n회사\\n\\n튜터 지원\\n\\n인재 채용\\n\\n채용중\\n\\n팀블로그\\n\\n개인정보처리방침\\n\\n서비스 이용약관\\n\\n환불 규정\\n\\n팀스파르타(주) 사업자 정보\\n\\n팀스파르타(주) 사업자 정보\\n\\nCopyright ©2022 TEAMSPARTA. All rights reserved.'),\n",
       " Document(id='82c47852-87ab-40a3-8b85-67e17485851a', metadata={'source': 'https://spartacodingclub.kr/blog/all-in-challenge_winner'}, page_content='고객센터\\n\\n홈페이지 우측 하단 [문의하기]를 통해\\n\\n1:1 채팅상담을 이용하실 수 있습니다.\\n\\n(전화상담을 원하시는 경우,\\n\\n채팅상담을 통해 신청부탁드립니다.)\\n\\n채팅 상담 운영시간 :\\n\\n월요일 14:00-17:30\\n\\n화~금요일 10:30-17:30\\n\\n(점심시간 12:30-14:00 / 주말,공휴일 휴무)\\n\\n서비스\\n\\nAITC 자격증\\n\\n스터디클럽\\n\\n전체 강의\\n\\n게시판\\n\\n블로그\\n\\n이벤트\\n\\n수강생 작품\\n\\n패밀리 사이트\\n\\n내일배움캠프\\n\\n항해99\\n\\n스파르타 커리어\\n\\n기업 서비스\\n\\n기업 교육\\n\\n외주 개발\\n\\nIT 인재 채용\\n\\nCRM자동화 에픽\\n\\n회사\\n\\n튜터 지원\\n\\n인재 채용\\n\\n채용중\\n\\n팀블로그\\n\\n개인정보처리방침\\n\\n서비스 이용약관\\n\\n환불 규정\\n\\n팀스파르타(주) 사업자 정보\\n\\n팀스파르타(주) 사업자 정보\\n\\nCopyright ©2022 TEAMSPARTA. All rights reserved.'),\n",
       " Document(id='34cf3ea2-578f-4e53-8662-bc61f08e2dd0', metadata={'source': 'https://spartacodingclub.kr/blog/all-in-challenge_winner'}, page_content='고객센터\\n\\n홈페이지 우측 하단 [문의하기]를 통해\\n\\n1:1 채팅상담을 이용하실 수 있습니다.\\n\\n(전화상담을 원하시는 경우,\\n\\n채팅상담을 통해 신청부탁드립니다.)\\n\\n채팅 상담 운영시간 :\\n\\n월요일 14:00-17:30\\n\\n화~금요일 10:30-17:30\\n\\n(점심시간 12:30-14:00 / 주말,공휴일 휴무)\\n\\n서비스\\n\\nAITC 자격증\\n\\n스터디클럽\\n\\n전체 강의\\n\\n게시판\\n\\n블로그\\n\\n이벤트\\n\\n수강생 작품\\n\\n패밀리 사이트\\n\\n내일배움캠프\\n\\n항해99\\n\\n스파르타 커리어\\n\\n기업 서비스\\n\\n기업 교육\\n\\n외주 개발\\n\\nIT 인재 채용\\n\\nCRM자동화 에픽\\n\\n회사\\n\\n튜터 지원\\n\\n인재 채용\\n\\n채용중\\n\\n팀블로그\\n\\n개인정보처리방침\\n\\n서비스 이용약관\\n\\n환불 규정\\n\\n팀스파르타(주) 사업자 정보\\n\\n팀스파르타(주) 사업자 정보\\n\\nCopyright ©2022 TEAMSPARTA. All rights reserved.'),\n",
       " Document(id='dc5beb79-f47f-472b-8a79-414703bdc50b', metadata={'source': 'https://spartacodingclub.kr/blog/all-in-challenge_winner'}, page_content='고객센터\\n\\n홈페이지 우측 하단 [문의하기]를 통해\\n\\n1:1 채팅상담을 이용하실 수 있습니다.\\n\\n(전화상담을 원하시는 경우,\\n\\n채팅상담을 통해 신청부탁드립니다.)\\n\\n채팅 상담 운영시간 :\\n\\n월요일 14:00-17:30\\n\\n화~금요일 10:30-17:30\\n\\n(점심시간 12:30-14:00 / 주말,공휴일 휴무)\\n\\n서비스\\n\\nAITC 자격증\\n\\n스터디클럽\\n\\n전체 강의\\n\\n게시판\\n\\n블로그\\n\\n이벤트\\n\\n수강생 작품\\n\\n패밀리 사이트\\n\\n내일배움캠프\\n\\n항해99\\n\\n스파르타 커리어\\n\\n기업 서비스\\n\\n기업 교육\\n\\n외주 개발\\n\\nIT 인재 채용\\n\\nCRM자동화 에픽\\n\\n회사\\n\\n튜터 지원\\n\\n인재 채용\\n\\n채용중\\n\\n팀블로그\\n\\n개인정보처리방침\\n\\n서비스 이용약관\\n\\n환불 규정\\n\\n팀스파르타(주) 사업자 정보\\n\\n팀스파르타(주) 사업자 정보\\n\\nCopyright ©2022 TEAMSPARTA. All rights reserved.'),\n",
       " Document(id='e2d34887-231d-4ad7-9f7a-e918ffbcff8e', metadata={'source': 'https://spartacodingclub.kr/blog/all-in-challenge_winner'}, page_content='<학교생활 매니저> 서비스는 학교 생활을 효율적으로 관리할 수 있도록 돕기 위해 개발된 관리 앱입니다. 일정과 과제 관리, 성적 예측, 학점 계산 등 캠퍼스 생활과 관련된 다양한 기능을 한 곳에서 관리할 수 있어요. ‘캘린더 기능’을 통해 학교 학사 일정과 개인 일정을 한눈에 확인할 수 있고, 날짜마다 해야 할 일을 To-Do List에 추가해 두면 중요한 과제나 시험 일정이 다가올 때마다 알림을 받아 놓치는 일이 없습니다. ‘공지사항 기능’을 통해 실시간으로 업데이트되는 학교 공지를 한 곳에서 확인할 수 있습니다. ‘시간표 기능’은 수업시간, 강의실, 교수님 정보 등을 한눈에 볼 수 있어 출결 관리도 확실하게 할 수 있어요.'),\n",
       " Document(id='8d41d32e-3c63-4946-b4d6-807cd38b8a1a', metadata={'source': 'https://spartacodingclub.kr/blog/all-in-challenge_winner'}, page_content='<학교생활 매니저> 서비스는 학교 생활을 효율적으로 관리할 수 있도록 돕기 위해 개발된 관리 앱입니다. 일정과 과제 관리, 성적 예측, 학점 계산 등 캠퍼스 생활과 관련된 다양한 기능을 한 곳에서 관리할 수 있어요. ‘캘린더 기능’을 통해 학교 학사 일정과 개인 일정을 한눈에 확인할 수 있고, 날짜마다 해야 할 일을 To-Do List에 추가해 두면 중요한 과제나 시험 일정이 다가올 때마다 알림을 받아 놓치는 일이 없습니다. ‘공지사항 기능’을 통해 실시간으로 업데이트되는 학교 공지를 한 곳에서 확인할 수 있습니다. ‘시간표 기능’은 수업시간, 강의실, 교수님 정보 등을 한눈에 볼 수 있어 출결 관리도 확실하게 할 수 있어요.')]"
      ]
     },
     "execution_count": 34,
     "metadata": {},
     "output_type": "execute_result"
    }
   ],
   "source": [
    "from langchain.retrievers.self_query.base import SelfQueryRetriever\n",
    "from langchain.chains.query_constructor.base import AttributeInfo\n",
    "\n",
    "# 수상 정보 정의\n",
    "metadata_field_info = [\n",
    "    AttributeInfo(\n",
    "        name=\"award_type\",\n",
    "        description=\"상장 종류 (대상, 최우수상, 우수상, 입선선 등)\",\n",
    "        type=\"string\",\n",
    "    ),\n",
    "    AttributeInfo(\n",
    "        name=\"competition_name\", \n",
    "        description=\"공모전 이름\", \n",
    "        type=\"string\"\n",
    "    ),\n",
    "    AttributeInfo(\n",
    "        name=\"recipients_name\", \n",
    "        description=\"수상자들의의 이름\", \n",
    "        type=\"string\"\n",
    "    ),\n",
    "    AttributeInfo(\n",
    "        name=\"recipient_work_decription\", \n",
    "        description=\"수상작에 대한 설명\", \n",
    "        type=\"string\"\n",
    "    ),\n",
    "    AttributeInfo(\n",
    "        name=\"tech_stack\", \n",
    "        description=\"사용한 기술\", \n",
    "        type=\"string\"\n",
    "    ),\n",
    "]\n",
    "\n",
    "self_query_retriever = SelfQueryRetriever.from_llm(\n",
    "    llm,\n",
    "    vectorstore,\n",
    "    document_contents=\"ALL-in 코딩 공모전 수상작 정보\",\n",
    "    metadata_field_info=metadata_field_info,\n",
    "    enable_limit=True,\n",
    "    search_kwargs={\"k\": 50},  # k 의 값을 2로 지정하여 검색 결과를 2개로 제한합니다.\n",
    ")\n",
    "\n",
    "retrieved_docs_self_query = self_query_retriever.get_relevant_documents(user_msg)\n",
    "print(len(retrieved_docs_self_query))\n",
    "retrieved_docs_self_query\n"
   ]
  },
  {
   "cell_type": "markdown",
   "id": "6afb82ae",
   "metadata": {},
   "source": [
    "리트리버들의 결과 비교"
   ]
  },
  {
   "cell_type": "code",
   "execution_count": 35,
   "id": "77b9f077",
   "metadata": {},
   "outputs": [
    {
     "name": "stdout",
     "output_type": "stream",
     "text": [
      "1. search type: similarity\n"
     ]
    },
    {
     "name": "stderr",
     "output_type": "stream",
     "text": [
      "INFO: HTTP Request: POST https://api.openai.com/v1/chat/completions \"HTTP/1.1 200 OK\"\n"
     ]
    },
    {
     "name": "stdout",
     "output_type": "stream",
     "text": [
      "# All-in 코딩 공모전 수상작 요약\n",
      "\n",
      "## 공모전 개요\n",
      "- **주최**: 스파르타코딩클럽\n",
      "- **목적**: 대학생들이 캠퍼스에서 겪은 불편함과 문제를 해결하기 위한 자신만의 아이디어를 구현\n",
      "- **결과**: 다양한 혁신적인 아이디어로 가득한 여러 프로젝트가 출품됨\n",
      "\n",
      "## 수상작 소개\n",
      "\n",
      "### 1. 대상 수상작\n",
      "- **제목**: [Lexi Note] 언어공부 필기 웹 서비스\n",
      "  - **제작자**: 다나와(김다애, 박나경)\n",
      "  - **서비스 개요**: 단어를 드래그하면 네이버 사전과 연동돼 단어의 의미를 찾고, 번역 기능을 통해 긴 문장을 쉽게 이해할 수 있는 기능 제공. 할 일 목록과 스케줄 템플릿도 포함되어 있어 효율적인 언어 학습 도우미 역할을 함.\n",
      "  - **사용 기술 스택**: \n",
      "    - 프론트엔드: Spring Boot, MySQL, Spring WebSocket\n",
      "    - 백엔드: React Native, TanStack Query, Axios\n",
      "\n",
      "### 2. 우수상 수상작\n",
      "- **제목**: [우리집 히어로즈] 벌레 퇴치 영웅 매칭 서비스\n",
      "  - **제작자**: 인트(배정연, 한지수)\n",
      "  - **서비스 개요**: 자취생들이 자취방에서 겪는 벌레 문제를 해결하기 위해 매칭 서비스를 제공. 벌레 퇴치가 필요한 사용자가 요청을 올리면, 같은 학교 학생이 퇴치 작업을 대신해 주는 시스템.\n",
      "  - **사용 기술 스택**:\n",
      "    - 프론트엔드: React, Tesseract.js, React-Quill, HTML, CSS, JavaScript\n",
      "    - 백엔드: Java, Spring Boot, MariaDB\n",
      "\n",
      "### 3. 입선작\n",
      "- **제목**: [Crewing] 연합동아리 정보 플랫폼\n",
      "  - **제작자**: 동학대학운동(김민아, 임경진, 신은혜, 고수)\n",
      "  - **서비스 개요**: 대학생들의 연합 동아리 가입을 지원하는 아카이빙 플랫폼으로, 개인 정보를 입력하면 적절한 동아리를 추천받고, 서류 전형 및 인터뷰 과정을 효율적으로 관리 가능.\n",
      "  - **사용 기술 스택**:\n",
      "    - 프론트엔드: Spring Boot, Redis, MySQL\n",
      "    - 백엔드: SwiftUI Framework, OAuth 2.0\n",
      "\n",
      "- **제목**: [학교생활 매니저] 학교생활 관리 서비스\n",
      "  - **제작자**: 아이칼F4(조민제, 이민기, 강건, 박근우)\n",
      "  - **서비스 개요**: 복학한 학생들이 학교 공지 사항 및 각종 과제를 관리할 수 있도록 도와주는 서비스.\n",
      "  - **사용 기술 스택**:\n",
      "    - 프론트엔드: Spring Boot, Redis, MySQL\n",
      "    - 백엔드: SwiftUI Framework, OAuth 2.0\n",
      "\n",
      "## 결론\n",
      "All-in 코딩 공모전은 대학생들이 직접 자신들의 문제를 해결하기 위한 창의적인 아이디어를 실현할 수 있는 기회를 제공하며, 다양한 수상작들이 이러한 목표를 달성하는 데 기여하였습니다. 각 수상작은 실질적인 문제 해결을 위한 훌륭한 접근 방식을 보여줍니다.\n",
      "\n",
      "\n",
      "\n",
      "2. search type: mmr\n"
     ]
    },
    {
     "name": "stderr",
     "output_type": "stream",
     "text": [
      "INFO: HTTP Request: POST https://api.openai.com/v1/chat/completions \"HTTP/1.1 200 OK\"\n"
     ]
    },
    {
     "name": "stdout",
     "output_type": "stream",
     "text": [
      "### ALL-in 코딩 공모전 수상작 요약\n",
      "\n",
      "#### 공모전 개요\n",
      "- **주최**: 스파르타코딩클럽\n",
      "- **목적**: 대학생들이 캠퍼스에서 겪는 불편함과 문제를 아이디어로 해결하는 플랫폼 제공\n",
      "- **대상**: 대학생\n",
      "- **참여 방안**: 코딩 및 창의력을 통해 자신의 아이디어 실현\n",
      "\n",
      "#### 수상작 소개\n",
      "이번 공모전에서 뛰어난 성과를 보인 수상작 6개 중 **대상** 수상작은 다음과 같습니다.\n",
      "\n",
      "1. **수상작**: [Lexi Note] 언어공부 필기 웹 서비스  \n",
      "   - **제작자**: 다나와 (김다애, 박나경)\n",
      "\n",
      "#### 공모전의 특징\n",
      "- **창의성 강조**: 누구나 아이디어를 바탕으로 서비스를 개발할 수 있도록 지원\n",
      "- **기술적 지원**: 스파르타코딩클럽에서 비전공자와 초보자 대상의 다양한 개발 프로그램 제공\n",
      "- **팀 프로젝트**: 참가자들은 팀을 구성하여 협력하여 프로젝트를 발전시킴\n",
      "\n",
      "#### 기술 스택\n",
      "- **프론트엔드**: Spring Boot, MySQL, Spring WebSocket\n",
      "- **백엔드**: React Native, TanStack Query, Axios\n",
      "\n",
      "#### 참가자 메시지\n",
      "공모전 참가자들은 자신들의 아이디어가 실제로 문제를 해결하는 과정을 경험하며, 이를 통해 커다란 성과를 도출할 수 있음을 시사합니다.\n",
      "\n",
      "> 더 많은 참가자의 문제 해결 아이디어와 결과물은 'All-in 공모전' 플랫폼에서 확인할 수 있습니다.\n",
      "\n",
      "#### 결론\n",
      "ALL-in 코딩 공모전은 창의적인 아이디어를 바탕으로 실질적인 문제를 해결하는 기회를 제공하며, 미래의 개발자들에게 영감을 주는 중요한 행사입니다. 향후 참가자들은 이러한 수상작을 참고하여 자신의 프로젝트 아이디어를 개발하는 데 유익한 자료로 활용할 수 있습니다.\n",
      "\n",
      "\n",
      "\n",
      "3. contextual compression retriever\n"
     ]
    },
    {
     "name": "stderr",
     "output_type": "stream",
     "text": [
      "INFO: HTTP Request: POST https://api.openai.com/v1/chat/completions \"HTTP/1.1 200 OK\"\n"
     ]
    },
    {
     "name": "stdout",
     "output_type": "stream",
     "text": [
      "### ALL-in 코딩 공모전 수상작 요약\n",
      "\n",
      "#### 1. 공모전 개요\n",
      "- **공모전 이름**: ALL-in 코딩 공모전\n",
      "- **목적**: 대학생들이 캠퍼스에서 겪는 불편함과 문제를 창의적 아이디어로 해결하기 위한 대회\n",
      "- **참여 형태**: 팀 프로젝트를 통해 개발된 웹/앱 서비스\n",
      "\n",
      "#### 2. 수상작 소개\n",
      "1. **대상**\n",
      "   - **프로젝트 이름**: Lexi Note\n",
      "   - **서비스 유형**: 언어공부 필기 웹 서비스\n",
      "   - **제작자**: 다나와 (김다애, 박나경)\n",
      "\n",
      "2. **우수상**\n",
      "   - **프로젝트 이름**: 우리집 히어로즈\n",
      "     - **서비스 유형**: 벌레 퇴치 영웅 매칭 서비스\n",
      "     - **제작자**: 인트 (배정연, 한지수)\n",
      "     - **문제 인사이트**: 자취생들이 겪는 벌레 문제와 개인 정보 노출의 우려 해결\n",
      "\n",
      "   - **프로젝트 이름**: 에코 클래스룸\n",
      "     - **서비스 유형**: 수업 실시간 소통 서비스\n",
      "     - **문제 인사이트**: 수업 중 학생들과의 즉각적인 소통 필요성 해결\n",
      "\n",
      "### 결론\n",
      "ALL-in 코딩 공모전은 대학생들이 현실의 문제를 해결하기 위한 혁신적인 아이디어를 실현할 수 있는 기회를 제공합니다. 이번 대회에서는 특히 독창적인 아이디어와 열정적으로 개발된 프로젝트들이 돋보였습니다. 향후 참가자들에게는 이러한 다양한 프로젝트가 참고가 될 것입니다.\n",
      "\n",
      "\n",
      "\n",
      "4. self-query retriever\n"
     ]
    },
    {
     "name": "stderr",
     "output_type": "stream",
     "text": [
      "INFO: HTTP Request: POST https://api.openai.com/v1/chat/completions \"HTTP/1.1 200 OK\"\n"
     ]
    },
    {
     "name": "stdout",
     "output_type": "stream",
     "text": [
      "### ALL-in 코딩 공모전 수상작 요약\n",
      "\n",
      "#### 🎖️ 우수상 수상작\n",
      "\n",
      "1. **우리집 히어로즈**\n",
      "   - **제작자:** 인트(배정연, 한지수)\n",
      "   - **서비스 개요:**\n",
      "     - 자취생들이 자취방에서 겪는 벌레 문제를 해결하기 위해 개발된 앱.\n",
      "     - 벌레 퇴치가 필요한 사용자가 요청을 올리면 같은 학교 학생인 벌레 퇴치 히어로와 매칭됨.\n",
      "     - 사용자 신원 보장으로 안전한 환경에서 서비스 제공.\n",
      "     - 실시간 알림 기능을 통해 빠른 문제 해결 가능.\n",
      "     - 사용자 간 평가 시스템을 통해 서비스 품질 향상.\n",
      "\n",
      "   - **기술 스택:**\n",
      "     - **프론트엔드:** React Native, Expo, Axios\n",
      "     - **백엔드:** Spring Boot, Spring Security, MySQL, SSE, FCM, JWT, Postman\n",
      "\n",
      "---\n",
      "\n",
      "2. **에코 클래스룸**\n",
      "   - **제작자:** (정보 없음)\n",
      "   - **서비스 관련 정보:** 제공된 문서에서 해당 정보를 찾을 수 없습니다.\n",
      "   - **기술 스택:** 제공된 문서에서 해당 정보를 찾을 수 없습니다.\n",
      "\n",
      "---\n",
      "\n",
      "#### 🏅 입선 수상작\n",
      "\n",
      "1. **BLOTIE**\n",
      "   - **제작자:** 블로티(이은주, 한명수, 황준영)\n",
      "   - **서비스 개요:**\n",
      "     - 교내 외국인과 내국인 매칭 및 교류를 지원하는 플랫폼.\n",
      "     - 외국인 학생들의 한국 적응을 돕기 위한 기능 제공.\n",
      "\n",
      "   - **기술 스택:** 제공된 문서에서 해당 정보를 찾을 수 없습니다.\n",
      "\n",
      "---\n",
      "\n",
      "2. **Crewing**\n",
      "   - **제작자:** 동학대학운동(김민아, 임경진, 신은혜, 고수)\n",
      "   - **서비스 개요:**\n",
      "     - 대학생들이 다양한 연합 동아리에 쉽게 가입하고, 적절한 동아리를 찾을 수 있도록 지원하는 플랫폼.\n",
      "     - 회원가입 시 개인 정보를 입력하여 맞춤형 동아리 추천.\n",
      "     - 동아리 리크루팅 과정의 효율적 관리 제공 (서류 전형, 인터뷰 일정 등).\n",
      "\n",
      "   - **기술 스택:**\n",
      "     - **프론트엔드:** Spring Boot, Redis, MySQL\n",
      "     - **백엔드:** SwiftUI Framework, OAuth 2.0\n",
      "\n",
      "---\n",
      "\n",
      "3. **학교생활 매니저**\n",
      "   - **제작자:** 아이칼F4(조민제, 이민기, 강건, 박근우)\n",
      "   - **서비스 개요:**\n",
      "     - 학교 생활을 효율적으로 관리할 수 있도록 도와주는 관리 앱.\n",
      "     - 일정 및 과제 관리, 성적 예측 및 학점 계산 기능 제공.\n",
      "     - 실시간 공지사항 확인 및 To-Do List 기능으로 알림 제공.\n",
      "\n",
      "   - **기술 스택:** 제공된 문서에서 해당 정보를 찾을 수 없습니다.\n",
      "\n",
      "---\n",
      "\n",
      "4. **(기타 입선작)**\n",
      "   - **서비스 관련 정보:** 제공된 문서에서 해당 정보를 찾을 수 없습니다.\n",
      "   - **기술 스택:** 제공된 문서에서 해당 정보를 찾을 수 없습니다.\n",
      "\n",
      "---\n",
      "\n",
      "### 주의사항\n",
      "- 일부 수상작의 생성자 및 기술 스택에 대한 특정 정보는 제공된 문서에서 찾을 수 없습니다. 이 점 참고하시기 바랍니다.\n"
     ]
    }
   ],
   "source": [
    "print(\"1. search type: similarity\")\n",
    "user_prompt = prompt.invoke({\"context\": format_docs(retrieved_docs_similarity), \"question\": user_msg})\n",
    "response = llm.invoke(user_prompt)\n",
    "print(response.content)\n",
    "\n",
    "\n",
    "print(\"\\n\\n\\n2. search type: mmr\")\n",
    "user_prompt = prompt.invoke({\"context\": format_docs(retrieved_docs_mmr), \"question\": user_msg})\n",
    "response = llm.invoke(user_prompt)\n",
    "\n",
    "\n",
    "print(response.content)\n",
    "print(\"\\n\\n\\n3. contextual compression retriever\")\n",
    "user_prompt = prompt.invoke({\"context\": format_docs(compressed_docs_context), \"question\": user_msg})\n",
    "response = llm.invoke(user_prompt)\n",
    "\n",
    "\n",
    "print(response.content)\n",
    "print(\"\\n\\n\\n4. self-query retriever\")\n",
    "user_prompt = prompt.invoke({\"context\": format_docs(retrieved_docs_self_query), \"question\": user_msg})\n",
    "response = llm.invoke(user_prompt)\n",
    "print(response.content)\n"
   ]
  },
  {
   "cell_type": "markdown",
   "id": "bb5ae009",
   "metadata": {},
   "source": [
    "Self-Query 리트리버가 가장 효과적인 결과를 보여주었습니다. 이 방식은 메타데이터 필드(상장 종류, 공모전 이름, 수상자 등)를 명확히 정의하여 LLM이 사용자 질문을 구조화된 쿼리로 변환할 수 있게 했습니다. 그 결과, 다른 리트리버들이 놓친 \"BLOTIE\" 입선작까지 포함한 더 포괄적인 정보를 제공했고, 프론트엔드/백엔드 기술 스택 구분, 서비스 기능 설명, 문제 해결 방식 등 더 체계적인 정보를 추출할 수 있었습니다. 특히 특정 속성에 대한 정보를 정확하게 추출해야 하는 상황에서 Self-Query 리트리버의 강점이 두드러졌으며, 이는 복잡한 정보를 구조화하여 검색하는 데 효과적인 접근법임을 보여줍니다."
   ]
  }
 ],
 "metadata": {
  "kernelspec": {
   "display_name": ".venv",
   "language": "python",
   "name": "python3"
  },
  "language_info": {
   "codemirror_mode": {
    "name": "ipython",
    "version": 3
   },
   "file_extension": ".py",
   "mimetype": "text/x-python",
   "name": "python",
   "nbconvert_exporter": "python",
   "pygments_lexer": "ipython3",
   "version": "3.13.2"
  }
 },
 "nbformat": 4,
 "nbformat_minor": 5
}
