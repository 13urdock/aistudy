{
  "cells": [
    {
      "cell_type": "code",
      "execution_count": null,
      "metadata": {
        "id": "zuKOsPrFFAyA"
      },
      "outputs": [],
      "source": [
        "# load_dataset(\"nyu-mll/glue\", \"mnli\")\n",
        "# 로 dataset을 불러오기\n",
        "\n",
        "# 학습 때는 train split만 활용\n",
        "# Validation data가 필요한 경우,train split에서 가져오기\n",
        "\n",
        "#  trainer.train()를 통해 학습된 log가 남아있어야 함\n",
        "\n",
        "#  Dataset의 validation_matched에 대한 성능을 출력하고, 50%를 넘겨야 함"
      ]
    },
    {
      "cell_type": "code",
      "execution_count": 5,
      "metadata": {
        "colab": {
          "base_uri": "https://localhost:8080/"
        },
        "collapsed": true,
        "id": "sQ38dROvFLeY",
        "outputId": "aa91130f-b8ba-4aff-b9ef-3b54eb533ab8"
      },
      "outputs": [],
      "source": [
        "# pip install transformers datasets evaluate accelerate scikit-learn"
      ]
    },
    {
      "cell_type": "markdown",
      "metadata": {
        "id": "X1uSA1GKshrD"
      },
      "source": [
        "# 데이터셋 준비"
      ]
    },
    {
      "cell_type": "code",
      "execution_count": 6,
      "metadata": {
        "id": "qLaf8Tq9Ganh"
      },
      "outputs": [
        {
          "name": "stderr",
          "output_type": "stream",
          "text": [
            "c:\\aistudy\\.venv\\Lib\\site-packages\\tqdm\\auto.py:21: TqdmWarning: IProgress not found. Please update jupyter and ipywidgets. See https://ipywidgets.readthedocs.io/en/stable/user_install.html\n",
            "  from .autonotebook import tqdm as notebook_tqdm\n"
          ]
        }
      ],
      "source": [
        "import random\n",
        "import evaluate\n",
        "import numpy as np\n",
        "\n",
        "from datasets import load_dataset\n",
        "from transformers import AutoTokenizer, AutoModelForSequenceClassification"
      ]
    },
    {
      "cell_type": "markdown",
      "metadata": {
        "id": "WsNmI1enShhI"
      },
      "source": [
        "## AutoTokenizer\n",
        "다양한 tokenizer를 불러올 수 있는 클래스"
      ]
    },
    {
      "cell_type": "code",
      "execution_count": 7,
      "metadata": {
        "colab": {
          "base_uri": "https://localhost:8080/"
        },
        "collapsed": true,
        "id": "Fk-BbzDfO1Qk",
        "outputId": "6ed2ae35-8af7-4adb-e64a-9bf478423b74"
      },
      "outputs": [
        {
          "name": "stderr",
          "output_type": "stream",
          "text": [
            "c:\\aistudy\\.venv\\Lib\\site-packages\\huggingface_hub\\file_download.py:144: UserWarning: `huggingface_hub` cache-system uses symlinks by default to efficiently store duplicated files but your machine does not support them in C:\\Users\\uyeon\\.cache\\huggingface\\hub\\datasets--nyu-mll--glue. Caching files will still work but in a degraded version that might require more space on your disk. This warning can be disabled by setting the `HF_HUB_DISABLE_SYMLINKS_WARNING` environment variable. For more details, see https://huggingface.co/docs/huggingface_hub/how-to-cache#limitations.\n",
            "To support symlinks on Windows, you either need to activate Developer Mode or to run Python as an administrator. In order to activate developer mode, see this article: https://docs.microsoft.com/en-us/windows/apps/get-started/enable-your-device-for-development\n",
            "  warnings.warn(message)\n",
            "Generating train split: 100%|██████████| 392702/392702 [00:00<00:00, 497079.46 examples/s]\n",
            "Generating validation_matched split: 100%|██████████| 9815/9815 [00:00<00:00, 219260.81 examples/s]\n",
            "Generating validation_mismatched split: 100%|██████████| 9832/9832 [00:00<00:00, 444053.89 examples/s]\n",
            "Generating test_matched split: 100%|██████████| 9796/9796 [00:00<00:00, 295492.91 examples/s]\n",
            "Generating test_mismatched split: 100%|██████████| 9847/9847 [00:00<00:00, 566275.61 examples/s]\n"
          ]
        },
        {
          "name": "stdout",
          "output_type": "stream",
          "text": [
            "392702\n"
          ]
        }
      ],
      "source": [
        "dataset = load_dataset(\"nyu-mll/glue\", \"mnli\")\n",
        "# dataset['train'][0]\n",
        "train_dataset = dataset['train']\n",
        "validation_matched = dataset['validation_matched']\n",
        "print(len(train_dataset))"
      ]
    },
    {
      "cell_type": "markdown",
      "metadata": {
        "id": "9YhSXKpf4ttS"
      },
      "source": [
        "## datasets - load_dataset\n",
        "hugging face 의 hub에서 dataset을 다운로드받을 수 있도록 만든 함수"
      ]
    },
    {
      "cell_type": "code",
      "execution_count": 8,
      "metadata": {
        "colab": {
          "base_uri": "https://localhost:8080/",
          "height": 49,
          "referenced_widgets": [
            "ad8c44aa4f4241d8adcff725ac142a5f",
            "a87e5bc9aed9436f8faed11b5f253477",
            "f9387671fbcd46eb99c7aadc5c4ef914",
            "631583e93ade4d1ab042448c3d993ec0",
            "0e2ceff35d704d94a160a5581bcc4a20",
            "2a4e34a7e73e4c62ab8e5484f6d881c5",
            "c9519a9fde8e4ca3927ef4b2f97de8d8",
            "2f80b19e317d4b8eb453c6cb0f822f54",
            "6f14544002d745fa96007ea0d6d33032",
            "906e06c0b1124b0a80265b44bf3c9c77",
            "48ea39623be640a991a7ff9000edd705"
          ]
        },
        "collapsed": true,
        "id": "S_hWX07D41Wg",
        "outputId": "45b28c85-1d22-46d5-c1de-1feff2421fc3"
      },
      "outputs": [
        {
          "name": "stderr",
          "output_type": "stream",
          "text": [
            "c:\\aistudy\\.venv\\Lib\\site-packages\\huggingface_hub\\file_download.py:144: UserWarning: `huggingface_hub` cache-system uses symlinks by default to efficiently store duplicated files but your machine does not support them in C:\\Users\\uyeon\\.cache\\huggingface\\hub\\models--bert-base-cased. Caching files will still work but in a degraded version that might require more space on your disk. This warning can be disabled by setting the `HF_HUB_DISABLE_SYMLINKS_WARNING` environment variable. For more details, see https://huggingface.co/docs/huggingface_hub/how-to-cache#limitations.\n",
            "To support symlinks on Windows, you either need to activate Developer Mode or to run Python as an administrator. In order to activate developer mode, see this article: https://docs.microsoft.com/en-us/windows/apps/get-started/enable-your-device-for-development\n",
            "  warnings.warn(message)\n",
            "Map: 100%|██████████| 392702/392702 [00:45<00:00, 8592.77 examples/s] \n",
            "Map: 100%|██████████| 9815/9815 [00:00<00:00, 9975.73 examples/s] \n"
          ]
        }
      ],
      "source": [
        "# 데이터 tokenize한 후 dataset_tokenized 에 저장\n",
        "tokenizer = AutoTokenizer.from_pretrained(\"bert-base-cased\")\n",
        "\n",
        "def preprocess_function(data):\n",
        "  return tokenizer(\n",
        "      data[\"premise\"],\n",
        "      data[\"hypothesis\"],\n",
        "      truncation=True\n",
        ")\n",
        "\n",
        "dataset_tokenized = train_dataset.map(preprocess_function, batched=True)\n",
        "validation_tokenized = validation_matched.map(preprocess_function, batched=True)"
      ]
    },
    {
      "cell_type": "markdown",
      "metadata": {
        "id": "ZvJ4enBuSx0g"
      },
      "source": [
        "## tokenizer\n",
        "bert-base-cased 라는 이름의 tokenizer를 가져옴okenizer: bert-base-cased 라는 이름의 tokenizer를 가져옴\n",
        "-> bert model이 이해할 수 있는 형태로 변환해줌\n",
        "\n",
        "## preprocess_function\n",
        ": 토큰화된 데이터들의 결과\n",
        "\n",
        "## .map\n",
        "각 항목에 함수를 적용하는 메소드\n",
        "-> preprocess_function을 적용해 모두 토큰화함\n",
        "\n",
        "## batched\n",
        "데이터를 묶음으로 처리"
      ]
    },
    {
      "cell_type": "code",
      "execution_count": 9,
      "metadata": {
        "colab": {
          "base_uri": "https://localhost:8080/"
        },
        "id": "TI2WkREdUqaV",
        "outputId": "5676f238-ddbf-42fc-987d-c4dfdeb822cd"
      },
      "outputs": [
        {
          "data": {
            "text/plain": [
              "(314161, 78541)"
            ]
          },
          "execution_count": 9,
          "metadata": {},
          "output_type": "execute_result"
        }
      ],
      "source": [
        "# train 데이터를 쪼개 training data와 validation data를 만들기\n",
        "dataset_split = dataset_tokenized.train_test_split(test_size=0.2)\n",
        "dataset_train, dataset_val = dataset_split['train'], dataset_split['test']\n",
        "\n",
        "len(dataset_train), len(dataset_val)"
      ]
    },
    {
      "cell_type": "markdown",
      "metadata": {
        "id": "kDQSMPsqsYKW"
      },
      "source": [
        "# 모델 구현"
      ]
    },
    {
      "cell_type": "code",
      "execution_count": 10,
      "metadata": {
        "id": "l7bwEx9YsIOl"
      },
      "outputs": [],
      "source": [
        "from transformers import BertConfig\n",
        "\n",
        "config = BertConfig()\n",
        "\n",
        "config.hidden_size = 64\n",
        "config.intermediate_size = 64\n",
        "config.num_hidden_layers = 2\n",
        "config.num_attention_heads = 4\n",
        "config.num_labels = 3\n",
        "\n",
        "# 모델\n",
        "model = AutoModelForSequenceClassification.from_config(config)"
      ]
    },
    {
      "cell_type": "markdown",
      "metadata": {
        "id": "k9jnbzR5PmR8"
      },
      "source": [
        "# 학습코드\n",
        "\n",
        "## 학습인자 정의\n"
      ]
    },
    {
      "cell_type": "code",
      "execution_count": 11,
      "metadata": {
        "id": "P90iwuvEPu9L"
      },
      "outputs": [],
      "source": [
        "from transformers import TrainingArguments, Trainer\n",
        "\n",
        "# 학습인자 정의\n",
        "training_args = TrainingArguments(\n",
        "  output_dir = 'training1',\n",
        "  num_train_epochs = 5,\n",
        "  per_device_train_batch_size = 128,\n",
        "  per_device_eval_batch_size = 128,\n",
        "  logging_strategy = \"epoch\", # epoch가 끝날 때마다 기록하기\n",
        "  do_train = True,\n",
        "  do_eval = True,\n",
        "  eval_strategy = \"epoch\",\n",
        "  save_strategy = \"epoch\",\n",
        "  learning_rate = 1e-3,\n",
        "  load_best_model_at_end = True # validation 가장 낮은 모델\n",
        ")"
      ]
    },
    {
      "cell_type": "markdown",
      "metadata": {
        "id": "cMVljTOzMzuE"
      },
      "source": [
        "[Training Arguments](https://huggingface.co/docs/transformers/en/main_classes/trainer#transformers.TrainingArguments)\n"
      ]
    },
    {
      "cell_type": "markdown",
      "metadata": {
        "id": "0w0YDMMlPEAd"
      },
      "source": [
        "### batch_size\n",
        "데이터를 얼마나 잘라서 학습할건지 설정"
      ]
    },
    {
      "cell_type": "code",
      "execution_count": 12,
      "metadata": {
        "id": "8ez8wDVhPTdN"
      },
      "outputs": [
        {
          "name": "stderr",
          "output_type": "stream",
          "text": [
            "Downloading builder script: 100%|██████████| 4.20k/4.20k [00:00<00:00, 5.77MB/s]\n"
          ]
        }
      ],
      "source": [
        "import evaluate\n",
        "\n",
        "accuracy = evaluate.load(\"accuracy\") # 정확도 평가하는 함수\n",
        "\n",
        "def compute_metrics(pred): # 성능 측정을 위한 측정 수치, pred: 예측정보와 정답을 모두 포함, 각각 predictions와 labels에 저장\n",
        "  predictions, labels = pred\n",
        "  predictions = np.argmax(predictions, axis=1) # 열을 따라 가장 큰 수의 인덱스들 반환\n",
        "  return accuracy.compute(predictions=predictions, references=labels) # 정확도\n"
      ]
    },
    {
      "cell_type": "markdown",
      "metadata": {
        "id": "6niPP9TBKPik"
      },
      "source": [
        "### evaluate 라이브러리\n",
        "모델 성능 평가하는 함수들의 모음"
      ]
    },
    {
      "cell_type": "markdown",
      "metadata": {
        "id": "ovXXnsD9Q9Ts"
      },
      "source": [
        "# 모델 학습"
      ]
    },
    {
      "cell_type": "code",
      "execution_count": 13,
      "metadata": {
        "colab": {
          "base_uri": "https://localhost:8080/"
        },
        "collapsed": true,
        "id": "vA3z7jq8h0t1",
        "outputId": "230c3736-4025-433f-e386-37b44e5ce637"
      },
      "outputs": [
        {
          "name": "stderr",
          "output_type": "stream",
          "text": [
            "C:\\Users\\uyeon\\AppData\\Local\\Temp\\ipykernel_36716\\2620542733.py:3: FutureWarning: `tokenizer` is deprecated and will be removed in version 5.0.0 for `Trainer.__init__`. Use `processing_class` instead.\n",
            "  trainer = Trainer(\n"
          ]
        }
      ],
      "source": [
        "from transformers import EarlyStoppingCallback\n",
        "\n",
        "trainer = Trainer(\n",
        "    model=model,\n",
        "    args=training_args,\n",
        "    train_dataset=dataset_train,\n",
        "    eval_dataset=dataset_val,\n",
        "    compute_metrics=compute_metrics,\n",
        "    tokenizer=tokenizer\n",
        "    # callbacks = [EarlyStoppingCallback(early_stopping_patience=1)]\n",
        ")"
      ]
    },
    {
      "cell_type": "code",
      "execution_count": null,
      "metadata": {
        "colab": {
          "base_uri": "https://localhost:8080/",
          "height": 268
        },
        "collapsed": true,
        "id": "Hlm3HOF0FsUj",
        "outputId": "688e152a-82c6-47d7-f278-c8ea5866d74e"
      },
      "outputs": [
        {
          "name": "stderr",
          "output_type": "stream",
          "text": [
            "c:\\aistudy\\.venv\\Lib\\site-packages\\torch\\utils\\data\\dataloader.py:665: UserWarning: 'pin_memory' argument is set as true but no accelerator is found, then device pinned memory won't be used.\n",
            "  warnings.warn(warn_msg)\n"
          ]
        },
        {
          "data": {
            "text/html": [
              "\n",
              "    <div>\n",
              "      \n",
              "      <progress value='2436' max='12275' style='width:300px; height:20px; vertical-align: middle;'></progress>\n",
              "      [ 2436/12275 32:26 < 2:11:07, 1.25 it/s, Epoch 0.99/5]\n",
              "    </div>\n",
              "    <table border=\"1\" class=\"dataframe\">\n",
              "  <thead>\n",
              " <tr style=\"text-align: left;\">\n",
              "      <th>Epoch</th>\n",
              "      <th>Training Loss</th>\n",
              "      <th>Validation Loss</th>\n",
              "    </tr>\n",
              "  </thead>\n",
              "  <tbody>\n",
              "  </tbody>\n",
              "</table><p>"
            ],
            "text/plain": [
              "<IPython.core.display.HTML object>"
            ]
          },
          "metadata": {},
          "output_type": "display_data"
        }
      ],
      "source": [
        "trainer.train()"
      ]
    },
    {
      "cell_type": "markdown",
      "metadata": {
        "id": "XP9j9EkqYRTX"
      },
      "source": [
        "# 모델 평가"
      ]
    },
    {
      "cell_type": "code",
      "execution_count": null,
      "metadata": {
        "colab": {
          "base_uri": "https://localhost:8080/",
          "height": 145
        },
        "id": "sqLP--jPqcTM",
        "outputId": "abf6396a-9a15-4623-c5de-e056a9aee2a5"
      },
      "outputs": [
        {
          "data": {
            "text/html": [
              "\n",
              "    <div>\n",
              "      \n",
              "      <progress value='77' max='77' style='width:300px; height:20px; vertical-align: middle;'></progress>\n",
              "      [77/77 00:04]\n",
              "    </div>\n",
              "    "
            ],
            "text/plain": [
              "<IPython.core.display.HTML object>"
            ]
          },
          "metadata": {},
          "output_type": "display_data"
        },
        {
          "data": {
            "text/plain": [
              "{'eval_loss': 0.835515022277832,\n",
              " 'eval_accuracy': 0.6304635761589404,\n",
              " 'eval_runtime': 5.1664,\n",
              " 'eval_samples_per_second': 1899.759,\n",
              " 'eval_steps_per_second': 14.904,\n",
              " 'epoch': 5.0}"
            ]
          },
          "execution_count": 31,
          "metadata": {},
          "output_type": "execute_result"
        }
      ],
      "source": [
        "trainer.evaluate(validation_tokenized)"
      ]
    },
    {
      "cell_type": "code",
      "execution_count": null,
      "metadata": {
        "id": "zcDel1uDqc9h"
      },
      "outputs": [],
      "source": [
        "trainer.save_model()"
      ]
    }
  ],
  "metadata": {
    "accelerator": "GPU",
    "colab": {
      "gpuType": "T4",
      "provenance": []
    },
    "kernelspec": {
      "display_name": ".venv",
      "language": "python",
      "name": "python3"
    },
    "language_info": {
      "codemirror_mode": {
        "name": "ipython",
        "version": 3
      },
      "file_extension": ".py",
      "mimetype": "text/x-python",
      "name": "python",
      "nbconvert_exporter": "python",
      "pygments_lexer": "ipython3",
      "version": "3.13.2"
    },
    "widgets": {
      "application/vnd.jupyter.widget-state+json": {
        "0e2ceff35d704d94a160a5581bcc4a20": {
          "model_module": "@jupyter-widgets/base",
          "model_module_version": "1.2.0",
          "model_name": "LayoutModel",
          "state": {
            "_model_module": "@jupyter-widgets/base",
            "_model_module_version": "1.2.0",
            "_model_name": "LayoutModel",
            "_view_count": null,
            "_view_module": "@jupyter-widgets/base",
            "_view_module_version": "1.2.0",
            "_view_name": "LayoutView",
            "align_content": null,
            "align_items": null,
            "align_self": null,
            "border": null,
            "bottom": null,
            "display": null,
            "flex": null,
            "flex_flow": null,
            "grid_area": null,
            "grid_auto_columns": null,
            "grid_auto_flow": null,
            "grid_auto_rows": null,
            "grid_column": null,
            "grid_gap": null,
            "grid_row": null,
            "grid_template_areas": null,
            "grid_template_columns": null,
            "grid_template_rows": null,
            "height": null,
            "justify_content": null,
            "justify_items": null,
            "left": null,
            "margin": null,
            "max_height": null,
            "max_width": null,
            "min_height": null,
            "min_width": null,
            "object_fit": null,
            "object_position": null,
            "order": null,
            "overflow": null,
            "overflow_x": null,
            "overflow_y": null,
            "padding": null,
            "right": null,
            "top": null,
            "visibility": null,
            "width": null
          }
        },
        "2a4e34a7e73e4c62ab8e5484f6d881c5": {
          "model_module": "@jupyter-widgets/base",
          "model_module_version": "1.2.0",
          "model_name": "LayoutModel",
          "state": {
            "_model_module": "@jupyter-widgets/base",
            "_model_module_version": "1.2.0",
            "_model_name": "LayoutModel",
            "_view_count": null,
            "_view_module": "@jupyter-widgets/base",
            "_view_module_version": "1.2.0",
            "_view_name": "LayoutView",
            "align_content": null,
            "align_items": null,
            "align_self": null,
            "border": null,
            "bottom": null,
            "display": null,
            "flex": null,
            "flex_flow": null,
            "grid_area": null,
            "grid_auto_columns": null,
            "grid_auto_flow": null,
            "grid_auto_rows": null,
            "grid_column": null,
            "grid_gap": null,
            "grid_row": null,
            "grid_template_areas": null,
            "grid_template_columns": null,
            "grid_template_rows": null,
            "height": null,
            "justify_content": null,
            "justify_items": null,
            "left": null,
            "margin": null,
            "max_height": null,
            "max_width": null,
            "min_height": null,
            "min_width": null,
            "object_fit": null,
            "object_position": null,
            "order": null,
            "overflow": null,
            "overflow_x": null,
            "overflow_y": null,
            "padding": null,
            "right": null,
            "top": null,
            "visibility": null,
            "width": null
          }
        },
        "2f80b19e317d4b8eb453c6cb0f822f54": {
          "model_module": "@jupyter-widgets/base",
          "model_module_version": "1.2.0",
          "model_name": "LayoutModel",
          "state": {
            "_model_module": "@jupyter-widgets/base",
            "_model_module_version": "1.2.0",
            "_model_name": "LayoutModel",
            "_view_count": null,
            "_view_module": "@jupyter-widgets/base",
            "_view_module_version": "1.2.0",
            "_view_name": "LayoutView",
            "align_content": null,
            "align_items": null,
            "align_self": null,
            "border": null,
            "bottom": null,
            "display": null,
            "flex": null,
            "flex_flow": null,
            "grid_area": null,
            "grid_auto_columns": null,
            "grid_auto_flow": null,
            "grid_auto_rows": null,
            "grid_column": null,
            "grid_gap": null,
            "grid_row": null,
            "grid_template_areas": null,
            "grid_template_columns": null,
            "grid_template_rows": null,
            "height": null,
            "justify_content": null,
            "justify_items": null,
            "left": null,
            "margin": null,
            "max_height": null,
            "max_width": null,
            "min_height": null,
            "min_width": null,
            "object_fit": null,
            "object_position": null,
            "order": null,
            "overflow": null,
            "overflow_x": null,
            "overflow_y": null,
            "padding": null,
            "right": null,
            "top": null,
            "visibility": null,
            "width": null
          }
        },
        "48ea39623be640a991a7ff9000edd705": {
          "model_module": "@jupyter-widgets/controls",
          "model_module_version": "1.5.0",
          "model_name": "DescriptionStyleModel",
          "state": {
            "_model_module": "@jupyter-widgets/controls",
            "_model_module_version": "1.5.0",
            "_model_name": "DescriptionStyleModel",
            "_view_count": null,
            "_view_module": "@jupyter-widgets/base",
            "_view_module_version": "1.2.0",
            "_view_name": "StyleView",
            "description_width": ""
          }
        },
        "631583e93ade4d1ab042448c3d993ec0": {
          "model_module": "@jupyter-widgets/controls",
          "model_module_version": "1.5.0",
          "model_name": "HTMLModel",
          "state": {
            "_dom_classes": [],
            "_model_module": "@jupyter-widgets/controls",
            "_model_module_version": "1.5.0",
            "_model_name": "HTMLModel",
            "_view_count": null,
            "_view_module": "@jupyter-widgets/controls",
            "_view_module_version": "1.5.0",
            "_view_name": "HTMLView",
            "description": "",
            "description_tooltip": null,
            "layout": "IPY_MODEL_906e06c0b1124b0a80265b44bf3c9c77",
            "placeholder": "​",
            "style": "IPY_MODEL_48ea39623be640a991a7ff9000edd705",
            "value": " 9815/9815 [00:01&lt;00:00, 7804.15 examples/s]"
          }
        },
        "6f14544002d745fa96007ea0d6d33032": {
          "model_module": "@jupyter-widgets/controls",
          "model_module_version": "1.5.0",
          "model_name": "ProgressStyleModel",
          "state": {
            "_model_module": "@jupyter-widgets/controls",
            "_model_module_version": "1.5.0",
            "_model_name": "ProgressStyleModel",
            "_view_count": null,
            "_view_module": "@jupyter-widgets/base",
            "_view_module_version": "1.2.0",
            "_view_name": "StyleView",
            "bar_color": null,
            "description_width": ""
          }
        },
        "906e06c0b1124b0a80265b44bf3c9c77": {
          "model_module": "@jupyter-widgets/base",
          "model_module_version": "1.2.0",
          "model_name": "LayoutModel",
          "state": {
            "_model_module": "@jupyter-widgets/base",
            "_model_module_version": "1.2.0",
            "_model_name": "LayoutModel",
            "_view_count": null,
            "_view_module": "@jupyter-widgets/base",
            "_view_module_version": "1.2.0",
            "_view_name": "LayoutView",
            "align_content": null,
            "align_items": null,
            "align_self": null,
            "border": null,
            "bottom": null,
            "display": null,
            "flex": null,
            "flex_flow": null,
            "grid_area": null,
            "grid_auto_columns": null,
            "grid_auto_flow": null,
            "grid_auto_rows": null,
            "grid_column": null,
            "grid_gap": null,
            "grid_row": null,
            "grid_template_areas": null,
            "grid_template_columns": null,
            "grid_template_rows": null,
            "height": null,
            "justify_content": null,
            "justify_items": null,
            "left": null,
            "margin": null,
            "max_height": null,
            "max_width": null,
            "min_height": null,
            "min_width": null,
            "object_fit": null,
            "object_position": null,
            "order": null,
            "overflow": null,
            "overflow_x": null,
            "overflow_y": null,
            "padding": null,
            "right": null,
            "top": null,
            "visibility": null,
            "width": null
          }
        },
        "a87e5bc9aed9436f8faed11b5f253477": {
          "model_module": "@jupyter-widgets/controls",
          "model_module_version": "1.5.0",
          "model_name": "HTMLModel",
          "state": {
            "_dom_classes": [],
            "_model_module": "@jupyter-widgets/controls",
            "_model_module_version": "1.5.0",
            "_model_name": "HTMLModel",
            "_view_count": null,
            "_view_module": "@jupyter-widgets/controls",
            "_view_module_version": "1.5.0",
            "_view_name": "HTMLView",
            "description": "",
            "description_tooltip": null,
            "layout": "IPY_MODEL_2a4e34a7e73e4c62ab8e5484f6d881c5",
            "placeholder": "​",
            "style": "IPY_MODEL_c9519a9fde8e4ca3927ef4b2f97de8d8",
            "value": "Map: 100%"
          }
        },
        "ad8c44aa4f4241d8adcff725ac142a5f": {
          "model_module": "@jupyter-widgets/controls",
          "model_module_version": "1.5.0",
          "model_name": "HBoxModel",
          "state": {
            "_dom_classes": [],
            "_model_module": "@jupyter-widgets/controls",
            "_model_module_version": "1.5.0",
            "_model_name": "HBoxModel",
            "_view_count": null,
            "_view_module": "@jupyter-widgets/controls",
            "_view_module_version": "1.5.0",
            "_view_name": "HBoxView",
            "box_style": "",
            "children": [
              "IPY_MODEL_a87e5bc9aed9436f8faed11b5f253477",
              "IPY_MODEL_f9387671fbcd46eb99c7aadc5c4ef914",
              "IPY_MODEL_631583e93ade4d1ab042448c3d993ec0"
            ],
            "layout": "IPY_MODEL_0e2ceff35d704d94a160a5581bcc4a20"
          }
        },
        "c9519a9fde8e4ca3927ef4b2f97de8d8": {
          "model_module": "@jupyter-widgets/controls",
          "model_module_version": "1.5.0",
          "model_name": "DescriptionStyleModel",
          "state": {
            "_model_module": "@jupyter-widgets/controls",
            "_model_module_version": "1.5.0",
            "_model_name": "DescriptionStyleModel",
            "_view_count": null,
            "_view_module": "@jupyter-widgets/base",
            "_view_module_version": "1.2.0",
            "_view_name": "StyleView",
            "description_width": ""
          }
        },
        "f9387671fbcd46eb99c7aadc5c4ef914": {
          "model_module": "@jupyter-widgets/controls",
          "model_module_version": "1.5.0",
          "model_name": "FloatProgressModel",
          "state": {
            "_dom_classes": [],
            "_model_module": "@jupyter-widgets/controls",
            "_model_module_version": "1.5.0",
            "_model_name": "FloatProgressModel",
            "_view_count": null,
            "_view_module": "@jupyter-widgets/controls",
            "_view_module_version": "1.5.0",
            "_view_name": "ProgressView",
            "bar_style": "success",
            "description": "",
            "description_tooltip": null,
            "layout": "IPY_MODEL_2f80b19e317d4b8eb453c6cb0f822f54",
            "max": 9815,
            "min": 0,
            "orientation": "horizontal",
            "style": "IPY_MODEL_6f14544002d745fa96007ea0d6d33032",
            "value": 9815
          }
        }
      }
    }
  },
  "nbformat": 4,
  "nbformat_minor": 0
}
