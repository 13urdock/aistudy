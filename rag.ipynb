{
 "cells": [
  {
   "cell_type": "code",
   "execution_count": 1,
   "id": "659a9e2f",
   "metadata": {},
   "outputs": [
    {
     "name": "stderr",
     "output_type": "stream",
     "text": [
      "USER_AGENT environment variable not set, consider setting it to identify your requests.\n"
     ]
    }
   ],
   "source": [
    "import bs4\n",
    "import os\n",
    "from dotenv import load_dotenv\n",
    "from langchain import hub\n",
    "from langchain_core.prompts import ChatPromptTemplate\n",
    "from langchain_chroma import Chroma\n",
    "from langchain_openai import ChatOpenAI\n",
    "from langchain_openai import OpenAIEmbeddings\n",
    "from langchain_community.document_loaders import WebBaseLoader\n",
    "from langchain_text_splitters import RecursiveCharacterTextSplitter"
   ]
  },
  {
   "cell_type": "markdown",
   "id": "02a3e163",
   "metadata": {},
   "source": [
    "# 사용할 LLM 준비\n",
    "## OpenAI"
   ]
  },
  {
   "cell_type": "code",
   "execution_count": 2,
   "id": "f146d24c",
   "metadata": {},
   "outputs": [
    {
     "name": "stdout",
     "output_type": "stream",
     "text": [
      "API key exists: True\n"
     ]
    }
   ],
   "source": [
    "llm = ChatOpenAI(model=\"gpt-4o-mini\", api_key=os.getenv(\"OPENAI_API_KEY\"))\n",
    "load_dotenv()\n",
    "api_key = os.getenv(\"OPENAI_API_KEY\")\n",
    "print(f\"API key exists: {api_key is not None}\")"
   ]
  },
  {
   "cell_type": "markdown",
   "id": "2f00cb68",
   "metadata": {},
   "source": [
    "# 웹페이지 불러오기"
   ]
  },
  {
   "cell_type": "code",
   "execution_count": 3,
   "id": "0bc3a8a9",
   "metadata": {},
   "outputs": [
    {
     "name": "stdout",
     "output_type": "stream",
     "text": [
      "로드된 문서 수: 1\n",
      "첫 번째 문서 내용 일부: 'AII-in 코딩 공모전’ 수상작을 소개합니다코딩은 더 이상 개발자만의 영역이 아닙니다. 누구나 아이디어만 있다면 창의적인 서비스를 만들어 세상을 바꿀 수 있습니다. 스파르타코딩\n"
     ]
    }
   ],
   "source": [
    "loader = WebBaseLoader(\n",
    "  web_paths=(\"https://spartacodingclub.kr/blog/all-in-challenge_winner\",),\n",
    "  bs_kwargs=dict(\n",
    "    parse_only=bs4.SoupStrainer(\n",
    "            class_=(\"css-j3idia\", \"editedContent\")\n",
    "        )\n",
    "  ),\n",
    ")\n",
    "\n",
    "docs = loader.load()\n",
    "print(f\"로드된 문서 수: {len(docs)}\")\n",
    "print(f\"첫 번째 문서 내용 일부: {docs[0].page_content[:100] if docs else 'No content'}\")\n"
   ]
  },
  {
   "cell_type": "code",
   "execution_count": 54,
   "id": "63163771",
   "metadata": {},
   "outputs": [
    {
     "name": "stdout",
     "output_type": "stream",
     "text": [
      "분할된 청크 수: 12\n"
     ]
    }
   ],
   "source": [
    "text_splitter = RecursiveCharacterTextSplitter( # 왓 이즈 디스 청크 차이가 잇나\n",
    "    chunk_size=500,\n",
    "    chunk_overlap=10\n",
    ")\n",
    "\n",
    "splits = text_splitter.split_documents(docs)\n",
    "print(f\"분할된 청크 수: {len(splits)}\")\n",
    "\n",
    "if len(splits) == 0:\n",
    "    print(\"청크가 없어 원본 문서를 사용합니다.\")\n",
    "    splits = docs"
   ]
  },
  {
   "cell_type": "code",
   "execution_count": 55,
   "id": "669f1892",
   "metadata": {},
   "outputs": [
    {
     "name": "stdout",
     "output_type": "stream",
     "text": [
      "테스트 임베딩 길이: 1536\n",
      "임베딩 테스트 성공!\n"
     ]
    }
   ],
   "source": [
    "try:\n",
    "    embeddings = OpenAIEmbeddings(api_key=api_key)\n",
    "    # 간단한 테스트 임베딩 생성\n",
    "    test_embedding = embeddings.embed_query(\"Hello world\")\n",
    "    print(f\"테스트 임베딩 길이: {len(test_embedding)}\")\n",
    "    print(\"임베딩 테스트 성공!\")\n",
    "except Exception as e:\n",
    "    print(f\"임베딩 테스트 실패: {e}\")"
   ]
  },
  {
   "cell_type": "code",
   "execution_count": 56,
   "id": "c75a4664",
   "metadata": {},
   "outputs": [],
   "source": [
    "vectorstore = Chroma.from_documents(\n",
    "    documents=splits,\n",
    "    embedding=OpenAIEmbeddings(api_key=os.getenv(\"OPENAI_API_KEY\"))\n",
    ")\n",
    "retriever = vectorstore.as_retriever(\n",
    "    search_type=\"similarity\", search_kwargs={\"k\": 50}\n",
    ")\n",
    "def format_docs(docs):\n",
    "    return \"\\n\\n\".join(doc.page_content for doc in docs)"
   ]
  },
  {
   "cell_type": "code",
   "execution_count": 57,
   "id": "df492f09",
   "metadata": {},
   "outputs": [
    {
     "name": "stdout",
     "output_type": "stream",
     "text": [
      "50\n"
     ]
    },
    {
     "data": {
      "text/plain": [
       "[Document(id='88c37c74-9bdb-48ed-a35e-45164b8bf586', metadata={'source': 'https://spartacodingclub.kr/blog/all-in-challenge_winner'}, page_content=\"'AII-in 코딩 공모전’ 수상작을 소개합니다코딩은 더 이상 개발자만의 영역이 아닙니다. 누구나 아이디어만 있다면 창의적인 서비스를 만들어 세상을 바꿀 수 있습니다. 스파르타코딩클럽에서는 이러한 가능성을 믿고, 누구나 코딩을 통해 자신의 아이디어를 실현하고 실제 문제를 해결하는 경험을 쌓을 수 있도록 다양한 프로그램을 마련하고 있습니다.<All-in> 코딩 공모전은 대학생들이 캠퍼스에서 겪은 불편함과 문제를 자신만의 아이디어로 해결해보는 대회였는데요. 이번 공모전에서 다양한 혁신적인 아이디어와 열정으로 가득한 수많은 프로젝트가 탄생했습니다. 그중 뛰어난 성과를 낸 수상작 6개를 소개합니다.🏆\\xa0대상[Lexi Note] 언어공부 필기 웹 서비스서비스 제작자: 다나와(김다애, 박나경)💡W는 어문학을 전공하는\"),\n",
       " Document(id='36e54b8b-ea92-415d-a68a-a822aa48febb', metadata={'source': 'https://spartacodingclub.kr/blog/all-in-challenge_winner'}, page_content=\"'AII-in 코딩 공모전’ 수상작을 소개합니다코딩은 더 이상 개발자만의 영역이 아닙니다. 누구나 아이디어만 있다면 창의적인 서비스를 만들어 세상을 바꿀 수 있습니다. 스파르타코딩클럽에서는 이러한 가능성을 믿고, 누구나 코딩을 통해 자신의 아이디어를 실현하고 실제 문제를 해결하는 경험을 쌓을 수 있도록 다양한 프로그램을 마련하고 있습니다.<All-in> 코딩 공모전은 대학생들이 캠퍼스에서 겪은 불편함과 문제를 자신만의 아이디어로 해결해보는 대회였는데요. 이번 공모전에서 다양한 혁신적인 아이디어와 열정으로 가득한 수많은 프로젝트가 탄생했습니다. 그중 뛰어난 성과를 낸 수상작 6개를 소개합니다.🏆\\xa0대상[Lexi Note] 언어공부 필기 웹 서비스서비스 제작자: 다나와(김다애, 박나경)💡W는 어문학을 전공하는\"),\n",
       " Document(id='14858822-4644-4474-b24d-b3a63632b93c', metadata={'source': 'https://spartacodingclub.kr/blog/all-in-challenge_winner'}, page_content=\"'AII-in 코딩 공모전’ 수상작을 소개합니다코딩은 더 이상 개발자만의 영역이 아닙니다. 누구나 아이디어만 있다면 창의적인 서비스를 만들어 세상을 바꿀 수 있습니다. 스파르타코딩클럽에서는 이러한 가능성을 믿고, 누구나 코딩을 통해 자신의 아이디어를 실현하고 실제 문제를 해결하는 경험을 쌓을 수 있도록 다양한 프로그램을 마련하고 있습니다.<All-in> 코딩 공모전은 대학생들이 캠퍼스에서 겪은 불편함과 문제를 자신만의 아이디어로 해결해보는 대회였는데요. 이번 공모전에서 다양한 혁신적인 아이디어와 열정으로 가득한 수많은 프로젝트가 탄생했습니다. 그중 뛰어난 성과를 낸 수상작 6개를 소개합니다.🏆\\xa0대상[Lexi Note] 언어공부 필기 웹 서비스서비스 제작자: 다나와(김다애, 박나경)💡W는 어문학을 전공하는\"),\n",
       " Document(id='77e609b2-32dc-4611-ae98-e6abaeb41e09', metadata={'source': 'https://spartacodingclub.kr/blog/all-in-challenge_winner'}, page_content=\"'AII-in 코딩 공모전’ 수상작을 소개합니다코딩은 더 이상 개발자만의 영역이 아닙니다. 누구나 아이디어만 있다면 창의적인 서비스를 만들어 세상을 바꿀 수 있습니다. 스파르타코딩클럽에서는 이러한 가능성을 믿고, 누구나 코딩을 통해 자신의 아이디어를 실현하고 실제 문제를 해결하는 경험을 쌓을 수 있도록 다양한 프로그램을 마련하고 있습니다.<All-in> 코딩 공모전은 대학생들이 캠퍼스에서 겪은 불편함과 문제를 자신만의 아이디어로 해결해보는 대회였는데요. 이번 공모전에서 다양한 혁신적인 아이디어와 열정으로 가득한 수많은 프로젝트가 탄생했습니다. 그중 뛰어난 성과를 낸 수상작 6개를 소개합니다.🏆\\xa0대상[Lexi Note] 언어공부 필기 웹 서비스서비스 제작자: 다나와(김다애, 박나경)💡W는 어문학을 전공하는 대학생입니다. 매일 새로운 단어와 문장 구조를 공부하고 있지만, 효율적으로 학습하는 것이 쉽지 않았습니다. 단어의 의미를 찾기 위해 사전을 뒤적이고, 긴 문장을 이해하려고 번역기를\"),\n",
       " Document(id='08900dd0-4c72-488e-b890-b80522ea0055', metadata={'source': 'https://spartacodingclub.kr/blog/all-in-challenge_winner'}, page_content=\"'AII-in 코딩 공모전’ 수상작을 소개합니다코딩은 더 이상 개발자만의 영역이 아닙니다. 누구나 아이디어만 있다면 창의적인 서비스를 만들어 세상을 바꿀 수 있습니다. 스파르타코딩클럽에서는 이러한 가능성을 믿고, 누구나 코딩을 통해 자신의 아이디어를 실현하고 실제 문제를 해결하는 경험을 쌓을 수 있도록 다양한 프로그램을 마련하고 있습니다.<All-in> 코딩 공모전은 대학생들이 캠퍼스에서 겪은 불편함과 문제를 자신만의 아이디어로 해결해보는 대회였는데요. 이번 공모전에서 다양한 혁신적인 아이디어와 열정으로 가득한 수많은 프로젝트가 탄생했습니다. 그중 뛰어난 성과를 낸 수상작 6개를 소개합니다.🏆\\xa0대상[Lexi Note] 언어공부 필기 웹 서비스서비스 제작자: 다나와(김다애, 박나경)💡W는 어문학을 전공하는 대학생입니다. 매일 새로운 단어와 문장 구조를 공부하고 있지만, 효율적으로 학습하는 것이 쉽지 않았습니다. 단어의 의미를 찾기 위해 사전을 뒤적이고, 긴 문장을 이해하려고 번역기를\"),\n",
       " Document(id='e491c6e2-ad78-40d2-a75b-aeeeb483dda4', metadata={'source': 'https://spartacodingclub.kr/blog/all-in-challenge_winner'}, page_content=\"'AII-in 코딩 공모전’ 수상작을 소개합니다코딩은 더 이상 개발자만의 영역이 아닙니다. 누구나 아이디어만 있다면 창의적인 서비스를 만들어 세상을 바꿀 수 있습니다. 스파르타코딩클럽에서는 이러한 가능성을 믿고, 누구나 코딩을 통해 자신의 아이디어를 실현하고 실제 문제를 해결하는 경험을 쌓을 수 있도록 다양한 프로그램을 마련하고 있습니다.<All-in> 코딩 공모전은 대학생들이 캠퍼스에서 겪은 불편함과 문제를 자신만의 아이디어로 해결해보는 대회였는데요. 이번 공모전에서 다양한 혁신적인 아이디어와 열정으로 가득한 수많은 프로젝트가 탄생했습니다. 그중 뛰어난 성과를 낸 수상작 6개를 소개합니다.🏆\\xa0대상[Lexi Note] 언어공부 필기 웹 서비스서비스 제작자: 다나와(김다애, 박나경)💡W는 어문학을 전공하는 대학생입니다. 매일 새로운 단어와 문장 구조를 공부하고 있지만, 효율적으로 학습하는 것이 쉽지 않았습니다. 단어의 의미를 찾기 위해 사전을 뒤적이고, 긴 문장을 이해하려고 번역기를\"),\n",
       " Document(id='d29b5f9d-edc6-4c37-9dc5-c4cb5ec028ab', metadata={'source': 'https://spartacodingclub.kr/blog/all-in-challenge_winner'}, page_content=\"'AII-in 코딩 공모전’ 수상작을 소개합니다코딩은 더 이상 개발자만의 영역이 아닙니다. 누구나 아이디어만 있다면 창의적인 서비스를 만들어 세상을 바꿀 수 있습니다. 스파르타코딩클럽에서는 이러한 가능성을 믿고, 누구나 코딩을 통해 자신의 아이디어를 실현하고 실제 문제를 해결하는 경험을 쌓을 수 있도록 다양한 프로그램을 마련하고 있습니다.<All-in> 코딩 공모전은 대학생들이 캠퍼스에서 겪은 불편함과 문제를 자신만의 아이디어로 해결해보는 대회였는데요. 이번 공모전에서 다양한 혁신적인 아이디어와 열정으로 가득한 수많은 프로젝트가 탄생했습니다. 그중 뛰어난 성과를 낸 수상작 6개를 소개합니다.🏆\\xa0대상[Lexi Note] 언어공부 필기 웹 서비스서비스 제작자: 다나와(김다애, 박나경)💡W는 어문학을 전공하는 대학생입니다. 매일 새로운 단어와 문장 구조를 공부하고 있지만, 효율적으로 학습하는 것이 쉽지 않았습니다. 단어의 의미를 찾기 위해 사전을 뒤적이고, 긴 문장을 이해하려고 번역기를\"),\n",
       " Document(id='5d256db4-bbed-4f64-8b15-18f061844ccf', metadata={'source': 'https://spartacodingclub.kr/blog/all-in-challenge_winner'}, page_content=\"'AII-in 코딩 공모전’ 수상작을 소개합니다코딩은 더 이상 개발자만의 영역이 아닙니다. 누구나 아이디어만 있다면 창의적인 서비스를 만들어 세상을 바꿀 수 있습니다. 스파르타코딩클럽에서는 이러한 가능성을 믿고, 누구나 코딩을 통해 자신의 아이디어를 실현하고 실제 문제를 해결하는 경험을 쌓을 수 있도록 다양한 프로그램을 마련하고 있습니다.<All-in> 코딩 공모전은 대학생들이 캠퍼스에서 겪은 불편함과 문제를 자신만의 아이디어로 해결해보는 대회였는데요. 이번 공모전에서 다양한 혁신적인 아이디어와 열정으로 가득한 수많은 프로젝트가 탄생했습니다. 그중 뛰어난 성과를 낸 수상작 6개를 소개합니다.🏆\\xa0대상[Lexi Note] 언어공부 필기 웹 서비스서비스 제작자: 다나와(김다애, 박나경)💡W는 어문학을 전공하는 대학생입니다. 매일 새로운 단어와 문장 구조를 공부하고 있지만, 효율적으로 학습하는 것이 쉽지 않았습니다. 단어의 의미를 찾기 위해 사전을 뒤적이고, 긴 문장을 이해하려고 번역기를\"),\n",
       " Document(id='bfd11346-af51-409c-8858-d9796e7f39a3', metadata={'source': 'https://spartacodingclub.kr/blog/all-in-challenge_winner'}, page_content=\"'AII-in 코딩 공모전’ 수상작을 소개합니다코딩은 더 이상 개발자만의 영역이 아닙니다. 누구나 아이디어만 있다면 창의적인 서비스를 만들어 세상을 바꿀 수 있습니다. 스파르타코딩클럽에서는 이러한 가능성을 믿고, 누구나 코딩을 통해 자신의 아이디어를 실현하고 실제 문제를 해결하는 경험을 쌓을 수 있도록 다양한 프로그램을 마련하고 있습니다.<All-in> 코딩 공모전은 대학생들이 캠퍼스에서 겪은 불편함과 문제를 자신만의 아이디어로 해결해보는 대회였는데요. 이번 공모전에서 다양한 혁신적인 아이디어와 열정으로 가득한 수많은 프로젝트가 탄생했습니다. 그중 뛰어난 성과를 낸 수상작 6개를 소개합니다.🏆\\xa0대상[Lexi Note] 언어공부 필기 웹 서비스서비스 제작자: 다나와(김다애, 박나경)💡W는 어문학을 전공하는 대학생입니다. 매일 새로운 단어와 문장 구조를 공부하고 있지만, 효율적으로 학습하는 것이 쉽지 않았습니다. 단어의 의미를 찾기 위해 사전을 뒤적이고, 긴 문장을 이해하려고 번역기를\"),\n",
       " Document(id='dd86f2e6-2137-460e-90a6-2528994aa5a5', metadata={'source': 'https://spartacodingclub.kr/blog/all-in-challenge_winner'}, page_content=\"'AII-in 코딩 공모전’ 수상작을 소개합니다코딩은 더 이상 개발자만의 영역이 아닙니다. 누구나 아이디어만 있다면 창의적인 서비스를 만들어 세상을 바꿀 수 있습니다. 스파르타코딩클럽에서는 이러한 가능성을 믿고, 누구나 코딩을 통해 자신의 아이디어를 실현하고 실제 문제를 해결하는 경험을 쌓을 수 있도록 다양한 프로그램을 마련하고 있습니다.<All-in> 코딩 공모전은 대학생들이 캠퍼스에서 겪은 불편함과 문제를 자신만의 아이디어로 해결해보는 대회였는데요. 이번 공모전에서 다양한 혁신적인 아이디어와 열정으로 가득한 수많은 프로젝트가 탄생했습니다. 그중 뛰어난 성과를 낸 수상작 6개를 소개합니다.🏆\\xa0대상[Lexi Note] 언어공부 필기 웹 서비스서비스 제작자: 다나와(김다애, 박나경)💡W는 어문학을 전공하는 대학생입니다. 매일 새로운 단어와 문장 구조를 공부하고 있지만, 효율적으로 학습하는 것이 쉽지 않았습니다. 단어의 의미를 찾기 위해 사전을 뒤적이고, 긴 문장을 이해하려고 번역기를\"),\n",
       " Document(id='2f15b671-8b62-4500-a863-8421a6ef44a7', metadata={'source': 'https://spartacodingclub.kr/blog/all-in-challenge_winner'}, page_content=\"'AII-in 코딩 공모전’ 수상작을 소개합니다코딩은 더 이상 개발자만의 영역이 아닙니다. 누구나 아이디어만 있다면 창의적인 서비스를 만들어 세상을 바꿀 수 있습니다. 스파르타코딩클럽에서는 이러한 가능성을 믿고, 누구나 코딩을 통해 자신의 아이디어를 실현하고 실제 문제를 해결하는 경험을 쌓을 수 있도록 다양한 프로그램을 마련하고 있습니다.<All-in> 코딩 공모전은 대학생들이 캠퍼스에서 겪은 불편함과 문제를 자신만의 아이디어로 해결해보는 대회였는데요. 이번 공모전에서 다양한 혁신적인 아이디어와 열정으로 가득한 수많은 프로젝트가 탄생했습니다. 그중 뛰어난 성과를 낸 수상작 6개를 소개합니다.🏆\\xa0대상[Lexi Note] 언어공부 필기 웹 서비스서비스 제작자: 다나와(김다애, 박나경)💡W는 어문학을 전공하는 대학생입니다. 매일 새로운 단어와 문장 구조를 공부하고 있지만, 효율적으로 학습하는 것이 쉽지 않았습니다. 단어의 의미를 찾기 위해 사전을 뒤적이고, 긴 문장을 이해하려고 번역기를\"),\n",
       " Document(id='2a44f5f4-7069-4302-be42-c99e928ee29d', metadata={'source': 'https://spartacodingclub.kr/blog/all-in-challenge_winner'}, page_content='기발한 아이디어가 모인 곳에 초대합니다. 참가자들의 문제 해결방법이 궁금하시다면 지금 바로 ‘All-in 공모전’에서 만나보세요!👉🏻\\xa0공모전 결과물 보러가기누구나 큰일 낼 수 있어스파르타코딩클럽글 | 신수지 팀스파르타 에디터'),\n",
       " Document(id='54c31c51-6d3d-4a00-8699-779ae0c34dfc', metadata={'source': 'https://spartacodingclub.kr/blog/all-in-challenge_winner'}, page_content='기발한 아이디어가 모인 곳에 초대합니다. 참가자들의 문제 해결방법이 궁금하시다면 지금 바로 ‘All-in 공모전’에서 만나보세요!👉🏻\\xa0공모전 결과물 보러가기누구나 큰일 낼 수 있어스파르타코딩클럽글 | 신수지 팀스파르타 에디터'),\n",
       " Document(id='41c3e693-9e31-49ee-aa14-c898bed956aa', metadata={'source': 'https://spartacodingclub.kr/blog/all-in-challenge_winner'}, page_content='서비스와 기발한 아이디어가 모인 곳에 초대합니다. 참가자들의 문제 해결방법이 궁금하시다면 지금 바로 ‘All-in 공모전’에서 만나보세요!👉🏻\\xa0공모전 결과물 보러가기누구나 큰일 낼 수 있어스파르타코딩클럽글 | 신수지 팀스파르타 에디터'),\n",
       " Document(id='d96b1c1c-ba44-46bb-bef2-8afdb9841634', metadata={'source': 'https://spartacodingclub.kr/blog/all-in-challenge_winner'}, page_content='만든 다양한 서비스를 만나보고 싶다면?다양한 서비스와 기발한 아이디어가 모인 곳에 초대합니다. 참가자들의 문제 해결방법이 궁금하시다면 지금 바로 ‘All-in 공모전’에서 만나보세요!👉🏻\\xa0공모전 결과물 보러가기누구나 큰일 낼 수 있어스파르타코딩클럽글 | 신수지 팀스파르타 에디터'),\n",
       " Document(id='ed89c044-bd31-4e72-8f4d-f7902946cf74', metadata={'source': 'https://spartacodingclub.kr/blog/all-in-challenge_winner'}, page_content='WebSocket-BE(백엔드): React Native, TanStack Query, Axios코딩 공모전 수상작은 대학생들의 팀프로젝트를 통해 만들어진 웹/앱 서비스입니다. 캠퍼스에서의 문제를 해결하자는 참가자들의 아이디어에서 시작되었죠. 누구나 세상에 선보이고 싶은 나만의 아이디어와 기초 코딩 기술만 활용한다면, 얼마든지 서비스를 만들 수 있습니다. 스파르타코딩클럽의 내일배움캠프에서는 비전공, 초보자도 웹/앱 개발자로 거듭날 수 있는 다양한 트랙이 준비돼 있습니다. 나만의 아이디어를 세상에 선보이고 싶은 누구나에게 열려 있으니 주저말고 도전해 보세요.💡<All-in> 코딩 공모전에서 만든 다양한 서비스를 만나보고 싶다면?다양한 서비스와 기발한 아이디어가 모인 곳에 초대합니다. 참가자들의 문제 해결방법이 궁금하시다면 지금 바로 ‘All-in 공모전’에서 만나보세요!👉🏻\\xa0공모전 결과물 보러가기누구나 큰일 낼 수 있어스파르타코딩클럽글 | 신수지 팀스파르타 에디터'),\n",
       " Document(id='970cb3d0-be14-4fc4-9ce5-0d10147e04a3', metadata={'source': 'https://spartacodingclub.kr/blog/all-in-challenge_winner'}, page_content='Spring Boot, MySQL, Spring WebSocket-BE(백엔드): React Native, TanStack Query, Axios코딩 공모전 수상작은 대학생들의 팀프로젝트를 통해 만들어진 웹/앱 서비스입니다. 캠퍼스에서의 문제를 해결하자는 참가자들의 아이디어에서 시작되었죠. 누구나 세상에 선보이고 싶은 나만의 아이디어와 기초 코딩 기술만 활용한다면, 얼마든지 서비스를 만들 수 있습니다. 스파르타코딩클럽의 내일배움캠프에서는 비전공, 초보자도 웹/앱 개발자로 거듭날 수 있는 다양한 트랙이 준비돼 있습니다. 나만의 아이디어를 세상에 선보이고 싶은 누구나에게 열려 있으니 주저말고 도전해 보세요.💡<All-in> 코딩 공모전에서 만든 다양한 서비스를 만나보고 싶다면?다양한 서비스와 기발한 아이디어가 모인 곳에 초대합니다. 참가자들의 문제 해결방법이 궁금하시다면 지금 바로 ‘All-in 공모전’에서 만나보세요!👉🏻\\xa0공모전 결과물 보러가기누구나 큰일 낼 수 있어스파르타코딩클럽글'),\n",
       " Document(id='80ef5603-9d3f-445c-b62f-e5b45bf10b10', metadata={'source': 'https://spartacodingclub.kr/blog/all-in-challenge_winner'}, page_content='Spring Boot, MySQL, Spring WebSocket-BE(백엔드): React Native, TanStack Query, Axios코딩 공모전 수상작은 대학생들의 팀프로젝트를 통해 만들어진 웹/앱 서비스입니다. 캠퍼스에서의 문제를 해결하자는 참가자들의 아이디어에서 시작되었죠. 누구나 세상에 선보이고 싶은 나만의 아이디어와 기초 코딩 기술만 활용한다면, 얼마든지 서비스를 만들 수 있습니다. 스파르타코딩클럽의 내일배움캠프에서는 비전공, 초보자도 웹/앱 개발자로 거듭날 수 있는 다양한 트랙이 준비돼 있습니다. 나만의 아이디어를 세상에 선보이고 싶은 누구나에게 열려 있으니 주저말고 도전해 보세요.💡<All-in> 코딩 공모전에서 만든 다양한 서비스를 만나보고 싶다면?다양한 서비스와 기발한 아이디어가 모인 곳에 초대합니다. 참가자들의 문제 해결방법이 궁금하시다면 지금 바로 ‘All-in 공모전’에서 만나보세요!👉🏻\\xa0공모전 결과물 보러가기누구나 큰일 낼 수 있어스파르타코딩클럽글'),\n",
       " Document(id='3927e89a-31f4-4873-9953-bfbf18b5f1e5', metadata={'source': 'https://spartacodingclub.kr/blog/all-in-challenge_winner'}, page_content='Spring Boot, MySQL, Spring WebSocket-BE(백엔드): React Native, TanStack Query, Axios코딩 공모전 수상작은 대학생들의 팀프로젝트를 통해 만들어진 웹/앱 서비스입니다. 캠퍼스에서의 문제를 해결하자는 참가자들의 아이디어에서 시작되었죠. 누구나 세상에 선보이고 싶은 나만의 아이디어와 기초 코딩 기술만 활용한다면, 얼마든지 서비스를 만들 수 있습니다. 스파르타코딩클럽의 내일배움캠프에서는 비전공, 초보자도 웹/앱 개발자로 거듭날 수 있는 다양한 트랙이 준비돼 있습니다. 나만의 아이디어를 세상에 선보이고 싶은 누구나에게 열려 있으니 주저말고 도전해 보세요.💡<All-in> 코딩 공모전에서 만든 다양한 서비스를 만나보고 싶다면?다양한 서비스와 기발한 아이디어가 모인 곳에 초대합니다. 참가자들의 문제 해결방법이 궁금하시다면 지금 바로 ‘All-in 공모전’에서 만나보세요!👉🏻\\xa0공모전 결과물 보러가기누구나 큰일 낼 수 있어스파르타코딩클럽글'),\n",
       " Document(id='2e604d28-f693-47c4-b9b9-5f3084cf81c2', metadata={'source': 'https://spartacodingclub.kr/blog/all-in-challenge_winner'}, page_content='Spring Boot, MySQL, Spring WebSocket-BE(백엔드): React Native, TanStack Query, Axios코딩 공모전 수상작은 대학생들의 팀프로젝트를 통해 만들어진 웹/앱 서비스입니다. 캠퍼스에서의 문제를 해결하자는 참가자들의 아이디어에서 시작되었죠. 누구나 세상에 선보이고 싶은 나만의 아이디어와 기초 코딩 기술만 활용한다면, 얼마든지 서비스를 만들 수 있습니다. 스파르타코딩클럽의 내일배움캠프에서는 비전공, 초보자도 웹/앱 개발자로 거듭날 수 있는 다양한 트랙이 준비돼 있습니다. 나만의 아이디어를 세상에 선보이고 싶은 누구나에게 열려 있으니 주저말고 도전해 보세요.💡<All-in> 코딩 공모전에서 만든 다양한 서비스를 만나보고 싶다면?다양한 서비스와 기발한 아이디어가 모인 곳에 초대합니다. 참가자들의 문제 해결방법이 궁금하시다면 지금 바로 ‘All-in 공모전’에서 만나보세요!👉🏻\\xa0공모전 결과물 보러가기누구나 큰일 낼 수 있어스파르타코딩클럽글'),\n",
       " Document(id='3f2c8fee-bd3a-433c-81f3-64349862c7e9', metadata={'source': 'https://spartacodingclub.kr/blog/all-in-challenge_winner'}, page_content='Spring Boot, MySQL, Spring WebSocket-BE(백엔드): React Native, TanStack Query, Axios코딩 공모전 수상작은 대학생들의 팀프로젝트를 통해 만들어진 웹/앱 서비스입니다. 캠퍼스에서의 문제를 해결하자는 참가자들의 아이디어에서 시작되었죠. 누구나 세상에 선보이고 싶은 나만의 아이디어와 기초 코딩 기술만 활용한다면, 얼마든지 서비스를 만들 수 있습니다. 스파르타코딩클럽의 내일배움캠프에서는 비전공, 초보자도 웹/앱 개발자로 거듭날 수 있는 다양한 트랙이 준비돼 있습니다. 나만의 아이디어를 세상에 선보이고 싶은 누구나에게 열려 있으니 주저말고 도전해 보세요.💡<All-in> 코딩 공모전에서 만든 다양한 서비스를 만나보고 싶다면?다양한 서비스와 기발한 아이디어가 모인 곳에 초대합니다. 참가자들의 문제 해결방법이 궁금하시다면 지금 바로 ‘All-in 공모전’에서 만나보세요!👉🏻\\xa0공모전 결과물 보러가기누구나 큰일 낼 수 있어스파르타코딩클럽글'),\n",
       " Document(id='c01a1a4f-0e6a-4783-97ae-01d264033973', metadata={'source': 'https://spartacodingclub.kr/blog/all-in-challenge_winner'}, page_content='Spring Boot, MySQL, Spring WebSocket-BE(백엔드): React Native, TanStack Query, Axios코딩 공모전 수상작은 대학생들의 팀프로젝트를 통해 만들어진 웹/앱 서비스입니다. 캠퍼스에서의 문제를 해결하자는 참가자들의 아이디어에서 시작되었죠. 누구나 세상에 선보이고 싶은 나만의 아이디어와 기초 코딩 기술만 활용한다면, 얼마든지 서비스를 만들 수 있습니다. 스파르타코딩클럽의 내일배움캠프에서는 비전공, 초보자도 웹/앱 개발자로 거듭날 수 있는 다양한 트랙이 준비돼 있습니다. 나만의 아이디어를 세상에 선보이고 싶은 누구나에게 열려 있으니 주저말고 도전해 보세요.💡<All-in> 코딩 공모전에서 만든 다양한 서비스를 만나보고 싶다면?다양한 서비스와 기발한 아이디어가 모인 곳에 초대합니다. 참가자들의 문제 해결방법이 궁금하시다면 지금 바로 ‘All-in 공모전’에서 만나보세요!👉🏻\\xa0공모전 결과물 보러가기누구나 큰일 낼 수 있어스파르타코딩클럽글'),\n",
       " Document(id='b27772d9-40c4-4cf1-a271-fbde12a1a5d6', metadata={'source': 'https://spartacodingclub.kr/blog/all-in-challenge_winner'}, page_content='가진 학생들이 함께 성장할 수 있는 환경이 조성됩니다. 글로벌 사회에서 중요한 소통 능력을 기를 수 있는 문화의 장으로 쓰일 수 있겠죠!사용한 기술 스택-FE(프론트엔드): Spring Boot, MySQL, Spring WebSocket-BE(백엔드): React Native, TanStack Query, Axios코딩 공모전 수상작은 대학생들의 팀프로젝트를 통해 만들어진 웹/앱 서비스입니다. 캠퍼스에서의 문제를 해결하자는 참가자들의 아이디어에서 시작되었죠. 누구나 세상에 선보이고 싶은 나만의 아이디어와 기초 코딩 기술만 활용한다면, 얼마든지 서비스를 만들 수 있습니다. 스파르타코딩클럽의 내일배움캠프에서는 비전공, 초보자도 웹/앱 개발자로 거듭날 수 있는 다양한 트랙이 준비돼 있습니다. 나만의 아이디어를 세상에 선보이고 싶은 누구나에게 열려 있으니 주저말고 도전해 보세요.💡<All-in> 코딩 공모전에서 만든 다양한 서비스를 만나보고 싶다면?다양한 서비스와 기발한 아이디어가 모인'),\n",
       " Document(id='f1e31229-d9e1-45ad-a784-081d79c4113d', metadata={'source': 'https://spartacodingclub.kr/blog/all-in-challenge_winner'}, page_content='Boot, MySQL, Spring WebSocket-BE(백엔드): React Native, TanStack Query, Axios코딩 공모전 수상작은 대학생들의 팀프로젝트를 통해 만들어진 웹/앱 서비스입니다. 캠퍼스에서의 문제를 해결하자는 참가자들의 아이디어에서 시작되었죠. 누구나 세상에 선보이고 싶은 나만의 아이디어와 기초 코딩 기술만 활용한다면, 얼마든지 서비스를 만들 수 있습니다. 스파르타코딩클럽의 내일배움캠프에서는 비전공, 초보자도 웹/앱 개발자로 거듭날 수 있는 다양한 트랙이 준비돼 있습니다. 나만의 아이디어를 세상에 선보이고 싶은 누구나에게 열려 있으니 주저말고 도전해 보세요.💡<All-in> 코딩 공모전에서 만든 다양한 서비스를 만나보고 싶다면?다양한 서비스와 기발한 아이디어가 모인 곳에'),\n",
       " Document(id='34f17100-5765-4189-be36-027e4da7bef7', metadata={'source': 'https://spartacodingclub.kr/blog/all-in-challenge_winner'}, page_content='Boot, MySQL, Spring WebSocket-BE(백엔드): React Native, TanStack Query, Axios코딩 공모전 수상작은 대학생들의 팀프로젝트를 통해 만들어진 웹/앱 서비스입니다. 캠퍼스에서의 문제를 해결하자는 참가자들의 아이디어에서 시작되었죠. 누구나 세상에 선보이고 싶은 나만의 아이디어와 기초 코딩 기술만 활용한다면, 얼마든지 서비스를 만들 수 있습니다. 스파르타코딩클럽의 내일배움캠프에서는 비전공, 초보자도 웹/앱 개발자로 거듭날 수 있는 다양한 트랙이 준비돼 있습니다. 나만의 아이디어를 세상에 선보이고 싶은 누구나에게 열려 있으니 주저말고 도전해 보세요.💡<All-in> 코딩 공모전에서 만든 다양한 서비스를 만나보고 싶다면?다양한 서비스와 기발한 아이디어가 모인 곳에'),\n",
       " Document(id='be4cfaab-8a95-4622-ae22-450e612e067c', metadata={'source': 'https://spartacodingclub.kr/blog/all-in-challenge_winner'}, page_content='Boot, MySQL, Spring WebSocket-BE(백엔드): React Native, TanStack Query, Axios코딩 공모전 수상작은 대학생들의 팀프로젝트를 통해 만들어진 웹/앱 서비스입니다. 캠퍼스에서의 문제를 해결하자는 참가자들의 아이디어에서 시작되었죠. 누구나 세상에 선보이고 싶은 나만의 아이디어와 기초 코딩 기술만 활용한다면, 얼마든지 서비스를 만들 수 있습니다. 스파르타코딩클럽의 내일배움캠프에서는 비전공, 초보자도 웹/앱 개발자로 거듭날 수 있는 다양한 트랙이 준비돼 있습니다. 나만의 아이디어를 세상에 선보이고 싶은 누구나에게 열려 있으니 주저말고 도전해 보세요.💡<All-in> 코딩 공모전에서 만든 다양한 서비스를 만나보고 싶다면?다양한 서비스와 기발한 아이디어가 모인 곳에'),\n",
       " Document(id='4885ae04-e8d2-4bd7-9a40-38c99b10b7da', metadata={'source': 'https://spartacodingclub.kr/blog/all-in-challenge_winner'}, page_content='최종 결과 발표 등을 한 번에 해결할 수 있어요. 실제 동아리에 가입한 사람들의 솔직한 후기를 제공해주기 때문에 보다 정확한 정보를 얻을 수 있어요. Crewing은 신뢰할 수 있는 정보와 솔직한 후기를 제공해주기 때문에 효율적으로 내게 꼭 맞는 동아리를 선택할 수 있습니다.사용한 기술 스택 -FE(프론트엔드): Spring Boot, Redis, MySQL-BE(백엔드): SwiftUI Framework, OAuth 2.0🏅\\xa0입선[학교생활 매니저] 학교생활 관리 서비스서비스 제작자: 아이칼F4(조민제, 이민기, 강건, 박근우)💡A는 올해 복학한 3학년 학생입니다. 강의실과 도서관을 오가며 바쁜 일정을 소화하느라 정신이 없지만, 수업마다 나오는 과제와 각종 활동, 시험 준비까지 겹치면서 혼란에 빠지기'),\n",
       " Document(id='13bc009c-11b5-4d5b-a55e-04f0c486e686', metadata={'source': 'https://spartacodingclub.kr/blog/all-in-challenge_winner'}, page_content='최종 결과 발표 등을 한 번에 해결할 수 있어요. 실제 동아리에 가입한 사람들의 솔직한 후기를 제공해주기 때문에 보다 정확한 정보를 얻을 수 있어요. Crewing은 신뢰할 수 있는 정보와 솔직한 후기를 제공해주기 때문에 효율적으로 내게 꼭 맞는 동아리를 선택할 수 있습니다.사용한 기술 스택 -FE(프론트엔드): Spring Boot, Redis, MySQL-BE(백엔드): SwiftUI Framework, OAuth 2.0🏅\\xa0입선[학교생활 매니저] 학교생활 관리 서비스서비스 제작자: 아이칼F4(조민제, 이민기, 강건, 박근우)💡A는 올해 복학한 3학년 학생입니다. 강의실과 도서관을 오가며 바쁜 일정을 소화하느라 정신이 없지만, 수업마다 나오는 과제와 각종 활동, 시험 준비까지 겹치면서 혼란에 빠지기'),\n",
       " Document(id='e80e1a6f-7024-44fb-b5e1-69bfec4df934', metadata={'source': 'https://spartacodingclub.kr/blog/all-in-challenge_winner'}, page_content='파악할 수 있습니다. 수업 중 또는 후에 교수자가 수업에 대한 피드백을 받을 수 있는 평가 기능과 학생의 이해도를 테스트 할 수 있는 퀴즈 생성 기능이 있어 필요한 경우 수업 속도를 조절하고 추가 설명을 할 수 있어요.사용한 기술 스택 -FE(프론트엔드): Flutter, Socket.IO, Expo CLI, Axios, TanStack Query-BE(백엔드): Spring Boot, Spring Security, JWT, MySQL, Spring WebSocket, AWS🏅\\xa0입선[Crewing] 연합동아리 정보 플랫폼서비스 제작자: 동학대학운동(김민아, 임경진, 신은혜, 고수)💡신입생인 S는 대학 생활을 알차게 보내고 싶어서 연합 동아리에 가입하려고 했지만 어떤 동아리가 자신에게 맞을지 고민이 많았습니다. 인터넷에 검색해보니 연합 동아리 후기는 대부분 여기저기 흩어져 있고, 신뢰할 만한 정보를 찾기 어려웠습니다.<Crewing>은 대학생들이 다양한 연합 동아리에 쉽게 가입하고,'),\n",
       " Document(id='bccb4c68-a2a3-46cc-8973-4c4413dac1cd', metadata={'source': 'https://spartacodingclub.kr/blog/all-in-challenge_winner'}, page_content='SSE, FCM, JWT, Postman🎖️\\xa0우수상[에코 클래스룸] 수업 실시간 소통 서비스서비스 제작자: This is 스파게티!!!(박지성, 김서원, 박범수)💡K교수는 항상 수업이 끝난 후 난이도가 적절했는지 궁금했습니다. “질문 있나요?”라는 말이 수업의 마무리였지만, 대부분의 학생은 답이 없었죠. 그저 고개를 끄덕이는 몇몇 학생들만 보일 뿐, 정말 이해한 것인지, 질문할 용기가 없는 것인지 알 수 없었습니다. 이때문에 학생들이 수업 내용을 제대로 이해하고 있는지 확인하기 어려웠습니다. 어느 날 강의가 끝나고 몇몇 학생들이 몰려와 어렵다고, 다시 설명해 달라고 요청했습니다. 그제야 K교수는 알게 되었어요. 학생들이 이해하지 못하고 있었지만, 질문을 하지 않았던 것이었습니다.다른 학생들의 시선이 부담스러워서, 나만 모르는 거라고 생각해서 질문하지 않는 학생들을 위해 만들어진 서비스가 바로 <에코 클래스룸>입니다. 교수와 학생 간의 소통을 혁신적으로 바꾸기 위해 만들어졌어요.'),\n",
       " Document(id='464cacc4-00f3-44bd-9144-0f1bd173457b', metadata={'source': 'https://spartacodingclub.kr/blog/all-in-challenge_winner'}, page_content='제공해주기 때문에 효율적으로 내게 꼭 맞는 동아리를 선택할 수 있습니다.사용한 기술 스택 -FE(프론트엔드): Spring Boot, Redis, MySQL-BE(백엔드): SwiftUI Framework, OAuth 2.0🏅\\xa0입선[학교생활 매니저] 학교생활 관리 서비스서비스 제작자: 아이칼F4(조민제, 이민기, 강건, 박근우)💡A는 올해 복학한 3학년 학생입니다. 강의실과 도서관을 오가며 바쁜 일정을 소화하느라 정신이 없지만, 수업마다 나오는 과제와 각종 활동, 시험 준비까지 겹치면서 혼란에 빠지기 일쑤였습니다. 복학생이다 보니 학교에서 전달되는 공지사항도 제대로 전달받지 못해 항상 중요한 정보를 놓칠까 봐 걱정이었죠.<학교생활 매니저> 서비스는 학교 생활을 효율적으로 관리할 수 있도록 돕기 위해 개발된 관리 앱입니다. 일정과 과제 관리, 성적 예측, 학점 계산 등 캠퍼스 생활과 관련된 다양한 기능을 한 곳에서 관리할 수 있어요. ‘캘린더 기능’을 통해 학교 학사 일정과 개인'),\n",
       " Document(id='1124e63d-cded-4838-ad42-ec14655bfdf4', metadata={'source': 'https://spartacodingclub.kr/blog/all-in-challenge_winner'}, page_content='학생의 이해도를 테스트 할 수 있는 퀴즈 생성 기능이 있어 필요한 경우 수업 속도를 조절하고 추가 설명을 할 수 있어요.사용한 기술 스택 -FE(프론트엔드): Flutter, Socket.IO, Expo CLI, Axios, TanStack Query-BE(백엔드): Spring Boot, Spring Security, JWT, MySQL, Spring WebSocket, AWS🏅\\xa0입선[Crewing] 연합동아리 정보 플랫폼서비스 제작자: 동학대학운동(김민아, 임경진, 신은혜, 고수)💡신입생인 S는 대학 생활을 알차게 보내고 싶어서 연합 동아리에 가입하려고 했지만 어떤 동아리가 자신에게 맞을지 고민이 많았습니다. 인터넷에 검색해보니 연합 동아리 후기는 대부분 여기저기 흩어져 있고, 신뢰할 만한 정보를 찾기'),\n",
       " Document(id='4db39bc8-bf2d-4ca1-beeb-104affeb184b', metadata={'source': 'https://spartacodingclub.kr/blog/all-in-challenge_winner'}, page_content='선택할 수 있습니다.사용한 기술 스택 -FE(프론트엔드): Spring Boot, Redis, MySQL-BE(백엔드): SwiftUI Framework, OAuth 2.0🏅\\xa0입선[학교생활 매니저] 학교생활 관리 서비스서비스 제작자: 아이칼F4(조민제, 이민기, 강건, 박근우)💡A는 올해 복학한 3학년 학생입니다. 강의실과 도서관을 오가며 바쁜 일정을 소화하느라 정신이 없지만, 수업마다 나오는 과제와 각종 활동, 시험 준비까지 겹치면서 혼란에 빠지기 일쑤였습니다. 복학생이다 보니 학교에서 전달되는 공지사항도 제대로 전달받지 못해 항상 중요한 정보를 놓칠까 봐 걱정이었죠.<학교생활 매니저> 서비스는 학교 생활을 효율적으로 관리할 수 있도록 돕기 위해 개발된 관리 앱입니다. 일정과 과제 관리, 성적 예측,'),\n",
       " Document(id='ad660743-1a76-4a0e-bba5-ae27321fa065', metadata={'source': 'https://spartacodingclub.kr/blog/all-in-challenge_winner'}, page_content='연합 동아리에 쉽게 가입하고, 적절한 동아리를 찾을 수 있도록 지원해주는 아카이빙 플랫폼입니다. 회원가입 시 생년, 성별, 관심 분야를 입력하자 딱 맞는 동아리를 추천해주죠. 플랫폼 내에서 동아리의 리크루팅 과정인 서류 전형, 인터뷰 일정, 최종 결과 발표 등을 한 번에 해결할 수 있어요. 실제 동아리에 가입한 사람들의 솔직한 후기를 제공해주기 때문에 보다 정확한 정보를 얻을 수 있어요. Crewing은 신뢰할 수 있는 정보와 솔직한 후기를 제공해주기 때문에 효율적으로 내게 꼭 맞는 동아리를 선택할 수 있습니다.사용한 기술 스택 -FE(프론트엔드): Spring Boot, Redis, MySQL-BE(백엔드): SwiftUI Framework, OAuth 2.0🏅\\xa0입선[학교생활 매니저] 학교생활 관리 서비스서비스 제작자: 아이칼F4(조민제, 이민기, 강건, 박근우)💡A는 올해 복학한 3학년 학생입니다. 강의실과 도서관을 오가며 바쁜 일정을 소화하느라 정신이 없지만, 수업마다 나오는'),\n",
       " Document(id='b9b27b3e-de03-4a42-a660-c92b63a4f5a3', metadata={'source': 'https://spartacodingclub.kr/blog/all-in-challenge_winner'}, page_content='요긴한 학습 도우미가 되었기 때문입니다.사용한 기술 스택 -FE(프론트엔드): React, Tesseract.js, React-Quill, HTML, CSS, JavaScript-BE(백엔드): Java, Spring Boot, MariaDB🎖️\\xa0우수상[우리집 히어로즈] 벌레 퇴치 영웅 매칭 서비스서비스 제작자: 인트(배정연, 한지수)💡C는 이번 학기 처음으로 자취를 시작했습니다. 원래부터 작은 벌레에 민감했던 C. 자취방에서 자주 나타나는 벌레들 때문에 밤잠을 설치길 반복했습니다. 밤마다 벌레를 잡으려고 애쓰던 C는 커뮤니티를 통해 다른 학생들도 같은 문제를 겪고 있다는 것을 알게 되었습니다. 하지만 커뮤니티에서 벌레 퇴치 히어로를 찾기 위해서는 내 개인 정보를 노출해야 한다는 점이 찝찝했죠.이 문제를 해결할 수 있는 방법이 바로 <우리집 히어로즈> 서비스입니다. 대학생 자취생들이 자취방에서 겪는 벌레 문제를 해결하기 위해 개발된 앱이죠. 벌레 퇴치가 필요한 사용자가 앱에 요청을'),\n",
       " Document(id='bb3ee89c-3181-4c62-a004-906436611a18', metadata={'source': 'https://spartacodingclub.kr/blog/all-in-challenge_winner'}, page_content='요긴한 학습 도우미가 되었기 때문입니다.사용한 기술 스택 -FE(프론트엔드): React, Tesseract.js, React-Quill, HTML, CSS, JavaScript-BE(백엔드): Java, Spring Boot, MariaDB🎖️\\xa0우수상[우리집 히어로즈] 벌레 퇴치 영웅 매칭 서비스서비스 제작자: 인트(배정연, 한지수)💡C는 이번 학기 처음으로 자취를 시작했습니다. 원래부터 작은 벌레에 민감했던 C. 자취방에서 자주 나타나는 벌레들 때문에 밤잠을 설치길 반복했습니다. 밤마다 벌레를 잡으려고 애쓰던 C는 커뮤니티를 통해 다른 학생들도 같은 문제를 겪고 있다는 것을 알게 되었습니다. 하지만 커뮤니티에서 벌레 퇴치 히어로를 찾기 위해서는 내 개인 정보를 노출해야 한다는 점이 찝찝했죠.이 문제를 해결할 수 있는 방법이 바로 <우리집 히어로즈> 서비스입니다. 대학생 자취생들이 자취방에서 겪는 벌레 문제를 해결하기 위해 개발된 앱이죠. 벌레 퇴치가 필요한 사용자가 앱에 요청을'),\n",
       " Document(id='3f70c125-fca9-4ec3-951b-694070e5aecb', metadata={'source': 'https://spartacodingclub.kr/blog/all-in-challenge_winner'}, page_content='요긴한 학습 도우미가 되었기 때문입니다.사용한 기술 스택 -FE(프론트엔드): React, Tesseract.js, React-Quill, HTML, CSS, JavaScript-BE(백엔드): Java, Spring Boot, MariaDB🎖️\\xa0우수상[우리집 히어로즈] 벌레 퇴치 영웅 매칭 서비스서비스 제작자: 인트(배정연, 한지수)💡C는 이번 학기 처음으로 자취를 시작했습니다. 원래부터 작은 벌레에 민감했던 C. 자취방에서 자주 나타나는 벌레들 때문에 밤잠을 설치길 반복했습니다. 밤마다 벌레를 잡으려고 애쓰던 C는 커뮤니티를 통해 다른 학생들도 같은 문제를 겪고 있다는 것을 알게 되었습니다. 하지만 커뮤니티에서 벌레 퇴치 히어로를 찾기 위해서는 내 개인 정보를 노출해야 한다는 점이 찝찝했죠.이 문제를 해결할 수 있는 방법이 바로 <우리집 히어로즈> 서비스입니다. 대학생 자취생들이 자취방에서 겪는 벌레 문제를 해결하기 위해 개발된 앱이죠. 벌레 퇴치가 필요한 사용자가 앱에 요청을'),\n",
       " Document(id='2162dd2a-48fc-4f44-9e71-d591422ca5eb', metadata={'source': 'https://spartacodingclub.kr/blog/all-in-challenge_winner'}, page_content='요긴한 학습 도우미가 되었기 때문입니다.사용한 기술 스택 -FE(프론트엔드): React, Tesseract.js, React-Quill, HTML, CSS, JavaScript-BE(백엔드): Java, Spring Boot, MariaDB🎖️\\xa0우수상[우리집 히어로즈] 벌레 퇴치 영웅 매칭 서비스서비스 제작자: 인트(배정연, 한지수)💡C는 이번 학기 처음으로 자취를 시작했습니다. 원래부터 작은 벌레에 민감했던 C. 자취방에서 자주 나타나는 벌레들 때문에 밤잠을 설치길 반복했습니다. 밤마다 벌레를 잡으려고 애쓰던 C는 커뮤니티를 통해 다른 학생들도 같은 문제를 겪고 있다는 것을 알게 되었습니다. 하지만 커뮤니티에서 벌레 퇴치 히어로를 찾기 위해서는 내 개인 정보를 노출해야 한다는 점이 찝찝했죠.이 문제를 해결할 수 있는 방법이 바로 <우리집 히어로즈> 서비스입니다. 대학생 자취생들이 자취방에서 겪는 벌레 문제를 해결하기 위해 개발된 앱이죠. 벌레 퇴치가 필요한 사용자가 앱에 요청을'),\n",
       " Document(id='e7297085-df96-4f77-8c94-31b84cde00f0', metadata={'source': 'https://spartacodingclub.kr/blog/all-in-challenge_winner'}, page_content='요긴한 학습 도우미가 되었기 때문입니다.사용한 기술 스택 -FE(프론트엔드): React, Tesseract.js, React-Quill, HTML, CSS, JavaScript-BE(백엔드): Java, Spring Boot, MariaDB🎖️\\xa0우수상[우리집 히어로즈] 벌레 퇴치 영웅 매칭 서비스서비스 제작자: 인트(배정연, 한지수)💡C는 이번 학기 처음으로 자취를 시작했습니다. 원래부터 작은 벌레에 민감했던 C. 자취방에서 자주 나타나는 벌레들 때문에 밤잠을 설치길 반복했습니다. 밤마다 벌레를 잡으려고 애쓰던 C는 커뮤니티를 통해 다른 학생들도 같은 문제를 겪고 있다는 것을 알게 되었습니다. 하지만 커뮤니티에서 벌레 퇴치 히어로를 찾기 위해서는 내 개인 정보를 노출해야 한다는 점이 찝찝했죠.이 문제를 해결할 수 있는 방법이 바로 <우리집 히어로즈> 서비스입니다. 대학생 자취생들이 자취방에서 겪는 벌레 문제를 해결하기 위해 개발된 앱이죠. 벌레 퇴치가 필요한 사용자가 앱에 요청을'),\n",
       " Document(id='e81523c0-d4c3-476f-853a-d46500d08d15', metadata={'source': 'https://spartacodingclub.kr/blog/all-in-challenge_winner'}, page_content='요긴한 학습 도우미가 되었기 때문입니다.사용한 기술 스택 -FE(프론트엔드): React, Tesseract.js, React-Quill, HTML, CSS, JavaScript-BE(백엔드): Java, Spring Boot, MariaDB🎖️\\xa0우수상[우리집 히어로즈] 벌레 퇴치 영웅 매칭 서비스서비스 제작자: 인트(배정연, 한지수)💡C는 이번 학기 처음으로 자취를 시작했습니다. 원래부터 작은 벌레에 민감했던 C. 자취방에서 자주 나타나는 벌레들 때문에 밤잠을 설치길 반복했습니다. 밤마다 벌레를 잡으려고 애쓰던 C는 커뮤니티를 통해 다른 학생들도 같은 문제를 겪고 있다는 것을 알게 되었습니다. 하지만 커뮤니티에서 벌레 퇴치 히어로를 찾기 위해서는 내 개인 정보를 노출해야 한다는 점이 찝찝했죠.이 문제를 해결할 수 있는 방법이 바로 <우리집 히어로즈> 서비스입니다. 대학생 자취생들이 자취방에서 겪는 벌레 문제를 해결하기 위해 개발된 앱이죠. 벌레 퇴치가 필요한 사용자가 앱에 요청을'),\n",
       " Document(id='94abd40d-d4ab-4856-937d-d059365b6702', metadata={'source': 'https://spartacodingclub.kr/blog/all-in-challenge_winner'}, page_content='시 생년, 성별, 관심 분야를 입력하자 딱 맞는 동아리를 추천해주죠. 플랫폼 내에서 동아리의 리크루팅 과정인 서류 전형, 인터뷰 일정, 최종 결과 발표 등을 한 번에 해결할 수 있어요. 실제 동아리에 가입한 사람들의 솔직한 후기를 제공해주기 때문에 보다 정확한 정보를 얻을 수 있어요. Crewing은 신뢰할 수 있는 정보와 솔직한 후기를 제공해주기 때문에 효율적으로 내게 꼭 맞는 동아리를 선택할 수 있습니다.사용한 기술 스택 -FE(프론트엔드): Spring Boot, Redis, MySQL-BE(백엔드): SwiftUI Framework, OAuth 2.0🏅\\xa0입선[학교생활 매니저] 학교생활 관리 서비스서비스 제작자: 아이칼F4(조민제, 이민기, 강건, 박근우)💡A는 올해 복학한 3학년 학생입니다. 강의실과 도서관을 오가며 바쁜 일정을 소화하느라 정신이 없지만, 수업마다 나오는 과제와 각종 활동, 시험 준비까지 겹치면서 혼란에 빠지기 일쑤였습니다. 복학생이다 보니 학교에서 전달되는'),\n",
       " Document(id='e90e6f3d-315e-4940-99da-5a343a073f90', metadata={'source': 'https://spartacodingclub.kr/blog/all-in-challenge_winner'}, page_content='시 생년, 성별, 관심 분야를 입력하자 딱 맞는 동아리를 추천해주죠. 플랫폼 내에서 동아리의 리크루팅 과정인 서류 전형, 인터뷰 일정, 최종 결과 발표 등을 한 번에 해결할 수 있어요. 실제 동아리에 가입한 사람들의 솔직한 후기를 제공해주기 때문에 보다 정확한 정보를 얻을 수 있어요. Crewing은 신뢰할 수 있는 정보와 솔직한 후기를 제공해주기 때문에 효율적으로 내게 꼭 맞는 동아리를 선택할 수 있습니다.사용한 기술 스택 -FE(프론트엔드): Spring Boot, Redis, MySQL-BE(백엔드): SwiftUI Framework, OAuth 2.0🏅\\xa0입선[학교생활 매니저] 학교생활 관리 서비스서비스 제작자: 아이칼F4(조민제, 이민기, 강건, 박근우)💡A는 올해 복학한 3학년 학생입니다. 강의실과 도서관을 오가며 바쁜 일정을 소화하느라 정신이 없지만, 수업마다 나오는 과제와 각종 활동, 시험 준비까지 겹치면서 혼란에 빠지기 일쑤였습니다. 복학생이다 보니 학교에서 전달되는'),\n",
       " Document(id='6677cd34-de2f-40d3-bf67-4b3aa842972d', metadata={'source': 'https://spartacodingclub.kr/blog/all-in-challenge_winner'}, page_content='시 생년, 성별, 관심 분야를 입력하자 딱 맞는 동아리를 추천해주죠. 플랫폼 내에서 동아리의 리크루팅 과정인 서류 전형, 인터뷰 일정, 최종 결과 발표 등을 한 번에 해결할 수 있어요. 실제 동아리에 가입한 사람들의 솔직한 후기를 제공해주기 때문에 보다 정확한 정보를 얻을 수 있어요. Crewing은 신뢰할 수 있는 정보와 솔직한 후기를 제공해주기 때문에 효율적으로 내게 꼭 맞는 동아리를 선택할 수 있습니다.사용한 기술 스택 -FE(프론트엔드): Spring Boot, Redis, MySQL-BE(백엔드): SwiftUI Framework, OAuth 2.0🏅\\xa0입선[학교생활 매니저] 학교생활 관리 서비스서비스 제작자: 아이칼F4(조민제, 이민기, 강건, 박근우)💡A는 올해 복학한 3학년 학생입니다. 강의실과 도서관을 오가며 바쁜 일정을 소화하느라 정신이 없지만, 수업마다 나오는 과제와 각종 활동, 시험 준비까지 겹치면서 혼란에 빠지기 일쑤였습니다. 복학생이다 보니 학교에서 전달되는'),\n",
       " Document(id='ff6b6fb4-41af-484b-9dd5-bbb2b69d08e0', metadata={'source': 'https://spartacodingclub.kr/blog/all-in-challenge_winner'}, page_content='시 생년, 성별, 관심 분야를 입력하자 딱 맞는 동아리를 추천해주죠. 플랫폼 내에서 동아리의 리크루팅 과정인 서류 전형, 인터뷰 일정, 최종 결과 발표 등을 한 번에 해결할 수 있어요. 실제 동아리에 가입한 사람들의 솔직한 후기를 제공해주기 때문에 보다 정확한 정보를 얻을 수 있어요. Crewing은 신뢰할 수 있는 정보와 솔직한 후기를 제공해주기 때문에 효율적으로 내게 꼭 맞는 동아리를 선택할 수 있습니다.사용한 기술 스택 -FE(프론트엔드): Spring Boot, Redis, MySQL-BE(백엔드): SwiftUI Framework, OAuth 2.0🏅\\xa0입선[학교생활 매니저] 학교생활 관리 서비스서비스 제작자: 아이칼F4(조민제, 이민기, 강건, 박근우)💡A는 올해 복학한 3학년 학생입니다. 강의실과 도서관을 오가며 바쁜 일정을 소화하느라 정신이 없지만, 수업마다 나오는 과제와 각종 활동, 시험 준비까지 겹치면서 혼란에 빠지기 일쑤였습니다. 복학생이다 보니 학교에서 전달되는'),\n",
       " Document(id='74e0e299-cfc3-42d4-990b-55914b5222e9', metadata={'source': 'https://spartacodingclub.kr/blog/all-in-challenge_winner'}, page_content='시 생년, 성별, 관심 분야를 입력하자 딱 맞는 동아리를 추천해주죠. 플랫폼 내에서 동아리의 리크루팅 과정인 서류 전형, 인터뷰 일정, 최종 결과 발표 등을 한 번에 해결할 수 있어요. 실제 동아리에 가입한 사람들의 솔직한 후기를 제공해주기 때문에 보다 정확한 정보를 얻을 수 있어요. Crewing은 신뢰할 수 있는 정보와 솔직한 후기를 제공해주기 때문에 효율적으로 내게 꼭 맞는 동아리를 선택할 수 있습니다.사용한 기술 스택 -FE(프론트엔드): Spring Boot, Redis, MySQL-BE(백엔드): SwiftUI Framework, OAuth 2.0🏅\\xa0입선[학교생활 매니저] 학교생활 관리 서비스서비스 제작자: 아이칼F4(조민제, 이민기, 강건, 박근우)💡A는 올해 복학한 3학년 학생입니다. 강의실과 도서관을 오가며 바쁜 일정을 소화하느라 정신이 없지만, 수업마다 나오는 과제와 각종 활동, 시험 준비까지 겹치면서 혼란에 빠지기 일쑤였습니다. 복학생이다 보니 학교에서 전달되는'),\n",
       " Document(id='c8b64631-a86f-4b4d-9d69-ba32949961e7', metadata={'source': 'https://spartacodingclub.kr/blog/all-in-challenge_winner'}, page_content='시 생년, 성별, 관심 분야를 입력하자 딱 맞는 동아리를 추천해주죠. 플랫폼 내에서 동아리의 리크루팅 과정인 서류 전형, 인터뷰 일정, 최종 결과 발표 등을 한 번에 해결할 수 있어요. 실제 동아리에 가입한 사람들의 솔직한 후기를 제공해주기 때문에 보다 정확한 정보를 얻을 수 있어요. Crewing은 신뢰할 수 있는 정보와 솔직한 후기를 제공해주기 때문에 효율적으로 내게 꼭 맞는 동아리를 선택할 수 있습니다.사용한 기술 스택 -FE(프론트엔드): Spring Boot, Redis, MySQL-BE(백엔드): SwiftUI Framework, OAuth 2.0🏅\\xa0입선[학교생활 매니저] 학교생활 관리 서비스서비스 제작자: 아이칼F4(조민제, 이민기, 강건, 박근우)💡A는 올해 복학한 3학년 학생입니다. 강의실과 도서관을 오가며 바쁜 일정을 소화하느라 정신이 없지만, 수업마다 나오는 과제와 각종 활동, 시험 준비까지 겹치면서 혼란에 빠지기 일쑤였습니다. 복학생이다 보니 학교에서 전달되는'),\n",
       " Document(id='af9a9481-0444-4284-b7f0-f2cc54696e4f', metadata={'source': 'https://spartacodingclub.kr/blog/all-in-challenge_winner'}, page_content='Spring Boot, Spring Security, MySQL, SSE, FCM, JWT, Postman🎖️\\xa0우수상[에코 클래스룸] 수업 실시간 소통 서비스서비스 제작자: This is 스파게티!!!(박지성, 김서원, 박범수)💡K교수는 항상 수업이 끝난 후 난이도가 적절했는지 궁금했습니다. “질문 있나요?”라는 말이 수업의 마무리였지만, 대부분의 학생은 답이 없었죠. 그저 고개를 끄덕이는 몇몇 학생들만 보일 뿐, 정말 이해한 것인지, 질문할 용기가 없는 것인지 알 수 없었습니다. 이때문에 학생들이 수업 내용을 제대로 이해하고 있는지 확인하기 어려웠습니다. 어느 날 강의가 끝나고 몇몇 학생들이 몰려와 어렵다고, 다시 설명해 달라고 요청했습니다. 그제야 K교수는 알게 되었어요. 학생들이 이해하지 못하고'),\n",
       " Document(id='4bc3cde8-3731-4c4b-82a2-6d5a2e110b77', metadata={'source': 'https://spartacodingclub.kr/blog/all-in-challenge_winner'}, page_content='기능과 학생의 이해도를 테스트 할 수 있는 퀴즈 생성 기능이 있어 필요한 경우 수업 속도를 조절하고 추가 설명을 할 수 있어요.사용한 기술 스택 -FE(프론트엔드): Flutter, Socket.IO, Expo CLI, Axios, TanStack Query-BE(백엔드): Spring Boot, Spring Security, JWT, MySQL, Spring WebSocket, AWS🏅\\xa0입선[Crewing] 연합동아리 정보 플랫폼서비스 제작자: 동학대학운동(김민아, 임경진, 신은혜, 고수)💡신입생인 S는 대학 생활을 알차게 보내고 싶어서 연합 동아리에 가입하려고 했지만 어떤 동아리가 자신에게 맞을지 고민이 많았습니다. 인터넷에 검색해보니 연합 동아리 후기는 대부분 여기저기 흩어져 있고, 신뢰할 만한 정보를 찾기 어려웠습니다.<Crewing>은 대학생들이 다양한 연합 동아리에 쉽게 가입하고, 적절한 동아리를 찾을 수 있도록 지원해주는 아카이빙 플랫폼입니다. 회원가입 시 생년,'),\n",
       " Document(id='791a6f9c-48c7-4cde-abc3-92b345b382fd', metadata={'source': 'https://spartacodingclub.kr/blog/all-in-challenge_winner'}, page_content='기능과 학생의 이해도를 테스트 할 수 있는 퀴즈 생성 기능이 있어 필요한 경우 수업 속도를 조절하고 추가 설명을 할 수 있어요.사용한 기술 스택 -FE(프론트엔드): Flutter, Socket.IO, Expo CLI, Axios, TanStack Query-BE(백엔드): Spring Boot, Spring Security, JWT, MySQL, Spring WebSocket, AWS🏅\\xa0입선[Crewing] 연합동아리 정보 플랫폼서비스 제작자: 동학대학운동(김민아, 임경진, 신은혜, 고수)💡신입생인 S는 대학 생활을 알차게 보내고 싶어서 연합 동아리에 가입하려고 했지만 어떤 동아리가 자신에게 맞을지 고민이 많았습니다. 인터넷에 검색해보니 연합 동아리 후기는 대부분 여기저기 흩어져 있고, 신뢰할 만한 정보를 찾기 어려웠습니다.<Crewing>은 대학생들이 다양한 연합 동아리에 쉽게 가입하고, 적절한 동아리를 찾을 수 있도록 지원해주는 아카이빙 플랫폼입니다. 회원가입 시 생년,'),\n",
       " Document(id='96bb71ef-75e1-4804-aee1-01bc04540a7b', metadata={'source': 'https://spartacodingclub.kr/blog/all-in-challenge_winner'}, page_content='기능과 학생의 이해도를 테스트 할 수 있는 퀴즈 생성 기능이 있어 필요한 경우 수업 속도를 조절하고 추가 설명을 할 수 있어요.사용한 기술 스택 -FE(프론트엔드): Flutter, Socket.IO, Expo CLI, Axios, TanStack Query-BE(백엔드): Spring Boot, Spring Security, JWT, MySQL, Spring WebSocket, AWS🏅\\xa0입선[Crewing] 연합동아리 정보 플랫폼서비스 제작자: 동학대학운동(김민아, 임경진, 신은혜, 고수)💡신입생인 S는 대학 생활을 알차게 보내고 싶어서 연합 동아리에 가입하려고 했지만 어떤 동아리가 자신에게 맞을지 고민이 많았습니다. 인터넷에 검색해보니 연합 동아리 후기는 대부분 여기저기 흩어져 있고, 신뢰할 만한 정보를 찾기 어려웠습니다.<Crewing>은 대학생들이 다양한 연합 동아리에 쉽게 가입하고, 적절한 동아리를 찾을 수 있도록 지원해주는 아카이빙 플랫폼입니다. 회원가입 시 생년,')]"
      ]
     },
     "execution_count": 57,
     "metadata": {},
     "output_type": "execute_result"
    }
   ],
   "source": [
    "user_msg = \"ALL-in 코딩 공모전 수상작들을 요약해줘.\"\n",
    "retrieved_docs = retriever.invoke(user_msg)\n",
    "\n",
    "print(len(retrieved_docs))\n",
    "retrieved_docs"
   ]
  },
  {
   "cell_type": "code",
   "execution_count": 58,
   "id": "745c604d",
   "metadata": {},
   "outputs": [
    {
     "name": "stdout",
     "output_type": "stream",
     "text": [
      "input_variables=['context', 'question'] input_types={} partial_variables={} messages=[HumanMessagePromptTemplate(prompt=PromptTemplate(input_variables=['context', 'question'], input_types={}, partial_variables={}, template='너는 이 공모전을 평가했던 심사위원이이야.한국어로 대답하고,\\n  다음에 이 공모전을 참가할 사람들이 참고할 수 있도록 유익한 정보들을 보기 쉽게 정리해줄 수 있어야해.\\n  정보를 찾은 후 대답을 정리할 때는 너의 의견이 들어가면 안돼. 리트리버에서 가져온 정보는 가능한 모두 활용해.\\n  그리고 내가 제공한 문서에서 질문에 대한 대답을 찾을 수 없다면, 모른다고 대답해야해. <context>: {context} <question>: {question}'), additional_kwargs={})]\n"
     ]
    }
   ],
   "source": [
    "prompt = ChatPromptTemplate.from_template(\"\"\"너는 이 공모전을 평가했던 심사위원이이야.한국어로 대답하고,\n",
    "  다음에 이 공모전을 참가할 사람들이 참고할 수 있도록 유익한 정보들을 보기 쉽게 정리해줄 수 있어야해.\n",
    "  정보를 찾은 후 대답을 정리할 때는 너의 의견이 들어가면 안돼. 리트리버에서 가져온 정보는 가능한 모두 활용해.\n",
    "  그리고 내가 제공한 문서에서 질문에 대한 대답을 찾을 수 없다면, 모른다고 대답해야해. <context>: {context} <question>: {question}\"\"\")\n",
    "user_prompt = prompt.invoke({\"context\": format_docs(retrieved_docs), \"question\": user_msg})\n",
    "print(prompt)"
   ]
  },
  {
   "cell_type": "code",
   "execution_count": null,
   "id": "dad4db90",
   "metadata": {},
   "outputs": [
    {
     "name": "stdout",
     "output_type": "stream",
     "text": [
      "## AII-in 코딩 공모전 수상작 요약\n",
      "\n",
      "### 🏆 대상 수상작\n",
      "- **[Lexi Note]**\n",
      "  - **제작자**: 다나와(김다애, 박나경)\n",
      "  - **소개**: 어문학 전공생을 위한 언어 공부 필기 웹 서비스. 단어를 드래그하면 네이버 사전과 연동되어 의미를 찾고 필기를 동시에 할 수 있으며, 긴 문장은 번역기와 연결하여 쉽게 이해할 수 있다. 할일 목록과 스케줄 템플릿 제공.\n",
      "\n",
      "### 🎖️ 우수상\n",
      "- **[에코 클래스룸]**\n",
      "  - **제작자**: This is 스파게티!!!(박지성, 김서원, 박범수)\n",
      "  - **소개**: 수업 실시간 소통 서비스로, 학생들이 익명으로 의견이나 질문을 제출할 수 있게 하여 교수 매칭 피드백을 받을 수 있는 서비스. 학생의 이해도를 테스트하는 퀴즈 생성 기능도 포함되어 있다.\n",
      "  \n",
      "- **[우리집 히어로즈]**\n",
      "  - **제작자**: 인트(배정연, 한지수)\n",
      "  - **소개**: 자취방에서 발생하는 벌레 문제를 해결하기 위한 매칭 서비스. 사용자가 벌레 퇴치 요청을 올리면, 학교 내 벌레 퇴치 히어로와 매칭되고, 사용자 신원이 보장된 안전한 환경에서 수행된다.\n",
      "\n",
      "### 🏅 입선작\n",
      "- **[학교생활 매니저]**\n",
      "  - **제작자**: 아이칼F4(조민제, 이민기, 강건, 박근우)\n",
      "  - **소개**: 학교 생활을 효율적으로 관리할 수 있는 앱으로, 일정과 과제 관리, 성적 예측, 학점 계산 등 다양한 기능을 제공한다. 캘린더와 공지사항 기능으로 중요한 정보를 놓치지 않게 돕는다.\n",
      "\n",
      "- **[BLOTIE]**\n",
      "  - **제작자**: 블로티(이은주, 한명수, 황준영)\n",
      "  - **소개**: 교내 외국인과 내국인을 연결하는 매칭 플랫폼. 학생 간의 문화와 언어 교류를 도와주며, 실시간 채팅과 피드 기능으로 자유로운 소통을 지원한다.\n",
      "\n",
      "- **[Crewing]**\n",
      "  - **제작자**: 동학대학운동(김민아, 임경진, 신은혜, 고수)\n",
      "  - **소개**: 대학생들이 연합 동아리에 쉽고 효율적으로 가입할 수 있도록 지원하는 플랫폼. 회원가입 시 관심 분야에 맞는 동아리를 추천하고, 실질적인 정보와 후기를 제공한다.\n",
      "\n",
      "이상의 내용은 공모전에서 제출된 혁신적인 아이디어와 기술적 접근 방법을 기반으로 한 수상작들 설명입니다.\n"
     ]
    }
   ],
   "source": [
    "response = llm.invoke(user_prompt)\n",
    "print(response.content)"
   ]
  },
  {
   "cell_type": "markdown",
   "id": "28131a11",
   "metadata": {},
   "source": [
    "## 문서와 관련 없는 질문을 할 경우\n",
    "문서에 기반한 답만 찾아오는지 확인하기 위해 다른 질문을 해봤습니다."
   ]
  },
  {
   "cell_type": "code",
   "execution_count": null,
   "id": "19af7442",
   "metadata": {},
   "outputs": [
    {
     "name": "stdout",
     "output_type": "stream",
     "text": [
      "제공된 문서에는 'All-in 코딩 공모전'의 수상작에 대해 구체적인 설명이 있지만, 수상작이 총 몇 개이며 그 목록이나 상세한 내용은 포함되어 있지 않습니다. 따라서 6대 차류에 대한 정보를 제공할 수 없습니다.\n"
     ]
    }
   ],
   "source": [
    "unrelated_msg = \"6대 차류에 대해 설명해줘.\"\n",
    "user_prompt2 = prompt.invoke({\"context\": format_docs(retrieved_docs), \"question\": unrelated_msg})\n",
    "\n",
    "response = llm.invoke(user_prompt2)\n",
    "print(response.content)"
   ]
  },
  {
   "cell_type": "markdown",
   "id": "041fadaf",
   "metadata": {},
   "source": []
  },
  {
   "cell_type": "markdown",
   "id": "8b14477a",
   "metadata": {},
   "source": [
    "### 문제점\n",
    "리트리버에서 관련된 정보를 전부 가져오지 않아 답변에서도 수상작 한 개만 가져오는 문제가 있었습니다.\n",
    "그리고 코드를 실행할 때마다 리트리버가 다르게 작동한다는 문제가 있었습니다.\n",
    "\n",
    "### 리트리버 수정\n",
    "리트리버가 반환하는 문서의 최대 개수를 지정하여 문서를 여러개 가져올 수 있도록 했습니다.\n",
    "1. search type을 similarity로 설정헸습니다."
   ]
  },
  {
   "cell_type": "code",
   "execution_count": 59,
   "id": "0946de87",
   "metadata": {},
   "outputs": [
    {
     "name": "stdout",
     "output_type": "stream",
     "text": [
      "[Document(id='88c37c74-9bdb-48ed-a35e-45164b8bf586', metadata={'source': 'https://spartacodingclub.kr/blog/all-in-challenge_winner'}, page_content=\"'AII-in 코딩 공모전’ 수상작을 소개합니다코딩은 더 이상 개발자만의 영역이 아닙니다. 누구나 아이디어만 있다면 창의적인 서비스를 만들어 세상을 바꿀 수 있습니다. 스파르타코딩클럽에서는 이러한 가능성을 믿고, 누구나 코딩을 통해 자신의 아이디어를 실현하고 실제 문제를 해결하는 경험을 쌓을 수 있도록 다양한 프로그램을 마련하고 있습니다.<All-in> 코딩 공모전은 대학생들이 캠퍼스에서 겪은 불편함과 문제를 자신만의 아이디어로 해결해보는 대회였는데요. 이번 공모전에서 다양한 혁신적인 아이디어와 열정으로 가득한 수많은 프로젝트가 탄생했습니다. 그중 뛰어난 성과를 낸 수상작 6개를 소개합니다.🏆\\xa0대상[Lexi Note] 언어공부 필기 웹 서비스서비스 제작자: 다나와(김다애, 박나경)💡W는 어문학을 전공하는\"), Document(id='36e54b8b-ea92-415d-a68a-a822aa48febb', metadata={'source': 'https://spartacodingclub.kr/blog/all-in-challenge_winner'}, page_content=\"'AII-in 코딩 공모전’ 수상작을 소개합니다코딩은 더 이상 개발자만의 영역이 아닙니다. 누구나 아이디어만 있다면 창의적인 서비스를 만들어 세상을 바꿀 수 있습니다. 스파르타코딩클럽에서는 이러한 가능성을 믿고, 누구나 코딩을 통해 자신의 아이디어를 실현하고 실제 문제를 해결하는 경험을 쌓을 수 있도록 다양한 프로그램을 마련하고 있습니다.<All-in> 코딩 공모전은 대학생들이 캠퍼스에서 겪은 불편함과 문제를 자신만의 아이디어로 해결해보는 대회였는데요. 이번 공모전에서 다양한 혁신적인 아이디어와 열정으로 가득한 수많은 프로젝트가 탄생했습니다. 그중 뛰어난 성과를 낸 수상작 6개를 소개합니다.🏆\\xa0대상[Lexi Note] 언어공부 필기 웹 서비스서비스 제작자: 다나와(김다애, 박나경)💡W는 어문학을 전공하는\"), Document(id='14858822-4644-4474-b24d-b3a63632b93c', metadata={'source': 'https://spartacodingclub.kr/blog/all-in-challenge_winner'}, page_content=\"'AII-in 코딩 공모전’ 수상작을 소개합니다코딩은 더 이상 개발자만의 영역이 아닙니다. 누구나 아이디어만 있다면 창의적인 서비스를 만들어 세상을 바꿀 수 있습니다. 스파르타코딩클럽에서는 이러한 가능성을 믿고, 누구나 코딩을 통해 자신의 아이디어를 실현하고 실제 문제를 해결하는 경험을 쌓을 수 있도록 다양한 프로그램을 마련하고 있습니다.<All-in> 코딩 공모전은 대학생들이 캠퍼스에서 겪은 불편함과 문제를 자신만의 아이디어로 해결해보는 대회였는데요. 이번 공모전에서 다양한 혁신적인 아이디어와 열정으로 가득한 수많은 프로젝트가 탄생했습니다. 그중 뛰어난 성과를 낸 수상작 6개를 소개합니다.🏆\\xa0대상[Lexi Note] 언어공부 필기 웹 서비스서비스 제작자: 다나와(김다애, 박나경)💡W는 어문학을 전공하는\"), Document(id='77e609b2-32dc-4611-ae98-e6abaeb41e09', metadata={'source': 'https://spartacodingclub.kr/blog/all-in-challenge_winner'}, page_content=\"'AII-in 코딩 공모전’ 수상작을 소개합니다코딩은 더 이상 개발자만의 영역이 아닙니다. 누구나 아이디어만 있다면 창의적인 서비스를 만들어 세상을 바꿀 수 있습니다. 스파르타코딩클럽에서는 이러한 가능성을 믿고, 누구나 코딩을 통해 자신의 아이디어를 실현하고 실제 문제를 해결하는 경험을 쌓을 수 있도록 다양한 프로그램을 마련하고 있습니다.<All-in> 코딩 공모전은 대학생들이 캠퍼스에서 겪은 불편함과 문제를 자신만의 아이디어로 해결해보는 대회였는데요. 이번 공모전에서 다양한 혁신적인 아이디어와 열정으로 가득한 수많은 프로젝트가 탄생했습니다. 그중 뛰어난 성과를 낸 수상작 6개를 소개합니다.🏆\\xa0대상[Lexi Note] 언어공부 필기 웹 서비스서비스 제작자: 다나와(김다애, 박나경)💡W는 어문학을 전공하는 대학생입니다. 매일 새로운 단어와 문장 구조를 공부하고 있지만, 효율적으로 학습하는 것이 쉽지 않았습니다. 단어의 의미를 찾기 위해 사전을 뒤적이고, 긴 문장을 이해하려고 번역기를\"), Document(id='08900dd0-4c72-488e-b890-b80522ea0055', metadata={'source': 'https://spartacodingclub.kr/blog/all-in-challenge_winner'}, page_content=\"'AII-in 코딩 공모전’ 수상작을 소개합니다코딩은 더 이상 개발자만의 영역이 아닙니다. 누구나 아이디어만 있다면 창의적인 서비스를 만들어 세상을 바꿀 수 있습니다. 스파르타코딩클럽에서는 이러한 가능성을 믿고, 누구나 코딩을 통해 자신의 아이디어를 실현하고 실제 문제를 해결하는 경험을 쌓을 수 있도록 다양한 프로그램을 마련하고 있습니다.<All-in> 코딩 공모전은 대학생들이 캠퍼스에서 겪은 불편함과 문제를 자신만의 아이디어로 해결해보는 대회였는데요. 이번 공모전에서 다양한 혁신적인 아이디어와 열정으로 가득한 수많은 프로젝트가 탄생했습니다. 그중 뛰어난 성과를 낸 수상작 6개를 소개합니다.🏆\\xa0대상[Lexi Note] 언어공부 필기 웹 서비스서비스 제작자: 다나와(김다애, 박나경)💡W는 어문학을 전공하는 대학생입니다. 매일 새로운 단어와 문장 구조를 공부하고 있지만, 효율적으로 학습하는 것이 쉽지 않았습니다. 단어의 의미를 찾기 위해 사전을 뒤적이고, 긴 문장을 이해하려고 번역기를\"), Document(id='e491c6e2-ad78-40d2-a75b-aeeeb483dda4', metadata={'source': 'https://spartacodingclub.kr/blog/all-in-challenge_winner'}, page_content=\"'AII-in 코딩 공모전’ 수상작을 소개합니다코딩은 더 이상 개발자만의 영역이 아닙니다. 누구나 아이디어만 있다면 창의적인 서비스를 만들어 세상을 바꿀 수 있습니다. 스파르타코딩클럽에서는 이러한 가능성을 믿고, 누구나 코딩을 통해 자신의 아이디어를 실현하고 실제 문제를 해결하는 경험을 쌓을 수 있도록 다양한 프로그램을 마련하고 있습니다.<All-in> 코딩 공모전은 대학생들이 캠퍼스에서 겪은 불편함과 문제를 자신만의 아이디어로 해결해보는 대회였는데요. 이번 공모전에서 다양한 혁신적인 아이디어와 열정으로 가득한 수많은 프로젝트가 탄생했습니다. 그중 뛰어난 성과를 낸 수상작 6개를 소개합니다.🏆\\xa0대상[Lexi Note] 언어공부 필기 웹 서비스서비스 제작자: 다나와(김다애, 박나경)💡W는 어문학을 전공하는 대학생입니다. 매일 새로운 단어와 문장 구조를 공부하고 있지만, 효율적으로 학습하는 것이 쉽지 않았습니다. 단어의 의미를 찾기 위해 사전을 뒤적이고, 긴 문장을 이해하려고 번역기를\"), Document(id='d29b5f9d-edc6-4c37-9dc5-c4cb5ec028ab', metadata={'source': 'https://spartacodingclub.kr/blog/all-in-challenge_winner'}, page_content=\"'AII-in 코딩 공모전’ 수상작을 소개합니다코딩은 더 이상 개발자만의 영역이 아닙니다. 누구나 아이디어만 있다면 창의적인 서비스를 만들어 세상을 바꿀 수 있습니다. 스파르타코딩클럽에서는 이러한 가능성을 믿고, 누구나 코딩을 통해 자신의 아이디어를 실현하고 실제 문제를 해결하는 경험을 쌓을 수 있도록 다양한 프로그램을 마련하고 있습니다.<All-in> 코딩 공모전은 대학생들이 캠퍼스에서 겪은 불편함과 문제를 자신만의 아이디어로 해결해보는 대회였는데요. 이번 공모전에서 다양한 혁신적인 아이디어와 열정으로 가득한 수많은 프로젝트가 탄생했습니다. 그중 뛰어난 성과를 낸 수상작 6개를 소개합니다.🏆\\xa0대상[Lexi Note] 언어공부 필기 웹 서비스서비스 제작자: 다나와(김다애, 박나경)💡W는 어문학을 전공하는 대학생입니다. 매일 새로운 단어와 문장 구조를 공부하고 있지만, 효율적으로 학습하는 것이 쉽지 않았습니다. 단어의 의미를 찾기 위해 사전을 뒤적이고, 긴 문장을 이해하려고 번역기를\"), Document(id='5d256db4-bbed-4f64-8b15-18f061844ccf', metadata={'source': 'https://spartacodingclub.kr/blog/all-in-challenge_winner'}, page_content=\"'AII-in 코딩 공모전’ 수상작을 소개합니다코딩은 더 이상 개발자만의 영역이 아닙니다. 누구나 아이디어만 있다면 창의적인 서비스를 만들어 세상을 바꿀 수 있습니다. 스파르타코딩클럽에서는 이러한 가능성을 믿고, 누구나 코딩을 통해 자신의 아이디어를 실현하고 실제 문제를 해결하는 경험을 쌓을 수 있도록 다양한 프로그램을 마련하고 있습니다.<All-in> 코딩 공모전은 대학생들이 캠퍼스에서 겪은 불편함과 문제를 자신만의 아이디어로 해결해보는 대회였는데요. 이번 공모전에서 다양한 혁신적인 아이디어와 열정으로 가득한 수많은 프로젝트가 탄생했습니다. 그중 뛰어난 성과를 낸 수상작 6개를 소개합니다.🏆\\xa0대상[Lexi Note] 언어공부 필기 웹 서비스서비스 제작자: 다나와(김다애, 박나경)💡W는 어문학을 전공하는 대학생입니다. 매일 새로운 단어와 문장 구조를 공부하고 있지만, 효율적으로 학습하는 것이 쉽지 않았습니다. 단어의 의미를 찾기 위해 사전을 뒤적이고, 긴 문장을 이해하려고 번역기를\"), Document(id='bfd11346-af51-409c-8858-d9796e7f39a3', metadata={'source': 'https://spartacodingclub.kr/blog/all-in-challenge_winner'}, page_content=\"'AII-in 코딩 공모전’ 수상작을 소개합니다코딩은 더 이상 개발자만의 영역이 아닙니다. 누구나 아이디어만 있다면 창의적인 서비스를 만들어 세상을 바꿀 수 있습니다. 스파르타코딩클럽에서는 이러한 가능성을 믿고, 누구나 코딩을 통해 자신의 아이디어를 실현하고 실제 문제를 해결하는 경험을 쌓을 수 있도록 다양한 프로그램을 마련하고 있습니다.<All-in> 코딩 공모전은 대학생들이 캠퍼스에서 겪은 불편함과 문제를 자신만의 아이디어로 해결해보는 대회였는데요. 이번 공모전에서 다양한 혁신적인 아이디어와 열정으로 가득한 수많은 프로젝트가 탄생했습니다. 그중 뛰어난 성과를 낸 수상작 6개를 소개합니다.🏆\\xa0대상[Lexi Note] 언어공부 필기 웹 서비스서비스 제작자: 다나와(김다애, 박나경)💡W는 어문학을 전공하는 대학생입니다. 매일 새로운 단어와 문장 구조를 공부하고 있지만, 효율적으로 학습하는 것이 쉽지 않았습니다. 단어의 의미를 찾기 위해 사전을 뒤적이고, 긴 문장을 이해하려고 번역기를\"), Document(id='dd86f2e6-2137-460e-90a6-2528994aa5a5', metadata={'source': 'https://spartacodingclub.kr/blog/all-in-challenge_winner'}, page_content=\"'AII-in 코딩 공모전’ 수상작을 소개합니다코딩은 더 이상 개발자만의 영역이 아닙니다. 누구나 아이디어만 있다면 창의적인 서비스를 만들어 세상을 바꿀 수 있습니다. 스파르타코딩클럽에서는 이러한 가능성을 믿고, 누구나 코딩을 통해 자신의 아이디어를 실현하고 실제 문제를 해결하는 경험을 쌓을 수 있도록 다양한 프로그램을 마련하고 있습니다.<All-in> 코딩 공모전은 대학생들이 캠퍼스에서 겪은 불편함과 문제를 자신만의 아이디어로 해결해보는 대회였는데요. 이번 공모전에서 다양한 혁신적인 아이디어와 열정으로 가득한 수많은 프로젝트가 탄생했습니다. 그중 뛰어난 성과를 낸 수상작 6개를 소개합니다.🏆\\xa0대상[Lexi Note] 언어공부 필기 웹 서비스서비스 제작자: 다나와(김다애, 박나경)💡W는 어문학을 전공하는 대학생입니다. 매일 새로운 단어와 문장 구조를 공부하고 있지만, 효율적으로 학습하는 것이 쉽지 않았습니다. 단어의 의미를 찾기 위해 사전을 뒤적이고, 긴 문장을 이해하려고 번역기를\"), Document(id='2f15b671-8b62-4500-a863-8421a6ef44a7', metadata={'source': 'https://spartacodingclub.kr/blog/all-in-challenge_winner'}, page_content=\"'AII-in 코딩 공모전’ 수상작을 소개합니다코딩은 더 이상 개발자만의 영역이 아닙니다. 누구나 아이디어만 있다면 창의적인 서비스를 만들어 세상을 바꿀 수 있습니다. 스파르타코딩클럽에서는 이러한 가능성을 믿고, 누구나 코딩을 통해 자신의 아이디어를 실현하고 실제 문제를 해결하는 경험을 쌓을 수 있도록 다양한 프로그램을 마련하고 있습니다.<All-in> 코딩 공모전은 대학생들이 캠퍼스에서 겪은 불편함과 문제를 자신만의 아이디어로 해결해보는 대회였는데요. 이번 공모전에서 다양한 혁신적인 아이디어와 열정으로 가득한 수많은 프로젝트가 탄생했습니다. 그중 뛰어난 성과를 낸 수상작 6개를 소개합니다.🏆\\xa0대상[Lexi Note] 언어공부 필기 웹 서비스서비스 제작자: 다나와(김다애, 박나경)💡W는 어문학을 전공하는 대학생입니다. 매일 새로운 단어와 문장 구조를 공부하고 있지만, 효율적으로 학습하는 것이 쉽지 않았습니다. 단어의 의미를 찾기 위해 사전을 뒤적이고, 긴 문장을 이해하려고 번역기를\"), Document(id='2a44f5f4-7069-4302-be42-c99e928ee29d', metadata={'source': 'https://spartacodingclub.kr/blog/all-in-challenge_winner'}, page_content='기발한 아이디어가 모인 곳에 초대합니다. 참가자들의 문제 해결방법이 궁금하시다면 지금 바로 ‘All-in 공모전’에서 만나보세요!👉🏻\\xa0공모전 결과물 보러가기누구나 큰일 낼 수 있어스파르타코딩클럽글 | 신수지 팀스파르타 에디터'), Document(id='54c31c51-6d3d-4a00-8699-779ae0c34dfc', metadata={'source': 'https://spartacodingclub.kr/blog/all-in-challenge_winner'}, page_content='기발한 아이디어가 모인 곳에 초대합니다. 참가자들의 문제 해결방법이 궁금하시다면 지금 바로 ‘All-in 공모전’에서 만나보세요!👉🏻\\xa0공모전 결과물 보러가기누구나 큰일 낼 수 있어스파르타코딩클럽글 | 신수지 팀스파르타 에디터'), Document(id='41c3e693-9e31-49ee-aa14-c898bed956aa', metadata={'source': 'https://spartacodingclub.kr/blog/all-in-challenge_winner'}, page_content='서비스와 기발한 아이디어가 모인 곳에 초대합니다. 참가자들의 문제 해결방법이 궁금하시다면 지금 바로 ‘All-in 공모전’에서 만나보세요!👉🏻\\xa0공모전 결과물 보러가기누구나 큰일 낼 수 있어스파르타코딩클럽글 | 신수지 팀스파르타 에디터'), Document(id='d96b1c1c-ba44-46bb-bef2-8afdb9841634', metadata={'source': 'https://spartacodingclub.kr/blog/all-in-challenge_winner'}, page_content='만든 다양한 서비스를 만나보고 싶다면?다양한 서비스와 기발한 아이디어가 모인 곳에 초대합니다. 참가자들의 문제 해결방법이 궁금하시다면 지금 바로 ‘All-in 공모전’에서 만나보세요!👉🏻\\xa0공모전 결과물 보러가기누구나 큰일 낼 수 있어스파르타코딩클럽글 | 신수지 팀스파르타 에디터'), Document(id='ed89c044-bd31-4e72-8f4d-f7902946cf74', metadata={'source': 'https://spartacodingclub.kr/blog/all-in-challenge_winner'}, page_content='WebSocket-BE(백엔드): React Native, TanStack Query, Axios코딩 공모전 수상작은 대학생들의 팀프로젝트를 통해 만들어진 웹/앱 서비스입니다. 캠퍼스에서의 문제를 해결하자는 참가자들의 아이디어에서 시작되었죠. 누구나 세상에 선보이고 싶은 나만의 아이디어와 기초 코딩 기술만 활용한다면, 얼마든지 서비스를 만들 수 있습니다. 스파르타코딩클럽의 내일배움캠프에서는 비전공, 초보자도 웹/앱 개발자로 거듭날 수 있는 다양한 트랙이 준비돼 있습니다. 나만의 아이디어를 세상에 선보이고 싶은 누구나에게 열려 있으니 주저말고 도전해 보세요.💡<All-in> 코딩 공모전에서 만든 다양한 서비스를 만나보고 싶다면?다양한 서비스와 기발한 아이디어가 모인 곳에 초대합니다. 참가자들의 문제 해결방법이 궁금하시다면 지금 바로 ‘All-in 공모전’에서 만나보세요!👉🏻\\xa0공모전 결과물 보러가기누구나 큰일 낼 수 있어스파르타코딩클럽글 | 신수지 팀스파르타 에디터'), Document(id='970cb3d0-be14-4fc4-9ce5-0d10147e04a3', metadata={'source': 'https://spartacodingclub.kr/blog/all-in-challenge_winner'}, page_content='Spring Boot, MySQL, Spring WebSocket-BE(백엔드): React Native, TanStack Query, Axios코딩 공모전 수상작은 대학생들의 팀프로젝트를 통해 만들어진 웹/앱 서비스입니다. 캠퍼스에서의 문제를 해결하자는 참가자들의 아이디어에서 시작되었죠. 누구나 세상에 선보이고 싶은 나만의 아이디어와 기초 코딩 기술만 활용한다면, 얼마든지 서비스를 만들 수 있습니다. 스파르타코딩클럽의 내일배움캠프에서는 비전공, 초보자도 웹/앱 개발자로 거듭날 수 있는 다양한 트랙이 준비돼 있습니다. 나만의 아이디어를 세상에 선보이고 싶은 누구나에게 열려 있으니 주저말고 도전해 보세요.💡<All-in> 코딩 공모전에서 만든 다양한 서비스를 만나보고 싶다면?다양한 서비스와 기발한 아이디어가 모인 곳에 초대합니다. 참가자들의 문제 해결방법이 궁금하시다면 지금 바로 ‘All-in 공모전’에서 만나보세요!👉🏻\\xa0공모전 결과물 보러가기누구나 큰일 낼 수 있어스파르타코딩클럽글'), Document(id='80ef5603-9d3f-445c-b62f-e5b45bf10b10', metadata={'source': 'https://spartacodingclub.kr/blog/all-in-challenge_winner'}, page_content='Spring Boot, MySQL, Spring WebSocket-BE(백엔드): React Native, TanStack Query, Axios코딩 공모전 수상작은 대학생들의 팀프로젝트를 통해 만들어진 웹/앱 서비스입니다. 캠퍼스에서의 문제를 해결하자는 참가자들의 아이디어에서 시작되었죠. 누구나 세상에 선보이고 싶은 나만의 아이디어와 기초 코딩 기술만 활용한다면, 얼마든지 서비스를 만들 수 있습니다. 스파르타코딩클럽의 내일배움캠프에서는 비전공, 초보자도 웹/앱 개발자로 거듭날 수 있는 다양한 트랙이 준비돼 있습니다. 나만의 아이디어를 세상에 선보이고 싶은 누구나에게 열려 있으니 주저말고 도전해 보세요.💡<All-in> 코딩 공모전에서 만든 다양한 서비스를 만나보고 싶다면?다양한 서비스와 기발한 아이디어가 모인 곳에 초대합니다. 참가자들의 문제 해결방법이 궁금하시다면 지금 바로 ‘All-in 공모전’에서 만나보세요!👉🏻\\xa0공모전 결과물 보러가기누구나 큰일 낼 수 있어스파르타코딩클럽글'), Document(id='3927e89a-31f4-4873-9953-bfbf18b5f1e5', metadata={'source': 'https://spartacodingclub.kr/blog/all-in-challenge_winner'}, page_content='Spring Boot, MySQL, Spring WebSocket-BE(백엔드): React Native, TanStack Query, Axios코딩 공모전 수상작은 대학생들의 팀프로젝트를 통해 만들어진 웹/앱 서비스입니다. 캠퍼스에서의 문제를 해결하자는 참가자들의 아이디어에서 시작되었죠. 누구나 세상에 선보이고 싶은 나만의 아이디어와 기초 코딩 기술만 활용한다면, 얼마든지 서비스를 만들 수 있습니다. 스파르타코딩클럽의 내일배움캠프에서는 비전공, 초보자도 웹/앱 개발자로 거듭날 수 있는 다양한 트랙이 준비돼 있습니다. 나만의 아이디어를 세상에 선보이고 싶은 누구나에게 열려 있으니 주저말고 도전해 보세요.💡<All-in> 코딩 공모전에서 만든 다양한 서비스를 만나보고 싶다면?다양한 서비스와 기발한 아이디어가 모인 곳에 초대합니다. 참가자들의 문제 해결방법이 궁금하시다면 지금 바로 ‘All-in 공모전’에서 만나보세요!👉🏻\\xa0공모전 결과물 보러가기누구나 큰일 낼 수 있어스파르타코딩클럽글'), Document(id='2e604d28-f693-47c4-b9b9-5f3084cf81c2', metadata={'source': 'https://spartacodingclub.kr/blog/all-in-challenge_winner'}, page_content='Spring Boot, MySQL, Spring WebSocket-BE(백엔드): React Native, TanStack Query, Axios코딩 공모전 수상작은 대학생들의 팀프로젝트를 통해 만들어진 웹/앱 서비스입니다. 캠퍼스에서의 문제를 해결하자는 참가자들의 아이디어에서 시작되었죠. 누구나 세상에 선보이고 싶은 나만의 아이디어와 기초 코딩 기술만 활용한다면, 얼마든지 서비스를 만들 수 있습니다. 스파르타코딩클럽의 내일배움캠프에서는 비전공, 초보자도 웹/앱 개발자로 거듭날 수 있는 다양한 트랙이 준비돼 있습니다. 나만의 아이디어를 세상에 선보이고 싶은 누구나에게 열려 있으니 주저말고 도전해 보세요.💡<All-in> 코딩 공모전에서 만든 다양한 서비스를 만나보고 싶다면?다양한 서비스와 기발한 아이디어가 모인 곳에 초대합니다. 참가자들의 문제 해결방법이 궁금하시다면 지금 바로 ‘All-in 공모전’에서 만나보세요!👉🏻\\xa0공모전 결과물 보러가기누구나 큰일 낼 수 있어스파르타코딩클럽글'), Document(id='3f2c8fee-bd3a-433c-81f3-64349862c7e9', metadata={'source': 'https://spartacodingclub.kr/blog/all-in-challenge_winner'}, page_content='Spring Boot, MySQL, Spring WebSocket-BE(백엔드): React Native, TanStack Query, Axios코딩 공모전 수상작은 대학생들의 팀프로젝트를 통해 만들어진 웹/앱 서비스입니다. 캠퍼스에서의 문제를 해결하자는 참가자들의 아이디어에서 시작되었죠. 누구나 세상에 선보이고 싶은 나만의 아이디어와 기초 코딩 기술만 활용한다면, 얼마든지 서비스를 만들 수 있습니다. 스파르타코딩클럽의 내일배움캠프에서는 비전공, 초보자도 웹/앱 개발자로 거듭날 수 있는 다양한 트랙이 준비돼 있습니다. 나만의 아이디어를 세상에 선보이고 싶은 누구나에게 열려 있으니 주저말고 도전해 보세요.💡<All-in> 코딩 공모전에서 만든 다양한 서비스를 만나보고 싶다면?다양한 서비스와 기발한 아이디어가 모인 곳에 초대합니다. 참가자들의 문제 해결방법이 궁금하시다면 지금 바로 ‘All-in 공모전’에서 만나보세요!👉🏻\\xa0공모전 결과물 보러가기누구나 큰일 낼 수 있어스파르타코딩클럽글'), Document(id='c01a1a4f-0e6a-4783-97ae-01d264033973', metadata={'source': 'https://spartacodingclub.kr/blog/all-in-challenge_winner'}, page_content='Spring Boot, MySQL, Spring WebSocket-BE(백엔드): React Native, TanStack Query, Axios코딩 공모전 수상작은 대학생들의 팀프로젝트를 통해 만들어진 웹/앱 서비스입니다. 캠퍼스에서의 문제를 해결하자는 참가자들의 아이디어에서 시작되었죠. 누구나 세상에 선보이고 싶은 나만의 아이디어와 기초 코딩 기술만 활용한다면, 얼마든지 서비스를 만들 수 있습니다. 스파르타코딩클럽의 내일배움캠프에서는 비전공, 초보자도 웹/앱 개발자로 거듭날 수 있는 다양한 트랙이 준비돼 있습니다. 나만의 아이디어를 세상에 선보이고 싶은 누구나에게 열려 있으니 주저말고 도전해 보세요.💡<All-in> 코딩 공모전에서 만든 다양한 서비스를 만나보고 싶다면?다양한 서비스와 기발한 아이디어가 모인 곳에 초대합니다. 참가자들의 문제 해결방법이 궁금하시다면 지금 바로 ‘All-in 공모전’에서 만나보세요!👉🏻\\xa0공모전 결과물 보러가기누구나 큰일 낼 수 있어스파르타코딩클럽글'), Document(id='b27772d9-40c4-4cf1-a271-fbde12a1a5d6', metadata={'source': 'https://spartacodingclub.kr/blog/all-in-challenge_winner'}, page_content='가진 학생들이 함께 성장할 수 있는 환경이 조성됩니다. 글로벌 사회에서 중요한 소통 능력을 기를 수 있는 문화의 장으로 쓰일 수 있겠죠!사용한 기술 스택-FE(프론트엔드): Spring Boot, MySQL, Spring WebSocket-BE(백엔드): React Native, TanStack Query, Axios코딩 공모전 수상작은 대학생들의 팀프로젝트를 통해 만들어진 웹/앱 서비스입니다. 캠퍼스에서의 문제를 해결하자는 참가자들의 아이디어에서 시작되었죠. 누구나 세상에 선보이고 싶은 나만의 아이디어와 기초 코딩 기술만 활용한다면, 얼마든지 서비스를 만들 수 있습니다. 스파르타코딩클럽의 내일배움캠프에서는 비전공, 초보자도 웹/앱 개발자로 거듭날 수 있는 다양한 트랙이 준비돼 있습니다. 나만의 아이디어를 세상에 선보이고 싶은 누구나에게 열려 있으니 주저말고 도전해 보세요.💡<All-in> 코딩 공모전에서 만든 다양한 서비스를 만나보고 싶다면?다양한 서비스와 기발한 아이디어가 모인'), Document(id='f1e31229-d9e1-45ad-a784-081d79c4113d', metadata={'source': 'https://spartacodingclub.kr/blog/all-in-challenge_winner'}, page_content='Boot, MySQL, Spring WebSocket-BE(백엔드): React Native, TanStack Query, Axios코딩 공모전 수상작은 대학생들의 팀프로젝트를 통해 만들어진 웹/앱 서비스입니다. 캠퍼스에서의 문제를 해결하자는 참가자들의 아이디어에서 시작되었죠. 누구나 세상에 선보이고 싶은 나만의 아이디어와 기초 코딩 기술만 활용한다면, 얼마든지 서비스를 만들 수 있습니다. 스파르타코딩클럽의 내일배움캠프에서는 비전공, 초보자도 웹/앱 개발자로 거듭날 수 있는 다양한 트랙이 준비돼 있습니다. 나만의 아이디어를 세상에 선보이고 싶은 누구나에게 열려 있으니 주저말고 도전해 보세요.💡<All-in> 코딩 공모전에서 만든 다양한 서비스를 만나보고 싶다면?다양한 서비스와 기발한 아이디어가 모인 곳에'), Document(id='34f17100-5765-4189-be36-027e4da7bef7', metadata={'source': 'https://spartacodingclub.kr/blog/all-in-challenge_winner'}, page_content='Boot, MySQL, Spring WebSocket-BE(백엔드): React Native, TanStack Query, Axios코딩 공모전 수상작은 대학생들의 팀프로젝트를 통해 만들어진 웹/앱 서비스입니다. 캠퍼스에서의 문제를 해결하자는 참가자들의 아이디어에서 시작되었죠. 누구나 세상에 선보이고 싶은 나만의 아이디어와 기초 코딩 기술만 활용한다면, 얼마든지 서비스를 만들 수 있습니다. 스파르타코딩클럽의 내일배움캠프에서는 비전공, 초보자도 웹/앱 개발자로 거듭날 수 있는 다양한 트랙이 준비돼 있습니다. 나만의 아이디어를 세상에 선보이고 싶은 누구나에게 열려 있으니 주저말고 도전해 보세요.💡<All-in> 코딩 공모전에서 만든 다양한 서비스를 만나보고 싶다면?다양한 서비스와 기발한 아이디어가 모인 곳에'), Document(id='be4cfaab-8a95-4622-ae22-450e612e067c', metadata={'source': 'https://spartacodingclub.kr/blog/all-in-challenge_winner'}, page_content='Boot, MySQL, Spring WebSocket-BE(백엔드): React Native, TanStack Query, Axios코딩 공모전 수상작은 대학생들의 팀프로젝트를 통해 만들어진 웹/앱 서비스입니다. 캠퍼스에서의 문제를 해결하자는 참가자들의 아이디어에서 시작되었죠. 누구나 세상에 선보이고 싶은 나만의 아이디어와 기초 코딩 기술만 활용한다면, 얼마든지 서비스를 만들 수 있습니다. 스파르타코딩클럽의 내일배움캠프에서는 비전공, 초보자도 웹/앱 개발자로 거듭날 수 있는 다양한 트랙이 준비돼 있습니다. 나만의 아이디어를 세상에 선보이고 싶은 누구나에게 열려 있으니 주저말고 도전해 보세요.💡<All-in> 코딩 공모전에서 만든 다양한 서비스를 만나보고 싶다면?다양한 서비스와 기발한 아이디어가 모인 곳에'), Document(id='4885ae04-e8d2-4bd7-9a40-38c99b10b7da', metadata={'source': 'https://spartacodingclub.kr/blog/all-in-challenge_winner'}, page_content='최종 결과 발표 등을 한 번에 해결할 수 있어요. 실제 동아리에 가입한 사람들의 솔직한 후기를 제공해주기 때문에 보다 정확한 정보를 얻을 수 있어요. Crewing은 신뢰할 수 있는 정보와 솔직한 후기를 제공해주기 때문에 효율적으로 내게 꼭 맞는 동아리를 선택할 수 있습니다.사용한 기술 스택 -FE(프론트엔드): Spring Boot, Redis, MySQL-BE(백엔드): SwiftUI Framework, OAuth 2.0🏅\\xa0입선[학교생활 매니저] 학교생활 관리 서비스서비스 제작자: 아이칼F4(조민제, 이민기, 강건, 박근우)💡A는 올해 복학한 3학년 학생입니다. 강의실과 도서관을 오가며 바쁜 일정을 소화하느라 정신이 없지만, 수업마다 나오는 과제와 각종 활동, 시험 준비까지 겹치면서 혼란에 빠지기'), Document(id='13bc009c-11b5-4d5b-a55e-04f0c486e686', metadata={'source': 'https://spartacodingclub.kr/blog/all-in-challenge_winner'}, page_content='최종 결과 발표 등을 한 번에 해결할 수 있어요. 실제 동아리에 가입한 사람들의 솔직한 후기를 제공해주기 때문에 보다 정확한 정보를 얻을 수 있어요. Crewing은 신뢰할 수 있는 정보와 솔직한 후기를 제공해주기 때문에 효율적으로 내게 꼭 맞는 동아리를 선택할 수 있습니다.사용한 기술 스택 -FE(프론트엔드): Spring Boot, Redis, MySQL-BE(백엔드): SwiftUI Framework, OAuth 2.0🏅\\xa0입선[학교생활 매니저] 학교생활 관리 서비스서비스 제작자: 아이칼F4(조민제, 이민기, 강건, 박근우)💡A는 올해 복학한 3학년 학생입니다. 강의실과 도서관을 오가며 바쁜 일정을 소화하느라 정신이 없지만, 수업마다 나오는 과제와 각종 활동, 시험 준비까지 겹치면서 혼란에 빠지기'), Document(id='e80e1a6f-7024-44fb-b5e1-69bfec4df934', metadata={'source': 'https://spartacodingclub.kr/blog/all-in-challenge_winner'}, page_content='파악할 수 있습니다. 수업 중 또는 후에 교수자가 수업에 대한 피드백을 받을 수 있는 평가 기능과 학생의 이해도를 테스트 할 수 있는 퀴즈 생성 기능이 있어 필요한 경우 수업 속도를 조절하고 추가 설명을 할 수 있어요.사용한 기술 스택 -FE(프론트엔드): Flutter, Socket.IO, Expo CLI, Axios, TanStack Query-BE(백엔드): Spring Boot, Spring Security, JWT, MySQL, Spring WebSocket, AWS🏅\\xa0입선[Crewing] 연합동아리 정보 플랫폼서비스 제작자: 동학대학운동(김민아, 임경진, 신은혜, 고수)💡신입생인 S는 대학 생활을 알차게 보내고 싶어서 연합 동아리에 가입하려고 했지만 어떤 동아리가 자신에게 맞을지 고민이 많았습니다. 인터넷에 검색해보니 연합 동아리 후기는 대부분 여기저기 흩어져 있고, 신뢰할 만한 정보를 찾기 어려웠습니다.<Crewing>은 대학생들이 다양한 연합 동아리에 쉽게 가입하고,'), Document(id='bccb4c68-a2a3-46cc-8973-4c4413dac1cd', metadata={'source': 'https://spartacodingclub.kr/blog/all-in-challenge_winner'}, page_content='SSE, FCM, JWT, Postman🎖️\\xa0우수상[에코 클래스룸] 수업 실시간 소통 서비스서비스 제작자: This is 스파게티!!!(박지성, 김서원, 박범수)💡K교수는 항상 수업이 끝난 후 난이도가 적절했는지 궁금했습니다. “질문 있나요?”라는 말이 수업의 마무리였지만, 대부분의 학생은 답이 없었죠. 그저 고개를 끄덕이는 몇몇 학생들만 보일 뿐, 정말 이해한 것인지, 질문할 용기가 없는 것인지 알 수 없었습니다. 이때문에 학생들이 수업 내용을 제대로 이해하고 있는지 확인하기 어려웠습니다. 어느 날 강의가 끝나고 몇몇 학생들이 몰려와 어렵다고, 다시 설명해 달라고 요청했습니다. 그제야 K교수는 알게 되었어요. 학생들이 이해하지 못하고 있었지만, 질문을 하지 않았던 것이었습니다.다른 학생들의 시선이 부담스러워서, 나만 모르는 거라고 생각해서 질문하지 않는 학생들을 위해 만들어진 서비스가 바로 <에코 클래스룸>입니다. 교수와 학생 간의 소통을 혁신적으로 바꾸기 위해 만들어졌어요.'), Document(id='464cacc4-00f3-44bd-9144-0f1bd173457b', metadata={'source': 'https://spartacodingclub.kr/blog/all-in-challenge_winner'}, page_content='제공해주기 때문에 효율적으로 내게 꼭 맞는 동아리를 선택할 수 있습니다.사용한 기술 스택 -FE(프론트엔드): Spring Boot, Redis, MySQL-BE(백엔드): SwiftUI Framework, OAuth 2.0🏅\\xa0입선[학교생활 매니저] 학교생활 관리 서비스서비스 제작자: 아이칼F4(조민제, 이민기, 강건, 박근우)💡A는 올해 복학한 3학년 학생입니다. 강의실과 도서관을 오가며 바쁜 일정을 소화하느라 정신이 없지만, 수업마다 나오는 과제와 각종 활동, 시험 준비까지 겹치면서 혼란에 빠지기 일쑤였습니다. 복학생이다 보니 학교에서 전달되는 공지사항도 제대로 전달받지 못해 항상 중요한 정보를 놓칠까 봐 걱정이었죠.<학교생활 매니저> 서비스는 학교 생활을 효율적으로 관리할 수 있도록 돕기 위해 개발된 관리 앱입니다. 일정과 과제 관리, 성적 예측, 학점 계산 등 캠퍼스 생활과 관련된 다양한 기능을 한 곳에서 관리할 수 있어요. ‘캘린더 기능’을 통해 학교 학사 일정과 개인'), Document(id='1124e63d-cded-4838-ad42-ec14655bfdf4', metadata={'source': 'https://spartacodingclub.kr/blog/all-in-challenge_winner'}, page_content='학생의 이해도를 테스트 할 수 있는 퀴즈 생성 기능이 있어 필요한 경우 수업 속도를 조절하고 추가 설명을 할 수 있어요.사용한 기술 스택 -FE(프론트엔드): Flutter, Socket.IO, Expo CLI, Axios, TanStack Query-BE(백엔드): Spring Boot, Spring Security, JWT, MySQL, Spring WebSocket, AWS🏅\\xa0입선[Crewing] 연합동아리 정보 플랫폼서비스 제작자: 동학대학운동(김민아, 임경진, 신은혜, 고수)💡신입생인 S는 대학 생활을 알차게 보내고 싶어서 연합 동아리에 가입하려고 했지만 어떤 동아리가 자신에게 맞을지 고민이 많았습니다. 인터넷에 검색해보니 연합 동아리 후기는 대부분 여기저기 흩어져 있고, 신뢰할 만한 정보를 찾기'), Document(id='4db39bc8-bf2d-4ca1-beeb-104affeb184b', metadata={'source': 'https://spartacodingclub.kr/blog/all-in-challenge_winner'}, page_content='선택할 수 있습니다.사용한 기술 스택 -FE(프론트엔드): Spring Boot, Redis, MySQL-BE(백엔드): SwiftUI Framework, OAuth 2.0🏅\\xa0입선[학교생활 매니저] 학교생활 관리 서비스서비스 제작자: 아이칼F4(조민제, 이민기, 강건, 박근우)💡A는 올해 복학한 3학년 학생입니다. 강의실과 도서관을 오가며 바쁜 일정을 소화하느라 정신이 없지만, 수업마다 나오는 과제와 각종 활동, 시험 준비까지 겹치면서 혼란에 빠지기 일쑤였습니다. 복학생이다 보니 학교에서 전달되는 공지사항도 제대로 전달받지 못해 항상 중요한 정보를 놓칠까 봐 걱정이었죠.<학교생활 매니저> 서비스는 학교 생활을 효율적으로 관리할 수 있도록 돕기 위해 개발된 관리 앱입니다. 일정과 과제 관리, 성적 예측,'), Document(id='ad660743-1a76-4a0e-bba5-ae27321fa065', metadata={'source': 'https://spartacodingclub.kr/blog/all-in-challenge_winner'}, page_content='연합 동아리에 쉽게 가입하고, 적절한 동아리를 찾을 수 있도록 지원해주는 아카이빙 플랫폼입니다. 회원가입 시 생년, 성별, 관심 분야를 입력하자 딱 맞는 동아리를 추천해주죠. 플랫폼 내에서 동아리의 리크루팅 과정인 서류 전형, 인터뷰 일정, 최종 결과 발표 등을 한 번에 해결할 수 있어요. 실제 동아리에 가입한 사람들의 솔직한 후기를 제공해주기 때문에 보다 정확한 정보를 얻을 수 있어요. Crewing은 신뢰할 수 있는 정보와 솔직한 후기를 제공해주기 때문에 효율적으로 내게 꼭 맞는 동아리를 선택할 수 있습니다.사용한 기술 스택 -FE(프론트엔드): Spring Boot, Redis, MySQL-BE(백엔드): SwiftUI Framework, OAuth 2.0🏅\\xa0입선[학교생활 매니저] 학교생활 관리 서비스서비스 제작자: 아이칼F4(조민제, 이민기, 강건, 박근우)💡A는 올해 복학한 3학년 학생입니다. 강의실과 도서관을 오가며 바쁜 일정을 소화하느라 정신이 없지만, 수업마다 나오는'), Document(id='b9b27b3e-de03-4a42-a660-c92b63a4f5a3', metadata={'source': 'https://spartacodingclub.kr/blog/all-in-challenge_winner'}, page_content='요긴한 학습 도우미가 되었기 때문입니다.사용한 기술 스택 -FE(프론트엔드): React, Tesseract.js, React-Quill, HTML, CSS, JavaScript-BE(백엔드): Java, Spring Boot, MariaDB🎖️\\xa0우수상[우리집 히어로즈] 벌레 퇴치 영웅 매칭 서비스서비스 제작자: 인트(배정연, 한지수)💡C는 이번 학기 처음으로 자취를 시작했습니다. 원래부터 작은 벌레에 민감했던 C. 자취방에서 자주 나타나는 벌레들 때문에 밤잠을 설치길 반복했습니다. 밤마다 벌레를 잡으려고 애쓰던 C는 커뮤니티를 통해 다른 학생들도 같은 문제를 겪고 있다는 것을 알게 되었습니다. 하지만 커뮤니티에서 벌레 퇴치 히어로를 찾기 위해서는 내 개인 정보를 노출해야 한다는 점이 찝찝했죠.이 문제를 해결할 수 있는 방법이 바로 <우리집 히어로즈> 서비스입니다. 대학생 자취생들이 자취방에서 겪는 벌레 문제를 해결하기 위해 개발된 앱이죠. 벌레 퇴치가 필요한 사용자가 앱에 요청을'), Document(id='bb3ee89c-3181-4c62-a004-906436611a18', metadata={'source': 'https://spartacodingclub.kr/blog/all-in-challenge_winner'}, page_content='요긴한 학습 도우미가 되었기 때문입니다.사용한 기술 스택 -FE(프론트엔드): React, Tesseract.js, React-Quill, HTML, CSS, JavaScript-BE(백엔드): Java, Spring Boot, MariaDB🎖️\\xa0우수상[우리집 히어로즈] 벌레 퇴치 영웅 매칭 서비스서비스 제작자: 인트(배정연, 한지수)💡C는 이번 학기 처음으로 자취를 시작했습니다. 원래부터 작은 벌레에 민감했던 C. 자취방에서 자주 나타나는 벌레들 때문에 밤잠을 설치길 반복했습니다. 밤마다 벌레를 잡으려고 애쓰던 C는 커뮤니티를 통해 다른 학생들도 같은 문제를 겪고 있다는 것을 알게 되었습니다. 하지만 커뮤니티에서 벌레 퇴치 히어로를 찾기 위해서는 내 개인 정보를 노출해야 한다는 점이 찝찝했죠.이 문제를 해결할 수 있는 방법이 바로 <우리집 히어로즈> 서비스입니다. 대학생 자취생들이 자취방에서 겪는 벌레 문제를 해결하기 위해 개발된 앱이죠. 벌레 퇴치가 필요한 사용자가 앱에 요청을'), Document(id='3f70c125-fca9-4ec3-951b-694070e5aecb', metadata={'source': 'https://spartacodingclub.kr/blog/all-in-challenge_winner'}, page_content='요긴한 학습 도우미가 되었기 때문입니다.사용한 기술 스택 -FE(프론트엔드): React, Tesseract.js, React-Quill, HTML, CSS, JavaScript-BE(백엔드): Java, Spring Boot, MariaDB🎖️\\xa0우수상[우리집 히어로즈] 벌레 퇴치 영웅 매칭 서비스서비스 제작자: 인트(배정연, 한지수)💡C는 이번 학기 처음으로 자취를 시작했습니다. 원래부터 작은 벌레에 민감했던 C. 자취방에서 자주 나타나는 벌레들 때문에 밤잠을 설치길 반복했습니다. 밤마다 벌레를 잡으려고 애쓰던 C는 커뮤니티를 통해 다른 학생들도 같은 문제를 겪고 있다는 것을 알게 되었습니다. 하지만 커뮤니티에서 벌레 퇴치 히어로를 찾기 위해서는 내 개인 정보를 노출해야 한다는 점이 찝찝했죠.이 문제를 해결할 수 있는 방법이 바로 <우리집 히어로즈> 서비스입니다. 대학생 자취생들이 자취방에서 겪는 벌레 문제를 해결하기 위해 개발된 앱이죠. 벌레 퇴치가 필요한 사용자가 앱에 요청을'), Document(id='2162dd2a-48fc-4f44-9e71-d591422ca5eb', metadata={'source': 'https://spartacodingclub.kr/blog/all-in-challenge_winner'}, page_content='요긴한 학습 도우미가 되었기 때문입니다.사용한 기술 스택 -FE(프론트엔드): React, Tesseract.js, React-Quill, HTML, CSS, JavaScript-BE(백엔드): Java, Spring Boot, MariaDB🎖️\\xa0우수상[우리집 히어로즈] 벌레 퇴치 영웅 매칭 서비스서비스 제작자: 인트(배정연, 한지수)💡C는 이번 학기 처음으로 자취를 시작했습니다. 원래부터 작은 벌레에 민감했던 C. 자취방에서 자주 나타나는 벌레들 때문에 밤잠을 설치길 반복했습니다. 밤마다 벌레를 잡으려고 애쓰던 C는 커뮤니티를 통해 다른 학생들도 같은 문제를 겪고 있다는 것을 알게 되었습니다. 하지만 커뮤니티에서 벌레 퇴치 히어로를 찾기 위해서는 내 개인 정보를 노출해야 한다는 점이 찝찝했죠.이 문제를 해결할 수 있는 방법이 바로 <우리집 히어로즈> 서비스입니다. 대학생 자취생들이 자취방에서 겪는 벌레 문제를 해결하기 위해 개발된 앱이죠. 벌레 퇴치가 필요한 사용자가 앱에 요청을'), Document(id='e7297085-df96-4f77-8c94-31b84cde00f0', metadata={'source': 'https://spartacodingclub.kr/blog/all-in-challenge_winner'}, page_content='요긴한 학습 도우미가 되었기 때문입니다.사용한 기술 스택 -FE(프론트엔드): React, Tesseract.js, React-Quill, HTML, CSS, JavaScript-BE(백엔드): Java, Spring Boot, MariaDB🎖️\\xa0우수상[우리집 히어로즈] 벌레 퇴치 영웅 매칭 서비스서비스 제작자: 인트(배정연, 한지수)💡C는 이번 학기 처음으로 자취를 시작했습니다. 원래부터 작은 벌레에 민감했던 C. 자취방에서 자주 나타나는 벌레들 때문에 밤잠을 설치길 반복했습니다. 밤마다 벌레를 잡으려고 애쓰던 C는 커뮤니티를 통해 다른 학생들도 같은 문제를 겪고 있다는 것을 알게 되었습니다. 하지만 커뮤니티에서 벌레 퇴치 히어로를 찾기 위해서는 내 개인 정보를 노출해야 한다는 점이 찝찝했죠.이 문제를 해결할 수 있는 방법이 바로 <우리집 히어로즈> 서비스입니다. 대학생 자취생들이 자취방에서 겪는 벌레 문제를 해결하기 위해 개발된 앱이죠. 벌레 퇴치가 필요한 사용자가 앱에 요청을'), Document(id='e81523c0-d4c3-476f-853a-d46500d08d15', metadata={'source': 'https://spartacodingclub.kr/blog/all-in-challenge_winner'}, page_content='요긴한 학습 도우미가 되었기 때문입니다.사용한 기술 스택 -FE(프론트엔드): React, Tesseract.js, React-Quill, HTML, CSS, JavaScript-BE(백엔드): Java, Spring Boot, MariaDB🎖️\\xa0우수상[우리집 히어로즈] 벌레 퇴치 영웅 매칭 서비스서비스 제작자: 인트(배정연, 한지수)💡C는 이번 학기 처음으로 자취를 시작했습니다. 원래부터 작은 벌레에 민감했던 C. 자취방에서 자주 나타나는 벌레들 때문에 밤잠을 설치길 반복했습니다. 밤마다 벌레를 잡으려고 애쓰던 C는 커뮤니티를 통해 다른 학생들도 같은 문제를 겪고 있다는 것을 알게 되었습니다. 하지만 커뮤니티에서 벌레 퇴치 히어로를 찾기 위해서는 내 개인 정보를 노출해야 한다는 점이 찝찝했죠.이 문제를 해결할 수 있는 방법이 바로 <우리집 히어로즈> 서비스입니다. 대학생 자취생들이 자취방에서 겪는 벌레 문제를 해결하기 위해 개발된 앱이죠. 벌레 퇴치가 필요한 사용자가 앱에 요청을'), Document(id='94abd40d-d4ab-4856-937d-d059365b6702', metadata={'source': 'https://spartacodingclub.kr/blog/all-in-challenge_winner'}, page_content='시 생년, 성별, 관심 분야를 입력하자 딱 맞는 동아리를 추천해주죠. 플랫폼 내에서 동아리의 리크루팅 과정인 서류 전형, 인터뷰 일정, 최종 결과 발표 등을 한 번에 해결할 수 있어요. 실제 동아리에 가입한 사람들의 솔직한 후기를 제공해주기 때문에 보다 정확한 정보를 얻을 수 있어요. Crewing은 신뢰할 수 있는 정보와 솔직한 후기를 제공해주기 때문에 효율적으로 내게 꼭 맞는 동아리를 선택할 수 있습니다.사용한 기술 스택 -FE(프론트엔드): Spring Boot, Redis, MySQL-BE(백엔드): SwiftUI Framework, OAuth 2.0🏅\\xa0입선[학교생활 매니저] 학교생활 관리 서비스서비스 제작자: 아이칼F4(조민제, 이민기, 강건, 박근우)💡A는 올해 복학한 3학년 학생입니다. 강의실과 도서관을 오가며 바쁜 일정을 소화하느라 정신이 없지만, 수업마다 나오는 과제와 각종 활동, 시험 준비까지 겹치면서 혼란에 빠지기 일쑤였습니다. 복학생이다 보니 학교에서 전달되는'), Document(id='e90e6f3d-315e-4940-99da-5a343a073f90', metadata={'source': 'https://spartacodingclub.kr/blog/all-in-challenge_winner'}, page_content='시 생년, 성별, 관심 분야를 입력하자 딱 맞는 동아리를 추천해주죠. 플랫폼 내에서 동아리의 리크루팅 과정인 서류 전형, 인터뷰 일정, 최종 결과 발표 등을 한 번에 해결할 수 있어요. 실제 동아리에 가입한 사람들의 솔직한 후기를 제공해주기 때문에 보다 정확한 정보를 얻을 수 있어요. Crewing은 신뢰할 수 있는 정보와 솔직한 후기를 제공해주기 때문에 효율적으로 내게 꼭 맞는 동아리를 선택할 수 있습니다.사용한 기술 스택 -FE(프론트엔드): Spring Boot, Redis, MySQL-BE(백엔드): SwiftUI Framework, OAuth 2.0🏅\\xa0입선[학교생활 매니저] 학교생활 관리 서비스서비스 제작자: 아이칼F4(조민제, 이민기, 강건, 박근우)💡A는 올해 복학한 3학년 학생입니다. 강의실과 도서관을 오가며 바쁜 일정을 소화하느라 정신이 없지만, 수업마다 나오는 과제와 각종 활동, 시험 준비까지 겹치면서 혼란에 빠지기 일쑤였습니다. 복학생이다 보니 학교에서 전달되는'), Document(id='6677cd34-de2f-40d3-bf67-4b3aa842972d', metadata={'source': 'https://spartacodingclub.kr/blog/all-in-challenge_winner'}, page_content='시 생년, 성별, 관심 분야를 입력하자 딱 맞는 동아리를 추천해주죠. 플랫폼 내에서 동아리의 리크루팅 과정인 서류 전형, 인터뷰 일정, 최종 결과 발표 등을 한 번에 해결할 수 있어요. 실제 동아리에 가입한 사람들의 솔직한 후기를 제공해주기 때문에 보다 정확한 정보를 얻을 수 있어요. Crewing은 신뢰할 수 있는 정보와 솔직한 후기를 제공해주기 때문에 효율적으로 내게 꼭 맞는 동아리를 선택할 수 있습니다.사용한 기술 스택 -FE(프론트엔드): Spring Boot, Redis, MySQL-BE(백엔드): SwiftUI Framework, OAuth 2.0🏅\\xa0입선[학교생활 매니저] 학교생활 관리 서비스서비스 제작자: 아이칼F4(조민제, 이민기, 강건, 박근우)💡A는 올해 복학한 3학년 학생입니다. 강의실과 도서관을 오가며 바쁜 일정을 소화하느라 정신이 없지만, 수업마다 나오는 과제와 각종 활동, 시험 준비까지 겹치면서 혼란에 빠지기 일쑤였습니다. 복학생이다 보니 학교에서 전달되는'), Document(id='ff6b6fb4-41af-484b-9dd5-bbb2b69d08e0', metadata={'source': 'https://spartacodingclub.kr/blog/all-in-challenge_winner'}, page_content='시 생년, 성별, 관심 분야를 입력하자 딱 맞는 동아리를 추천해주죠. 플랫폼 내에서 동아리의 리크루팅 과정인 서류 전형, 인터뷰 일정, 최종 결과 발표 등을 한 번에 해결할 수 있어요. 실제 동아리에 가입한 사람들의 솔직한 후기를 제공해주기 때문에 보다 정확한 정보를 얻을 수 있어요. Crewing은 신뢰할 수 있는 정보와 솔직한 후기를 제공해주기 때문에 효율적으로 내게 꼭 맞는 동아리를 선택할 수 있습니다.사용한 기술 스택 -FE(프론트엔드): Spring Boot, Redis, MySQL-BE(백엔드): SwiftUI Framework, OAuth 2.0🏅\\xa0입선[학교생활 매니저] 학교생활 관리 서비스서비스 제작자: 아이칼F4(조민제, 이민기, 강건, 박근우)💡A는 올해 복학한 3학년 학생입니다. 강의실과 도서관을 오가며 바쁜 일정을 소화하느라 정신이 없지만, 수업마다 나오는 과제와 각종 활동, 시험 준비까지 겹치면서 혼란에 빠지기 일쑤였습니다. 복학생이다 보니 학교에서 전달되는'), Document(id='74e0e299-cfc3-42d4-990b-55914b5222e9', metadata={'source': 'https://spartacodingclub.kr/blog/all-in-challenge_winner'}, page_content='시 생년, 성별, 관심 분야를 입력하자 딱 맞는 동아리를 추천해주죠. 플랫폼 내에서 동아리의 리크루팅 과정인 서류 전형, 인터뷰 일정, 최종 결과 발표 등을 한 번에 해결할 수 있어요. 실제 동아리에 가입한 사람들의 솔직한 후기를 제공해주기 때문에 보다 정확한 정보를 얻을 수 있어요. Crewing은 신뢰할 수 있는 정보와 솔직한 후기를 제공해주기 때문에 효율적으로 내게 꼭 맞는 동아리를 선택할 수 있습니다.사용한 기술 스택 -FE(프론트엔드): Spring Boot, Redis, MySQL-BE(백엔드): SwiftUI Framework, OAuth 2.0🏅\\xa0입선[학교생활 매니저] 학교생활 관리 서비스서비스 제작자: 아이칼F4(조민제, 이민기, 강건, 박근우)💡A는 올해 복학한 3학년 학생입니다. 강의실과 도서관을 오가며 바쁜 일정을 소화하느라 정신이 없지만, 수업마다 나오는 과제와 각종 활동, 시험 준비까지 겹치면서 혼란에 빠지기 일쑤였습니다. 복학생이다 보니 학교에서 전달되는'), Document(id='c8b64631-a86f-4b4d-9d69-ba32949961e7', metadata={'source': 'https://spartacodingclub.kr/blog/all-in-challenge_winner'}, page_content='시 생년, 성별, 관심 분야를 입력하자 딱 맞는 동아리를 추천해주죠. 플랫폼 내에서 동아리의 리크루팅 과정인 서류 전형, 인터뷰 일정, 최종 결과 발표 등을 한 번에 해결할 수 있어요. 실제 동아리에 가입한 사람들의 솔직한 후기를 제공해주기 때문에 보다 정확한 정보를 얻을 수 있어요. Crewing은 신뢰할 수 있는 정보와 솔직한 후기를 제공해주기 때문에 효율적으로 내게 꼭 맞는 동아리를 선택할 수 있습니다.사용한 기술 스택 -FE(프론트엔드): Spring Boot, Redis, MySQL-BE(백엔드): SwiftUI Framework, OAuth 2.0🏅\\xa0입선[학교생활 매니저] 학교생활 관리 서비스서비스 제작자: 아이칼F4(조민제, 이민기, 강건, 박근우)💡A는 올해 복학한 3학년 학생입니다. 강의실과 도서관을 오가며 바쁜 일정을 소화하느라 정신이 없지만, 수업마다 나오는 과제와 각종 활동, 시험 준비까지 겹치면서 혼란에 빠지기 일쑤였습니다. 복학생이다 보니 학교에서 전달되는'), Document(id='af9a9481-0444-4284-b7f0-f2cc54696e4f', metadata={'source': 'https://spartacodingclub.kr/blog/all-in-challenge_winner'}, page_content='Spring Boot, Spring Security, MySQL, SSE, FCM, JWT, Postman🎖️\\xa0우수상[에코 클래스룸] 수업 실시간 소통 서비스서비스 제작자: This is 스파게티!!!(박지성, 김서원, 박범수)💡K교수는 항상 수업이 끝난 후 난이도가 적절했는지 궁금했습니다. “질문 있나요?”라는 말이 수업의 마무리였지만, 대부분의 학생은 답이 없었죠. 그저 고개를 끄덕이는 몇몇 학생들만 보일 뿐, 정말 이해한 것인지, 질문할 용기가 없는 것인지 알 수 없었습니다. 이때문에 학생들이 수업 내용을 제대로 이해하고 있는지 확인하기 어려웠습니다. 어느 날 강의가 끝나고 몇몇 학생들이 몰려와 어렵다고, 다시 설명해 달라고 요청했습니다. 그제야 K교수는 알게 되었어요. 학생들이 이해하지 못하고'), Document(id='4bc3cde8-3731-4c4b-82a2-6d5a2e110b77', metadata={'source': 'https://spartacodingclub.kr/blog/all-in-challenge_winner'}, page_content='기능과 학생의 이해도를 테스트 할 수 있는 퀴즈 생성 기능이 있어 필요한 경우 수업 속도를 조절하고 추가 설명을 할 수 있어요.사용한 기술 스택 -FE(프론트엔드): Flutter, Socket.IO, Expo CLI, Axios, TanStack Query-BE(백엔드): Spring Boot, Spring Security, JWT, MySQL, Spring WebSocket, AWS🏅\\xa0입선[Crewing] 연합동아리 정보 플랫폼서비스 제작자: 동학대학운동(김민아, 임경진, 신은혜, 고수)💡신입생인 S는 대학 생활을 알차게 보내고 싶어서 연합 동아리에 가입하려고 했지만 어떤 동아리가 자신에게 맞을지 고민이 많았습니다. 인터넷에 검색해보니 연합 동아리 후기는 대부분 여기저기 흩어져 있고, 신뢰할 만한 정보를 찾기 어려웠습니다.<Crewing>은 대학생들이 다양한 연합 동아리에 쉽게 가입하고, 적절한 동아리를 찾을 수 있도록 지원해주는 아카이빙 플랫폼입니다. 회원가입 시 생년,'), Document(id='791a6f9c-48c7-4cde-abc3-92b345b382fd', metadata={'source': 'https://spartacodingclub.kr/blog/all-in-challenge_winner'}, page_content='기능과 학생의 이해도를 테스트 할 수 있는 퀴즈 생성 기능이 있어 필요한 경우 수업 속도를 조절하고 추가 설명을 할 수 있어요.사용한 기술 스택 -FE(프론트엔드): Flutter, Socket.IO, Expo CLI, Axios, TanStack Query-BE(백엔드): Spring Boot, Spring Security, JWT, MySQL, Spring WebSocket, AWS🏅\\xa0입선[Crewing] 연합동아리 정보 플랫폼서비스 제작자: 동학대학운동(김민아, 임경진, 신은혜, 고수)💡신입생인 S는 대학 생활을 알차게 보내고 싶어서 연합 동아리에 가입하려고 했지만 어떤 동아리가 자신에게 맞을지 고민이 많았습니다. 인터넷에 검색해보니 연합 동아리 후기는 대부분 여기저기 흩어져 있고, 신뢰할 만한 정보를 찾기 어려웠습니다.<Crewing>은 대학생들이 다양한 연합 동아리에 쉽게 가입하고, 적절한 동아리를 찾을 수 있도록 지원해주는 아카이빙 플랫폼입니다. 회원가입 시 생년,'), Document(id='96bb71ef-75e1-4804-aee1-01bc04540a7b', metadata={'source': 'https://spartacodingclub.kr/blog/all-in-challenge_winner'}, page_content='기능과 학생의 이해도를 테스트 할 수 있는 퀴즈 생성 기능이 있어 필요한 경우 수업 속도를 조절하고 추가 설명을 할 수 있어요.사용한 기술 스택 -FE(프론트엔드): Flutter, Socket.IO, Expo CLI, Axios, TanStack Query-BE(백엔드): Spring Boot, Spring Security, JWT, MySQL, Spring WebSocket, AWS🏅\\xa0입선[Crewing] 연합동아리 정보 플랫폼서비스 제작자: 동학대학운동(김민아, 임경진, 신은혜, 고수)💡신입생인 S는 대학 생활을 알차게 보내고 싶어서 연합 동아리에 가입하려고 했지만 어떤 동아리가 자신에게 맞을지 고민이 많았습니다. 인터넷에 검색해보니 연합 동아리 후기는 대부분 여기저기 흩어져 있고, 신뢰할 만한 정보를 찾기 어려웠습니다.<Crewing>은 대학생들이 다양한 연합 동아리에 쉽게 가입하고, 적절한 동아리를 찾을 수 있도록 지원해주는 아카이빙 플랫폼입니다. 회원가입 시 생년,')]\n"
     ]
    }
   ],
   "source": [
    "retriever_similarity = vectorstore.as_retriever(search_type=\"similarity\", search_kwargs={\"k\": 50})\n",
    "retrieved_docs_similarity = retriever.invoke(user_msg)\n",
    "\n",
    "print(retrieved_docs_similarity)"
   ]
  },
  {
   "cell_type": "markdown",
   "id": "0d3e56c0",
   "metadata": {},
   "source": [
    "2. search type을 mmr로 바꿔서 검색해봤습니다."
   ]
  },
  {
   "cell_type": "code",
   "execution_count": 63,
   "metadata": {},
   "outputs": [
    {
     "name": "stdout",
     "output_type": "stream",
     "text": [
      "[Document(id='88c37c74-9bdb-48ed-a35e-45164b8bf586', metadata={'source': 'https://spartacodingclub.kr/blog/all-in-challenge_winner'}, page_content=\"'AII-in 코딩 공모전’ 수상작을 소개합니다코딩은 더 이상 개발자만의 영역이 아닙니다. 누구나 아이디어만 있다면 창의적인 서비스를 만들어 세상을 바꿀 수 있습니다. 스파르타코딩클럽에서는 이러한 가능성을 믿고, 누구나 코딩을 통해 자신의 아이디어를 실현하고 실제 문제를 해결하는 경험을 쌓을 수 있도록 다양한 프로그램을 마련하고 있습니다.<All-in> 코딩 공모전은 대학생들이 캠퍼스에서 겪은 불편함과 문제를 자신만의 아이디어로 해결해보는 대회였는데요. 이번 공모전에서 다양한 혁신적인 아이디어와 열정으로 가득한 수많은 프로젝트가 탄생했습니다. 그중 뛰어난 성과를 낸 수상작 6개를 소개합니다.🏆\\xa0대상[Lexi Note] 언어공부 필기 웹 서비스서비스 제작자: 다나와(김다애, 박나경)💡W는 어문학을 전공하는\"), Document(id='36e54b8b-ea92-415d-a68a-a822aa48febb', metadata={'source': 'https://spartacodingclub.kr/blog/all-in-challenge_winner'}, page_content=\"'AII-in 코딩 공모전’ 수상작을 소개합니다코딩은 더 이상 개발자만의 영역이 아닙니다. 누구나 아이디어만 있다면 창의적인 서비스를 만들어 세상을 바꿀 수 있습니다. 스파르타코딩클럽에서는 이러한 가능성을 믿고, 누구나 코딩을 통해 자신의 아이디어를 실현하고 실제 문제를 해결하는 경험을 쌓을 수 있도록 다양한 프로그램을 마련하고 있습니다.<All-in> 코딩 공모전은 대학생들이 캠퍼스에서 겪은 불편함과 문제를 자신만의 아이디어로 해결해보는 대회였는데요. 이번 공모전에서 다양한 혁신적인 아이디어와 열정으로 가득한 수많은 프로젝트가 탄생했습니다. 그중 뛰어난 성과를 낸 수상작 6개를 소개합니다.🏆\\xa0대상[Lexi Note] 언어공부 필기 웹 서비스서비스 제작자: 다나와(김다애, 박나경)💡W는 어문학을 전공하는\"), Document(id='14858822-4644-4474-b24d-b3a63632b93c', metadata={'source': 'https://spartacodingclub.kr/blog/all-in-challenge_winner'}, page_content=\"'AII-in 코딩 공모전’ 수상작을 소개합니다코딩은 더 이상 개발자만의 영역이 아닙니다. 누구나 아이디어만 있다면 창의적인 서비스를 만들어 세상을 바꿀 수 있습니다. 스파르타코딩클럽에서는 이러한 가능성을 믿고, 누구나 코딩을 통해 자신의 아이디어를 실현하고 실제 문제를 해결하는 경험을 쌓을 수 있도록 다양한 프로그램을 마련하고 있습니다.<All-in> 코딩 공모전은 대학생들이 캠퍼스에서 겪은 불편함과 문제를 자신만의 아이디어로 해결해보는 대회였는데요. 이번 공모전에서 다양한 혁신적인 아이디어와 열정으로 가득한 수많은 프로젝트가 탄생했습니다. 그중 뛰어난 성과를 낸 수상작 6개를 소개합니다.🏆\\xa0대상[Lexi Note] 언어공부 필기 웹 서비스서비스 제작자: 다나와(김다애, 박나경)💡W는 어문학을 전공하는\"), Document(id='77e609b2-32dc-4611-ae98-e6abaeb41e09', metadata={'source': 'https://spartacodingclub.kr/blog/all-in-challenge_winner'}, page_content=\"'AII-in 코딩 공모전’ 수상작을 소개합니다코딩은 더 이상 개발자만의 영역이 아닙니다. 누구나 아이디어만 있다면 창의적인 서비스를 만들어 세상을 바꿀 수 있습니다. 스파르타코딩클럽에서는 이러한 가능성을 믿고, 누구나 코딩을 통해 자신의 아이디어를 실현하고 실제 문제를 해결하는 경험을 쌓을 수 있도록 다양한 프로그램을 마련하고 있습니다.<All-in> 코딩 공모전은 대학생들이 캠퍼스에서 겪은 불편함과 문제를 자신만의 아이디어로 해결해보는 대회였는데요. 이번 공모전에서 다양한 혁신적인 아이디어와 열정으로 가득한 수많은 프로젝트가 탄생했습니다. 그중 뛰어난 성과를 낸 수상작 6개를 소개합니다.🏆\\xa0대상[Lexi Note] 언어공부 필기 웹 서비스서비스 제작자: 다나와(김다애, 박나경)💡W는 어문학을 전공하는 대학생입니다. 매일 새로운 단어와 문장 구조를 공부하고 있지만, 효율적으로 학습하는 것이 쉽지 않았습니다. 단어의 의미를 찾기 위해 사전을 뒤적이고, 긴 문장을 이해하려고 번역기를\"), Document(id='08900dd0-4c72-488e-b890-b80522ea0055', metadata={'source': 'https://spartacodingclub.kr/blog/all-in-challenge_winner'}, page_content=\"'AII-in 코딩 공모전’ 수상작을 소개합니다코딩은 더 이상 개발자만의 영역이 아닙니다. 누구나 아이디어만 있다면 창의적인 서비스를 만들어 세상을 바꿀 수 있습니다. 스파르타코딩클럽에서는 이러한 가능성을 믿고, 누구나 코딩을 통해 자신의 아이디어를 실현하고 실제 문제를 해결하는 경험을 쌓을 수 있도록 다양한 프로그램을 마련하고 있습니다.<All-in> 코딩 공모전은 대학생들이 캠퍼스에서 겪은 불편함과 문제를 자신만의 아이디어로 해결해보는 대회였는데요. 이번 공모전에서 다양한 혁신적인 아이디어와 열정으로 가득한 수많은 프로젝트가 탄생했습니다. 그중 뛰어난 성과를 낸 수상작 6개를 소개합니다.🏆\\xa0대상[Lexi Note] 언어공부 필기 웹 서비스서비스 제작자: 다나와(김다애, 박나경)💡W는 어문학을 전공하는 대학생입니다. 매일 새로운 단어와 문장 구조를 공부하고 있지만, 효율적으로 학습하는 것이 쉽지 않았습니다. 단어의 의미를 찾기 위해 사전을 뒤적이고, 긴 문장을 이해하려고 번역기를\"), Document(id='e491c6e2-ad78-40d2-a75b-aeeeb483dda4', metadata={'source': 'https://spartacodingclub.kr/blog/all-in-challenge_winner'}, page_content=\"'AII-in 코딩 공모전’ 수상작을 소개합니다코딩은 더 이상 개발자만의 영역이 아닙니다. 누구나 아이디어만 있다면 창의적인 서비스를 만들어 세상을 바꿀 수 있습니다. 스파르타코딩클럽에서는 이러한 가능성을 믿고, 누구나 코딩을 통해 자신의 아이디어를 실현하고 실제 문제를 해결하는 경험을 쌓을 수 있도록 다양한 프로그램을 마련하고 있습니다.<All-in> 코딩 공모전은 대학생들이 캠퍼스에서 겪은 불편함과 문제를 자신만의 아이디어로 해결해보는 대회였는데요. 이번 공모전에서 다양한 혁신적인 아이디어와 열정으로 가득한 수많은 프로젝트가 탄생했습니다. 그중 뛰어난 성과를 낸 수상작 6개를 소개합니다.🏆\\xa0대상[Lexi Note] 언어공부 필기 웹 서비스서비스 제작자: 다나와(김다애, 박나경)💡W는 어문학을 전공하는 대학생입니다. 매일 새로운 단어와 문장 구조를 공부하고 있지만, 효율적으로 학습하는 것이 쉽지 않았습니다. 단어의 의미를 찾기 위해 사전을 뒤적이고, 긴 문장을 이해하려고 번역기를\"), Document(id='d29b5f9d-edc6-4c37-9dc5-c4cb5ec028ab', metadata={'source': 'https://spartacodingclub.kr/blog/all-in-challenge_winner'}, page_content=\"'AII-in 코딩 공모전’ 수상작을 소개합니다코딩은 더 이상 개발자만의 영역이 아닙니다. 누구나 아이디어만 있다면 창의적인 서비스를 만들어 세상을 바꿀 수 있습니다. 스파르타코딩클럽에서는 이러한 가능성을 믿고, 누구나 코딩을 통해 자신의 아이디어를 실현하고 실제 문제를 해결하는 경험을 쌓을 수 있도록 다양한 프로그램을 마련하고 있습니다.<All-in> 코딩 공모전은 대학생들이 캠퍼스에서 겪은 불편함과 문제를 자신만의 아이디어로 해결해보는 대회였는데요. 이번 공모전에서 다양한 혁신적인 아이디어와 열정으로 가득한 수많은 프로젝트가 탄생했습니다. 그중 뛰어난 성과를 낸 수상작 6개를 소개합니다.🏆\\xa0대상[Lexi Note] 언어공부 필기 웹 서비스서비스 제작자: 다나와(김다애, 박나경)💡W는 어문학을 전공하는 대학생입니다. 매일 새로운 단어와 문장 구조를 공부하고 있지만, 효율적으로 학습하는 것이 쉽지 않았습니다. 단어의 의미를 찾기 위해 사전을 뒤적이고, 긴 문장을 이해하려고 번역기를\"), Document(id='5d256db4-bbed-4f64-8b15-18f061844ccf', metadata={'source': 'https://spartacodingclub.kr/blog/all-in-challenge_winner'}, page_content=\"'AII-in 코딩 공모전’ 수상작을 소개합니다코딩은 더 이상 개발자만의 영역이 아닙니다. 누구나 아이디어만 있다면 창의적인 서비스를 만들어 세상을 바꿀 수 있습니다. 스파르타코딩클럽에서는 이러한 가능성을 믿고, 누구나 코딩을 통해 자신의 아이디어를 실현하고 실제 문제를 해결하는 경험을 쌓을 수 있도록 다양한 프로그램을 마련하고 있습니다.<All-in> 코딩 공모전은 대학생들이 캠퍼스에서 겪은 불편함과 문제를 자신만의 아이디어로 해결해보는 대회였는데요. 이번 공모전에서 다양한 혁신적인 아이디어와 열정으로 가득한 수많은 프로젝트가 탄생했습니다. 그중 뛰어난 성과를 낸 수상작 6개를 소개합니다.🏆\\xa0대상[Lexi Note] 언어공부 필기 웹 서비스서비스 제작자: 다나와(김다애, 박나경)💡W는 어문학을 전공하는 대학생입니다. 매일 새로운 단어와 문장 구조를 공부하고 있지만, 효율적으로 학습하는 것이 쉽지 않았습니다. 단어의 의미를 찾기 위해 사전을 뒤적이고, 긴 문장을 이해하려고 번역기를\"), Document(id='bfd11346-af51-409c-8858-d9796e7f39a3', metadata={'source': 'https://spartacodingclub.kr/blog/all-in-challenge_winner'}, page_content=\"'AII-in 코딩 공모전’ 수상작을 소개합니다코딩은 더 이상 개발자만의 영역이 아닙니다. 누구나 아이디어만 있다면 창의적인 서비스를 만들어 세상을 바꿀 수 있습니다. 스파르타코딩클럽에서는 이러한 가능성을 믿고, 누구나 코딩을 통해 자신의 아이디어를 실현하고 실제 문제를 해결하는 경험을 쌓을 수 있도록 다양한 프로그램을 마련하고 있습니다.<All-in> 코딩 공모전은 대학생들이 캠퍼스에서 겪은 불편함과 문제를 자신만의 아이디어로 해결해보는 대회였는데요. 이번 공모전에서 다양한 혁신적인 아이디어와 열정으로 가득한 수많은 프로젝트가 탄생했습니다. 그중 뛰어난 성과를 낸 수상작 6개를 소개합니다.🏆\\xa0대상[Lexi Note] 언어공부 필기 웹 서비스서비스 제작자: 다나와(김다애, 박나경)💡W는 어문학을 전공하는 대학생입니다. 매일 새로운 단어와 문장 구조를 공부하고 있지만, 효율적으로 학습하는 것이 쉽지 않았습니다. 단어의 의미를 찾기 위해 사전을 뒤적이고, 긴 문장을 이해하려고 번역기를\"), Document(id='dd86f2e6-2137-460e-90a6-2528994aa5a5', metadata={'source': 'https://spartacodingclub.kr/blog/all-in-challenge_winner'}, page_content=\"'AII-in 코딩 공모전’ 수상작을 소개합니다코딩은 더 이상 개발자만의 영역이 아닙니다. 누구나 아이디어만 있다면 창의적인 서비스를 만들어 세상을 바꿀 수 있습니다. 스파르타코딩클럽에서는 이러한 가능성을 믿고, 누구나 코딩을 통해 자신의 아이디어를 실현하고 실제 문제를 해결하는 경험을 쌓을 수 있도록 다양한 프로그램을 마련하고 있습니다.<All-in> 코딩 공모전은 대학생들이 캠퍼스에서 겪은 불편함과 문제를 자신만의 아이디어로 해결해보는 대회였는데요. 이번 공모전에서 다양한 혁신적인 아이디어와 열정으로 가득한 수많은 프로젝트가 탄생했습니다. 그중 뛰어난 성과를 낸 수상작 6개를 소개합니다.🏆\\xa0대상[Lexi Note] 언어공부 필기 웹 서비스서비스 제작자: 다나와(김다애, 박나경)💡W는 어문학을 전공하는 대학생입니다. 매일 새로운 단어와 문장 구조를 공부하고 있지만, 효율적으로 학습하는 것이 쉽지 않았습니다. 단어의 의미를 찾기 위해 사전을 뒤적이고, 긴 문장을 이해하려고 번역기를\"), Document(id='2f15b671-8b62-4500-a863-8421a6ef44a7', metadata={'source': 'https://spartacodingclub.kr/blog/all-in-challenge_winner'}, page_content=\"'AII-in 코딩 공모전’ 수상작을 소개합니다코딩은 더 이상 개발자만의 영역이 아닙니다. 누구나 아이디어만 있다면 창의적인 서비스를 만들어 세상을 바꿀 수 있습니다. 스파르타코딩클럽에서는 이러한 가능성을 믿고, 누구나 코딩을 통해 자신의 아이디어를 실현하고 실제 문제를 해결하는 경험을 쌓을 수 있도록 다양한 프로그램을 마련하고 있습니다.<All-in> 코딩 공모전은 대학생들이 캠퍼스에서 겪은 불편함과 문제를 자신만의 아이디어로 해결해보는 대회였는데요. 이번 공모전에서 다양한 혁신적인 아이디어와 열정으로 가득한 수많은 프로젝트가 탄생했습니다. 그중 뛰어난 성과를 낸 수상작 6개를 소개합니다.🏆\\xa0대상[Lexi Note] 언어공부 필기 웹 서비스서비스 제작자: 다나와(김다애, 박나경)💡W는 어문학을 전공하는 대학생입니다. 매일 새로운 단어와 문장 구조를 공부하고 있지만, 효율적으로 학습하는 것이 쉽지 않았습니다. 단어의 의미를 찾기 위해 사전을 뒤적이고, 긴 문장을 이해하려고 번역기를\"), Document(id='2a44f5f4-7069-4302-be42-c99e928ee29d', metadata={'source': 'https://spartacodingclub.kr/blog/all-in-challenge_winner'}, page_content='기발한 아이디어가 모인 곳에 초대합니다. 참가자들의 문제 해결방법이 궁금하시다면 지금 바로 ‘All-in 공모전’에서 만나보세요!👉🏻\\xa0공모전 결과물 보러가기누구나 큰일 낼 수 있어스파르타코딩클럽글 | 신수지 팀스파르타 에디터'), Document(id='54c31c51-6d3d-4a00-8699-779ae0c34dfc', metadata={'source': 'https://spartacodingclub.kr/blog/all-in-challenge_winner'}, page_content='기발한 아이디어가 모인 곳에 초대합니다. 참가자들의 문제 해결방법이 궁금하시다면 지금 바로 ‘All-in 공모전’에서 만나보세요!👉🏻\\xa0공모전 결과물 보러가기누구나 큰일 낼 수 있어스파르타코딩클럽글 | 신수지 팀스파르타 에디터'), Document(id='41c3e693-9e31-49ee-aa14-c898bed956aa', metadata={'source': 'https://spartacodingclub.kr/blog/all-in-challenge_winner'}, page_content='서비스와 기발한 아이디어가 모인 곳에 초대합니다. 참가자들의 문제 해결방법이 궁금하시다면 지금 바로 ‘All-in 공모전’에서 만나보세요!👉🏻\\xa0공모전 결과물 보러가기누구나 큰일 낼 수 있어스파르타코딩클럽글 | 신수지 팀스파르타 에디터'), Document(id='d96b1c1c-ba44-46bb-bef2-8afdb9841634', metadata={'source': 'https://spartacodingclub.kr/blog/all-in-challenge_winner'}, page_content='만든 다양한 서비스를 만나보고 싶다면?다양한 서비스와 기발한 아이디어가 모인 곳에 초대합니다. 참가자들의 문제 해결방법이 궁금하시다면 지금 바로 ‘All-in 공모전’에서 만나보세요!👉🏻\\xa0공모전 결과물 보러가기누구나 큰일 낼 수 있어스파르타코딩클럽글 | 신수지 팀스파르타 에디터'), Document(id='ed89c044-bd31-4e72-8f4d-f7902946cf74', metadata={'source': 'https://spartacodingclub.kr/blog/all-in-challenge_winner'}, page_content='WebSocket-BE(백엔드): React Native, TanStack Query, Axios코딩 공모전 수상작은 대학생들의 팀프로젝트를 통해 만들어진 웹/앱 서비스입니다. 캠퍼스에서의 문제를 해결하자는 참가자들의 아이디어에서 시작되었죠. 누구나 세상에 선보이고 싶은 나만의 아이디어와 기초 코딩 기술만 활용한다면, 얼마든지 서비스를 만들 수 있습니다. 스파르타코딩클럽의 내일배움캠프에서는 비전공, 초보자도 웹/앱 개발자로 거듭날 수 있는 다양한 트랙이 준비돼 있습니다. 나만의 아이디어를 세상에 선보이고 싶은 누구나에게 열려 있으니 주저말고 도전해 보세요.💡<All-in> 코딩 공모전에서 만든 다양한 서비스를 만나보고 싶다면?다양한 서비스와 기발한 아이디어가 모인 곳에 초대합니다. 참가자들의 문제 해결방법이 궁금하시다면 지금 바로 ‘All-in 공모전’에서 만나보세요!👉🏻\\xa0공모전 결과물 보러가기누구나 큰일 낼 수 있어스파르타코딩클럽글 | 신수지 팀스파르타 에디터'), Document(id='970cb3d0-be14-4fc4-9ce5-0d10147e04a3', metadata={'source': 'https://spartacodingclub.kr/blog/all-in-challenge_winner'}, page_content='Spring Boot, MySQL, Spring WebSocket-BE(백엔드): React Native, TanStack Query, Axios코딩 공모전 수상작은 대학생들의 팀프로젝트를 통해 만들어진 웹/앱 서비스입니다. 캠퍼스에서의 문제를 해결하자는 참가자들의 아이디어에서 시작되었죠. 누구나 세상에 선보이고 싶은 나만의 아이디어와 기초 코딩 기술만 활용한다면, 얼마든지 서비스를 만들 수 있습니다. 스파르타코딩클럽의 내일배움캠프에서는 비전공, 초보자도 웹/앱 개발자로 거듭날 수 있는 다양한 트랙이 준비돼 있습니다. 나만의 아이디어를 세상에 선보이고 싶은 누구나에게 열려 있으니 주저말고 도전해 보세요.💡<All-in> 코딩 공모전에서 만든 다양한 서비스를 만나보고 싶다면?다양한 서비스와 기발한 아이디어가 모인 곳에 초대합니다. 참가자들의 문제 해결방법이 궁금하시다면 지금 바로 ‘All-in 공모전’에서 만나보세요!👉🏻\\xa0공모전 결과물 보러가기누구나 큰일 낼 수 있어스파르타코딩클럽글'), Document(id='80ef5603-9d3f-445c-b62f-e5b45bf10b10', metadata={'source': 'https://spartacodingclub.kr/blog/all-in-challenge_winner'}, page_content='Spring Boot, MySQL, Spring WebSocket-BE(백엔드): React Native, TanStack Query, Axios코딩 공모전 수상작은 대학생들의 팀프로젝트를 통해 만들어진 웹/앱 서비스입니다. 캠퍼스에서의 문제를 해결하자는 참가자들의 아이디어에서 시작되었죠. 누구나 세상에 선보이고 싶은 나만의 아이디어와 기초 코딩 기술만 활용한다면, 얼마든지 서비스를 만들 수 있습니다. 스파르타코딩클럽의 내일배움캠프에서는 비전공, 초보자도 웹/앱 개발자로 거듭날 수 있는 다양한 트랙이 준비돼 있습니다. 나만의 아이디어를 세상에 선보이고 싶은 누구나에게 열려 있으니 주저말고 도전해 보세요.💡<All-in> 코딩 공모전에서 만든 다양한 서비스를 만나보고 싶다면?다양한 서비스와 기발한 아이디어가 모인 곳에 초대합니다. 참가자들의 문제 해결방법이 궁금하시다면 지금 바로 ‘All-in 공모전’에서 만나보세요!👉🏻\\xa0공모전 결과물 보러가기누구나 큰일 낼 수 있어스파르타코딩클럽글'), Document(id='3927e89a-31f4-4873-9953-bfbf18b5f1e5', metadata={'source': 'https://spartacodingclub.kr/blog/all-in-challenge_winner'}, page_content='Spring Boot, MySQL, Spring WebSocket-BE(백엔드): React Native, TanStack Query, Axios코딩 공모전 수상작은 대학생들의 팀프로젝트를 통해 만들어진 웹/앱 서비스입니다. 캠퍼스에서의 문제를 해결하자는 참가자들의 아이디어에서 시작되었죠. 누구나 세상에 선보이고 싶은 나만의 아이디어와 기초 코딩 기술만 활용한다면, 얼마든지 서비스를 만들 수 있습니다. 스파르타코딩클럽의 내일배움캠프에서는 비전공, 초보자도 웹/앱 개발자로 거듭날 수 있는 다양한 트랙이 준비돼 있습니다. 나만의 아이디어를 세상에 선보이고 싶은 누구나에게 열려 있으니 주저말고 도전해 보세요.💡<All-in> 코딩 공모전에서 만든 다양한 서비스를 만나보고 싶다면?다양한 서비스와 기발한 아이디어가 모인 곳에 초대합니다. 참가자들의 문제 해결방법이 궁금하시다면 지금 바로 ‘All-in 공모전’에서 만나보세요!👉🏻\\xa0공모전 결과물 보러가기누구나 큰일 낼 수 있어스파르타코딩클럽글'), Document(id='2e604d28-f693-47c4-b9b9-5f3084cf81c2', metadata={'source': 'https://spartacodingclub.kr/blog/all-in-challenge_winner'}, page_content='Spring Boot, MySQL, Spring WebSocket-BE(백엔드): React Native, TanStack Query, Axios코딩 공모전 수상작은 대학생들의 팀프로젝트를 통해 만들어진 웹/앱 서비스입니다. 캠퍼스에서의 문제를 해결하자는 참가자들의 아이디어에서 시작되었죠. 누구나 세상에 선보이고 싶은 나만의 아이디어와 기초 코딩 기술만 활용한다면, 얼마든지 서비스를 만들 수 있습니다. 스파르타코딩클럽의 내일배움캠프에서는 비전공, 초보자도 웹/앱 개발자로 거듭날 수 있는 다양한 트랙이 준비돼 있습니다. 나만의 아이디어를 세상에 선보이고 싶은 누구나에게 열려 있으니 주저말고 도전해 보세요.💡<All-in> 코딩 공모전에서 만든 다양한 서비스를 만나보고 싶다면?다양한 서비스와 기발한 아이디어가 모인 곳에 초대합니다. 참가자들의 문제 해결방법이 궁금하시다면 지금 바로 ‘All-in 공모전’에서 만나보세요!👉🏻\\xa0공모전 결과물 보러가기누구나 큰일 낼 수 있어스파르타코딩클럽글'), Document(id='3f2c8fee-bd3a-433c-81f3-64349862c7e9', metadata={'source': 'https://spartacodingclub.kr/blog/all-in-challenge_winner'}, page_content='Spring Boot, MySQL, Spring WebSocket-BE(백엔드): React Native, TanStack Query, Axios코딩 공모전 수상작은 대학생들의 팀프로젝트를 통해 만들어진 웹/앱 서비스입니다. 캠퍼스에서의 문제를 해결하자는 참가자들의 아이디어에서 시작되었죠. 누구나 세상에 선보이고 싶은 나만의 아이디어와 기초 코딩 기술만 활용한다면, 얼마든지 서비스를 만들 수 있습니다. 스파르타코딩클럽의 내일배움캠프에서는 비전공, 초보자도 웹/앱 개발자로 거듭날 수 있는 다양한 트랙이 준비돼 있습니다. 나만의 아이디어를 세상에 선보이고 싶은 누구나에게 열려 있으니 주저말고 도전해 보세요.💡<All-in> 코딩 공모전에서 만든 다양한 서비스를 만나보고 싶다면?다양한 서비스와 기발한 아이디어가 모인 곳에 초대합니다. 참가자들의 문제 해결방법이 궁금하시다면 지금 바로 ‘All-in 공모전’에서 만나보세요!👉🏻\\xa0공모전 결과물 보러가기누구나 큰일 낼 수 있어스파르타코딩클럽글'), Document(id='c01a1a4f-0e6a-4783-97ae-01d264033973', metadata={'source': 'https://spartacodingclub.kr/blog/all-in-challenge_winner'}, page_content='Spring Boot, MySQL, Spring WebSocket-BE(백엔드): React Native, TanStack Query, Axios코딩 공모전 수상작은 대학생들의 팀프로젝트를 통해 만들어진 웹/앱 서비스입니다. 캠퍼스에서의 문제를 해결하자는 참가자들의 아이디어에서 시작되었죠. 누구나 세상에 선보이고 싶은 나만의 아이디어와 기초 코딩 기술만 활용한다면, 얼마든지 서비스를 만들 수 있습니다. 스파르타코딩클럽의 내일배움캠프에서는 비전공, 초보자도 웹/앱 개발자로 거듭날 수 있는 다양한 트랙이 준비돼 있습니다. 나만의 아이디어를 세상에 선보이고 싶은 누구나에게 열려 있으니 주저말고 도전해 보세요.💡<All-in> 코딩 공모전에서 만든 다양한 서비스를 만나보고 싶다면?다양한 서비스와 기발한 아이디어가 모인 곳에 초대합니다. 참가자들의 문제 해결방법이 궁금하시다면 지금 바로 ‘All-in 공모전’에서 만나보세요!👉🏻\\xa0공모전 결과물 보러가기누구나 큰일 낼 수 있어스파르타코딩클럽글'), Document(id='b27772d9-40c4-4cf1-a271-fbde12a1a5d6', metadata={'source': 'https://spartacodingclub.kr/blog/all-in-challenge_winner'}, page_content='가진 학생들이 함께 성장할 수 있는 환경이 조성됩니다. 글로벌 사회에서 중요한 소통 능력을 기를 수 있는 문화의 장으로 쓰일 수 있겠죠!사용한 기술 스택-FE(프론트엔드): Spring Boot, MySQL, Spring WebSocket-BE(백엔드): React Native, TanStack Query, Axios코딩 공모전 수상작은 대학생들의 팀프로젝트를 통해 만들어진 웹/앱 서비스입니다. 캠퍼스에서의 문제를 해결하자는 참가자들의 아이디어에서 시작되었죠. 누구나 세상에 선보이고 싶은 나만의 아이디어와 기초 코딩 기술만 활용한다면, 얼마든지 서비스를 만들 수 있습니다. 스파르타코딩클럽의 내일배움캠프에서는 비전공, 초보자도 웹/앱 개발자로 거듭날 수 있는 다양한 트랙이 준비돼 있습니다. 나만의 아이디어를 세상에 선보이고 싶은 누구나에게 열려 있으니 주저말고 도전해 보세요.💡<All-in> 코딩 공모전에서 만든 다양한 서비스를 만나보고 싶다면?다양한 서비스와 기발한 아이디어가 모인'), Document(id='f1e31229-d9e1-45ad-a784-081d79c4113d', metadata={'source': 'https://spartacodingclub.kr/blog/all-in-challenge_winner'}, page_content='Boot, MySQL, Spring WebSocket-BE(백엔드): React Native, TanStack Query, Axios코딩 공모전 수상작은 대학생들의 팀프로젝트를 통해 만들어진 웹/앱 서비스입니다. 캠퍼스에서의 문제를 해결하자는 참가자들의 아이디어에서 시작되었죠. 누구나 세상에 선보이고 싶은 나만의 아이디어와 기초 코딩 기술만 활용한다면, 얼마든지 서비스를 만들 수 있습니다. 스파르타코딩클럽의 내일배움캠프에서는 비전공, 초보자도 웹/앱 개발자로 거듭날 수 있는 다양한 트랙이 준비돼 있습니다. 나만의 아이디어를 세상에 선보이고 싶은 누구나에게 열려 있으니 주저말고 도전해 보세요.💡<All-in> 코딩 공모전에서 만든 다양한 서비스를 만나보고 싶다면?다양한 서비스와 기발한 아이디어가 모인 곳에'), Document(id='34f17100-5765-4189-be36-027e4da7bef7', metadata={'source': 'https://spartacodingclub.kr/blog/all-in-challenge_winner'}, page_content='Boot, MySQL, Spring WebSocket-BE(백엔드): React Native, TanStack Query, Axios코딩 공모전 수상작은 대학생들의 팀프로젝트를 통해 만들어진 웹/앱 서비스입니다. 캠퍼스에서의 문제를 해결하자는 참가자들의 아이디어에서 시작되었죠. 누구나 세상에 선보이고 싶은 나만의 아이디어와 기초 코딩 기술만 활용한다면, 얼마든지 서비스를 만들 수 있습니다. 스파르타코딩클럽의 내일배움캠프에서는 비전공, 초보자도 웹/앱 개발자로 거듭날 수 있는 다양한 트랙이 준비돼 있습니다. 나만의 아이디어를 세상에 선보이고 싶은 누구나에게 열려 있으니 주저말고 도전해 보세요.💡<All-in> 코딩 공모전에서 만든 다양한 서비스를 만나보고 싶다면?다양한 서비스와 기발한 아이디어가 모인 곳에'), Document(id='be4cfaab-8a95-4622-ae22-450e612e067c', metadata={'source': 'https://spartacodingclub.kr/blog/all-in-challenge_winner'}, page_content='Boot, MySQL, Spring WebSocket-BE(백엔드): React Native, TanStack Query, Axios코딩 공모전 수상작은 대학생들의 팀프로젝트를 통해 만들어진 웹/앱 서비스입니다. 캠퍼스에서의 문제를 해결하자는 참가자들의 아이디어에서 시작되었죠. 누구나 세상에 선보이고 싶은 나만의 아이디어와 기초 코딩 기술만 활용한다면, 얼마든지 서비스를 만들 수 있습니다. 스파르타코딩클럽의 내일배움캠프에서는 비전공, 초보자도 웹/앱 개발자로 거듭날 수 있는 다양한 트랙이 준비돼 있습니다. 나만의 아이디어를 세상에 선보이고 싶은 누구나에게 열려 있으니 주저말고 도전해 보세요.💡<All-in> 코딩 공모전에서 만든 다양한 서비스를 만나보고 싶다면?다양한 서비스와 기발한 아이디어가 모인 곳에'), Document(id='4885ae04-e8d2-4bd7-9a40-38c99b10b7da', metadata={'source': 'https://spartacodingclub.kr/blog/all-in-challenge_winner'}, page_content='최종 결과 발표 등을 한 번에 해결할 수 있어요. 실제 동아리에 가입한 사람들의 솔직한 후기를 제공해주기 때문에 보다 정확한 정보를 얻을 수 있어요. Crewing은 신뢰할 수 있는 정보와 솔직한 후기를 제공해주기 때문에 효율적으로 내게 꼭 맞는 동아리를 선택할 수 있습니다.사용한 기술 스택 -FE(프론트엔드): Spring Boot, Redis, MySQL-BE(백엔드): SwiftUI Framework, OAuth 2.0🏅\\xa0입선[학교생활 매니저] 학교생활 관리 서비스서비스 제작자: 아이칼F4(조민제, 이민기, 강건, 박근우)💡A는 올해 복학한 3학년 학생입니다. 강의실과 도서관을 오가며 바쁜 일정을 소화하느라 정신이 없지만, 수업마다 나오는 과제와 각종 활동, 시험 준비까지 겹치면서 혼란에 빠지기'), Document(id='13bc009c-11b5-4d5b-a55e-04f0c486e686', metadata={'source': 'https://spartacodingclub.kr/blog/all-in-challenge_winner'}, page_content='최종 결과 발표 등을 한 번에 해결할 수 있어요. 실제 동아리에 가입한 사람들의 솔직한 후기를 제공해주기 때문에 보다 정확한 정보를 얻을 수 있어요. Crewing은 신뢰할 수 있는 정보와 솔직한 후기를 제공해주기 때문에 효율적으로 내게 꼭 맞는 동아리를 선택할 수 있습니다.사용한 기술 스택 -FE(프론트엔드): Spring Boot, Redis, MySQL-BE(백엔드): SwiftUI Framework, OAuth 2.0🏅\\xa0입선[학교생활 매니저] 학교생활 관리 서비스서비스 제작자: 아이칼F4(조민제, 이민기, 강건, 박근우)💡A는 올해 복학한 3학년 학생입니다. 강의실과 도서관을 오가며 바쁜 일정을 소화하느라 정신이 없지만, 수업마다 나오는 과제와 각종 활동, 시험 준비까지 겹치면서 혼란에 빠지기'), Document(id='e80e1a6f-7024-44fb-b5e1-69bfec4df934', metadata={'source': 'https://spartacodingclub.kr/blog/all-in-challenge_winner'}, page_content='파악할 수 있습니다. 수업 중 또는 후에 교수자가 수업에 대한 피드백을 받을 수 있는 평가 기능과 학생의 이해도를 테스트 할 수 있는 퀴즈 생성 기능이 있어 필요한 경우 수업 속도를 조절하고 추가 설명을 할 수 있어요.사용한 기술 스택 -FE(프론트엔드): Flutter, Socket.IO, Expo CLI, Axios, TanStack Query-BE(백엔드): Spring Boot, Spring Security, JWT, MySQL, Spring WebSocket, AWS🏅\\xa0입선[Crewing] 연합동아리 정보 플랫폼서비스 제작자: 동학대학운동(김민아, 임경진, 신은혜, 고수)💡신입생인 S는 대학 생활을 알차게 보내고 싶어서 연합 동아리에 가입하려고 했지만 어떤 동아리가 자신에게 맞을지 고민이 많았습니다. 인터넷에 검색해보니 연합 동아리 후기는 대부분 여기저기 흩어져 있고, 신뢰할 만한 정보를 찾기 어려웠습니다.<Crewing>은 대학생들이 다양한 연합 동아리에 쉽게 가입하고,'), Document(id='bccb4c68-a2a3-46cc-8973-4c4413dac1cd', metadata={'source': 'https://spartacodingclub.kr/blog/all-in-challenge_winner'}, page_content='SSE, FCM, JWT, Postman🎖️\\xa0우수상[에코 클래스룸] 수업 실시간 소통 서비스서비스 제작자: This is 스파게티!!!(박지성, 김서원, 박범수)💡K교수는 항상 수업이 끝난 후 난이도가 적절했는지 궁금했습니다. “질문 있나요?”라는 말이 수업의 마무리였지만, 대부분의 학생은 답이 없었죠. 그저 고개를 끄덕이는 몇몇 학생들만 보일 뿐, 정말 이해한 것인지, 질문할 용기가 없는 것인지 알 수 없었습니다. 이때문에 학생들이 수업 내용을 제대로 이해하고 있는지 확인하기 어려웠습니다. 어느 날 강의가 끝나고 몇몇 학생들이 몰려와 어렵다고, 다시 설명해 달라고 요청했습니다. 그제야 K교수는 알게 되었어요. 학생들이 이해하지 못하고 있었지만, 질문을 하지 않았던 것이었습니다.다른 학생들의 시선이 부담스러워서, 나만 모르는 거라고 생각해서 질문하지 않는 학생들을 위해 만들어진 서비스가 바로 <에코 클래스룸>입니다. 교수와 학생 간의 소통을 혁신적으로 바꾸기 위해 만들어졌어요.'), Document(id='464cacc4-00f3-44bd-9144-0f1bd173457b', metadata={'source': 'https://spartacodingclub.kr/blog/all-in-challenge_winner'}, page_content='제공해주기 때문에 효율적으로 내게 꼭 맞는 동아리를 선택할 수 있습니다.사용한 기술 스택 -FE(프론트엔드): Spring Boot, Redis, MySQL-BE(백엔드): SwiftUI Framework, OAuth 2.0🏅\\xa0입선[학교생활 매니저] 학교생활 관리 서비스서비스 제작자: 아이칼F4(조민제, 이민기, 강건, 박근우)💡A는 올해 복학한 3학년 학생입니다. 강의실과 도서관을 오가며 바쁜 일정을 소화하느라 정신이 없지만, 수업마다 나오는 과제와 각종 활동, 시험 준비까지 겹치면서 혼란에 빠지기 일쑤였습니다. 복학생이다 보니 학교에서 전달되는 공지사항도 제대로 전달받지 못해 항상 중요한 정보를 놓칠까 봐 걱정이었죠.<학교생활 매니저> 서비스는 학교 생활을 효율적으로 관리할 수 있도록 돕기 위해 개발된 관리 앱입니다. 일정과 과제 관리, 성적 예측, 학점 계산 등 캠퍼스 생활과 관련된 다양한 기능을 한 곳에서 관리할 수 있어요. ‘캘린더 기능’을 통해 학교 학사 일정과 개인'), Document(id='1124e63d-cded-4838-ad42-ec14655bfdf4', metadata={'source': 'https://spartacodingclub.kr/blog/all-in-challenge_winner'}, page_content='학생의 이해도를 테스트 할 수 있는 퀴즈 생성 기능이 있어 필요한 경우 수업 속도를 조절하고 추가 설명을 할 수 있어요.사용한 기술 스택 -FE(프론트엔드): Flutter, Socket.IO, Expo CLI, Axios, TanStack Query-BE(백엔드): Spring Boot, Spring Security, JWT, MySQL, Spring WebSocket, AWS🏅\\xa0입선[Crewing] 연합동아리 정보 플랫폼서비스 제작자: 동학대학운동(김민아, 임경진, 신은혜, 고수)💡신입생인 S는 대학 생활을 알차게 보내고 싶어서 연합 동아리에 가입하려고 했지만 어떤 동아리가 자신에게 맞을지 고민이 많았습니다. 인터넷에 검색해보니 연합 동아리 후기는 대부분 여기저기 흩어져 있고, 신뢰할 만한 정보를 찾기'), Document(id='4db39bc8-bf2d-4ca1-beeb-104affeb184b', metadata={'source': 'https://spartacodingclub.kr/blog/all-in-challenge_winner'}, page_content='선택할 수 있습니다.사용한 기술 스택 -FE(프론트엔드): Spring Boot, Redis, MySQL-BE(백엔드): SwiftUI Framework, OAuth 2.0🏅\\xa0입선[학교생활 매니저] 학교생활 관리 서비스서비스 제작자: 아이칼F4(조민제, 이민기, 강건, 박근우)💡A는 올해 복학한 3학년 학생입니다. 강의실과 도서관을 오가며 바쁜 일정을 소화하느라 정신이 없지만, 수업마다 나오는 과제와 각종 활동, 시험 준비까지 겹치면서 혼란에 빠지기 일쑤였습니다. 복학생이다 보니 학교에서 전달되는 공지사항도 제대로 전달받지 못해 항상 중요한 정보를 놓칠까 봐 걱정이었죠.<학교생활 매니저> 서비스는 학교 생활을 효율적으로 관리할 수 있도록 돕기 위해 개발된 관리 앱입니다. 일정과 과제 관리, 성적 예측,'), Document(id='ad660743-1a76-4a0e-bba5-ae27321fa065', metadata={'source': 'https://spartacodingclub.kr/blog/all-in-challenge_winner'}, page_content='연합 동아리에 쉽게 가입하고, 적절한 동아리를 찾을 수 있도록 지원해주는 아카이빙 플랫폼입니다. 회원가입 시 생년, 성별, 관심 분야를 입력하자 딱 맞는 동아리를 추천해주죠. 플랫폼 내에서 동아리의 리크루팅 과정인 서류 전형, 인터뷰 일정, 최종 결과 발표 등을 한 번에 해결할 수 있어요. 실제 동아리에 가입한 사람들의 솔직한 후기를 제공해주기 때문에 보다 정확한 정보를 얻을 수 있어요. Crewing은 신뢰할 수 있는 정보와 솔직한 후기를 제공해주기 때문에 효율적으로 내게 꼭 맞는 동아리를 선택할 수 있습니다.사용한 기술 스택 -FE(프론트엔드): Spring Boot, Redis, MySQL-BE(백엔드): SwiftUI Framework, OAuth 2.0🏅\\xa0입선[학교생활 매니저] 학교생활 관리 서비스서비스 제작자: 아이칼F4(조민제, 이민기, 강건, 박근우)💡A는 올해 복학한 3학년 학생입니다. 강의실과 도서관을 오가며 바쁜 일정을 소화하느라 정신이 없지만, 수업마다 나오는'), Document(id='b9b27b3e-de03-4a42-a660-c92b63a4f5a3', metadata={'source': 'https://spartacodingclub.kr/blog/all-in-challenge_winner'}, page_content='요긴한 학습 도우미가 되었기 때문입니다.사용한 기술 스택 -FE(프론트엔드): React, Tesseract.js, React-Quill, HTML, CSS, JavaScript-BE(백엔드): Java, Spring Boot, MariaDB🎖️\\xa0우수상[우리집 히어로즈] 벌레 퇴치 영웅 매칭 서비스서비스 제작자: 인트(배정연, 한지수)💡C는 이번 학기 처음으로 자취를 시작했습니다. 원래부터 작은 벌레에 민감했던 C. 자취방에서 자주 나타나는 벌레들 때문에 밤잠을 설치길 반복했습니다. 밤마다 벌레를 잡으려고 애쓰던 C는 커뮤니티를 통해 다른 학생들도 같은 문제를 겪고 있다는 것을 알게 되었습니다. 하지만 커뮤니티에서 벌레 퇴치 히어로를 찾기 위해서는 내 개인 정보를 노출해야 한다는 점이 찝찝했죠.이 문제를 해결할 수 있는 방법이 바로 <우리집 히어로즈> 서비스입니다. 대학생 자취생들이 자취방에서 겪는 벌레 문제를 해결하기 위해 개발된 앱이죠. 벌레 퇴치가 필요한 사용자가 앱에 요청을'), Document(id='bb3ee89c-3181-4c62-a004-906436611a18', metadata={'source': 'https://spartacodingclub.kr/blog/all-in-challenge_winner'}, page_content='요긴한 학습 도우미가 되었기 때문입니다.사용한 기술 스택 -FE(프론트엔드): React, Tesseract.js, React-Quill, HTML, CSS, JavaScript-BE(백엔드): Java, Spring Boot, MariaDB🎖️\\xa0우수상[우리집 히어로즈] 벌레 퇴치 영웅 매칭 서비스서비스 제작자: 인트(배정연, 한지수)💡C는 이번 학기 처음으로 자취를 시작했습니다. 원래부터 작은 벌레에 민감했던 C. 자취방에서 자주 나타나는 벌레들 때문에 밤잠을 설치길 반복했습니다. 밤마다 벌레를 잡으려고 애쓰던 C는 커뮤니티를 통해 다른 학생들도 같은 문제를 겪고 있다는 것을 알게 되었습니다. 하지만 커뮤니티에서 벌레 퇴치 히어로를 찾기 위해서는 내 개인 정보를 노출해야 한다는 점이 찝찝했죠.이 문제를 해결할 수 있는 방법이 바로 <우리집 히어로즈> 서비스입니다. 대학생 자취생들이 자취방에서 겪는 벌레 문제를 해결하기 위해 개발된 앱이죠. 벌레 퇴치가 필요한 사용자가 앱에 요청을'), Document(id='3f70c125-fca9-4ec3-951b-694070e5aecb', metadata={'source': 'https://spartacodingclub.kr/blog/all-in-challenge_winner'}, page_content='요긴한 학습 도우미가 되었기 때문입니다.사용한 기술 스택 -FE(프론트엔드): React, Tesseract.js, React-Quill, HTML, CSS, JavaScript-BE(백엔드): Java, Spring Boot, MariaDB🎖️\\xa0우수상[우리집 히어로즈] 벌레 퇴치 영웅 매칭 서비스서비스 제작자: 인트(배정연, 한지수)💡C는 이번 학기 처음으로 자취를 시작했습니다. 원래부터 작은 벌레에 민감했던 C. 자취방에서 자주 나타나는 벌레들 때문에 밤잠을 설치길 반복했습니다. 밤마다 벌레를 잡으려고 애쓰던 C는 커뮤니티를 통해 다른 학생들도 같은 문제를 겪고 있다는 것을 알게 되었습니다. 하지만 커뮤니티에서 벌레 퇴치 히어로를 찾기 위해서는 내 개인 정보를 노출해야 한다는 점이 찝찝했죠.이 문제를 해결할 수 있는 방법이 바로 <우리집 히어로즈> 서비스입니다. 대학생 자취생들이 자취방에서 겪는 벌레 문제를 해결하기 위해 개발된 앱이죠. 벌레 퇴치가 필요한 사용자가 앱에 요청을'), Document(id='2162dd2a-48fc-4f44-9e71-d591422ca5eb', metadata={'source': 'https://spartacodingclub.kr/blog/all-in-challenge_winner'}, page_content='요긴한 학습 도우미가 되었기 때문입니다.사용한 기술 스택 -FE(프론트엔드): React, Tesseract.js, React-Quill, HTML, CSS, JavaScript-BE(백엔드): Java, Spring Boot, MariaDB🎖️\\xa0우수상[우리집 히어로즈] 벌레 퇴치 영웅 매칭 서비스서비스 제작자: 인트(배정연, 한지수)💡C는 이번 학기 처음으로 자취를 시작했습니다. 원래부터 작은 벌레에 민감했던 C. 자취방에서 자주 나타나는 벌레들 때문에 밤잠을 설치길 반복했습니다. 밤마다 벌레를 잡으려고 애쓰던 C는 커뮤니티를 통해 다른 학생들도 같은 문제를 겪고 있다는 것을 알게 되었습니다. 하지만 커뮤니티에서 벌레 퇴치 히어로를 찾기 위해서는 내 개인 정보를 노출해야 한다는 점이 찝찝했죠.이 문제를 해결할 수 있는 방법이 바로 <우리집 히어로즈> 서비스입니다. 대학생 자취생들이 자취방에서 겪는 벌레 문제를 해결하기 위해 개발된 앱이죠. 벌레 퇴치가 필요한 사용자가 앱에 요청을'), Document(id='e7297085-df96-4f77-8c94-31b84cde00f0', metadata={'source': 'https://spartacodingclub.kr/blog/all-in-challenge_winner'}, page_content='요긴한 학습 도우미가 되었기 때문입니다.사용한 기술 스택 -FE(프론트엔드): React, Tesseract.js, React-Quill, HTML, CSS, JavaScript-BE(백엔드): Java, Spring Boot, MariaDB🎖️\\xa0우수상[우리집 히어로즈] 벌레 퇴치 영웅 매칭 서비스서비스 제작자: 인트(배정연, 한지수)💡C는 이번 학기 처음으로 자취를 시작했습니다. 원래부터 작은 벌레에 민감했던 C. 자취방에서 자주 나타나는 벌레들 때문에 밤잠을 설치길 반복했습니다. 밤마다 벌레를 잡으려고 애쓰던 C는 커뮤니티를 통해 다른 학생들도 같은 문제를 겪고 있다는 것을 알게 되었습니다. 하지만 커뮤니티에서 벌레 퇴치 히어로를 찾기 위해서는 내 개인 정보를 노출해야 한다는 점이 찝찝했죠.이 문제를 해결할 수 있는 방법이 바로 <우리집 히어로즈> 서비스입니다. 대학생 자취생들이 자취방에서 겪는 벌레 문제를 해결하기 위해 개발된 앱이죠. 벌레 퇴치가 필요한 사용자가 앱에 요청을'), Document(id='e81523c0-d4c3-476f-853a-d46500d08d15', metadata={'source': 'https://spartacodingclub.kr/blog/all-in-challenge_winner'}, page_content='요긴한 학습 도우미가 되었기 때문입니다.사용한 기술 스택 -FE(프론트엔드): React, Tesseract.js, React-Quill, HTML, CSS, JavaScript-BE(백엔드): Java, Spring Boot, MariaDB🎖️\\xa0우수상[우리집 히어로즈] 벌레 퇴치 영웅 매칭 서비스서비스 제작자: 인트(배정연, 한지수)💡C는 이번 학기 처음으로 자취를 시작했습니다. 원래부터 작은 벌레에 민감했던 C. 자취방에서 자주 나타나는 벌레들 때문에 밤잠을 설치길 반복했습니다. 밤마다 벌레를 잡으려고 애쓰던 C는 커뮤니티를 통해 다른 학생들도 같은 문제를 겪고 있다는 것을 알게 되었습니다. 하지만 커뮤니티에서 벌레 퇴치 히어로를 찾기 위해서는 내 개인 정보를 노출해야 한다는 점이 찝찝했죠.이 문제를 해결할 수 있는 방법이 바로 <우리집 히어로즈> 서비스입니다. 대학생 자취생들이 자취방에서 겪는 벌레 문제를 해결하기 위해 개발된 앱이죠. 벌레 퇴치가 필요한 사용자가 앱에 요청을'), Document(id='94abd40d-d4ab-4856-937d-d059365b6702', metadata={'source': 'https://spartacodingclub.kr/blog/all-in-challenge_winner'}, page_content='시 생년, 성별, 관심 분야를 입력하자 딱 맞는 동아리를 추천해주죠. 플랫폼 내에서 동아리의 리크루팅 과정인 서류 전형, 인터뷰 일정, 최종 결과 발표 등을 한 번에 해결할 수 있어요. 실제 동아리에 가입한 사람들의 솔직한 후기를 제공해주기 때문에 보다 정확한 정보를 얻을 수 있어요. Crewing은 신뢰할 수 있는 정보와 솔직한 후기를 제공해주기 때문에 효율적으로 내게 꼭 맞는 동아리를 선택할 수 있습니다.사용한 기술 스택 -FE(프론트엔드): Spring Boot, Redis, MySQL-BE(백엔드): SwiftUI Framework, OAuth 2.0🏅\\xa0입선[학교생활 매니저] 학교생활 관리 서비스서비스 제작자: 아이칼F4(조민제, 이민기, 강건, 박근우)💡A는 올해 복학한 3학년 학생입니다. 강의실과 도서관을 오가며 바쁜 일정을 소화하느라 정신이 없지만, 수업마다 나오는 과제와 각종 활동, 시험 준비까지 겹치면서 혼란에 빠지기 일쑤였습니다. 복학생이다 보니 학교에서 전달되는'), Document(id='e90e6f3d-315e-4940-99da-5a343a073f90', metadata={'source': 'https://spartacodingclub.kr/blog/all-in-challenge_winner'}, page_content='시 생년, 성별, 관심 분야를 입력하자 딱 맞는 동아리를 추천해주죠. 플랫폼 내에서 동아리의 리크루팅 과정인 서류 전형, 인터뷰 일정, 최종 결과 발표 등을 한 번에 해결할 수 있어요. 실제 동아리에 가입한 사람들의 솔직한 후기를 제공해주기 때문에 보다 정확한 정보를 얻을 수 있어요. Crewing은 신뢰할 수 있는 정보와 솔직한 후기를 제공해주기 때문에 효율적으로 내게 꼭 맞는 동아리를 선택할 수 있습니다.사용한 기술 스택 -FE(프론트엔드): Spring Boot, Redis, MySQL-BE(백엔드): SwiftUI Framework, OAuth 2.0🏅\\xa0입선[학교생활 매니저] 학교생활 관리 서비스서비스 제작자: 아이칼F4(조민제, 이민기, 강건, 박근우)💡A는 올해 복학한 3학년 학생입니다. 강의실과 도서관을 오가며 바쁜 일정을 소화하느라 정신이 없지만, 수업마다 나오는 과제와 각종 활동, 시험 준비까지 겹치면서 혼란에 빠지기 일쑤였습니다. 복학생이다 보니 학교에서 전달되는'), Document(id='6677cd34-de2f-40d3-bf67-4b3aa842972d', metadata={'source': 'https://spartacodingclub.kr/blog/all-in-challenge_winner'}, page_content='시 생년, 성별, 관심 분야를 입력하자 딱 맞는 동아리를 추천해주죠. 플랫폼 내에서 동아리의 리크루팅 과정인 서류 전형, 인터뷰 일정, 최종 결과 발표 등을 한 번에 해결할 수 있어요. 실제 동아리에 가입한 사람들의 솔직한 후기를 제공해주기 때문에 보다 정확한 정보를 얻을 수 있어요. Crewing은 신뢰할 수 있는 정보와 솔직한 후기를 제공해주기 때문에 효율적으로 내게 꼭 맞는 동아리를 선택할 수 있습니다.사용한 기술 스택 -FE(프론트엔드): Spring Boot, Redis, MySQL-BE(백엔드): SwiftUI Framework, OAuth 2.0🏅\\xa0입선[학교생활 매니저] 학교생활 관리 서비스서비스 제작자: 아이칼F4(조민제, 이민기, 강건, 박근우)💡A는 올해 복학한 3학년 학생입니다. 강의실과 도서관을 오가며 바쁜 일정을 소화하느라 정신이 없지만, 수업마다 나오는 과제와 각종 활동, 시험 준비까지 겹치면서 혼란에 빠지기 일쑤였습니다. 복학생이다 보니 학교에서 전달되는'), Document(id='ff6b6fb4-41af-484b-9dd5-bbb2b69d08e0', metadata={'source': 'https://spartacodingclub.kr/blog/all-in-challenge_winner'}, page_content='시 생년, 성별, 관심 분야를 입력하자 딱 맞는 동아리를 추천해주죠. 플랫폼 내에서 동아리의 리크루팅 과정인 서류 전형, 인터뷰 일정, 최종 결과 발표 등을 한 번에 해결할 수 있어요. 실제 동아리에 가입한 사람들의 솔직한 후기를 제공해주기 때문에 보다 정확한 정보를 얻을 수 있어요. Crewing은 신뢰할 수 있는 정보와 솔직한 후기를 제공해주기 때문에 효율적으로 내게 꼭 맞는 동아리를 선택할 수 있습니다.사용한 기술 스택 -FE(프론트엔드): Spring Boot, Redis, MySQL-BE(백엔드): SwiftUI Framework, OAuth 2.0🏅\\xa0입선[학교생활 매니저] 학교생활 관리 서비스서비스 제작자: 아이칼F4(조민제, 이민기, 강건, 박근우)💡A는 올해 복학한 3학년 학생입니다. 강의실과 도서관을 오가며 바쁜 일정을 소화하느라 정신이 없지만, 수업마다 나오는 과제와 각종 활동, 시험 준비까지 겹치면서 혼란에 빠지기 일쑤였습니다. 복학생이다 보니 학교에서 전달되는'), Document(id='74e0e299-cfc3-42d4-990b-55914b5222e9', metadata={'source': 'https://spartacodingclub.kr/blog/all-in-challenge_winner'}, page_content='시 생년, 성별, 관심 분야를 입력하자 딱 맞는 동아리를 추천해주죠. 플랫폼 내에서 동아리의 리크루팅 과정인 서류 전형, 인터뷰 일정, 최종 결과 발표 등을 한 번에 해결할 수 있어요. 실제 동아리에 가입한 사람들의 솔직한 후기를 제공해주기 때문에 보다 정확한 정보를 얻을 수 있어요. Crewing은 신뢰할 수 있는 정보와 솔직한 후기를 제공해주기 때문에 효율적으로 내게 꼭 맞는 동아리를 선택할 수 있습니다.사용한 기술 스택 -FE(프론트엔드): Spring Boot, Redis, MySQL-BE(백엔드): SwiftUI Framework, OAuth 2.0🏅\\xa0입선[학교생활 매니저] 학교생활 관리 서비스서비스 제작자: 아이칼F4(조민제, 이민기, 강건, 박근우)💡A는 올해 복학한 3학년 학생입니다. 강의실과 도서관을 오가며 바쁜 일정을 소화하느라 정신이 없지만, 수업마다 나오는 과제와 각종 활동, 시험 준비까지 겹치면서 혼란에 빠지기 일쑤였습니다. 복학생이다 보니 학교에서 전달되는'), Document(id='c8b64631-a86f-4b4d-9d69-ba32949961e7', metadata={'source': 'https://spartacodingclub.kr/blog/all-in-challenge_winner'}, page_content='시 생년, 성별, 관심 분야를 입력하자 딱 맞는 동아리를 추천해주죠. 플랫폼 내에서 동아리의 리크루팅 과정인 서류 전형, 인터뷰 일정, 최종 결과 발표 등을 한 번에 해결할 수 있어요. 실제 동아리에 가입한 사람들의 솔직한 후기를 제공해주기 때문에 보다 정확한 정보를 얻을 수 있어요. Crewing은 신뢰할 수 있는 정보와 솔직한 후기를 제공해주기 때문에 효율적으로 내게 꼭 맞는 동아리를 선택할 수 있습니다.사용한 기술 스택 -FE(프론트엔드): Spring Boot, Redis, MySQL-BE(백엔드): SwiftUI Framework, OAuth 2.0🏅\\xa0입선[학교생활 매니저] 학교생활 관리 서비스서비스 제작자: 아이칼F4(조민제, 이민기, 강건, 박근우)💡A는 올해 복학한 3학년 학생입니다. 강의실과 도서관을 오가며 바쁜 일정을 소화하느라 정신이 없지만, 수업마다 나오는 과제와 각종 활동, 시험 준비까지 겹치면서 혼란에 빠지기 일쑤였습니다. 복학생이다 보니 학교에서 전달되는'), Document(id='af9a9481-0444-4284-b7f0-f2cc54696e4f', metadata={'source': 'https://spartacodingclub.kr/blog/all-in-challenge_winner'}, page_content='Spring Boot, Spring Security, MySQL, SSE, FCM, JWT, Postman🎖️\\xa0우수상[에코 클래스룸] 수업 실시간 소통 서비스서비스 제작자: This is 스파게티!!!(박지성, 김서원, 박범수)💡K교수는 항상 수업이 끝난 후 난이도가 적절했는지 궁금했습니다. “질문 있나요?”라는 말이 수업의 마무리였지만, 대부분의 학생은 답이 없었죠. 그저 고개를 끄덕이는 몇몇 학생들만 보일 뿐, 정말 이해한 것인지, 질문할 용기가 없는 것인지 알 수 없었습니다. 이때문에 학생들이 수업 내용을 제대로 이해하고 있는지 확인하기 어려웠습니다. 어느 날 강의가 끝나고 몇몇 학생들이 몰려와 어렵다고, 다시 설명해 달라고 요청했습니다. 그제야 K교수는 알게 되었어요. 학생들이 이해하지 못하고'), Document(id='4bc3cde8-3731-4c4b-82a2-6d5a2e110b77', metadata={'source': 'https://spartacodingclub.kr/blog/all-in-challenge_winner'}, page_content='기능과 학생의 이해도를 테스트 할 수 있는 퀴즈 생성 기능이 있어 필요한 경우 수업 속도를 조절하고 추가 설명을 할 수 있어요.사용한 기술 스택 -FE(프론트엔드): Flutter, Socket.IO, Expo CLI, Axios, TanStack Query-BE(백엔드): Spring Boot, Spring Security, JWT, MySQL, Spring WebSocket, AWS🏅\\xa0입선[Crewing] 연합동아리 정보 플랫폼서비스 제작자: 동학대학운동(김민아, 임경진, 신은혜, 고수)💡신입생인 S는 대학 생활을 알차게 보내고 싶어서 연합 동아리에 가입하려고 했지만 어떤 동아리가 자신에게 맞을지 고민이 많았습니다. 인터넷에 검색해보니 연합 동아리 후기는 대부분 여기저기 흩어져 있고, 신뢰할 만한 정보를 찾기 어려웠습니다.<Crewing>은 대학생들이 다양한 연합 동아리에 쉽게 가입하고, 적절한 동아리를 찾을 수 있도록 지원해주는 아카이빙 플랫폼입니다. 회원가입 시 생년,'), Document(id='791a6f9c-48c7-4cde-abc3-92b345b382fd', metadata={'source': 'https://spartacodingclub.kr/blog/all-in-challenge_winner'}, page_content='기능과 학생의 이해도를 테스트 할 수 있는 퀴즈 생성 기능이 있어 필요한 경우 수업 속도를 조절하고 추가 설명을 할 수 있어요.사용한 기술 스택 -FE(프론트엔드): Flutter, Socket.IO, Expo CLI, Axios, TanStack Query-BE(백엔드): Spring Boot, Spring Security, JWT, MySQL, Spring WebSocket, AWS🏅\\xa0입선[Crewing] 연합동아리 정보 플랫폼서비스 제작자: 동학대학운동(김민아, 임경진, 신은혜, 고수)💡신입생인 S는 대학 생활을 알차게 보내고 싶어서 연합 동아리에 가입하려고 했지만 어떤 동아리가 자신에게 맞을지 고민이 많았습니다. 인터넷에 검색해보니 연합 동아리 후기는 대부분 여기저기 흩어져 있고, 신뢰할 만한 정보를 찾기 어려웠습니다.<Crewing>은 대학생들이 다양한 연합 동아리에 쉽게 가입하고, 적절한 동아리를 찾을 수 있도록 지원해주는 아카이빙 플랫폼입니다. 회원가입 시 생년,'), Document(id='96bb71ef-75e1-4804-aee1-01bc04540a7b', metadata={'source': 'https://spartacodingclub.kr/blog/all-in-challenge_winner'}, page_content='기능과 학생의 이해도를 테스트 할 수 있는 퀴즈 생성 기능이 있어 필요한 경우 수업 속도를 조절하고 추가 설명을 할 수 있어요.사용한 기술 스택 -FE(프론트엔드): Flutter, Socket.IO, Expo CLI, Axios, TanStack Query-BE(백엔드): Spring Boot, Spring Security, JWT, MySQL, Spring WebSocket, AWS🏅\\xa0입선[Crewing] 연합동아리 정보 플랫폼서비스 제작자: 동학대학운동(김민아, 임경진, 신은혜, 고수)💡신입생인 S는 대학 생활을 알차게 보내고 싶어서 연합 동아리에 가입하려고 했지만 어떤 동아리가 자신에게 맞을지 고민이 많았습니다. 인터넷에 검색해보니 연합 동아리 후기는 대부분 여기저기 흩어져 있고, 신뢰할 만한 정보를 찾기 어려웠습니다.<Crewing>은 대학생들이 다양한 연합 동아리에 쉽게 가입하고, 적절한 동아리를 찾을 수 있도록 지원해주는 아카이빙 플랫폼입니다. 회원가입 시 생년,')]\n"
     ]
    }
   ],
   "source": [
    "from langchain.retrievers import ContextualCompressionRetriever\n",
    "from langchain.retrievers.document_compressors import LLMChainExtractor\n",
    "\n",
    "retriever_mmr = vectorstore.as_retriever(search_type=\"mmr\", search_kwargs={\"k\": 50})\n",
    "retrieved_docs_mmr = retriever.invoke(user_msg)\n",
    "\n",
    "print(retrieved_docs_mmr)"
   ]
  },
  {
   "cell_type": "markdown",
   "id": "820ae1a9",
   "metadata": {},
   "source": [
    "3. 문서압축기로 문서를 요약한 정보에서 가져오는 contextual compression retriever를 이용해 정보를 가져오도록 했습니다."
   ]
  },
  {
   "cell_type": "code",
   "execution_count": 64,
   "id": "1a170d83",
   "metadata": {},
   "outputs": [
    {
     "name": "stdout",
     "output_type": "stream",
     "text": [
      "29\n"
     ]
    },
    {
     "data": {
      "text/plain": [
       "[Document(metadata={'source': 'https://spartacodingclub.kr/blog/all-in-challenge_winner'}, page_content=\"'AII-in 코딩 공모전’ 수상작을 소개합니다코딩은 더 이상 개발자만의 영역이 아닙니다. 누구나 아이디어만 있다면 창의적인 서비스를 만들어 세상을 바꿀 수 있습니다. <All-in> 코딩 공모전은 대학생들이 캠퍼스에서 겪은 불편함과 문제를 자신만의 아이디어로 해결해보는 대회였는데요. 이번 공모전에서 다양한 혁신적인 아이디어와 열정으로 가득한 수많은 프로젝트가 탄생했습니다. 그중 뛰어난 성과를 낸 수상작 6개를 소개합니다.🏆\\xa0대상[Lexi Note] 언어공부 필기 웹 서비스서비스 제작자: 다나와(김다애, 박나경)\"),\n",
       " Document(metadata={'source': 'https://spartacodingclub.kr/blog/all-in-challenge_winner'}, page_content=\"'AII-in 코딩 공모전’ 수상작을 소개합니다코딩은 더 이상 개발자만의 영역이 아닙니다. 누구나 아이디어만 있다면 창의적인 서비스를 만들어 세상을 바꿀 수 있습니다. 스파르타코딩클럽에서는 이러한 가능성을 믿고, 누구나 코딩을 통해 자신의 아이디어를 실현하고 실제 문제를 해결하는 경험을 쌓을 수 있도록 다양한 프로그램을 마련하고 있습니다.<All-in> 코딩 공모전은 대학생들이 캠퍼스에서 겪은 불편함과 문제를 자신만의 아이디어로 해결해보는 대회였는데요. 이번 공모전에서 다양한 혁신적인 아이디어와 열정으로 가득한 수많은 프로젝트가 탄생했습니다. 그중 뛰어난 성과를 낸 수상작 6개를 소개합니다.🏆\\xa0대상[Lexi Note] 언어공부 필기 웹 서비스서비스 제작자: 다나와(김다애, 박나경)💡W는 어문학을 전공하는\"),\n",
       " Document(metadata={'source': 'https://spartacodingclub.kr/blog/all-in-challenge_winner'}, page_content=\"'AII-in 코딩 공모전’ 수상작을 소개합니다코딩은 더 이상 개발자만의 영역이 아닙니다. 누구나 아이디어만 있다면 창의적인 서비스를 만들어 세상을 바꿀 수 있습니다. 스파르타코딩클럽에서는 이러한 가능성을 믿고, 누구나 코딩을 통해 자신의 아이디어를 실현하고 실제 문제를 해결하는 경험을 쌓을 수 있도록 다양한 프로그램을 마련하고 있습니다.<All-in> 코딩 공모전은 대학생들이 캠퍼스에서 겪은 불편함과 문제를 자신만의 아이디어로 해결해보는 대회였는데요. 이번 공모전에서 다양한 혁신적인 아이디어와 열정으로 가득한 수많은 프로젝트가 탄생했습니다. 그중 뛰어난 성과를 낸 수상작 6개를 소개합니다.🏆\\xa0대상[Lexi Note] 언어공부 필기 웹 서비스서비스 제작자: 다나와(김다애, 박나경)💡W는 어문학을 전공하는\"),\n",
       " Document(metadata={'source': 'https://spartacodingclub.kr/blog/all-in-challenge_winner'}, page_content=\"'AII-in 코딩 공모전’ 수상작을 소개합니다코딩은 더 이상 개발자만의 영역이 아닙니다. 누구나 아이디어만 있다면 창의적인 서비스를 만들어 세상을 바꿀 수 있습니다. 스파르타코딩클럽에서는 이러한 가능성을 믿고, 누구나 코딩을 통해 자신의 아이디어를 실현하고 실제 문제를 해결하는 경험을 쌓을 수 있도록 다양한 프로그램을 마련하고 있습니다.<All-in> 코딩 공모전은 대학생들이 캠퍼스에서 겪은 불편함과 문제를 자신만의 아이디어로 해결해보는 대회였는데요. 이번 공모전에서 다양한 혁신적인 아이디어와 열정으로 가득한 수많은 프로젝트가 탄생했습니다. 그중 뛰어난 성과를 낸 수상작 6개를 소개합니다.🏆 대상[Lexi Note] 언어공부 필기 웹 서비스서비스 제작자: 다나와(김다애, 박나경)💡W는 어문학을 전공하는 대학생입니다. 매일 새로운 단어와 문장 구조를 공부하고 있지만, 효율적으로 학습하는 것이 쉽지 않았습니다. 단어의 의미를 찾기 위해 사전을 뒤적이고, 긴 문장을 이해하려고 번역기를\"),\n",
       " Document(metadata={'source': 'https://spartacodingclub.kr/blog/all-in-challenge_winner'}, page_content=\"'AII-in 코딩 공모전’ 수상작을 소개합니다코딩은 더 이상 개발자만의 영역이 아닙니다. 누구나 아이디어만 있다면 창의적인 서비스를 만들어 세상을 바꿀 수 있습니다. <All-in> 코딩 공모전은 대학생들이 캠퍼스에서 겪은 불편함과 문제를 자신만의 아이디어로 해결해보는 대회였는데요. 이번 공모전에서 다양한 혁신적인 아이디어와 열정으로 가득한 수많은 프로젝트가 탄생했습니다. 그중 뛰어난 성과를 낸 수상작 6개를 소개합니다.🏆 대상[Lexi Note] 언어공부 필기 웹 서비스서비스 제작자: 다나와(김다애, 박나경)💡W는 어문학을 전공하는 대학생입니다. 매일 새로운 단어와 문장 구조를 공부하고 있지만, 효율적으로 학습하는 것이 쉽지 않았습니다.\"),\n",
       " Document(metadata={'source': 'https://spartacodingclub.kr/blog/all-in-challenge_winner'}, page_content=\"'AII-in 코딩 공모전’ 수상작을 소개합니다코딩은 더 이상 개발자만의 영역이 아닙니다. 누구나 아이디어만 있다면 창의적인 서비스를 만들어 세상을 바꿀 수 있습니다. 스파르타코딩클럽에서는 이러한 가능성을 믿고, 누구나 코딩을 통해 자신의 아이디어를 실현하고 실제 문제를 해결하는 경험을 쌓을 수 있도록 다양한 프로그램을 마련하고 있습니다.<All-in> 코딩 공모전은 대학생들이 캠퍼스에서 겪은 불편함과 문제를 자신만의 아이디어로 해결해보는 대회였는데요. 이번 공모전에서 다양한 혁신적인 아이디어와 열정으로 가득한 수많은 프로젝트가 탄생했습니다. 그중 뛰어난 성과를 낸 수상작 6개를 소개합니다.🏆\\xa0대상[Lexi Note] 언어공부 필기 웹 서비스서비스 제작자: 다나와(김다애, 박나경)💡W는 어문학을 전공하는 대학생입니다. 매일 새로운 단어와 문장 구조를 공부하고 있지만, 효율적으로 학습하는 것이 쉽지 않았습니다. 단어의 의미를 찾기 위해 사전을 뒤적이고, 긴 문장을 이해하려고 번역기를\"),\n",
       " Document(metadata={'source': 'https://spartacodingclub.kr/blog/all-in-challenge_winner'}, page_content=\"'AII-in 코딩 공모전’ 수상작을 소개합니다코딩은 더 이상 개발자만의 영역이 아닙니다. 누구나 아이디어만 있다면 창의적인 서비스를 만들어 세상을 바꿀 수 있습니다. <All-in> 코딩 공모전은 대학생들이 캠퍼스에서 겪은 불편함과 문제를 자신만의 아이디어로 해결해보는 대회였는데요. 이번 공모전에서 다양한 혁신적인 아이디어와 열정으로 가득한 수많은 프로젝트가 탄생했습니다. 그중 뛰어난 성과를 낸 수상작 6개를 소개합니다.🏆\\xa0대상[Lexi Note] 언어공부 필기 웹 서비스서비스 제작자: 다나와(김다애, 박나경)\"),\n",
       " Document(metadata={'source': 'https://spartacodingclub.kr/blog/all-in-challenge_winner'}, page_content=\"'AII-in 코딩 공모전’ 수상작을 소개합니다코딩은 더 이상 개발자만의 영역이 아닙니다. 누구나 아이디어만 있다면 창의적인 서비스를 만들어 세상을 바꿀 수 있습니다. 스파르타코딩클럽에서는 이러한 가능성을 믿고, 누구나 코딩을 통해 자신의 아이디어를 실현하고 실제 문제를 해결하는 경험을 쌓을 수 있도록 다양한 프로그램을 마련하고 있습니다.<All-in> 코딩 공모전은 대학생들이 캠퍼스에서 겪은 불편함과 문제를 자신만의 아이디어로 해결해보는 대회였는데요. 이번 공모전에서 다양한 혁신적인 아이디어와 열정으로 가득한 수많은 프로젝트가 탄생했습니다. 그중 뛰어난 성과를 낸 수상작 6개를 소개합니다.🏆\\xa0대상[Lexi Note] 언어공부 필기 웹 서비스서비스 제작자: 다나와(김다애, 박나경)💡W는 어문학을 전공하는 대학생입니다. 매일 새로운 단어와 문장 구조를 공부하고 있지만, 효율적으로 학습하는 것이 쉽지 않았습니다. 단어의 의미를 찾기 위해 사전을 뒤적이고, 긴 문장을 이해하려고 번역기를\"),\n",
       " Document(metadata={'source': 'https://spartacodingclub.kr/blog/all-in-challenge_winner'}, page_content=\"'AII-in 코딩 공모전’ 수상작을 소개합니다코딩은 더 이상 개발자만의 영역이 아닙니다. 누구나 아이디어만 있다면 창의적인 서비스를 만들어 세상을 바꿀 수 있습니다. 스파르타코딩클럽에서는 이러한 가능성을 믿고, 누구나 코딩을 통해 자신의 아이디어를 실현하고 실제 문제를 해결하는 경험을 쌓을 수 있도록 다양한 프로그램을 마련하고 있습니다.<All-in> 코딩 공모전은 대학생들이 캠퍼스에서 겪은 불편함과 문제를 자신만의 아이디어로 해결해보는 대회였는데요. 이번 공모전에서 다양한 혁신적인 아이디어와 열정으로 가득한 수많은 프로젝트가 탄생했습니다. 그중 뛰어난 성과를 낸 수상작 6개를 소개합니다.🏆\\xa0대상[Lexi Note] 언어공부 필기 웹 서비스서비스 제작자: 다나와(김다애, 박나경)💡W는 어문학을 전공하는 대학생입니다. 매일 새로운 단어와 문장 구조를 공부하고 있지만, 효율적으로 학습하는 것이 쉽지 않았습니다. 단어의 의미를 찾기 위해 사전을 뒤적이고, 긴 문장을 이해하려고 번역기를\"),\n",
       " Document(metadata={'source': 'https://spartacodingclub.kr/blog/all-in-challenge_winner'}, page_content=\"'AII-in 코딩 공모전’ 수상작을 소개합니다코딩은 더 이상 개발자만의 영역이 아닙니다. 누구나 아이디어만 있다면 창의적인 서비스를 만들어 세상을 바꿀 수 있습니다. 스파르타코딩클럽에서는 이러한 가능성을 믿고, 누구나 코딩을 통해 자신의 아이디어를 실현하고 실제 문제를 해결하는 경험을 쌓을 수 있도록 다양한 프로그램을 마련하고 있습니다.<All-in> 코딩 공모전은 대학생들이 캠퍼스에서 겪은 불편함과 문제를 자신만의 아이디어로 해결해보는 대회였는데요. 이번 공모전에서 다양한 혁신적인 아이디어와 열정으로 가득한 수많은 프로젝트가 탄생했습니다. 그중 뛰어난 성과를 낸 수상작 6개를 소개합니다.🏆\\xa0대상[Lexi Note] 언어공부 필기 웹 서비스서비스 제작자: 다나와(김다애, 박나경)💡W는 어문학을 전공하는 대학생입니다. 매일 새로운 단어와 문장 구조를 공부하고 있지만, 효율적으로 학습하는 것이 쉽지 않았습니다. 단어의 의미를 찾기 위해 사전을 뒤적이고, 긴 문장을 이해하려고 번역기를\"),\n",
       " Document(metadata={'source': 'https://spartacodingclub.kr/blog/all-in-challenge_winner'}, page_content=\"'AII-in 코딩 공모전’ 수상작을 소개합니다... 이번 공모전에서 다양한 혁신적인 아이디어와 열정으로 가득한 수많은 프로젝트가 탄생했습니다. 그중 뛰어난 성과를 낸 수상작 6개를 소개합니다.🏆\\xa0대상[Lexi Note] 언어공부 필기 웹 서비스서비스 제작자: 다나와(김다애, 박나경)\"),\n",
       " Document(metadata={'source': 'https://spartacodingclub.kr/blog/all-in-challenge_winner'}, page_content='코딩 공모전 수상작은 대학생들의 팀프로젝트를 통해 만들어진 웹/앱 서비스입니다. 캠퍼스에서의 문제를 해결하자는 참가자들의 아이디어에서 시작되었죠. 다양한 서비스와 기발한 아이디어가 모인 곳에 초대합니다. 참가자들의 문제 해결방법이 궁금하시다면 지금 바로 ‘All-in 공모전’에서 만나보세요!'),\n",
       " Document(metadata={'source': 'https://spartacodingclub.kr/blog/all-in-challenge_winner'}, page_content='코딩 공모전 수상작은 대학생들의 팀프로젝트를 통해 만들어진 웹/앱 서비스입니다. 캠퍼스에서의 문제를 해결하자는 참가자들의 아이디어에서 시작되었죠. 누구나 세상에 선보이고 싶은 나만의 아이디어와 기초 코딩 기술만 활용한다면, 얼마든지 서비스를 만들 수 있습니다. 다양한 서비스와 기발한 아이디어가 모인 곳에 초대합니다. 참가자들의 문제 해결방법이 궁금하시다면 지금 바로 ‘All-in 공모전’에서 만나보세요!'),\n",
       " Document(metadata={'source': 'https://spartacodingclub.kr/blog/all-in-challenge_winner'}, page_content='코딩 공모전 수상작은 대학생들의 팀프로젝트를 통해 만들어진 웹/앱 서비스입니다. 캠퍼스에서의 문제를 해결하자는 참가자들의 아이디어에서 시작되었죠. 누구나 세상에 선보이고 싶은 나만의 아이디어와 기초 코딩 기술만 활용한다면, 얼마든지 서비스를 만들 수 있습니다. 다양한 서비스와 기발한 아이디어가 모인 곳에 초대합니다. 참가자들의 문제 해결방법이 궁금하시다면 지금 바로 ‘All-in 공모전’에서 만나보세요!'),\n",
       " Document(metadata={'source': 'https://spartacodingclub.kr/blog/all-in-challenge_winner'}, page_content='코딩 공모전 수상작은 대학생들의 팀프로젝트를 통해 만들어진 웹/앱 서비스입니다. 캠퍼스에서의 문제를 해결하자는 참가자들의 아이디어에서 시작되었죠. 누구나 세상에 선보이고 싶은 나만의 아이디어와 기초 코딩 기술만 활용한다면, 얼마든지 서비스를 만들 수 있습니다. 다양한 서비스와 기발한 아이디어가 모인 곳에 초대합니다. 참가자들의 문제 해결방법이 궁금하시다면 지금 바로 ‘All-in 공모전’에서 만나보세요!'),\n",
       " Document(metadata={'source': 'https://spartacodingclub.kr/blog/all-in-challenge_winner'}, page_content='코딩 공모전 수상작은 대학생들의 팀프로젝트를 통해 만들어진 웹/앱 서비스입니다. 캠퍼스에서의 문제를 해결하자는 참가자들의 아이디어에서 시작되었죠. 누구나 세상에 선보이고 싶은 나만의 아이디어와 기초 코딩 기술만 활용한다면, 얼마든지 서비스를 만들 수 있습니다. 다양한 서비스와 기발한 아이디어가 모인 곳에 초대합니다. 참가자들의 문제 해결방법이 궁금하시다면 지금 바로 ‘All-in 공모전’에서 만나보세요!'),\n",
       " Document(metadata={'source': 'https://spartacodingclub.kr/blog/all-in-challenge_winner'}, page_content='코딩 공모전 수상작은 대학생들의 팀프로젝트를 통해 만들어진 웹/앱 서비스입니다. 참가자들의 아이디어에서 시작되었죠. 스파르타코딩클럽의 내일배움캠프에서는 비전공, 초보자도 웹/앱 개발자로 거듭날 수 있는 다양한 트랙이 준비돼 있습니다. 다양한 서비스와 기발한 아이디어가 모인 곳에 초대합니다. 참가자들의 문제 해결방법이 궁금하시다면 지금 바로 ‘All-in 공모전’에서 만나보세요!'),\n",
       " Document(metadata={'source': 'https://spartacodingclub.kr/blog/all-in-challenge_winner'}, page_content='코딩 공모전 수상작은 대학생들의 팀프로젝트를 통해 만들어진 웹/앱 서비스입니다. 캠퍼스에서의 문제를 해결하자는 참가자들의 아이디어에서 시작되었죠. 누구나 세상에 선보이고 싶은 나만의 아이디어와 기초 코딩 기술만 활용한다면, 얼마든지 서비스를 만들 수 있습니다. <All-in> 코딩 공모전에서 만든 다양한 서비스를 만나보고 싶다면? 다양한 서비스와 기발한 아이디어가 모인 곳에 초대합니다. 참가자들의 문제 해결방법이 궁금하시다면 지금 바로 ‘All-in 공모전’에서 만나보세요!'),\n",
       " Document(metadata={'source': 'https://spartacodingclub.kr/blog/all-in-challenge_winner'}, page_content='코딩 공모전 수상작은 대학생들의 팀프로젝트를 통해 만들어진 웹/앱 서비스입니다. 캠퍼스에서의 문제를 해결하자는 참가자들의 아이디어에서 시작되었죠. 누구나 세상에 선보이고 싶은 나만의 아이디어와 기초 코딩 기술만 활용한다면, 얼마든지 서비스를 만들 수 있습니다.'),\n",
       " Document(metadata={'source': 'https://spartacodingclub.kr/blog/all-in-challenge_winner'}, page_content='코딩 공모전 수상작은 대학생들의 팀프로젝트를 통해 만들어진 웹/앱 서비스입니다. 캠퍼스에서의 문제를 해결하자는 참가자들의 아이디어에서 시작되었죠. 누구나 세상에 선보이고 싶은 나만의 아이디어와 기초 코딩 기술만 활용한다면, 얼마든지 서비스를 만들 수 있습니다. 스파르타코딩클럽의 내일배움캠프에서는 비전공, 초보자도 웹/앱 개발자로 거듭날 수 있는 다양한 트랙이 준비돼 있습니다. 나만의 아이디어를 세상에 선보이고 싶은 누구나에게 열려 있으니 주저말고 도전해 보세요.💡'),\n",
       " Document(metadata={'source': 'https://spartacodingclub.kr/blog/all-in-challenge_winner'}, page_content='코딩 공모전 수상작은 대학생들의 팀프로젝트를 통해 만들어진 웹/앱 서비스입니다. 캠퍼스에서의 문제를 해결하자는 참가자들의 아이디어에서 시작되었죠. 누구나 세상에 선보이고 싶은 나만의 아이디어와 기초 코딩 기술만 활용한다면, 얼마든지 서비스를 만들 수 있습니다. 스파르타코딩클럽의 내일배움캠프에서는 비전공, 초보자도 웹/앱 개발자로 거듭날 수 있는 다양한 트랙이 준비돼 있습니다. 나만의 아이디어를 세상에 선보이고 싶은 누구나에게 열려 있으니 주저말고 도전해 보세요.💡'),\n",
       " Document(metadata={'source': 'https://spartacodingclub.kr/blog/all-in-challenge_winner'}, page_content='코딩 공모전 수상작은 대학생들의 팀프로젝트를 통해 만들어진 웹/앱 서비스입니다. 캠퍼스에서의 문제를 해결하자는 참가자들의 아이디어에서 시작되었죠. 누구나 세상에 선보이고 싶은 나만의 아이디어와 기초 코딩 기술만 활용한다면, 얼마든지 서비스를 만들 수 있습니다. 스파르타코딩클럽의 내일배움캠프에서는 비전공, 초보자도 웹/앱 개발자로 거듭날 수 있는 다양한 트랙이 준비돼 있습니다. 나만의 아이디어를 세상에 선보이고 싶은 누구나에게 열려 있으니 주저말고 도전해 보세요.💡<All-in> 코딩 공모전에서 만든 다양한 서비스를 만나보고 싶다면? 다양한 서비스와 기발한 아이디어가 모인 곳에'),\n",
       " Document(metadata={'source': 'https://spartacodingclub.kr/blog/all-in-challenge_winner'}, page_content='SSE, FCM, JWT, Postman🎖️\\xa0우수상[에코 클래스룸] 수업 실시간 소통 서비스서비스 제작자: This is 스파게티!!!(박지성, 김서원, 박범수)💡K교수는 항상 수업이 끝난 후 난이도가 적절했는지 궁금했습니다. “질문 있나요?”라는 말이 수업의 마무리였지만, 대부분의 학생은 답이 없었죠. 그저 고개를 끄덕이는 몇몇 학생들만 보일 뿐, 정말 이해한 것인지, 질문할 용기가 없는 것인지 알 수 없었습니다. 이때문에 학생들이 수업 내용을 제대로 이해하고 있는지 확인하기 어려웠습니다. 어느 날 강의가 끝나고 몇몇 학생들이 몰려와 어렵다고, 다시 설명해 달라고 요청했습니다. 그제야 K교수는 알게 되었어요. 학생들이 이해하지 못하고 있었지만, 질문을 하지 않았던 것이었습니다.다른 학생들의 시선이 부담스러워서, 나만 모르는 거라고 생각해서 질문하지 않는 학생들을 위해 만들어진 서비스가 바로 <에코 클래스룸>입니다. 교수와 학생 간의 소통을 혁신적으로 바꾸기 위해 만들어졌어요.'),\n",
       " Document(metadata={'source': 'https://spartacodingclub.kr/blog/all-in-challenge_winner'}, page_content='>>>\\n[학교생활 매니저] 학교생활 관리 서비스서비스 제작자: 아이칼F4(조민제, 이민기, 강건, 박근우)💡A는 올해 복학한 3학년 학생입니다. 강의실과 도서관을 오가며 바쁜 일정을 소화하느라 정신이 없지만, 수업마다 나오는 과제와 각종 활동, 시험 준비까지 겹치면서 혼란에 빠지기 일쑤였습니다. 복학생이다 보니 학교에서 전달되는 공지사항도 제대로 전달받지 못해 항상 중요한 정보를 놓칠까 봐 걱정이었죠.<학교생활 매니저> 서비스는 학교 생활을 효율적으로 관리할 수 있도록 돕기 위해 개발된 관리 앱입니다. 일정과 과제 관리, 성적 예측,\\n>>>'),\n",
       " Document(metadata={'source': 'https://spartacodingclub.kr/blog/all-in-challenge_winner'}, page_content='🎖️\\xa0우수상[우리집 히어로즈] 벌레 퇴치 영웅 매칭 서비스서비스 제작자: 인트(배정연, 한지수)💡C는 이번 학기 처음으로 자취를 시작했습니다. 원래부터 작은 벌레에 민감했던 C. 자취방에서 자주 나타나는 벌레들 때문에 밤잠을 설치길 반복했습니다. 밤마다 벌레를 잡으려고 애쓰던 C는 커뮤니티를 통해 다른 학생들도 같은 문제를 겪고 있다는 것을 알게 되었습니다. 하지만 커뮤니티에서 벌레 퇴치 히어로를 찾기 위해서는 내 개인 정보를 노출해야 한다는 점이 찝찝했죠.이 문제를 해결할 수 있는 방법이 바로 <우리집 히어로즈> 서비스입니다. 대학생 자취생들이 자취방에서 겪는 벌레 문제를 해결하기 위해 개발된 앱이죠.'),\n",
       " Document(metadata={'source': 'https://spartacodingclub.kr/blog/all-in-challenge_winner'}, page_content='🎖️ 우수상[우리집 히어로즈] 벌레 퇴치 영웅 매칭 서비스서비스 제작자: 인트(배정연, 한지수)💡C는 이번 학기 처음으로 자취를 시작했습니다. 원래부터 작은 벌레에 민감했던 C. 자취방에서 자주 나타나는 벌레들 때문에 밤잠을 설치길 반복했습니다. 밤마다 벌레를 잡으려고 애쓰던 C는 커뮤니티를 통해 다른 학생들도 같은 문제를 겪고 있다는 것을 알게 되었습니다. 하지만 커뮤니티에서 벌레 퇴치 히어로를 찾기 위해서는 내 개인 정보를 노출해야 한다는 점이 찝찝했죠.이 문제를 해결할 수 있는 방법이 바로 <우리집 히어로즈> 서비스입니다. 대학생 자취생들이 자취방에서 겪는 벌레 문제를 해결하기 위해 개발된 앱이죠. 벌레 퇴치가 필요한 사용자가 앱에 요청을'),\n",
       " Document(metadata={'source': 'https://spartacodingclub.kr/blog/all-in-challenge_winner'}, page_content='🎖️ 우수상[우리집 히어로즈] 벌레 퇴치 영웅 매칭 서비스 서비스 제작자: 인트(배정연, 한지수) 💡C는 이번 학기 처음으로 자취를 시작했습니다. 원래부터 작은 벌레에 민감했던 C. 자취방에서 자주 나타나는 벌레들 때문에 밤잠을 설치길 반복했습니다. 밤마다 벌레를 잡으려고 애쓰던 C는 커뮤니티를 통해 다른 학생들도 같은 문제를 겪고 있다는 것을 알게 되었습니다. 하지만 커뮤니티에서 벌레 퇴치 히어로를 찾기 위해서는 내 개인 정보를 노출해야 한다는 점이 찝찝했죠. 이 문제를 해결할 수 있는 방법이 바로 <우리집 히어로즈> 서비스입니다. 대학생 자취생들이 자취방에서 겪는 벌레 문제를 해결하기 위해 개발된 앱이죠.'),\n",
       " Document(metadata={'source': 'https://spartacodingclub.kr/blog/all-in-challenge_winner'}, page_content='🎖️\\xa0우수상[우리집 히어로즈] 벌레 퇴치 영웅 매칭 서비스서비스 제작자: 인트(배정연, 한지수)💡C는 이번 학기 처음으로 자취를 시작했습니다. 원래부터 작은 벌레에 민감했던 C. 자취방에서 자주 나타나는 벌레들 때문에 밤잠을 설치길 반복했습니다. 밤마다 벌레를 잡으려고 애쓰던 C는 커뮤니티를 통해 다른 학생들도 같은 문제를 겪고 있다는 것을 알게 되었습니다. 하지만 커뮤니티에서 벌레 퇴치 히어로를 찾기 위해서는 내 개인 정보를 노출해야 한다는 점이 찝찝했죠.이 문제를 해결할 수 있는 방법이 바로 <우리집 히어로즈> 서비스입니다. 대학생 자취생들이 자취방에서 겪는 벌레 문제를 해결하기 위해 개발된 앱이죠. 벌레 퇴치가 필요한 사용자가 앱에 요청을'),\n",
       " Document(metadata={'source': 'https://spartacodingclub.kr/blog/all-in-challenge_winner'}, page_content='🎖️ 우수상[우리집 히어로즈] 벌레 퇴치 영웅 매칭 서비스서비스 제작자: 인트(배정연, 한지수)💡C는 이번 학기 처음으로 자취를 시작했습니다. 원래부터 작은 벌레에 민감했던 C. 자취방에서 자주 나타나는 벌레들 때문에 밤잠을 설치길 반복했습니다. 밤마다 벌레를 잡으려고 애쓰던 C는 커뮤니티를 통해 다른 학생들도 같은 문제를 겪고 있다는 것을 알게 되었습니다. 하지만 커뮤니티에서 벌레 퇴치 히어로를 찾기 위해서는 내 개인 정보를 노출해야 한다는 점이 찝찝했죠.이 문제를 해결할 수 있는 방법이 바로 <우리집 히어로즈> 서비스입니다. 대학생 자취생들이 자취방에서 겪는 벌레 문제를 해결하기 위해 개발된 앱이죠. 벌레 퇴치가 필요한 사용자가 앱에 요청을')]"
      ]
     },
     "execution_count": 64,
     "metadata": {},
     "output_type": "execute_result"
    }
   ],
   "source": [
    "base_retriever_context = vectorstore.as_retriever(\n",
    "                                search_type='similarity',\n",
    "                                search_kwargs={'k':50})\n",
    "compressor = LLMChainExtractor.from_llm(llm)\n",
    "compression_retriever = ContextualCompressionRetriever(\n",
    "    base_compressor=compressor, base_retriever=base_retriever_context\n",
    ")\n",
    "\n",
    "compressed_docs_context = compression_retriever.get_relevant_documents(user_msg)\n",
    "print(len(compressed_docs_context))\n",
    "compressed_docs_context"
   ]
  },
  {
   "cell_type": "markdown",
   "id": "87645f3f",
   "metadata": {},
   "source": [
    "4. self-query retriever를 이용해 질문에 따라 올바른 방법으로 정보를 가져올 수 있도록 해봤습니다."
   ]
  },
  {
   "cell_type": "code",
   "execution_count": 65,
   "id": "df2b81c7",
   "metadata": {},
   "outputs": [
    {
     "name": "stdout",
     "output_type": "stream",
     "text": [
      "50\n"
     ]
    },
    {
     "data": {
      "text/plain": [
       "[Document(id='4db39bc8-bf2d-4ca1-beeb-104affeb184b', metadata={'source': 'https://spartacodingclub.kr/blog/all-in-challenge_winner'}, page_content='선택할 수 있습니다.사용한 기술 스택 -FE(프론트엔드): Spring Boot, Redis, MySQL-BE(백엔드): SwiftUI Framework, OAuth 2.0🏅\\xa0입선[학교생활 매니저] 학교생활 관리 서비스서비스 제작자: 아이칼F4(조민제, 이민기, 강건, 박근우)💡A는 올해 복학한 3학년 학생입니다. 강의실과 도서관을 오가며 바쁜 일정을 소화하느라 정신이 없지만, 수업마다 나오는 과제와 각종 활동, 시험 준비까지 겹치면서 혼란에 빠지기 일쑤였습니다. 복학생이다 보니 학교에서 전달되는 공지사항도 제대로 전달받지 못해 항상 중요한 정보를 놓칠까 봐 걱정이었죠.<학교생활 매니저> 서비스는 학교 생활을 효율적으로 관리할 수 있도록 돕기 위해 개발된 관리 앱입니다. 일정과 과제 관리, 성적 예측,'),\n",
       " Document(id='d7468826-77ac-4755-8863-782dfdd239ad', metadata={'source': 'https://spartacodingclub.kr/blog/all-in-challenge_winner'}, page_content='| 신수지 팀스파르타 에디터'),\n",
       " Document(id='e1bc7301-9029-4e2f-8ec6-b3bddd226759', metadata={'source': 'https://spartacodingclub.kr/blog/all-in-challenge_winner'}, page_content='| 신수지 팀스파르타 에디터'),\n",
       " Document(id='0a891b25-61db-49ff-a5ce-51712b76c8cb', metadata={'source': 'https://spartacodingclub.kr/blog/all-in-challenge_winner'}, page_content='| 신수지 팀스파르타 에디터'),\n",
       " Document(id='ad92a083-ff2e-44d2-82ae-103b65d49fde', metadata={'source': 'https://spartacodingclub.kr/blog/all-in-challenge_winner'}, page_content='| 신수지 팀스파르타 에디터'),\n",
       " Document(id='76bb4d6d-3451-47a7-ba50-1590b102d03a', metadata={'source': 'https://spartacodingclub.kr/blog/all-in-challenge_winner'}, page_content='| 신수지 팀스파르타 에디터'),\n",
       " Document(id='4ce9640d-c9cd-4d11-88bc-8347339e804b', metadata={'source': 'https://spartacodingclub.kr/blog/all-in-challenge_winner'}, page_content='| 신수지 팀스파르타 에디터'),\n",
       " Document(id='f1e31229-d9e1-45ad-a784-081d79c4113d', metadata={'source': 'https://spartacodingclub.kr/blog/all-in-challenge_winner'}, page_content='Boot, MySQL, Spring WebSocket-BE(백엔드): React Native, TanStack Query, Axios코딩 공모전 수상작은 대학생들의 팀프로젝트를 통해 만들어진 웹/앱 서비스입니다. 캠퍼스에서의 문제를 해결하자는 참가자들의 아이디어에서 시작되었죠. 누구나 세상에 선보이고 싶은 나만의 아이디어와 기초 코딩 기술만 활용한다면, 얼마든지 서비스를 만들 수 있습니다. 스파르타코딩클럽의 내일배움캠프에서는 비전공, 초보자도 웹/앱 개발자로 거듭날 수 있는 다양한 트랙이 준비돼 있습니다. 나만의 아이디어를 세상에 선보이고 싶은 누구나에게 열려 있으니 주저말고 도전해 보세요.💡<All-in> 코딩 공모전에서 만든 다양한 서비스를 만나보고 싶다면?다양한 서비스와 기발한 아이디어가 모인 곳에'),\n",
       " Document(id='34f17100-5765-4189-be36-027e4da7bef7', metadata={'source': 'https://spartacodingclub.kr/blog/all-in-challenge_winner'}, page_content='Boot, MySQL, Spring WebSocket-BE(백엔드): React Native, TanStack Query, Axios코딩 공모전 수상작은 대학생들의 팀프로젝트를 통해 만들어진 웹/앱 서비스입니다. 캠퍼스에서의 문제를 해결하자는 참가자들의 아이디어에서 시작되었죠. 누구나 세상에 선보이고 싶은 나만의 아이디어와 기초 코딩 기술만 활용한다면, 얼마든지 서비스를 만들 수 있습니다. 스파르타코딩클럽의 내일배움캠프에서는 비전공, 초보자도 웹/앱 개발자로 거듭날 수 있는 다양한 트랙이 준비돼 있습니다. 나만의 아이디어를 세상에 선보이고 싶은 누구나에게 열려 있으니 주저말고 도전해 보세요.💡<All-in> 코딩 공모전에서 만든 다양한 서비스를 만나보고 싶다면?다양한 서비스와 기발한 아이디어가 모인 곳에'),\n",
       " Document(id='be4cfaab-8a95-4622-ae22-450e612e067c', metadata={'source': 'https://spartacodingclub.kr/blog/all-in-challenge_winner'}, page_content='Boot, MySQL, Spring WebSocket-BE(백엔드): React Native, TanStack Query, Axios코딩 공모전 수상작은 대학생들의 팀프로젝트를 통해 만들어진 웹/앱 서비스입니다. 캠퍼스에서의 문제를 해결하자는 참가자들의 아이디어에서 시작되었죠. 누구나 세상에 선보이고 싶은 나만의 아이디어와 기초 코딩 기술만 활용한다면, 얼마든지 서비스를 만들 수 있습니다. 스파르타코딩클럽의 내일배움캠프에서는 비전공, 초보자도 웹/앱 개발자로 거듭날 수 있는 다양한 트랙이 준비돼 있습니다. 나만의 아이디어를 세상에 선보이고 싶은 누구나에게 열려 있으니 주저말고 도전해 보세요.💡<All-in> 코딩 공모전에서 만든 다양한 서비스를 만나보고 싶다면?다양한 서비스와 기발한 아이디어가 모인 곳에'),\n",
       " Document(id='5b00b6cd-a31a-40cc-8f0a-74b4bf374b35', metadata={'source': 'https://spartacodingclub.kr/blog/all-in-challenge_winner'}, page_content='React-Quill, HTML, CSS, JavaScript-BE(백엔드): Java, Spring Boot, MariaDB🎖️\\xa0우수상[우리집 히어로즈] 벌레 퇴치 영웅 매칭 서비스서비스 제작자: 인트(배정연, 한지수)💡C는 이번 학기 처음으로 자취를 시작했습니다. 원래부터 작은 벌레에 민감했던 C. 자취방에서 자주 나타나는 벌레들 때문에 밤잠을 설치길 반복했습니다. 밤마다 벌레를 잡으려고 애쓰던 C는 커뮤니티를 통해 다른 학생들도 같은 문제를 겪고 있다는 것을 알게 되었습니다. 하지만 커뮤니티에서 벌레 퇴치 히어로를 찾기 위해서는 내 개인 정보를 노출해야 한다는 점이 찝찝했죠.이 문제를 해결할 수 있는 방법이 바로 <우리집 히어로즈> 서비스입니다. 대학생 자취생들이 자취방에서 겪는 벌레 문제를 해결하기'),\n",
       " Document(id='3c3d6130-ce95-429a-8e37-b55073de4b22', metadata={'source': 'https://spartacodingclub.kr/blog/all-in-challenge_winner'}, page_content='그래프로 시각화되어 변화를 쉽게 파악할 수 있고, 앞으로의 성적 목표를 세우는 데에도 큰 도움이 됩니다. 예상 학점 기능을 통해 과목별 예상 등수와 학점을 미리 계산해 보며 학습 계획도 조정할 수 있어요. <학교생활 매니저>앱을 사용하면 체계적으로 대학 생활을 관리하고, 남은 학업과 일정을 효율적으로 관리할 수 있습니다.사용한 기술 스택 -FE(프론트엔드): Flutter-BE(백엔드): Firebase🏅\\xa0입선[BLOTIE] 교내 외국인X내국인 매칭 및 교류 플랫폼서비스 제작자: 블로티(이은주, 한명수, 황준영)💡F는 T대학에 교환학생으로 온 외국인입니다. K팝 문화가 좋아 한국에 왔지만, 말도 잘 통하지 않고 문화 차이도 있어서 한국 캠퍼스 생활이 쉽지만은 않은데요. 한국어로 수업을 듣고 한국 친구도'),\n",
       " Document(id='e80e1a6f-7024-44fb-b5e1-69bfec4df934', metadata={'source': 'https://spartacodingclub.kr/blog/all-in-challenge_winner'}, page_content='파악할 수 있습니다. 수업 중 또는 후에 교수자가 수업에 대한 피드백을 받을 수 있는 평가 기능과 학생의 이해도를 테스트 할 수 있는 퀴즈 생성 기능이 있어 필요한 경우 수업 속도를 조절하고 추가 설명을 할 수 있어요.사용한 기술 스택 -FE(프론트엔드): Flutter, Socket.IO, Expo CLI, Axios, TanStack Query-BE(백엔드): Spring Boot, Spring Security, JWT, MySQL, Spring WebSocket, AWS🏅\\xa0입선[Crewing] 연합동아리 정보 플랫폼서비스 제작자: 동학대학운동(김민아, 임경진, 신은혜, 고수)💡신입생인 S는 대학 생활을 알차게 보내고 싶어서 연합 동아리에 가입하려고 했지만 어떤 동아리가 자신에게 맞을지 고민이 많았습니다. 인터넷에 검색해보니 연합 동아리 후기는 대부분 여기저기 흩어져 있고, 신뢰할 만한 정보를 찾기 어려웠습니다.<Crewing>은 대학생들이 다양한 연합 동아리에 쉽게 가입하고,'),\n",
       " Document(id='f2a29852-5168-4cec-944e-6d17fb09855b', metadata={'source': 'https://spartacodingclub.kr/blog/all-in-challenge_winner'}, page_content='간의 소통을 혁신적으로 바꾸기 위해 만들어졌어요. 학생들이 굳이 손을 들고 질문하지 않아도, 에코 클래스룸을 통해 자신의 의견을 표현할 수 있습니다. 익명으로 수업 중 자신의 의견이나 질문을 쉽게 제출할 수 있어 교수님은 실시간으로 학생들의 이해도를 파악할 수 있습니다. 수업 중 또는 후에 교수자가 수업에 대한 피드백을 받을 수 있는 평가 기능과 학생의 이해도를 테스트 할 수 있는 퀴즈 생성 기능이 있어 필요한 경우 수업 속도를 조절하고 추가 설명을 할 수 있어요.사용한 기술 스택 -FE(프론트엔드): Flutter, Socket.IO, Expo CLI, Axios, TanStack Query-BE(백엔드): Spring Boot, Spring Security, JWT, MySQL, Spring'),\n",
       " Document(id='87e45bd6-0ccc-4bb9-b462-fc6a3f4354cb', metadata={'source': 'https://spartacodingclub.kr/blog/all-in-challenge_winner'}, page_content='간의 소통을 혁신적으로 바꾸기 위해 만들어졌어요. 학생들이 굳이 손을 들고 질문하지 않아도, 에코 클래스룸을 통해 자신의 의견을 표현할 수 있습니다. 익명으로 수업 중 자신의 의견이나 질문을 쉽게 제출할 수 있어 교수님은 실시간으로 학생들의 이해도를 파악할 수 있습니다. 수업 중 또는 후에 교수자가 수업에 대한 피드백을 받을 수 있는 평가 기능과 학생의 이해도를 테스트 할 수 있는 퀴즈 생성 기능이 있어 필요한 경우 수업 속도를 조절하고 추가 설명을 할 수 있어요.사용한 기술 스택 -FE(프론트엔드): Flutter, Socket.IO, Expo CLI, Axios, TanStack Query-BE(백엔드): Spring Boot, Spring Security, JWT, MySQL, Spring'),\n",
       " Document(id='464cacc4-00f3-44bd-9144-0f1bd173457b', metadata={'source': 'https://spartacodingclub.kr/blog/all-in-challenge_winner'}, page_content='제공해주기 때문에 효율적으로 내게 꼭 맞는 동아리를 선택할 수 있습니다.사용한 기술 스택 -FE(프론트엔드): Spring Boot, Redis, MySQL-BE(백엔드): SwiftUI Framework, OAuth 2.0🏅\\xa0입선[학교생활 매니저] 학교생활 관리 서비스서비스 제작자: 아이칼F4(조민제, 이민기, 강건, 박근우)💡A는 올해 복학한 3학년 학생입니다. 강의실과 도서관을 오가며 바쁜 일정을 소화하느라 정신이 없지만, 수업마다 나오는 과제와 각종 활동, 시험 준비까지 겹치면서 혼란에 빠지기 일쑤였습니다. 복학생이다 보니 학교에서 전달되는 공지사항도 제대로 전달받지 못해 항상 중요한 정보를 놓칠까 봐 걱정이었죠.<학교생활 매니저> 서비스는 학교 생활을 효율적으로 관리할 수 있도록 돕기 위해 개발된 관리 앱입니다. 일정과 과제 관리, 성적 예측, 학점 계산 등 캠퍼스 생활과 관련된 다양한 기능을 한 곳에서 관리할 수 있어요. ‘캘린더 기능’을 통해 학교 학사 일정과 개인'),\n",
       " Document(id='ed89c044-bd31-4e72-8f4d-f7902946cf74', metadata={'source': 'https://spartacodingclub.kr/blog/all-in-challenge_winner'}, page_content='WebSocket-BE(백엔드): React Native, TanStack Query, Axios코딩 공모전 수상작은 대학생들의 팀프로젝트를 통해 만들어진 웹/앱 서비스입니다. 캠퍼스에서의 문제를 해결하자는 참가자들의 아이디어에서 시작되었죠. 누구나 세상에 선보이고 싶은 나만의 아이디어와 기초 코딩 기술만 활용한다면, 얼마든지 서비스를 만들 수 있습니다. 스파르타코딩클럽의 내일배움캠프에서는 비전공, 초보자도 웹/앱 개발자로 거듭날 수 있는 다양한 트랙이 준비돼 있습니다. 나만의 아이디어를 세상에 선보이고 싶은 누구나에게 열려 있으니 주저말고 도전해 보세요.💡<All-in> 코딩 공모전에서 만든 다양한 서비스를 만나보고 싶다면?다양한 서비스와 기발한 아이디어가 모인 곳에 초대합니다. 참가자들의 문제 해결방법이 궁금하시다면 지금 바로 ‘All-in 공모전’에서 만나보세요!👉🏻\\xa0공모전 결과물 보러가기누구나 큰일 낼 수 있어스파르타코딩클럽글 | 신수지 팀스파르타 에디터'),\n",
       " Document(id='b27772d9-40c4-4cf1-a271-fbde12a1a5d6', metadata={'source': 'https://spartacodingclub.kr/blog/all-in-challenge_winner'}, page_content='가진 학생들이 함께 성장할 수 있는 환경이 조성됩니다. 글로벌 사회에서 중요한 소통 능력을 기를 수 있는 문화의 장으로 쓰일 수 있겠죠!사용한 기술 스택-FE(프론트엔드): Spring Boot, MySQL, Spring WebSocket-BE(백엔드): React Native, TanStack Query, Axios코딩 공모전 수상작은 대학생들의 팀프로젝트를 통해 만들어진 웹/앱 서비스입니다. 캠퍼스에서의 문제를 해결하자는 참가자들의 아이디어에서 시작되었죠. 누구나 세상에 선보이고 싶은 나만의 아이디어와 기초 코딩 기술만 활용한다면, 얼마든지 서비스를 만들 수 있습니다. 스파르타코딩클럽의 내일배움캠프에서는 비전공, 초보자도 웹/앱 개발자로 거듭날 수 있는 다양한 트랙이 준비돼 있습니다. 나만의 아이디어를 세상에 선보이고 싶은 누구나에게 열려 있으니 주저말고 도전해 보세요.💡<All-in> 코딩 공모전에서 만든 다양한 서비스를 만나보고 싶다면?다양한 서비스와 기발한 아이디어가 모인'),\n",
       " Document(id='4885ae04-e8d2-4bd7-9a40-38c99b10b7da', metadata={'source': 'https://spartacodingclub.kr/blog/all-in-challenge_winner'}, page_content='최종 결과 발표 등을 한 번에 해결할 수 있어요. 실제 동아리에 가입한 사람들의 솔직한 후기를 제공해주기 때문에 보다 정확한 정보를 얻을 수 있어요. Crewing은 신뢰할 수 있는 정보와 솔직한 후기를 제공해주기 때문에 효율적으로 내게 꼭 맞는 동아리를 선택할 수 있습니다.사용한 기술 스택 -FE(프론트엔드): Spring Boot, Redis, MySQL-BE(백엔드): SwiftUI Framework, OAuth 2.0🏅\\xa0입선[학교생활 매니저] 학교생활 관리 서비스서비스 제작자: 아이칼F4(조민제, 이민기, 강건, 박근우)💡A는 올해 복학한 3학년 학생입니다. 강의실과 도서관을 오가며 바쁜 일정을 소화하느라 정신이 없지만, 수업마다 나오는 과제와 각종 활동, 시험 준비까지 겹치면서 혼란에 빠지기'),\n",
       " Document(id='13bc009c-11b5-4d5b-a55e-04f0c486e686', metadata={'source': 'https://spartacodingclub.kr/blog/all-in-challenge_winner'}, page_content='최종 결과 발표 등을 한 번에 해결할 수 있어요. 실제 동아리에 가입한 사람들의 솔직한 후기를 제공해주기 때문에 보다 정확한 정보를 얻을 수 있어요. Crewing은 신뢰할 수 있는 정보와 솔직한 후기를 제공해주기 때문에 효율적으로 내게 꼭 맞는 동아리를 선택할 수 있습니다.사용한 기술 스택 -FE(프론트엔드): Spring Boot, Redis, MySQL-BE(백엔드): SwiftUI Framework, OAuth 2.0🏅\\xa0입선[학교생활 매니저] 학교생활 관리 서비스서비스 제작자: 아이칼F4(조민제, 이민기, 강건, 박근우)💡A는 올해 복학한 3학년 학생입니다. 강의실과 도서관을 오가며 바쁜 일정을 소화하느라 정신이 없지만, 수업마다 나오는 과제와 각종 활동, 시험 준비까지 겹치면서 혼란에 빠지기'),\n",
       " Document(id='b9b27b3e-de03-4a42-a660-c92b63a4f5a3', metadata={'source': 'https://spartacodingclub.kr/blog/all-in-challenge_winner'}, page_content='요긴한 학습 도우미가 되었기 때문입니다.사용한 기술 스택 -FE(프론트엔드): React, Tesseract.js, React-Quill, HTML, CSS, JavaScript-BE(백엔드): Java, Spring Boot, MariaDB🎖️\\xa0우수상[우리집 히어로즈] 벌레 퇴치 영웅 매칭 서비스서비스 제작자: 인트(배정연, 한지수)💡C는 이번 학기 처음으로 자취를 시작했습니다. 원래부터 작은 벌레에 민감했던 C. 자취방에서 자주 나타나는 벌레들 때문에 밤잠을 설치길 반복했습니다. 밤마다 벌레를 잡으려고 애쓰던 C는 커뮤니티를 통해 다른 학생들도 같은 문제를 겪고 있다는 것을 알게 되었습니다. 하지만 커뮤니티에서 벌레 퇴치 히어로를 찾기 위해서는 내 개인 정보를 노출해야 한다는 점이 찝찝했죠.이 문제를 해결할 수 있는 방법이 바로 <우리집 히어로즈> 서비스입니다. 대학생 자취생들이 자취방에서 겪는 벌레 문제를 해결하기 위해 개발된 앱이죠. 벌레 퇴치가 필요한 사용자가 앱에 요청을'),\n",
       " Document(id='bb3ee89c-3181-4c62-a004-906436611a18', metadata={'source': 'https://spartacodingclub.kr/blog/all-in-challenge_winner'}, page_content='요긴한 학습 도우미가 되었기 때문입니다.사용한 기술 스택 -FE(프론트엔드): React, Tesseract.js, React-Quill, HTML, CSS, JavaScript-BE(백엔드): Java, Spring Boot, MariaDB🎖️\\xa0우수상[우리집 히어로즈] 벌레 퇴치 영웅 매칭 서비스서비스 제작자: 인트(배정연, 한지수)💡C는 이번 학기 처음으로 자취를 시작했습니다. 원래부터 작은 벌레에 민감했던 C. 자취방에서 자주 나타나는 벌레들 때문에 밤잠을 설치길 반복했습니다. 밤마다 벌레를 잡으려고 애쓰던 C는 커뮤니티를 통해 다른 학생들도 같은 문제를 겪고 있다는 것을 알게 되었습니다. 하지만 커뮤니티에서 벌레 퇴치 히어로를 찾기 위해서는 내 개인 정보를 노출해야 한다는 점이 찝찝했죠.이 문제를 해결할 수 있는 방법이 바로 <우리집 히어로즈> 서비스입니다. 대학생 자취생들이 자취방에서 겪는 벌레 문제를 해결하기 위해 개발된 앱이죠. 벌레 퇴치가 필요한 사용자가 앱에 요청을'),\n",
       " Document(id='3f70c125-fca9-4ec3-951b-694070e5aecb', metadata={'source': 'https://spartacodingclub.kr/blog/all-in-challenge_winner'}, page_content='요긴한 학습 도우미가 되었기 때문입니다.사용한 기술 스택 -FE(프론트엔드): React, Tesseract.js, React-Quill, HTML, CSS, JavaScript-BE(백엔드): Java, Spring Boot, MariaDB🎖️\\xa0우수상[우리집 히어로즈] 벌레 퇴치 영웅 매칭 서비스서비스 제작자: 인트(배정연, 한지수)💡C는 이번 학기 처음으로 자취를 시작했습니다. 원래부터 작은 벌레에 민감했던 C. 자취방에서 자주 나타나는 벌레들 때문에 밤잠을 설치길 반복했습니다. 밤마다 벌레를 잡으려고 애쓰던 C는 커뮤니티를 통해 다른 학생들도 같은 문제를 겪고 있다는 것을 알게 되었습니다. 하지만 커뮤니티에서 벌레 퇴치 히어로를 찾기 위해서는 내 개인 정보를 노출해야 한다는 점이 찝찝했죠.이 문제를 해결할 수 있는 방법이 바로 <우리집 히어로즈> 서비스입니다. 대학생 자취생들이 자취방에서 겪는 벌레 문제를 해결하기 위해 개발된 앱이죠. 벌레 퇴치가 필요한 사용자가 앱에 요청을'),\n",
       " Document(id='2162dd2a-48fc-4f44-9e71-d591422ca5eb', metadata={'source': 'https://spartacodingclub.kr/blog/all-in-challenge_winner'}, page_content='요긴한 학습 도우미가 되었기 때문입니다.사용한 기술 스택 -FE(프론트엔드): React, Tesseract.js, React-Quill, HTML, CSS, JavaScript-BE(백엔드): Java, Spring Boot, MariaDB🎖️\\xa0우수상[우리집 히어로즈] 벌레 퇴치 영웅 매칭 서비스서비스 제작자: 인트(배정연, 한지수)💡C는 이번 학기 처음으로 자취를 시작했습니다. 원래부터 작은 벌레에 민감했던 C. 자취방에서 자주 나타나는 벌레들 때문에 밤잠을 설치길 반복했습니다. 밤마다 벌레를 잡으려고 애쓰던 C는 커뮤니티를 통해 다른 학생들도 같은 문제를 겪고 있다는 것을 알게 되었습니다. 하지만 커뮤니티에서 벌레 퇴치 히어로를 찾기 위해서는 내 개인 정보를 노출해야 한다는 점이 찝찝했죠.이 문제를 해결할 수 있는 방법이 바로 <우리집 히어로즈> 서비스입니다. 대학생 자취생들이 자취방에서 겪는 벌레 문제를 해결하기 위해 개발된 앱이죠. 벌레 퇴치가 필요한 사용자가 앱에 요청을'),\n",
       " Document(id='e7297085-df96-4f77-8c94-31b84cde00f0', metadata={'source': 'https://spartacodingclub.kr/blog/all-in-challenge_winner'}, page_content='요긴한 학습 도우미가 되었기 때문입니다.사용한 기술 스택 -FE(프론트엔드): React, Tesseract.js, React-Quill, HTML, CSS, JavaScript-BE(백엔드): Java, Spring Boot, MariaDB🎖️\\xa0우수상[우리집 히어로즈] 벌레 퇴치 영웅 매칭 서비스서비스 제작자: 인트(배정연, 한지수)💡C는 이번 학기 처음으로 자취를 시작했습니다. 원래부터 작은 벌레에 민감했던 C. 자취방에서 자주 나타나는 벌레들 때문에 밤잠을 설치길 반복했습니다. 밤마다 벌레를 잡으려고 애쓰던 C는 커뮤니티를 통해 다른 학생들도 같은 문제를 겪고 있다는 것을 알게 되었습니다. 하지만 커뮤니티에서 벌레 퇴치 히어로를 찾기 위해서는 내 개인 정보를 노출해야 한다는 점이 찝찝했죠.이 문제를 해결할 수 있는 방법이 바로 <우리집 히어로즈> 서비스입니다. 대학생 자취생들이 자취방에서 겪는 벌레 문제를 해결하기 위해 개발된 앱이죠. 벌레 퇴치가 필요한 사용자가 앱에 요청을'),\n",
       " Document(id='e81523c0-d4c3-476f-853a-d46500d08d15', metadata={'source': 'https://spartacodingclub.kr/blog/all-in-challenge_winner'}, page_content='요긴한 학습 도우미가 되었기 때문입니다.사용한 기술 스택 -FE(프론트엔드): React, Tesseract.js, React-Quill, HTML, CSS, JavaScript-BE(백엔드): Java, Spring Boot, MariaDB🎖️\\xa0우수상[우리집 히어로즈] 벌레 퇴치 영웅 매칭 서비스서비스 제작자: 인트(배정연, 한지수)💡C는 이번 학기 처음으로 자취를 시작했습니다. 원래부터 작은 벌레에 민감했던 C. 자취방에서 자주 나타나는 벌레들 때문에 밤잠을 설치길 반복했습니다. 밤마다 벌레를 잡으려고 애쓰던 C는 커뮤니티를 통해 다른 학생들도 같은 문제를 겪고 있다는 것을 알게 되었습니다. 하지만 커뮤니티에서 벌레 퇴치 히어로를 찾기 위해서는 내 개인 정보를 노출해야 한다는 점이 찝찝했죠.이 문제를 해결할 수 있는 방법이 바로 <우리집 히어로즈> 서비스입니다. 대학생 자취생들이 자취방에서 겪는 벌레 문제를 해결하기 위해 개발된 앱이죠. 벌레 퇴치가 필요한 사용자가 앱에 요청을'),\n",
       " Document(id='970cb3d0-be14-4fc4-9ce5-0d10147e04a3', metadata={'source': 'https://spartacodingclub.kr/blog/all-in-challenge_winner'}, page_content='Spring Boot, MySQL, Spring WebSocket-BE(백엔드): React Native, TanStack Query, Axios코딩 공모전 수상작은 대학생들의 팀프로젝트를 통해 만들어진 웹/앱 서비스입니다. 캠퍼스에서의 문제를 해결하자는 참가자들의 아이디어에서 시작되었죠. 누구나 세상에 선보이고 싶은 나만의 아이디어와 기초 코딩 기술만 활용한다면, 얼마든지 서비스를 만들 수 있습니다. 스파르타코딩클럽의 내일배움캠프에서는 비전공, 초보자도 웹/앱 개발자로 거듭날 수 있는 다양한 트랙이 준비돼 있습니다. 나만의 아이디어를 세상에 선보이고 싶은 누구나에게 열려 있으니 주저말고 도전해 보세요.💡<All-in> 코딩 공모전에서 만든 다양한 서비스를 만나보고 싶다면?다양한 서비스와 기발한 아이디어가 모인 곳에 초대합니다. 참가자들의 문제 해결방법이 궁금하시다면 지금 바로 ‘All-in 공모전’에서 만나보세요!👉🏻\\xa0공모전 결과물 보러가기누구나 큰일 낼 수 있어스파르타코딩클럽글'),\n",
       " Document(id='80ef5603-9d3f-445c-b62f-e5b45bf10b10', metadata={'source': 'https://spartacodingclub.kr/blog/all-in-challenge_winner'}, page_content='Spring Boot, MySQL, Spring WebSocket-BE(백엔드): React Native, TanStack Query, Axios코딩 공모전 수상작은 대학생들의 팀프로젝트를 통해 만들어진 웹/앱 서비스입니다. 캠퍼스에서의 문제를 해결하자는 참가자들의 아이디어에서 시작되었죠. 누구나 세상에 선보이고 싶은 나만의 아이디어와 기초 코딩 기술만 활용한다면, 얼마든지 서비스를 만들 수 있습니다. 스파르타코딩클럽의 내일배움캠프에서는 비전공, 초보자도 웹/앱 개발자로 거듭날 수 있는 다양한 트랙이 준비돼 있습니다. 나만의 아이디어를 세상에 선보이고 싶은 누구나에게 열려 있으니 주저말고 도전해 보세요.💡<All-in> 코딩 공모전에서 만든 다양한 서비스를 만나보고 싶다면?다양한 서비스와 기발한 아이디어가 모인 곳에 초대합니다. 참가자들의 문제 해결방법이 궁금하시다면 지금 바로 ‘All-in 공모전’에서 만나보세요!👉🏻\\xa0공모전 결과물 보러가기누구나 큰일 낼 수 있어스파르타코딩클럽글'),\n",
       " Document(id='3927e89a-31f4-4873-9953-bfbf18b5f1e5', metadata={'source': 'https://spartacodingclub.kr/blog/all-in-challenge_winner'}, page_content='Spring Boot, MySQL, Spring WebSocket-BE(백엔드): React Native, TanStack Query, Axios코딩 공모전 수상작은 대학생들의 팀프로젝트를 통해 만들어진 웹/앱 서비스입니다. 캠퍼스에서의 문제를 해결하자는 참가자들의 아이디어에서 시작되었죠. 누구나 세상에 선보이고 싶은 나만의 아이디어와 기초 코딩 기술만 활용한다면, 얼마든지 서비스를 만들 수 있습니다. 스파르타코딩클럽의 내일배움캠프에서는 비전공, 초보자도 웹/앱 개발자로 거듭날 수 있는 다양한 트랙이 준비돼 있습니다. 나만의 아이디어를 세상에 선보이고 싶은 누구나에게 열려 있으니 주저말고 도전해 보세요.💡<All-in> 코딩 공모전에서 만든 다양한 서비스를 만나보고 싶다면?다양한 서비스와 기발한 아이디어가 모인 곳에 초대합니다. 참가자들의 문제 해결방법이 궁금하시다면 지금 바로 ‘All-in 공모전’에서 만나보세요!👉🏻\\xa0공모전 결과물 보러가기누구나 큰일 낼 수 있어스파르타코딩클럽글'),\n",
       " Document(id='2e604d28-f693-47c4-b9b9-5f3084cf81c2', metadata={'source': 'https://spartacodingclub.kr/blog/all-in-challenge_winner'}, page_content='Spring Boot, MySQL, Spring WebSocket-BE(백엔드): React Native, TanStack Query, Axios코딩 공모전 수상작은 대학생들의 팀프로젝트를 통해 만들어진 웹/앱 서비스입니다. 캠퍼스에서의 문제를 해결하자는 참가자들의 아이디어에서 시작되었죠. 누구나 세상에 선보이고 싶은 나만의 아이디어와 기초 코딩 기술만 활용한다면, 얼마든지 서비스를 만들 수 있습니다. 스파르타코딩클럽의 내일배움캠프에서는 비전공, 초보자도 웹/앱 개발자로 거듭날 수 있는 다양한 트랙이 준비돼 있습니다. 나만의 아이디어를 세상에 선보이고 싶은 누구나에게 열려 있으니 주저말고 도전해 보세요.💡<All-in> 코딩 공모전에서 만든 다양한 서비스를 만나보고 싶다면?다양한 서비스와 기발한 아이디어가 모인 곳에 초대합니다. 참가자들의 문제 해결방법이 궁금하시다면 지금 바로 ‘All-in 공모전’에서 만나보세요!👉🏻\\xa0공모전 결과물 보러가기누구나 큰일 낼 수 있어스파르타코딩클럽글'),\n",
       " Document(id='3f2c8fee-bd3a-433c-81f3-64349862c7e9', metadata={'source': 'https://spartacodingclub.kr/blog/all-in-challenge_winner'}, page_content='Spring Boot, MySQL, Spring WebSocket-BE(백엔드): React Native, TanStack Query, Axios코딩 공모전 수상작은 대학생들의 팀프로젝트를 통해 만들어진 웹/앱 서비스입니다. 캠퍼스에서의 문제를 해결하자는 참가자들의 아이디어에서 시작되었죠. 누구나 세상에 선보이고 싶은 나만의 아이디어와 기초 코딩 기술만 활용한다면, 얼마든지 서비스를 만들 수 있습니다. 스파르타코딩클럽의 내일배움캠프에서는 비전공, 초보자도 웹/앱 개발자로 거듭날 수 있는 다양한 트랙이 준비돼 있습니다. 나만의 아이디어를 세상에 선보이고 싶은 누구나에게 열려 있으니 주저말고 도전해 보세요.💡<All-in> 코딩 공모전에서 만든 다양한 서비스를 만나보고 싶다면?다양한 서비스와 기발한 아이디어가 모인 곳에 초대합니다. 참가자들의 문제 해결방법이 궁금하시다면 지금 바로 ‘All-in 공모전’에서 만나보세요!👉🏻\\xa0공모전 결과물 보러가기누구나 큰일 낼 수 있어스파르타코딩클럽글'),\n",
       " Document(id='c01a1a4f-0e6a-4783-97ae-01d264033973', metadata={'source': 'https://spartacodingclub.kr/blog/all-in-challenge_winner'}, page_content='Spring Boot, MySQL, Spring WebSocket-BE(백엔드): React Native, TanStack Query, Axios코딩 공모전 수상작은 대학생들의 팀프로젝트를 통해 만들어진 웹/앱 서비스입니다. 캠퍼스에서의 문제를 해결하자는 참가자들의 아이디어에서 시작되었죠. 누구나 세상에 선보이고 싶은 나만의 아이디어와 기초 코딩 기술만 활용한다면, 얼마든지 서비스를 만들 수 있습니다. 스파르타코딩클럽의 내일배움캠프에서는 비전공, 초보자도 웹/앱 개발자로 거듭날 수 있는 다양한 트랙이 준비돼 있습니다. 나만의 아이디어를 세상에 선보이고 싶은 누구나에게 열려 있으니 주저말고 도전해 보세요.💡<All-in> 코딩 공모전에서 만든 다양한 서비스를 만나보고 싶다면?다양한 서비스와 기발한 아이디어가 모인 곳에 초대합니다. 참가자들의 문제 해결방법이 궁금하시다면 지금 바로 ‘All-in 공모전’에서 만나보세요!👉🏻\\xa0공모전 결과물 보러가기누구나 큰일 낼 수 있어스파르타코딩클럽글'),\n",
       " Document(id='933b0922-e386-4aa8-8ef9-bf45bbd751b6', metadata={'source': 'https://spartacodingclub.kr/blog/all-in-challenge_winner'}, page_content='관리할 수 있습니다.사용한 기술 스택 -FE(프론트엔드): Flutter-BE(백엔드): Firebase🏅\\xa0입선[BLOTIE] 교내 외국인X내국인 매칭 및 교류 플랫폼서비스 제작자: 블로티(이은주, 한명수, 황준영)💡F는 T대학에 교환학생으로 온 외국인입니다. K팝 문화가 좋아 한국에 왔지만, 말도 잘 통하지 않고 문화 차이도 있어서 한국 캠퍼스 생활이 쉽지만은 않은데요. 한국어로 수업을 듣고 한국 친구도 사귀고 싶지만 한국 대학의 학사 일정과 과제 등 여러 시스템이 달라서 적응하기 어려웠습니다. 한국어가 서툴다보니 수업에서 제공되는 다양한 정보를 이해하기 어려웠고, 중요한 공지사항을 놓치기도 했습니다. 한국인 친구를 먼저 사귀는 것이 급선무라고 생각했죠.<BLOTIE>는 외국인 학생이 가진 이런 문제를 해결하고, 보다 친밀하고 자유로운 글로벌 캠퍼스 문화를 조성하기 위해 만들어진 플랫폼입니다. ‘1:1 매칭 기능’으로 교내 외국인 학생과 한국인 학생을 쉽게 연결할 수 있어요.'),\n",
       " Document(id='1124e63d-cded-4838-ad42-ec14655bfdf4', metadata={'source': 'https://spartacodingclub.kr/blog/all-in-challenge_winner'}, page_content='학생의 이해도를 테스트 할 수 있는 퀴즈 생성 기능이 있어 필요한 경우 수업 속도를 조절하고 추가 설명을 할 수 있어요.사용한 기술 스택 -FE(프론트엔드): Flutter, Socket.IO, Expo CLI, Axios, TanStack Query-BE(백엔드): Spring Boot, Spring Security, JWT, MySQL, Spring WebSocket, AWS🏅\\xa0입선[Crewing] 연합동아리 정보 플랫폼서비스 제작자: 동학대학운동(김민아, 임경진, 신은혜, 고수)💡신입생인 S는 대학 생활을 알차게 보내고 싶어서 연합 동아리에 가입하려고 했지만 어떤 동아리가 자신에게 맞을지 고민이 많았습니다. 인터넷에 검색해보니 연합 동아리 후기는 대부분 여기저기 흩어져 있고, 신뢰할 만한 정보를 찾기'),\n",
       " Document(id='40300cb9-29c4-4cd2-bb00-ba061e6c58c0', metadata={'source': 'https://spartacodingclub.kr/blog/all-in-challenge_winner'}, page_content='계산기를 사용하면 성적이 그래프로 시각화되어 변화를 쉽게 파악할 수 있고, 앞으로의 성적 목표를 세우는 데에도 큰 도움이 됩니다. 예상 학점 기능을 통해 과목별 예상 등수와 학점을 미리 계산해 보며 학습 계획도 조정할 수 있어요. <학교생활 매니저>앱을 사용하면 체계적으로 대학 생활을 관리하고, 남은 학업과 일정을 효율적으로 관리할 수 있습니다.사용한 기술 스택 -FE(프론트엔드): Flutter-BE(백엔드): Firebase🏅\\xa0입선[BLOTIE] 교내 외국인X내국인 매칭 및 교류 플랫폼서비스 제작자: 블로티(이은주, 한명수, 황준영)💡F는 T대학에 교환학생으로 온 외국인입니다. K팝 문화가 좋아 한국에 왔지만, 말도 잘 통하지 않고 문화 차이도 있어서 한국 캠퍼스 생활이 쉽지만은 않은데요. 한국어로 수업을 듣고 한국 친구도 사귀고 싶지만 한국 대학의 학사 일정과 과제 등 여러 시스템이 달라서 적응하기 어려웠습니다. 한국어가 서툴다보니 수업에서 제공되는 다양한 정보를 이해하기'),\n",
       " Document(id='4bc3cde8-3731-4c4b-82a2-6d5a2e110b77', metadata={'source': 'https://spartacodingclub.kr/blog/all-in-challenge_winner'}, page_content='기능과 학생의 이해도를 테스트 할 수 있는 퀴즈 생성 기능이 있어 필요한 경우 수업 속도를 조절하고 추가 설명을 할 수 있어요.사용한 기술 스택 -FE(프론트엔드): Flutter, Socket.IO, Expo CLI, Axios, TanStack Query-BE(백엔드): Spring Boot, Spring Security, JWT, MySQL, Spring WebSocket, AWS🏅\\xa0입선[Crewing] 연합동아리 정보 플랫폼서비스 제작자: 동학대학운동(김민아, 임경진, 신은혜, 고수)💡신입생인 S는 대학 생활을 알차게 보내고 싶어서 연합 동아리에 가입하려고 했지만 어떤 동아리가 자신에게 맞을지 고민이 많았습니다. 인터넷에 검색해보니 연합 동아리 후기는 대부분 여기저기 흩어져 있고, 신뢰할 만한 정보를 찾기 어려웠습니다.<Crewing>은 대학생들이 다양한 연합 동아리에 쉽게 가입하고, 적절한 동아리를 찾을 수 있도록 지원해주는 아카이빙 플랫폼입니다. 회원가입 시 생년,'),\n",
       " Document(id='4fc7d910-1dca-48b5-8de3-bf7b77a0a42a', metadata={'source': 'https://spartacodingclub.kr/blog/all-in-challenge_winner'}, page_content='기능과 학생의 이해도를 테스트 할 수 있는 퀴즈 생성 기능이 있어 필요한 경우 수업 속도를 조절하고 추가 설명을 할 수 있어요.사용한 기술 스택 -FE(프론트엔드): Flutter, Socket.IO, Expo CLI, Axios, TanStack Query-BE(백엔드): Spring Boot, Spring Security, JWT, MySQL, Spring WebSocket, AWS🏅\\xa0입선[Crewing] 연합동아리 정보 플랫폼서비스 제작자: 동학대학운동(김민아, 임경진, 신은혜, 고수)💡신입생인 S는 대학 생활을 알차게 보내고 싶어서 연합 동아리에 가입하려고 했지만 어떤 동아리가 자신에게 맞을지 고민이 많았습니다. 인터넷에 검색해보니 연합 동아리 후기는 대부분 여기저기 흩어져 있고, 신뢰할 만한 정보를 찾기 어려웠습니다.<Crewing>은 대학생들이 다양한 연합 동아리에 쉽게 가입하고, 적절한 동아리를 찾을 수 있도록 지원해주는 아카이빙 플랫폼입니다. 회원가입 시 생년,'),\n",
       " Document(id='791a6f9c-48c7-4cde-abc3-92b345b382fd', metadata={'source': 'https://spartacodingclub.kr/blog/all-in-challenge_winner'}, page_content='기능과 학생의 이해도를 테스트 할 수 있는 퀴즈 생성 기능이 있어 필요한 경우 수업 속도를 조절하고 추가 설명을 할 수 있어요.사용한 기술 스택 -FE(프론트엔드): Flutter, Socket.IO, Expo CLI, Axios, TanStack Query-BE(백엔드): Spring Boot, Spring Security, JWT, MySQL, Spring WebSocket, AWS🏅\\xa0입선[Crewing] 연합동아리 정보 플랫폼서비스 제작자: 동학대학운동(김민아, 임경진, 신은혜, 고수)💡신입생인 S는 대학 생활을 알차게 보내고 싶어서 연합 동아리에 가입하려고 했지만 어떤 동아리가 자신에게 맞을지 고민이 많았습니다. 인터넷에 검색해보니 연합 동아리 후기는 대부분 여기저기 흩어져 있고, 신뢰할 만한 정보를 찾기 어려웠습니다.<Crewing>은 대학생들이 다양한 연합 동아리에 쉽게 가입하고, 적절한 동아리를 찾을 수 있도록 지원해주는 아카이빙 플랫폼입니다. 회원가입 시 생년,'),\n",
       " Document(id='b66f624d-25b9-4d74-8b17-cd3a3387f269', metadata={'source': 'https://spartacodingclub.kr/blog/all-in-challenge_winner'}, page_content='기능과 학생의 이해도를 테스트 할 수 있는 퀴즈 생성 기능이 있어 필요한 경우 수업 속도를 조절하고 추가 설명을 할 수 있어요.사용한 기술 스택 -FE(프론트엔드): Flutter, Socket.IO, Expo CLI, Axios, TanStack Query-BE(백엔드): Spring Boot, Spring Security, JWT, MySQL, Spring WebSocket, AWS🏅\\xa0입선[Crewing] 연합동아리 정보 플랫폼서비스 제작자: 동학대학운동(김민아, 임경진, 신은혜, 고수)💡신입생인 S는 대학 생활을 알차게 보내고 싶어서 연합 동아리에 가입하려고 했지만 어떤 동아리가 자신에게 맞을지 고민이 많았습니다. 인터넷에 검색해보니 연합 동아리 후기는 대부분 여기저기 흩어져 있고, 신뢰할 만한 정보를 찾기 어려웠습니다.<Crewing>은 대학생들이 다양한 연합 동아리에 쉽게 가입하고, 적절한 동아리를 찾을 수 있도록 지원해주는 아카이빙 플랫폼입니다. 회원가입 시 생년,'),\n",
       " Document(id='96bb71ef-75e1-4804-aee1-01bc04540a7b', metadata={'source': 'https://spartacodingclub.kr/blog/all-in-challenge_winner'}, page_content='기능과 학생의 이해도를 테스트 할 수 있는 퀴즈 생성 기능이 있어 필요한 경우 수업 속도를 조절하고 추가 설명을 할 수 있어요.사용한 기술 스택 -FE(프론트엔드): Flutter, Socket.IO, Expo CLI, Axios, TanStack Query-BE(백엔드): Spring Boot, Spring Security, JWT, MySQL, Spring WebSocket, AWS🏅\\xa0입선[Crewing] 연합동아리 정보 플랫폼서비스 제작자: 동학대학운동(김민아, 임경진, 신은혜, 고수)💡신입생인 S는 대학 생활을 알차게 보내고 싶어서 연합 동아리에 가입하려고 했지만 어떤 동아리가 자신에게 맞을지 고민이 많았습니다. 인터넷에 검색해보니 연합 동아리 후기는 대부분 여기저기 흩어져 있고, 신뢰할 만한 정보를 찾기 어려웠습니다.<Crewing>은 대학생들이 다양한 연합 동아리에 쉽게 가입하고, 적절한 동아리를 찾을 수 있도록 지원해주는 아카이빙 플랫폼입니다. 회원가입 시 생년,'),\n",
       " Document(id='a296148c-516a-4fcd-ba99-f6c722073fcd', metadata={'source': 'https://spartacodingclub.kr/blog/all-in-challenge_winner'}, page_content='기능과 학생의 이해도를 테스트 할 수 있는 퀴즈 생성 기능이 있어 필요한 경우 수업 속도를 조절하고 추가 설명을 할 수 있어요.사용한 기술 스택 -FE(프론트엔드): Flutter, Socket.IO, Expo CLI, Axios, TanStack Query-BE(백엔드): Spring Boot, Spring Security, JWT, MySQL, Spring WebSocket, AWS🏅\\xa0입선[Crewing] 연합동아리 정보 플랫폼서비스 제작자: 동학대학운동(김민아, 임경진, 신은혜, 고수)💡신입생인 S는 대학 생활을 알차게 보내고 싶어서 연합 동아리에 가입하려고 했지만 어떤 동아리가 자신에게 맞을지 고민이 많았습니다. 인터넷에 검색해보니 연합 동아리 후기는 대부분 여기저기 흩어져 있고, 신뢰할 만한 정보를 찾기 어려웠습니다.<Crewing>은 대학생들이 다양한 연합 동아리에 쉽게 가입하고, 적절한 동아리를 찾을 수 있도록 지원해주는 아카이빙 플랫폼입니다. 회원가입 시 생년,'),\n",
       " Document(id='5f593607-c2f7-415b-8493-99457abf056a', metadata={'source': 'https://spartacodingclub.kr/blog/all-in-challenge_winner'}, page_content='신원은 같은 학교 학생으로, 신원이 보장된 안전한 환경에서 이뤄지고 벌레를 퇴치해주는 히어로는 추가 수입을 얻을 수 있는 기회를 가집니다. 실시간 알림 기능을 통해 매칭이 이뤄지면 즉시 알림을 받을 수 있어 빠르게 문제를 해결할 수 있습니다. 벌레를 퇴치한 후 사용자는 서로를 평가할 수 있어요. 더 나은 서비스를 제공하거나 받을 수 있습니다.사용한 기술 스택 -FE(프론트엔드): React Native, Expo, Axios-BE(백엔드): Spring Boot, Spring Security, MySQL, SSE, FCM, JWT, Postman🎖️\\xa0우수상[에코 클래스룸] 수업 실시간 소통 서비스서비스 제작자: This is 스파게티!!!(박지성, 김서원, 박범수)💡K교수는 항상 수업이 끝난 후 난이도가'),\n",
       " Document(id='76dd9b01-ec4d-4a79-9c3e-0c9b595d1708', metadata={'source': 'https://spartacodingclub.kr/blog/all-in-challenge_winner'}, page_content='신원은 같은 학교 학생으로, 신원이 보장된 안전한 환경에서 이뤄지고 벌레를 퇴치해주는 히어로는 추가 수입을 얻을 수 있는 기회를 가집니다. 실시간 알림 기능을 통해 매칭이 이뤄지면 즉시 알림을 받을 수 있어 빠르게 문제를 해결할 수 있습니다. 벌레를 퇴치한 후 사용자는 서로를 평가할 수 있어요. 더 나은 서비스를 제공하거나 받을 수 있습니다.사용한 기술 스택 -FE(프론트엔드): React Native, Expo, Axios-BE(백엔드): Spring Boot, Spring Security, MySQL, SSE, FCM, JWT, Postman🎖️\\xa0우수상[에코 클래스룸] 수업 실시간 소통 서비스서비스 제작자: This is 스파게티!!!(박지성, 김서원, 박범수)💡K교수는 항상 수업이 끝난 후 난이도가'),\n",
       " Document(id='94abd40d-d4ab-4856-937d-d059365b6702', metadata={'source': 'https://spartacodingclub.kr/blog/all-in-challenge_winner'}, page_content='시 생년, 성별, 관심 분야를 입력하자 딱 맞는 동아리를 추천해주죠. 플랫폼 내에서 동아리의 리크루팅 과정인 서류 전형, 인터뷰 일정, 최종 결과 발표 등을 한 번에 해결할 수 있어요. 실제 동아리에 가입한 사람들의 솔직한 후기를 제공해주기 때문에 보다 정확한 정보를 얻을 수 있어요. Crewing은 신뢰할 수 있는 정보와 솔직한 후기를 제공해주기 때문에 효율적으로 내게 꼭 맞는 동아리를 선택할 수 있습니다.사용한 기술 스택 -FE(프론트엔드): Spring Boot, Redis, MySQL-BE(백엔드): SwiftUI Framework, OAuth 2.0🏅\\xa0입선[학교생활 매니저] 학교생활 관리 서비스서비스 제작자: 아이칼F4(조민제, 이민기, 강건, 박근우)💡A는 올해 복학한 3학년 학생입니다. 강의실과 도서관을 오가며 바쁜 일정을 소화하느라 정신이 없지만, 수업마다 나오는 과제와 각종 활동, 시험 준비까지 겹치면서 혼란에 빠지기 일쑤였습니다. 복학생이다 보니 학교에서 전달되는'),\n",
       " Document(id='e90e6f3d-315e-4940-99da-5a343a073f90', metadata={'source': 'https://spartacodingclub.kr/blog/all-in-challenge_winner'}, page_content='시 생년, 성별, 관심 분야를 입력하자 딱 맞는 동아리를 추천해주죠. 플랫폼 내에서 동아리의 리크루팅 과정인 서류 전형, 인터뷰 일정, 최종 결과 발표 등을 한 번에 해결할 수 있어요. 실제 동아리에 가입한 사람들의 솔직한 후기를 제공해주기 때문에 보다 정확한 정보를 얻을 수 있어요. Crewing은 신뢰할 수 있는 정보와 솔직한 후기를 제공해주기 때문에 효율적으로 내게 꼭 맞는 동아리를 선택할 수 있습니다.사용한 기술 스택 -FE(프론트엔드): Spring Boot, Redis, MySQL-BE(백엔드): SwiftUI Framework, OAuth 2.0🏅\\xa0입선[학교생활 매니저] 학교생활 관리 서비스서비스 제작자: 아이칼F4(조민제, 이민기, 강건, 박근우)💡A는 올해 복학한 3학년 학생입니다. 강의실과 도서관을 오가며 바쁜 일정을 소화하느라 정신이 없지만, 수업마다 나오는 과제와 각종 활동, 시험 준비까지 겹치면서 혼란에 빠지기 일쑤였습니다. 복학생이다 보니 학교에서 전달되는'),\n",
       " Document(id='6677cd34-de2f-40d3-bf67-4b3aa842972d', metadata={'source': 'https://spartacodingclub.kr/blog/all-in-challenge_winner'}, page_content='시 생년, 성별, 관심 분야를 입력하자 딱 맞는 동아리를 추천해주죠. 플랫폼 내에서 동아리의 리크루팅 과정인 서류 전형, 인터뷰 일정, 최종 결과 발표 등을 한 번에 해결할 수 있어요. 실제 동아리에 가입한 사람들의 솔직한 후기를 제공해주기 때문에 보다 정확한 정보를 얻을 수 있어요. Crewing은 신뢰할 수 있는 정보와 솔직한 후기를 제공해주기 때문에 효율적으로 내게 꼭 맞는 동아리를 선택할 수 있습니다.사용한 기술 스택 -FE(프론트엔드): Spring Boot, Redis, MySQL-BE(백엔드): SwiftUI Framework, OAuth 2.0🏅\\xa0입선[학교생활 매니저] 학교생활 관리 서비스서비스 제작자: 아이칼F4(조민제, 이민기, 강건, 박근우)💡A는 올해 복학한 3학년 학생입니다. 강의실과 도서관을 오가며 바쁜 일정을 소화하느라 정신이 없지만, 수업마다 나오는 과제와 각종 활동, 시험 준비까지 겹치면서 혼란에 빠지기 일쑤였습니다. 복학생이다 보니 학교에서 전달되는'),\n",
       " Document(id='ff6b6fb4-41af-484b-9dd5-bbb2b69d08e0', metadata={'source': 'https://spartacodingclub.kr/blog/all-in-challenge_winner'}, page_content='시 생년, 성별, 관심 분야를 입력하자 딱 맞는 동아리를 추천해주죠. 플랫폼 내에서 동아리의 리크루팅 과정인 서류 전형, 인터뷰 일정, 최종 결과 발표 등을 한 번에 해결할 수 있어요. 실제 동아리에 가입한 사람들의 솔직한 후기를 제공해주기 때문에 보다 정확한 정보를 얻을 수 있어요. Crewing은 신뢰할 수 있는 정보와 솔직한 후기를 제공해주기 때문에 효율적으로 내게 꼭 맞는 동아리를 선택할 수 있습니다.사용한 기술 스택 -FE(프론트엔드): Spring Boot, Redis, MySQL-BE(백엔드): SwiftUI Framework, OAuth 2.0🏅\\xa0입선[학교생활 매니저] 학교생활 관리 서비스서비스 제작자: 아이칼F4(조민제, 이민기, 강건, 박근우)💡A는 올해 복학한 3학년 학생입니다. 강의실과 도서관을 오가며 바쁜 일정을 소화하느라 정신이 없지만, 수업마다 나오는 과제와 각종 활동, 시험 준비까지 겹치면서 혼란에 빠지기 일쑤였습니다. 복학생이다 보니 학교에서 전달되는'),\n",
       " Document(id='74e0e299-cfc3-42d4-990b-55914b5222e9', metadata={'source': 'https://spartacodingclub.kr/blog/all-in-challenge_winner'}, page_content='시 생년, 성별, 관심 분야를 입력하자 딱 맞는 동아리를 추천해주죠. 플랫폼 내에서 동아리의 리크루팅 과정인 서류 전형, 인터뷰 일정, 최종 결과 발표 등을 한 번에 해결할 수 있어요. 실제 동아리에 가입한 사람들의 솔직한 후기를 제공해주기 때문에 보다 정확한 정보를 얻을 수 있어요. Crewing은 신뢰할 수 있는 정보와 솔직한 후기를 제공해주기 때문에 효율적으로 내게 꼭 맞는 동아리를 선택할 수 있습니다.사용한 기술 스택 -FE(프론트엔드): Spring Boot, Redis, MySQL-BE(백엔드): SwiftUI Framework, OAuth 2.0🏅\\xa0입선[학교생활 매니저] 학교생활 관리 서비스서비스 제작자: 아이칼F4(조민제, 이민기, 강건, 박근우)💡A는 올해 복학한 3학년 학생입니다. 강의실과 도서관을 오가며 바쁜 일정을 소화하느라 정신이 없지만, 수업마다 나오는 과제와 각종 활동, 시험 준비까지 겹치면서 혼란에 빠지기 일쑤였습니다. 복학생이다 보니 학교에서 전달되는'),\n",
       " Document(id='c8b64631-a86f-4b4d-9d69-ba32949961e7', metadata={'source': 'https://spartacodingclub.kr/blog/all-in-challenge_winner'}, page_content='시 생년, 성별, 관심 분야를 입력하자 딱 맞는 동아리를 추천해주죠. 플랫폼 내에서 동아리의 리크루팅 과정인 서류 전형, 인터뷰 일정, 최종 결과 발표 등을 한 번에 해결할 수 있어요. 실제 동아리에 가입한 사람들의 솔직한 후기를 제공해주기 때문에 보다 정확한 정보를 얻을 수 있어요. Crewing은 신뢰할 수 있는 정보와 솔직한 후기를 제공해주기 때문에 효율적으로 내게 꼭 맞는 동아리를 선택할 수 있습니다.사용한 기술 스택 -FE(프론트엔드): Spring Boot, Redis, MySQL-BE(백엔드): SwiftUI Framework, OAuth 2.0🏅\\xa0입선[학교생활 매니저] 학교생활 관리 서비스서비스 제작자: 아이칼F4(조민제, 이민기, 강건, 박근우)💡A는 올해 복학한 3학년 학생입니다. 강의실과 도서관을 오가며 바쁜 일정을 소화하느라 정신이 없지만, 수업마다 나오는 과제와 각종 활동, 시험 준비까지 겹치면서 혼란에 빠지기 일쑤였습니다. 복학생이다 보니 학교에서 전달되는'),\n",
       " Document(id='df043148-4942-4db0-a0d5-1607556f7d16', metadata={'source': 'https://spartacodingclub.kr/blog/all-in-challenge_winner'}, page_content='단순하게 만들어주는 Lexi Note가 요긴한 학습 도우미가 되었기 때문입니다.사용한 기술 스택 -FE(프론트엔드): React, Tesseract.js, React-Quill, HTML, CSS, JavaScript-BE(백엔드): Java, Spring Boot, MariaDB🎖️\\xa0우수상[우리집 히어로즈] 벌레 퇴치 영웅 매칭 서비스서비스 제작자: 인트(배정연, 한지수)💡C는 이번 학기 처음으로 자취를 시작했습니다. 원래부터 작은 벌레에 민감했던 C. 자취방에서 자주 나타나는 벌레들 때문에 밤잠을 설치길 반복했습니다. 밤마다 벌레를 잡으려고 애쓰던 C는 커뮤니티를 통해 다른 학생들도 같은 문제를 겪고 있다는 것을 알게 되었습니다. 하지만 커뮤니티에서 벌레 퇴치 히어로를 찾기 위해서는 내 개인 정보를 노출해야 한다는 점이 찝찝했죠.이 문제를 해결할 수 있는 방법이 바로 <우리집 히어로즈> 서비스입니다. 대학생 자취생들이 자취방에서 겪는 벌레 문제를 해결하기 위해 개발된 앱이죠.')]"
      ]
     },
     "execution_count": 65,
     "metadata": {},
     "output_type": "execute_result"
    }
   ],
   "source": [
    "from langchain.retrievers.self_query.base import SelfQueryRetriever\n",
    "from langchain.chains.query_constructor.base import AttributeInfo\n",
    "\n",
    "# 수상 정보 정의\n",
    "metadata_field_info = [\n",
    "    AttributeInfo(\n",
    "        name=\"award_type\",\n",
    "        description=\"상장 종류 (대상, 최우수상, 우수상, 입선선 등)\",\n",
    "        type=\"string\",\n",
    "    ),\n",
    "    AttributeInfo(\n",
    "        name=\"competition_name\", \n",
    "        description=\"공모전 이름\", \n",
    "        type=\"string\"\n",
    "    ),\n",
    "    AttributeInfo(\n",
    "        name=\"recipients_name\", \n",
    "        description=\"수상자들의의 이름\", \n",
    "        type=\"string\"\n",
    "    ),\n",
    "    AttributeInfo(\n",
    "        name=\"recipient_work_decription\", \n",
    "        description=\"수상작에 대한 설명\", \n",
    "        type=\"string\"\n",
    "    ),\n",
    "    AttributeInfo(\n",
    "        name=\"tech_stack\", \n",
    "        description=\"사용한 기술\", \n",
    "        type=\"string\"\n",
    "    ),\n",
    "]\n",
    "\n",
    "self_query_retriever = SelfQueryRetriever.from_llm(\n",
    "    llm,\n",
    "    vectorstore,\n",
    "    document_contents=\"ALL-in 코딩 공모전 수상작 정보\",\n",
    "    metadata_field_info=metadata_field_info,\n",
    "    enable_limit=True,\n",
    "    search_kwargs={\"k\": 50},  # k 의 값을 2로 지정하여 검색 결과를 2개로 제한합니다.\n",
    ")\n",
    "\n",
    "retrieved_docs_self_query = self_query_retriever.get_relevant_documents(user_msg)\n",
    "print(len(retrieved_docs_self_query))\n",
    "retrieved_docs_self_query\n"
   ]
  },
  {
   "cell_type": "markdown",
   "id": "eee2fa30",
   "metadata": {},
   "source": [
    "리트리버들의 결과 비교"
   ]
  },
  {
   "cell_type": "code",
   "execution_count": 66,
   "id": "731778bd",
   "metadata": {},
   "outputs": [
    {
     "name": "stdout",
     "output_type": "stream",
     "text": [
      "1. search type: similarity\n",
      "'AII-in 코딩 공모전' 수상작 요약:\n",
      "\n",
      "1. **대상: Lexi Note**\n",
      "   - **서비스 내용:** 언어공부 필기 웹 서비스\n",
      "   - **제작자:** 다나와(김다애, 박나경)\n",
      "   - **기술 스택:** 정보 없음\n",
      "\n",
      "2. **우수상: 에코 클래스룸**\n",
      "   - **서비스 내용:** 수업 실시간 소통 서비스\n",
      "   - **제작자:** This is 스파게티!!!(박지성, 김서원, 박범수)\n",
      "   - **기술 스택:** Flutter, Socket.IO, Expo CLI, Axios, TanStack Query, Spring Boot, Spring Security, JWT, MySQL, Spring WebSocket, AWS\n",
      "\n",
      "3. **우수상: 우리집 히어로즈**\n",
      "   - **서비스 내용:** 벌레 퇴치 영웅 매칭 서비스\n",
      "   - **제작자:** 인트(배정연, 한지수)\n",
      "   - **기술 스택:** React, Tesseract.js, React-Quill, HTML, CSS, JavaScript, Java, Spring Boot, MariaDB\n",
      "\n",
      "4. **입선: Crewing**\n",
      "   - **서비스 내용:** 연합동아리 정보 플랫폼\n",
      "   - **제작자:** 동학대학운동(김민아, 임경진, 신은혜, 고수)\n",
      "   - **기술 스택:** Spring Boot, Redis, MySQL, SwiftUI Framework, OAuth 2.0\n",
      "\n",
      "5. **입선: 학교생활 매니저**\n",
      "   - **서비스 내용:** 학교생활 관리 서비스\n",
      "   - **제작자:** 아이칼F4(조민제, 이민기, 강건, 박근우)\n",
      "   - **기술 스택:** 정보 없음\n",
      "\n",
      "이번 공모전은 대학생들이 캠퍼스에서 경험한 문제를 해결하기 위한 다양한 아이디어와 혁신적인 프로젝트가 발표되었습니다. 각 수상작들은 실용적이고 참신한 해결책을 제시하여 참가자들의 열정을 엿볼 수 있는 기회를 제공했습니다.\n",
      "\n",
      "\n",
      "\n",
      "2. search type: mmr\n",
      "### AII-in 코딩 공모전 수상작 요약\n",
      "\n",
      "#### 1. 대상 수상작\n",
      "- **[Lexi Note] 언어공부 필기 웹 서비스**\n",
      "  - **제작자**: 다나와 (김다애, 박나경)\n",
      "  - **소개**: 어문학 전공 학생이 효율적으로 단어와 문장 구조를 학습하기 위해 개발한 서비스.\n",
      "\n",
      "#### 2. 입선작\n",
      "- **[학교생활 매니저] 학교생활 관리 서비스**\n",
      "  - **제작자**: 아이칼F4 (조민제, 이민기, 강건, 박근우)\n",
      "  - **소개**: 과제 관리, 성적 예측, 학점 계산 등을 지원하는 앱.\n",
      "\n",
      "- **[Crewing] 연합동아리 정보 플랫폼**\n",
      "  - **제작자**: 동학대학운동 (김민아, 임경진, 신은혜, 고수)\n",
      "  - **소개**: 신입생들이 자신에게 적합한 연합동아리를 쉽게 찾고 가입할 수 있도록 돕는 아카이빙 플랫폼.\n",
      "\n",
      "#### 3. 우수상 수상작\n",
      "- **[에코 클래스룸] 수업 실시간 소통 서비스**\n",
      "  - **제작자**: This is 스파게티!!! (박지성, 김서원, 박범수)\n",
      "  - **소개**: 교수와 학생 간의 소통을 개선하기 위해, 수업 중 학생들의 이해도를 실시간으로 확인할 수 있는 서비스.\n",
      "\n",
      "- **[우리집 히어로즈] 벌레 퇴치 영웅 매칭 서비스**\n",
      "  - **제작자**: 인트 (배정연, 한지수)\n",
      "  - **소개**: 자취생들이 자취방에서 발생하는 벌레 문제를 해결하기 위해 필요한 사람과 매칭해주는 서비스.\n",
      "\n",
      "이 공모전은 대학생들이 겪는 캠퍼스의 다양한 문제를 해결하는 아이디어를 실현할 수 있는 기회를 제공하는 대회로, 각 수상작들은 실제 문제를 기반으로 한 혁신적인 접근 방식을 보여주고 있습니다.\n",
      "\n",
      "\n",
      "\n",
      "3. contextual compression retriever\n",
      "**AII-in 코딩 공모전 수상작 요약**\n",
      "\n",
      "이번 AII-in 코딩 공모전에서는 대학생들이 팀 프로젝트를 통해 만들어낸 다양한 웹/앱 서비스들이 수상하였습니다. 이 대회는 캠퍼스에서의 문제를 해결하는 것을 목표로 하며, 차별화된 아이디어와 혁신적인 접근 방식이 돋보였습니다. 수상작들은 다음과 같습니다:\n",
      "\n",
      "1. **대상: [Lexi Note] 언어공부 필기 웹 서비스**\n",
      "   - 제작자: 다나와 (김다애, 박나경)\n",
      "   - 언어 학습의 효율성을 높이기 위해 개발된 필기 지원 웹 서비스.\n",
      "\n",
      "2. **우수상: [에코 클래스룸] 수업 실시간 소통 서비스**\n",
      "   - 제작자: This is 스파게티!!! (박지성, 김서원, 박범수)\n",
      "   - 교수와 학생 간의 실시간 소통을 통한 수업 이해도를 높이기 위한 서비스.\n",
      "\n",
      "3. **우수상: [학교생활 매니저] 학교생활 관리 서비스**\n",
      "   - 제작자: 아이칼F4 (조민제, 이민기, 강건, 박근우)\n",
      "   - 학교 생활을 효율적으로 관리할 수 있도록 돕는 앱으로, 일정과 과제 관리 기능 포함.\n",
      "\n",
      "4. **우수상: [우리집 히어로즈] 벌레 퇴치 영웅 매칭 서비스**\n",
      "   - 제작자: 인트 (배정연, 한지수)\n",
      "   - 자취생들이 겪는 벌레 문제를 해결하기 위해, 필요한 서비스를 찾고 매칭하는 앱.\n",
      "\n",
      "위와 같이, AII-in 코딩 공모전에서는 대학생들이 자신들의 아이디어를 바탕으로 실제 문제를 해결하는 노력을 보여주었습니다. 각 수상작은 특정한 문제를 해결하기 위한 창의적인 접근 방식을 가지고 있으며, 이 대회는 참가자들에게 코딩을 통해 자신의 아이디어를 실현할 수 있는 기회를 제공합니다.\n",
      "\n",
      "\n",
      "\n",
      "4. self-query retriever\n",
      "### ALL-in 코딩 공모전 수상작 요약\n",
      "\n",
      "1. **우수상: 우리집 히어로즈**\n",
      "   - **서비스 설명**: 벌레 퇴치 영웅 매칭 서비스로, 대학생 자취생들이 자취방에서 발생하는 벌레 문제를 해결할 수 있도록 돕는 앱.\n",
      "   - **문제 해결**: 사용자 개인정보 노출 없이 안전하게 문제를 해결하고, 벌레를 퇴치하는 히어로에게 추가 수입 기회를 제공.\n",
      "   - **기능**: 실시간 알림, 평가 시스템.\n",
      "   - **사용한 기술 스택**: 프론트엔드(FE) - React Native, Expo, Axios; 백엔드(BE) - Spring Boot, Spring Security, MySQL, SSE, FCM, JWT, Postman.\n",
      "\n",
      "2. **우수상: 에코 클래스룸**\n",
      "   - **서비스 설명**: 수업 실시간 소통 서비스로, 학생과 교수 간 소통을 혁신적으로 개선.\n",
      "   - **기능**: 학생의 이해도를 테스트할 수 있는 퀴즈 생성, 수업 난이도에 대한 피드백 수집.\n",
      "   - **사용한 기술 스택**: 프론트엔드(FE) - Flutter, Socket.IO, Expo CLI, Axios, TanStack Query; 백엔드(BE) - Spring Boot, Spring Security, JWT, MySQL, Spring WebSocket, AWS.\n",
      "\n",
      "3. **입선작: 학교생활 매니저**\n",
      "   - **서비스 설명**: 대학생의 학교 생활을 효율적으로 관리할 수 있도록 돕는 관리 앱.\n",
      "   - **기능**: 일정과 과제 관리, 성적 예측, 캘린더 기능.\n",
      "   - **사용한 기술 스택**: 프론트엔드(FE) - Flutter; 백엔드(BE) - Firebase.\n",
      "\n",
      "4. **입선작: BLOTIE**\n",
      "   - **서비스 설명**: 교내 외국인과 내국인 매칭 및 교류 플랫폼으로, 외국인 학생들에게 한국 대학 생활 적응을 돕기 위해 개발됨.\n",
      "   - **기능**: 1:1 매칭 기능.\n",
      "   - **사용한 기술 스택**: 프론트엔드(FE) - Flutter, Socket.IO, Expo CLI, Axios, TanStack Query; 백엔드(BE) - Spring Boot, Spring Security, JWT, MySQL, Spring WebSocket, AWS.\n",
      "\n",
      "5. **입선작: Crewing**\n",
      "   - **서비스 설명**: 대학생들이 다양한 연합 동아리에 쉽게 가입하고 적합한 동아리를 추천받을 수 있도록 지원하는 아카이빙 플랫폼.\n",
      "   - **기능**: 동아리 서류 전형, 인터뷰 일정 관리 및 솔직한 후기를 통한 정보 제공.\n",
      "   - **사용한 기술 스택**: 프론트엔드(FE) - Spring Boot, Redis, MySQL; 백엔드(BE) - SwiftUI Framework, OAuth 2.0.\n",
      "\n",
      "이와 같은 수상작들은 참가자들이 대학 생활의 문제를 해결하기 위한 창의적인 아이디어와 기술력을 활용해 개발된 앱 및 웹 서비스입니다.\n"
     ]
    }
   ],
   "source": [
    "print(\"1. search type: similarity\")\n",
    "user_prompt = prompt.invoke({\"context\": format_docs(retrieved_docs_similarity), \"question\": user_msg})\n",
    "response = llm.invoke(user_prompt)\n",
    "print(response.content)\n",
    "\n",
    "\n",
    "print(\"\\n\\n\\n2. search type: mmr\")\n",
    "user_prompt = prompt.invoke({\"context\": format_docs(retrieved_docs_mmr), \"question\": user_msg})\n",
    "response = llm.invoke(user_prompt)\n",
    "\n",
    "\n",
    "print(response.content)\n",
    "print(\"\\n\\n\\n3. contextual compression retriever\")\n",
    "user_prompt = prompt.invoke({\"context\": format_docs(compressed_docs_context), \"question\": user_msg})\n",
    "response = llm.invoke(user_prompt)\n",
    "\n",
    "\n",
    "print(response.content)\n",
    "print(\"\\n\\n\\n4. self-query retriever\")\n",
    "user_prompt = prompt.invoke({\"context\": format_docs(retrieved_docs_self_query), \"question\": user_msg})\n",
    "response = llm.invoke(user_prompt)\n",
    "print(response.content)\n"
   ]
  }
 ],
 "metadata": {
  "kernelspec": {
   "display_name": ".venv",
   "language": "python",
   "name": "python3"
  },
  "language_info": {
   "codemirror_mode": {
    "name": "ipython",
    "version": 3
   },
   "file_extension": ".py",
   "mimetype": "text/x-python",
   "name": "python",
   "nbconvert_exporter": "python",
   "pygments_lexer": "ipython3",
   "version": "3.13.2"
  }
 },
 "nbformat": 4,
 "nbformat_minor": 5
}
