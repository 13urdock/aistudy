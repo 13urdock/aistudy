{
 "cells": [
  {
   "cell_type": "code",
   "execution_count": null,
   "id": "bbe3b14f",
   "metadata": {},
   "outputs": [],
   "source": [
    "import bs4\n",
    "import os\n",
    "from dotenv import load_dotenv\n",
    "from langchain import hub\n",
    "from langchain_core.prompts import ChatPromptTemplate\n",
    "from langchain_chroma import Chroma\n",
    "from langchain_openai import ChatOpenAI\n",
    "from langchain_openai import OpenAIEmbeddings\n",
    "from langchain_community.document_loaders import WebBaseLoader\n",
    "from langchain_text_splitters import RecursiveCharacterTextSplitter"
   ]
  },
  {
   "cell_type": "markdown",
   "id": "95fcd721",
   "metadata": {},
   "source": [
    "# 사용할 LLM 준비\n",
    "## OpenAI"
   ]
  },
  {
   "cell_type": "code",
   "execution_count": null,
   "id": "16bab9ec",
   "metadata": {},
   "outputs": [],
   "source": [
    "llm = ChatOpenAI(model=\"gpt-4o-mini\", api_key=os.getenv(\"OPENAI_API_KEY\"))\n",
    "load_dotenv()\n",
    "api_key = os.getenv(\"OPENAI_API_KEY\")\n",
    "print(f\"API key exists: {api_key is not None}\")"
   ]
  },
  {
   "cell_type": "markdown",
   "id": "fa12fc54",
   "metadata": {},
   "source": [
    "# 웹페이지 불러오기"
   ]
  },
  {
   "cell_type": "code",
   "execution_count": null,
   "id": "3b967269",
   "metadata": {},
   "outputs": [],
   "source": [
    "loader = WebBaseLoader(\n",
    "  web_paths=(\"https://spartacodingclub.kr/blog/all-in-challenge_winner\",),\n",
    "  bs_kwargs=dict(\n",
    "    parse_only=bs4.SoupStrainer(\n",
    "            class_=(\"css-j3idia\", \"editedContent\")\n",
    "        )\n",
    "  ),\n",
    ")\n",
    "\n",
    "docs = loader.load()\n",
    "print(f\"로드된 문서 수: {len(docs)}\")\n",
    "print(f\"첫 번째 문서 내용 일부: {docs[0].page_content[:100] if docs else 'No content'}\")\n"
   ]
  },
  {
   "cell_type": "code",
   "execution_count": null,
   "id": "2c5b2537",
   "metadata": {},
   "outputs": [],
   "source": [
    "text_splitter = RecursiveCharacterTextSplitter( # 왓 이즈 디스 청크 차이가 잇나\n",
    "    chunk_size=500,\n",
    "    chunk_overlap=20\n",
    ")\n",
    "\n",
    "splits = text_splitter.split_documents(docs)\n",
    "print(f\"분할된 청크 수: {len(splits)}\")\n",
    "\n",
    "if len(splits) == 0:\n",
    "    print(\"청크가 없어 원본 문서를 사용합니다.\")\n",
    "    splits = docs"
   ]
  },
  {
   "cell_type": "code",
   "execution_count": null,
   "id": "d2fea98b",
   "metadata": {},
   "outputs": [],
   "source": [
    "try:\n",
    "    embeddings = OpenAIEmbeddings(api_key=api_key)\n",
    "    # 간단한 테스트 임베딩 생성\n",
    "    test_embedding = embeddings.embed_query(\"Hello world\")\n",
    "    print(f\"테스트 임베딩 길이: {len(test_embedding)}\")\n",
    "    print(\"임베딩 테스트 성공!\")\n",
    "except Exception as e:\n",
    "    print(f\"임베딩 테스트 실패: {e}\")"
   ]
  },
  {
   "cell_type": "code",
   "execution_count": null,
   "id": "398a186e",
   "metadata": {},
   "outputs": [],
   "source": [
    "vectorstore = Chroma.from_documents(\n",
    "    documents=splits,\n",
    "    embedding=OpenAIEmbeddings(api_key=os.getenv(\"OPENAI_API_KEY\"))\n",
    ")\n",
    "retriever = vectorstore.as_retriever()"
   ]
  },
  {
   "cell_type": "code",
   "execution_count": null,
   "id": "084d56f6",
   "metadata": {},
   "outputs": [],
   "source": [
    "user_msg = \"ALL-in 코딩 공모전 수상작들을 요약해줘.\"\n",
    "retrieved_docs = retriever.invoke(user_msg)"
   ]
  },
  {
   "cell_type": "code",
   "execution_count": null,
   "id": "ff3133d1",
   "metadata": {},
   "outputs": [],
   "source": [
    "def format_docs(docs):\n",
    "    return \"\\n\\n\".join(doc.page_content for doc in docs)\n",
    "prompt = ChatPromptTemplate.from_template(\"너는 이 공모전을 평가했던 심사위원이이야. 한국어로 대답하고, 다음에 이 공모전을 참가할 사람들이 참고할 수 있도록 유익한 정보들을 선택해줄 수있어야해. 정보를 찾은 후 대답을 정리할 때는 너의 의견이 들어가면 안돼. 그리고 내가 제공한 문서에서 질문에 대한 대답을 찾을 수 없다면, 모른다고 대답해야해. <context>: {context} <question>: {question}\")"
   ]
  },
  {
   "cell_type": "code",
   "execution_count": null,
   "id": "83bcdfc9",
   "metadata": {},
   "outputs": [],
   "source": [
    "user_prompt = prompt.invoke({\"context\": format_docs(retrieved_docs), \"question\": user_msg})\n",
    "print(prompt)"
   ]
  },
  {
   "cell_type": "code",
   "execution_count": null,
   "id": "df958320",
   "metadata": {},
   "outputs": [],
   "source": [
    "response = llm.invoke(user_prompt)\n",
    "print(response.content)"
   ]
  },
  {
   "cell_type": "code",
   "execution_count": null,
   "id": "340b7fb8",
   "metadata": {},
   "outputs": [],
   "source": [
    "retrieved_docs"
   ]
  }
 ],
 "metadata": {
  "language_info": {
   "name": "python"
  }
 },
 "nbformat": 4,
 "nbformat_minor": 5
}
